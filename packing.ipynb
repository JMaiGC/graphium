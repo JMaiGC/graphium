{
 "cells": [
  {
   "cell_type": "code",
   "execution_count": 1,
   "metadata": {},
   "outputs": [],
   "source": [
    "import numpy as np"
   ]
  },
  {
   "cell_type": "code",
   "execution_count": 2,
   "metadata": {},
   "outputs": [],
   "source": [
    "BATCH_SIZE = 6\n",
    "IPU_BATCH = 16\n",
    "GLOBAL_BATCH = BATCH_SIZE * IPU_BATCH"
   ]
  },
  {
   "cell_type": "code",
   "execution_count": 3,
   "metadata": {},
   "outputs": [
    {
     "data": {
      "text/plain": [
       "array([ 17,  17,  24,  18,  20,  27,  26,  26,  67,  23,  33,  27,  22,\n",
       "        31,  20,  26,  33,  14,  29,  22,  30,  50,  25,  26,  27,  12,\n",
       "        23,  30,  19,  32,  19,  27,  33,  27,  30,  28,  33,  41,  21,\n",
       "        23,  24,  29,  17, 300,  23,  22,  31,  47,  22,  16,  33,  19,\n",
       "        17,  22,  22,  32,  38,  33,  30,  31,  27,  28,  34,  40,  26,\n",
       "        19,  17,  21,  18,  52,  26,  21,  25,  32,  29,  26,  43,  35,\n",
       "        30,  46,  31,  30,  28,  22,  43,  39,  32,  29,  18,  26,  33,\n",
       "        38,  26,  28,  49,  23])"
      ]
     },
     "execution_count": 3,
     "metadata": {},
     "output_type": "execute_result"
    }
   ],
   "source": [
    "# num_atoms = np.abs(np.random.gamma(2, 20, size=GLOBAL_BATCH)).astype(int)\n",
    "num_atoms = [17, 17, 24, 18, 20, 27, 26, 26, 67, 23, 33, 27, 22, 31, 20, 26, 33, 14, 29, 22, 30, 50, 25, 26, 27, 12, 23, 30, 19, 32, 19, 27, 33, 27, 30, 28, 33, 41, 21, 23, 24, 29, 17, 300, 23, 22, 31, 47, 22, 16, 33, 19, 17, 22, 22, 32, 38, 33, 30, 31, 27, 28, 34, 40, 26, 19, 17, 21, 18, 52, 26, 21, 25, 32, 29, 26, 43, 35, 30, 46, 31, 30, 28, 22, 43, 39, 32, 29, 18, 26, 33, 38, 26, 28, 49, 23]\n",
    "num_atoms = np.asarray(num_atoms)\n",
    "num_atoms"
   ]
  },
  {
   "cell_type": "code",
   "execution_count": 4,
   "metadata": {},
   "outputs": [],
   "source": [
    "class MolBatch:\n",
    "    def __init__(self):\n",
    "        self.num_atoms = 0\n",
    "        self.num_mols = 0\n",
    "        self.average_atom = 0\n",
    "        self.indices = []\n",
    "\n",
    "    def add_mol(self, num_atoms, idx):\n",
    "        self.num_atoms += num_atoms\n",
    "        self.num_mols += 1\n",
    "        self.average_atom = self.num_atoms / self.num_mols\n",
    "        self.indices.append(idx)\n",
    "        return self\n",
    "\n",
    "    def expected_sum(self, remaining_mean, batch_size):\n",
    "        return self.num_atoms + ((batch_size - self.num_mols) * remaining_mean)\n",
    "\n",
    "    def __repr__(self) -> str:\n",
    "        return f\"{self.__class__.__name__}(m: {self.num_mols},\\ta: {self.num_atoms},\\tav: {self.average_atom:.1f})\""
   ]
  },
  {
   "cell_type": "code",
   "execution_count": null,
   "metadata": {},
   "outputs": [],
   "source": []
  },
  {
   "cell_type": "code",
   "execution_count": 7,
   "metadata": {},
   "outputs": [
    {
     "name": "stdout",
     "output_type": "stream",
     "text": [
      "28.833333333333332 62.666666666666664 31.0      12 300\n",
      "376 [300, 12, 14, 16, 17, 17]\n",
      "173 [67, 17, 17, 18, 23, 31]\n",
      "173 [52, 17, 20, 25, 27, 32]\n",
      "173 [50, 18, 21, 26, 26, 32]\n",
      "173 [49, 18, 21, 26, 28, 31]\n",
      "173 [47, 19, 22, 26, 28, 31]\n",
      "173 [46, 19, 22, 26, 29, 31]\n",
      "173 [43, 19, 23, 26, 29, 33]\n",
      "173 [43, 19, 23, 26, 30, 32]\n",
      "173 [41, 20, 23, 27, 30, 32]\n",
      "174 [40, 21, 23, 27, 30, 33]\n",
      "174 [39, 22, 24, 27, 29, 33]\n",
      "174 [38, 22, 24, 27, 30, 33]\n",
      "174 [38, 22, 25, 27, 29, 33]\n",
      "174 [35, 22, 26, 28, 30, 33]\n",
      "173 [34, 22, 26, 28, 30, 33]\n",
      "2976 2976\n"
     ]
    }
   ],
   "source": [
    "def smart_packing(num_atoms):\n",
    "\n",
    "    num_atoms = np.asarray(num_atoms)\n",
    "    argsort_num_atoms = np.argsort(num_atoms)\n",
    "    sorted_num_atoms = num_atoms[argsort_num_atoms]\n",
    "\n",
    "    mol_batches = [MolBatch().add_mol(sorted_num_atoms[-ii-1], argsort_num_atoms[-ii-1]) for ii in range(IPU_BATCH)]\n",
    "    sorted_num_atoms = sorted_num_atoms[:-IPU_BATCH]\n",
    "    reverse_cumsum = np.sum(sorted_num_atoms) - np.cumsum(sorted_num_atoms) + sorted_num_atoms[-1]\n",
    "    for ii, num_atom in enumerate(sorted_num_atoms):\n",
    "        remaining_mean = reverse_cumsum[ii] / (len(sorted_num_atoms) - ii)\n",
    "        idx_max_average = np.argmax([m.expected_sum(remaining_mean, BATCH_SIZE) * (m.num_mols < BATCH_SIZE) for m in mol_batches])\n",
    "        mol_batches[idx_max_average].add_mol(num_atom, argsort_num_atoms[ii])\n",
    "    \n",
    "    packed_indices = [batch.indices for batch in mol_batches]\n",
    "\n",
    "    # TODO: Remove below\n",
    "    av_per_batch = [m.average_atom for m in mol_batches]\n",
    "    print(np.min(av_per_batch), np.max(av_per_batch), np.mean(av_per_batch), \"    \", np.min(num_atoms), np.max(num_atoms))\n",
    "    mol_batches\n",
    "\n",
    "    return packed_indices\n",
    "\n",
    "packed_indices = smart_packing(num_atoms)\n",
    "\n",
    "total_sum = 0\n",
    "for pack in packed_indices:\n",
    "    pack_num_atoms = []\n",
    "    for idx in pack:\n",
    "        pack_num_atoms.append(num_atoms[idx])\n",
    "    total_sum += sum(pack_num_atoms)\n",
    "    print(sum(pack_num_atoms), pack_num_atoms)\n",
    "print(total_sum, np.sum(num_atoms))"
   ]
  },
  {
   "cell_type": "code",
   "execution_count": 6,
   "metadata": {},
   "outputs": [
    {
     "name": "stdout",
     "output_type": "stream",
     "text": [
      "27.833333333333332 68.83333333333333 31.0      12 300\n"
     ]
    },
    {
     "data": {
      "text/plain": [
       "[MolBatch(m: 6,\ta: 413,\tav: 68.8),\n",
       " MolBatch(m: 6,\ta: 184,\tav: 30.7),\n",
       " MolBatch(m: 6,\ta: 172,\tav: 28.7),\n",
       " MolBatch(m: 6,\ta: 172,\tav: 28.7),\n",
       " MolBatch(m: 6,\ta: 173,\tav: 28.8),\n",
       " MolBatch(m: 6,\ta: 172,\tav: 28.7),\n",
       " MolBatch(m: 6,\ta: 171,\tav: 28.5),\n",
       " MolBatch(m: 6,\ta: 169,\tav: 28.2),\n",
       " MolBatch(m: 6,\ta: 170,\tav: 28.3),\n",
       " MolBatch(m: 6,\ta: 169,\tav: 28.2),\n",
       " MolBatch(m: 6,\ta: 168,\tav: 28.0),\n",
       " MolBatch(m: 6,\ta: 170,\tav: 28.3),\n",
       " MolBatch(m: 6,\ta: 169,\tav: 28.2),\n",
       " MolBatch(m: 6,\ta: 170,\tav: 28.3),\n",
       " MolBatch(m: 6,\ta: 167,\tav: 27.8),\n",
       " MolBatch(m: 6,\ta: 167,\tav: 27.8)]"
      ]
     },
     "execution_count": 6,
     "metadata": {},
     "output_type": "execute_result"
    }
   ],
   "source": [
    "argsort_num_atoms = np.argsort(num_atoms)\n",
    "sorted_num_atoms = num_atoms[argsort_num_atoms]\n",
    "sorted_num_atoms\n",
    "\n",
    "mol_batches = [MolBatch().add_mol(sorted_num_atoms[-ii-1], argsort_num_atoms[-ii-1]) for ii in range(IPU_BATCH)]\n",
    "for ii, num_atom in enumerate(sorted_num_atoms[:-IPU_BATCH]):\n",
    "    idx = ii % IPU_BATCH\n",
    "    mol_batches[idx].add_mol(num_atom, argsort_num_atoms[ii])\n",
    "\n",
    "av_per_batch = [m.average_atom for m in mol_batches]\n",
    "print(np.min(av_per_batch), np.max(av_per_batch), np.mean(av_per_batch), \"    \", np.min(num_atoms), np.max(num_atoms))\n",
    "mol_batches"
   ]
  },
  {
   "cell_type": "code",
   "execution_count": null,
   "metadata": {},
   "outputs": [],
   "source": []
  }
 ],
 "metadata": {
  "kernelspec": {
   "display_name": "Python 3.8.10 ('goli_ipu')",
   "language": "python",
   "name": "python3"
  },
  "language_info": {
   "codemirror_mode": {
    "name": "ipython",
    "version": 3
   },
   "file_extension": ".py",
   "mimetype": "text/x-python",
   "name": "python",
   "nbconvert_exporter": "python",
   "pygments_lexer": "ipython3",
   "version": "3.8.10"
  },
  "orig_nbformat": 4,
  "vscode": {
   "interpreter": {
    "hash": "d395e6d595d28ecd4e8cd02c8025aead3eecd22bf68b21a59b341f1b0aea0472"
   }
  }
 },
 "nbformat": 4,
 "nbformat_minor": 2
}
