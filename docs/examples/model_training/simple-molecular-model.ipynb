{
 "metadata": {
  "language_info": {
   "codemirror_mode": {
    "name": "ipython",
    "version": 3
   },
   "file_extension": ".py",
   "mimetype": "text/x-python",
   "name": "python",
   "nbconvert_exporter": "python",
   "pygments_lexer": "ipython3",
   "version": "3.8.8-final"
  },
  "orig_nbformat": 2,
  "kernelspec": {
   "name": "python3",
   "display_name": "Python 3.8.8 64-bit ('goli': virtualenv)",
   "metadata": {
    "interpreter": {
     "hash": "0db34acba4cc11eb0fa2be1290630bee7d7b89811a824f1a15cd26acd4633567"
    }
   }
  }
 },
 "nbformat": 4,
 "nbformat_minor": 2,
 "cells": [
  {
   "source": [
    "# Building and training a simple model from configurations\n",
    "\n",
    "This tutorial will walk you through how to use a configuration file to define all the parameters of a model and of the trainer. This tutorial focuses on training from SMILES data in a CSV format.\n",
    "\n",
    "## Creating the yaml file\n",
    "\n",
    "The first step is to create a YAML file containing all the required configurations, with an example given at `goli/expts/config_micro_ZINC.yaml`. We will go through each part of the configurations."
   ],
   "cell_type": "markdown",
   "metadata": {}
  },
  {
   "cell_type": "code",
   "execution_count": 1,
   "metadata": {},
   "outputs": [],
   "source": [
    "import yaml\n",
    "import omegaconf"
   ]
  },
  {
   "cell_type": "code",
   "execution_count": 2,
   "metadata": {},
   "outputs": [],
   "source": [
    "def print_config_with_key(config, key):\n",
    "    new_config = {key: config[key]}\n",
    "    print(omegaconf.OmegaConf.to_yaml(new_config))"
   ]
  },
  {
   "cell_type": "code",
   "execution_count": 3,
   "metadata": {},
   "outputs": [
    {
     "output_type": "stream",
     "name": "stdout",
     "text": [
      "Yaml file loaded\n"
     ]
    }
   ],
   "source": [
    "# First, let's read the yaml configuration file\n",
    "with open(\"../../../expts/config_micro_ZINC.yaml\", \"r\") as file:\n",
    "    yaml_config = yaml.load(file, Loader=yaml.FullLoader)\n",
    "\n",
    "print(\"Yaml file loaded\")"
   ]
  },
  {
   "source": [
    "### Constants\n",
    "\n",
    "First, we define the constants such as the random seed and whether the model should raise or ignore an error."
   ],
   "cell_type": "markdown",
   "metadata": {}
  },
  {
   "cell_type": "code",
   "execution_count": 4,
   "metadata": {},
   "outputs": [
    {
     "output_type": "stream",
     "name": "stdout",
     "text": [
      "constants:\n  seed: 42\n  raise_train_error: true\n\n"
     ]
    }
   ],
   "source": [
    "print_config_with_key(yaml_config, \"constants\")"
   ]
  },
  {
   "source": [
    "### Datamodule\n",
    "\n",
    "Here, we define all the parameters required by the datamodule to run correctly, such as the dataset path, whether to cache, the columns for the training, the molecular featurization to use, the train/val/test splits and the batch size.\n",
    "\n",
    "For more details, see class `goli.data.datamodule.DGLFromSmilesDataModule`"
   ],
   "cell_type": "markdown",
   "metadata": {}
  },
  {
   "cell_type": "code",
   "execution_count": 5,
   "metadata": {},
   "outputs": [
    {
     "output_type": "stream",
     "name": "stdout",
     "text": [
      "datamodule:\n  df_path: goli/data/micro_ZINC.csv\n  cache_data_path: goli/data/cache/micro_ZINC/full.cache\n  label_cols:\n  - score\n  smiles_col: SMILES\n  featurization_n_jobs: -1\n  featurization_progress: true\n  featurization:\n    atom_property_list_onehot:\n    - atomic-number\n    - valence\n    atom_property_list_float:\n    - mass\n    - electronegativity\n    - in-ring\n    edge_property_list: []\n    add_self_loop: false\n    explicit_H: false\n    use_bonds_weights: false\n  split_val: 0.2\n  split_test: 0.2\n  split_seed: 42\n  splits_path: null\n  batch_size_train_val: 128\n  batch_size_test: 256\n  num_workers: -1\n  pin_memory: false\n\n"
     ]
    }
   ],
   "source": [
    "print_config_with_key(yaml_config, \"datamodule\")"
   ]
  },
  {
   "source": [
    "### Architecture\n",
    "\n",
    "In the architecture, we define all the layers for the model, including the layers for the pre-processing MLP (input layers `pre-nn`), the post-processing MLP (output layers `post-nn`), and the main GNN (graph neural network `gnn`).\n",
    "\n",
    "The parameters allow to chose the feature size, the depth, the skip connections, the pooling and the virtual node. It also support different GNN layers such as `gcn`, `gin`, `gat`, `gated-gcn`, `pna-conv` and `pna-msgpass`.\n",
    "\n",
    "For more details, see the following classes:\n",
    "\n",
    "-  `goli.nn.architecture.FullDGLNetwork`: Main class for the architecture\n",
    "-  `goli.nn.architecture.FeedForwardNN`: Main class for the inputs and outputs MLP\n",
    "-  `goli.nn.architecture.FeedForwardDGL`: Main class for the GNN layers"
   ],
   "cell_type": "markdown",
   "metadata": {}
  },
  {
   "cell_type": "code",
   "execution_count": 6,
   "metadata": {},
   "outputs": [
    {
     "output_type": "stream",
     "name": "stdout",
     "text": [
      "architecture:\n  model_type: fulldglnetwork\n  pre_nn:\n    out_dim: 32\n    hidden_dims: 32\n    depth: 1\n    activation: relu\n    last_activation: none\n    dropout: 0.1\n    batch_norm: true\n    last_batch_norm: true\n    residual_type: none\n  gnn:\n    out_dim: 32\n    hidden_dims: 32\n    depth: 4\n    activation: relu\n    last_activation: none\n    dropout: 0.1\n    batch_norm: true\n    last_batch_norm: true\n    residual_type: simple\n    pooling: sum\n    virtual_node: sum\n    layer_type: pna-msgpass\n    layer_kwargs:\n      aggregators:\n      - mean\n      - max\n      - min\n      - std\n      scalers:\n      - identity\n      - amplification\n      - attenuation\n  post_nn:\n    out_dim: 1\n    hidden_dims: 32\n    depth: 2\n    activation: relu\n    last_activation: none\n    dropout: 0.1\n    batch_norm: true\n    last_batch_norm: false\n    residual_type: none\n\n"
     ]
    }
   ],
   "source": [
    "print_config_with_key(yaml_config, \"architecture\")"
   ]
  },
  {
   "source": [
    "### Predictor\n",
    "\n",
    "In the predictor, we define the loss functions, the metrics to track on the progress bar, and all the parameters necessary for the optimizer."
   ],
   "cell_type": "markdown",
   "metadata": {}
  },
  {
   "cell_type": "code",
   "execution_count": 7,
   "metadata": {},
   "outputs": [
    {
     "output_type": "stream",
     "name": "stdout",
     "text": [
      "predictor:\n  metrics_on_progress_bar:\n  - mae\n  - pearsonr\n  - f1 > 3\n  - precision > 3\n  loss_fun: mse\n  random_seed: 42\n  optim_kwargs:\n    lr: 0.01\n    weight_decay: 1.0e-07\n  lr_reduce_on_plateau_kwargs:\n    factor: 0.5\n    patience: 7\n  scheduler_kwargs:\n    monitor: loss/val\n    frequency: 1\n  target_nan_mask: 0\n  tensorboard_save_dir: logs/micro_ZINC\n\n"
     ]
    }
   ],
   "source": [
    "print_config_with_key(yaml_config, \"predictor\")"
   ]
  },
  {
   "source": [
    "### Metrics\n",
    "\n",
    "All the metrics can be defined there. If we want to use a classification metric, we can also define a threshold.\n",
    "\n",
    "See class `goli.trainer.metrics.MetricWrapper` for more details.\n",
    "\n",
    "See `goli.trainer.metrics.METRICS_CLASSIFICATION` and `goli.trainer.metrics.METRICS_REGRESSION` for a dictionnary of accepted metrics."
   ],
   "cell_type": "markdown",
   "metadata": {}
  },
  {
   "cell_type": "code",
   "execution_count": 8,
   "metadata": {},
   "outputs": [
    {
     "output_type": "stream",
     "name": "stdout",
     "text": [
      "metrics:\n- name: mae\n  metric: mae\n  threshold_kwargs: null\n- name: pearsonr\n  metric: pearsonr\n  threshold_kwargs: null\n- name: f1 > 3\n  metric: f1\n  num_classes: 2\n  average: micro\n  threshold_kwargs:\n    operator: greater\n    threshold: 3\n    th_on_preds: true\n    th_on_target: true\n- name: f1 > 5\n  metric: f1\n  num_classes: 2\n  average: micro\n  threshold_kwargs:\n    operator: greater\n    threshold: 5\n    th_on_preds: true\n    th_on_target: true\n- name: precision > 3\n  metric: precision\n  class_reduction: micro\n  threshold_kwargs:\n    operator: greater\n    threshold: 3\n    th_on_preds: true\n    th_on_target: true\n\n"
     ]
    }
   ],
   "source": [
    "print_config_with_key(yaml_config, \"metrics\")"
   ]
  },
  {
   "source": [
    "### Trainer\n",
    "\n",
    "Finally, the Trainer defines the parameters for the number of epochs to train, the checkpoints, and the patience."
   ],
   "cell_type": "markdown",
   "metadata": {}
  },
  {
   "cell_type": "code",
   "execution_count": 9,
   "metadata": {},
   "outputs": [
    {
     "output_type": "stream",
     "name": "stdout",
     "text": [
      "trainer:\n  early_stopping:\n    monitor: loss/val\n    min_delta: 0\n    patience: 10\n    mode: min\n  model_checkpoint:\n    dirpath: models_checkpoints/micro_ZINC/\n    filename: bob\n    monitor: loss/val\n    mode: min\n    save_top_k: 1\n    period: 1\n  trainer:\n    max_epochs: 25\n    min_epochs: 5\n\n"
     ]
    }
   ],
   "source": [
    "print_config_with_key(yaml_config, \"trainer\")"
   ]
  },
  {
   "source": [
    "## Training the model\n",
    "\n",
    "Now that we defined all the configuration files, we want to train the model. The steps are fairly easy using the config loaders, and are given below."
   ],
   "cell_type": "markdown",
   "metadata": {}
  },
  {
   "cell_type": "code",
   "execution_count": 10,
   "metadata": {},
   "outputs": [
    {
     "output_type": "stream",
     "name": "stderr",
     "text": [
      "Using backend: pytorch\n",
      "/home/dominique/anaconda3/envs/goli/lib/python3.8/site-packages/pytorch_lightning/utilities/distributed.py:51: UserWarning: Checkpoint directory models_checkpoints/micro_ZINC/ exists and is not empty.\n",
      "  warnings.warn(*args, **kwargs)\n",
      "GPU available: False, used: False\n",
      "TPU available: None, using: 0 TPU cores\n",
      "2021-03-22 21:44:38.223 | INFO     | goli.data.datamodule:prepare_data:152 - Reload data from goli/data/cache/micro_ZINC/full.cache.\n",
      "\n",
      "datamodule:\n",
      " name: DGLFromSmilesDataModule\n",
      "len: 1000\n",
      "batch_size_train_val: 128\n",
      "batch_size_test: 256\n",
      "num_node_feats: 55\n",
      "num_edge_feats: 0\n",
      "collate_fn: goli_collate_fn\n",
      "featurization:\n",
      "  atom_property_list_onehot:\n",
      "  - atomic-number\n",
      "  - valence\n",
      "  atom_property_list_float:\n",
      "  - mass\n",
      "  - electronegativity\n",
      "  - in-ring\n",
      "  edge_property_list: []\n",
      "  add_self_loop: false\n",
      "  explicit_H: false\n",
      "  use_bonds_weights: false\n",
      " \n",
      "\n",
      "{'mae': mean_absolute_error, 'pearsonr': pearsonr, 'f1 > 3': f1(>3), 'f1 > 5': f1(>5), 'precision > 3': precision(>3)}\n",
      "DGL_GNN\n",
      "---------\n",
      "    pre-NN(depth=1, ResidualConnectionNone)\n",
      "        [FCLayer[55 -> 32] -> Linear(32)\n",
      "    \n",
      "    GNN(depth=4, ResidualConnectionSimple(skip_steps=1))\n",
      "        PNAMessagePassingLayer[32 -> 32 -> 32 -> 32 -> 32]\n",
      "        -> Pooling(sum) -> FCLayer(32 -> 32, activation=None)\n",
      "    \n",
      "    post-NN(depth=2, ResidualConnectionNone)\n",
      "        [FCLayer[32 -> 32 -> 1] -> Linear(1)\n",
      "   | Name                            | Type                     | Params\n",
      "------------------------------------------------------------------------------\n",
      "0  | model                           | FullDGLNetwork           | 69.7 K\n",
      "1  | model.pre_nn                    | FeedForwardNN            | 1.9 K \n",
      "2  | model.pre_nn.activation         | ReLU                     | 0     \n",
      "3  | model.pre_nn.residual_layer     | ResidualConnectionNone   | 0     \n",
      "4  | model.pre_nn.layers             | ModuleList               | 1.9 K \n",
      "5  | model.pre_nn.layers.0           | FCLayer                  | 1.9 K \n",
      "6  | model.gnn                       | FeedForwardDGL           | 66.7 K\n",
      "7  | model.gnn.activation            | ReLU                     | 0     \n",
      "8  | model.gnn.layers                | ModuleList               | 62.2 K\n",
      "9  | model.gnn.layers.0              | PNAMessagePassingLayer   | 15.6 K\n",
      "10 | model.gnn.layers.1              | PNAMessagePassingLayer   | 15.6 K\n",
      "11 | model.gnn.layers.2              | PNAMessagePassingLayer   | 15.6 K\n",
      "12 | model.gnn.layers.3              | PNAMessagePassingLayer   | 15.6 K\n",
      "13 | model.gnn.virtual_node_layers   | ModuleList               | 3.4 K \n",
      "14 | model.gnn.virtual_node_layers.0 | VirtualNode              | 1.1 K \n",
      "15 | model.gnn.virtual_node_layers.1 | VirtualNode              | 1.1 K \n",
      "16 | model.gnn.virtual_node_layers.2 | VirtualNode              | 1.1 K \n",
      "17 | model.gnn.residual_layer        | ResidualConnectionSimple | 0     \n",
      "18 | model.gnn.global_pool_layer     | ModuleListConcat         | 0     \n",
      "19 | model.gnn.global_pool_layer.0   | SumPooling               | 0     \n",
      "20 | model.gnn.out_linear            | FCLayer                  | 1.1 K \n",
      "21 | model.gnn.out_linear.linear     | Linear                   | 1.1 K \n",
      "22 | model.gnn.out_linear.dropout    | Dropout                  | 0     \n",
      "23 | model.gnn.out_linear.batch_norm | BatchNorm1d              | 64    \n",
      "24 | model.post_nn                   | FeedForwardNN            | 1.2 K \n",
      "25 | model.post_nn.activation        | ReLU                     | 0     \n",
      "26 | model.post_nn.residual_layer    | ResidualConnectionNone   | 0     \n",
      "27 | model.post_nn.layers            | ModuleList               | 1.2 K \n",
      "28 | model.post_nn.layers.0          | FCLayer                  | 1.1 K \n",
      "29 | model.post_nn.layers.1          | FCLayer                  | 33    \n",
      "30 | loss_fun                        | MSELoss                  | 0     \n",
      "------------------------------------------------------------------------------\n",
      "69.7 K    Trainable params\n",
      "0         Non-trainable params\n",
      "69.7 K    Total params\n",
      "0.279     Total estimated model params size (MB)\n",
      "\n",
      "  | Name     | Type           | Params\n",
      "--------------------------------------------\n",
      "0 | model    | FullDGLNetwork | 69.7 K\n",
      "1 | loss_fun | MSELoss        | 0     \n",
      "--------------------------------------------\n",
      "69.7 K    Trainable params\n",
      "0         Non-trainable params\n",
      "69.7 K    Total params\n",
      "0.279     Total estimated model params size (MB)\n"
     ]
    },
    {
     "output_type": "display_data",
     "data": {
      "text/plain": "Validation sanity check: 0it [00:00, ?it/s]",
      "application/vnd.jupyter.widget-view+json": {
       "version_major": 2,
       "version_minor": 0,
       "model_id": "7f2cdecc0ea74ea08ff327948c696f8c"
      }
     },
     "metadata": {}
    },
    {
     "output_type": "stream",
     "name": "stderr",
     "text": [
      "/home/dominique/anaconda3/envs/goli/lib/python3.8/site-packages/pytorch_lightning/utilities/distributed.py:51: UserWarning: The validation_epoch_end should not return anything as of 9.1. To log, use self.log(...) or self.write(...) directly in the LightningModule\n  warnings.warn(*args, **kwargs)\n"
     ]
    },
    {
     "output_type": "display_data",
     "data": {
      "text/plain": "Training: 0it [00:00, ?it/s]",
      "application/vnd.jupyter.widget-view+json": {
       "version_major": 2,
       "version_minor": 0,
       "model_id": "e653f26ef25a480093c3ac53fec77289"
      }
     },
     "metadata": {}
    },
    {
     "output_type": "stream",
     "name": "stderr",
     "text": [
      "/home/dominique/anaconda3/envs/goli/lib/python3.8/site-packages/pytorch_lightning/utilities/distributed.py:51: UserWarning: The {log:dict keyword} was deprecated in 0.9.1 and will be removed in 1.0.0\nPlease use self.log(...) inside the lightningModule instead.\n# log on a step or aggregate epoch metric to the logger and/or progress bar (inside LightningModule)\nself.log('train_loss', loss, on_step=True, on_epoch=True, prog_bar=True)\n  warnings.warn(*args, **kwargs)\n"
     ]
    },
    {
     "output_type": "display_data",
     "data": {
      "text/plain": "Validating: 0it [00:00, ?it/s]",
      "application/vnd.jupyter.widget-view+json": {
       "version_major": 2,
       "version_minor": 0,
       "model_id": "05cfb7f180e94e72a6701deabe33ff87"
      }
     },
     "metadata": {}
    },
    {
     "output_type": "display_data",
     "data": {
      "text/plain": "Validating: 0it [00:00, ?it/s]",
      "application/vnd.jupyter.widget-view+json": {
       "version_major": 2,
       "version_minor": 0,
       "model_id": "54e5f7bc38d0414bbb5ad17aa09c45c8"
      }
     },
     "metadata": {}
    },
    {
     "output_type": "display_data",
     "data": {
      "text/plain": "Validating: 0it [00:00, ?it/s]",
      "application/vnd.jupyter.widget-view+json": {
       "version_major": 2,
       "version_minor": 0,
       "model_id": "bc6e9acb1c23488b999f65575bf21907"
      }
     },
     "metadata": {}
    },
    {
     "output_type": "display_data",
     "data": {
      "text/plain": "Validating: 0it [00:00, ?it/s]",
      "application/vnd.jupyter.widget-view+json": {
       "version_major": 2,
       "version_minor": 0,
       "model_id": "8e3ceee1bfe14369833607ca1e4c041e"
      }
     },
     "metadata": {}
    },
    {
     "output_type": "display_data",
     "data": {
      "text/plain": "Validating: 0it [00:00, ?it/s]",
      "application/vnd.jupyter.widget-view+json": {
       "version_major": 2,
       "version_minor": 0,
       "model_id": "ed775a7935dd4c1884c2df551b7ffe61"
      }
     },
     "metadata": {}
    },
    {
     "output_type": "display_data",
     "data": {
      "text/plain": "Validating: 0it [00:00, ?it/s]",
      "application/vnd.jupyter.widget-view+json": {
       "version_major": 2,
       "version_minor": 0,
       "model_id": "8cda3f3947b04bde924942b7ec8878c2"
      }
     },
     "metadata": {}
    },
    {
     "output_type": "display_data",
     "data": {
      "text/plain": "Validating: 0it [00:00, ?it/s]",
      "application/vnd.jupyter.widget-view+json": {
       "version_major": 2,
       "version_minor": 0,
       "model_id": "fcf03ee9c7124bdc8b9d0a4bdcd089bc"
      }
     },
     "metadata": {}
    },
    {
     "output_type": "display_data",
     "data": {
      "text/plain": "Validating: 0it [00:00, ?it/s]",
      "application/vnd.jupyter.widget-view+json": {
       "version_major": 2,
       "version_minor": 0,
       "model_id": "d86d26d1db554f25b084079192efe0fa"
      }
     },
     "metadata": {}
    },
    {
     "output_type": "display_data",
     "data": {
      "text/plain": "Validating: 0it [00:00, ?it/s]",
      "application/vnd.jupyter.widget-view+json": {
       "version_major": 2,
       "version_minor": 0,
       "model_id": "2f890df35c2e46adafc0b2803129e144"
      }
     },
     "metadata": {}
    },
    {
     "output_type": "display_data",
     "data": {
      "text/plain": "Validating: 0it [00:00, ?it/s]",
      "application/vnd.jupyter.widget-view+json": {
       "version_major": 2,
       "version_minor": 0,
       "model_id": "417c6a7df81540518278ffd872002537"
      }
     },
     "metadata": {}
    },
    {
     "output_type": "display_data",
     "data": {
      "text/plain": "Validating: 0it [00:00, ?it/s]",
      "application/vnd.jupyter.widget-view+json": {
       "version_major": 2,
       "version_minor": 0,
       "model_id": "d3b50b3ab95743d484587de412d035d3"
      }
     },
     "metadata": {}
    },
    {
     "output_type": "display_data",
     "data": {
      "text/plain": "Validating: 0it [00:00, ?it/s]",
      "application/vnd.jupyter.widget-view+json": {
       "version_major": 2,
       "version_minor": 0,
       "model_id": "c42212929b4342048d0a09cce11fce09"
      }
     },
     "metadata": {}
    },
    {
     "output_type": "display_data",
     "data": {
      "text/plain": "Validating: 0it [00:00, ?it/s]",
      "application/vnd.jupyter.widget-view+json": {
       "version_major": 2,
       "version_minor": 0,
       "model_id": "57c8fc797923476f8d45e4193a56fcbb"
      }
     },
     "metadata": {}
    },
    {
     "output_type": "display_data",
     "data": {
      "text/plain": "Validating: 0it [00:00, ?it/s]",
      "application/vnd.jupyter.widget-view+json": {
       "version_major": 2,
       "version_minor": 0,
       "model_id": "07febce19c2a4214ba45264f50e996bd"
      }
     },
     "metadata": {}
    },
    {
     "output_type": "display_data",
     "data": {
      "text/plain": "Validating: 0it [00:00, ?it/s]",
      "application/vnd.jupyter.widget-view+json": {
       "version_major": 2,
       "version_minor": 0,
       "model_id": "d097f330baaa4ddeb6a914934f3ea75b"
      }
     },
     "metadata": {}
    },
    {
     "output_type": "display_data",
     "data": {
      "text/plain": "Validating: 0it [00:00, ?it/s]",
      "application/vnd.jupyter.widget-view+json": {
       "version_major": 2,
       "version_minor": 0,
       "model_id": "8d55aa93a1d44da0a36aae9e47e5f062"
      }
     },
     "metadata": {}
    },
    {
     "output_type": "display_data",
     "data": {
      "text/plain": "Validating: 0it [00:00, ?it/s]",
      "application/vnd.jupyter.widget-view+json": {
       "version_major": 2,
       "version_minor": 0,
       "model_id": "ac422bed0a3741fe817e598c5d15ca9a"
      }
     },
     "metadata": {}
    },
    {
     "output_type": "display_data",
     "data": {
      "text/plain": "Validating: 0it [00:00, ?it/s]",
      "application/vnd.jupyter.widget-view+json": {
       "version_major": 2,
       "version_minor": 0,
       "model_id": "21947e21ff1546768d9ac020a88d2c50"
      }
     },
     "metadata": {}
    },
    {
     "output_type": "display_data",
     "data": {
      "text/plain": "Validating: 0it [00:00, ?it/s]",
      "application/vnd.jupyter.widget-view+json": {
       "version_major": 2,
       "version_minor": 0,
       "model_id": "d26dbd2741f8478984485df88852ae34"
      }
     },
     "metadata": {}
    },
    {
     "output_type": "display_data",
     "data": {
      "text/plain": "Validating: 0it [00:00, ?it/s]",
      "application/vnd.jupyter.widget-view+json": {
       "version_major": 2,
       "version_minor": 0,
       "model_id": "65cb722681ba4099997533adbdd4064b"
      }
     },
     "metadata": {}
    },
    {
     "output_type": "display_data",
     "data": {
      "text/plain": "Validating: 0it [00:00, ?it/s]",
      "application/vnd.jupyter.widget-view+json": {
       "version_major": 2,
       "version_minor": 0,
       "model_id": "1814fbca25134f68b6403ef19c3b6cde"
      }
     },
     "metadata": {}
    },
    {
     "output_type": "display_data",
     "data": {
      "text/plain": "Validating: 0it [00:00, ?it/s]",
      "application/vnd.jupyter.widget-view+json": {
       "version_major": 2,
       "version_minor": 0,
       "model_id": "760e4e6235644caaa555977c0cf497ae"
      }
     },
     "metadata": {}
    },
    {
     "output_type": "display_data",
     "data": {
      "text/plain": "Validating: 0it [00:00, ?it/s]",
      "application/vnd.jupyter.widget-view+json": {
       "version_major": 2,
       "version_minor": 0,
       "model_id": "fa90bc7100674bf197f9634773a9d51e"
      }
     },
     "metadata": {}
    },
    {
     "output_type": "display_data",
     "data": {
      "text/plain": "Validating: 0it [00:00, ?it/s]",
      "application/vnd.jupyter.widget-view+json": {
       "version_major": 2,
       "version_minor": 0,
       "model_id": "a81a1903b23b4ab58279eac37a559254"
      }
     },
     "metadata": {}
    },
    {
     "output_type": "display_data",
     "data": {
      "text/plain": "Validating: 0it [00:00, ?it/s]",
      "application/vnd.jupyter.widget-view+json": {
       "version_major": 2,
       "version_minor": 0,
       "model_id": "920d4894ce274a0584ef9b6eeef13fbe"
      }
     },
     "metadata": {}
    },
    {
     "output_type": "execute_result",
     "data": {
      "text/plain": [
       "1"
      ]
     },
     "metadata": {},
     "execution_count": 10
    }
   ],
   "source": [
    "from os.path import dirname, abspath\n",
    "from copy import deepcopy\n",
    "\n",
    "import goli\n",
    "from goli.config._loader import (load_datamodule, load_metrics, load_architecture, load_predictor, load_trainer)\n",
    "\n",
    "MAIN_DIR = dirname(dirname(abspath(goli.__file__)))\n",
    "os.chdir(MAIN_DIR)\n",
    "\n",
    "cfg = dict(deepcopy(yaml_config))\n",
    "\n",
    "# Load and initialize the dataset\n",
    "datamodule = load_datamodule(cfg)\n",
    "print(\"\\ndatamodule:\\n\", datamodule, \"\\n\")\n",
    "\n",
    "# Initialize the network\n",
    "model_class, model_kwargs = load_architecture(\n",
    "    cfg,\n",
    "    in_dim_nodes=datamodule.num_node_feats,\n",
    "    in_dim_edges=datamodule.num_edge_feats,\n",
    ")\n",
    "\n",
    "metrics = load_metrics(cfg)\n",
    "print(metrics)\n",
    "\n",
    "predictor = load_predictor(cfg, model_class, model_kwargs, metrics)\n",
    "\n",
    "print(predictor.model)\n",
    "print(predictor.summarize(mode=4, to_print=False))\n",
    "\n",
    "trainer = load_trainer(cfg, metrics)\n",
    "\n",
    "# Run the model training\n",
    "trainer.fit(model=predictor, datamodule=datamodule)"
   ]
  },
  {
   "cell_type": "code",
   "execution_count": null,
   "metadata": {},
   "outputs": [],
   "source": []
  }
 ]
}