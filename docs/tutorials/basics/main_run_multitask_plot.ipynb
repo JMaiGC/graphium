{
 "cells": [
  {
   "cell_type": "code",
   "execution_count": 1,
   "metadata": {},
   "outputs": [
    {
     "name": "stderr",
     "output_type": "stream",
     "text": [
      "\u001b[32m[I 2022-09-07 20:13:19,251]\u001b[0m A new study created in memory with name: no-name-e5988481-195a-4f9a-b3ed-223dfa1f561f\u001b[0m\n",
      "/home/oleksandr/.venv/goli_ipu/lib/python3.8/site-packages/optuna/distributions.py:560: UserWarning: The distribution is specified by [16, 124] and step=16, but the range is not divisible by `step`. It will be replaced by [16, 112].\n",
      "  warnings.warn(\n",
      "/tmp/ipykernel_1736612/3964897578.py:106: LightningDeprecationWarning: The `LightningModule.summarize` method is deprecated in v1.5 and will be removed in v1.7. Use `pytorch_lightning.utilities.model_summary.summarize` instead.\n",
      "  accu = main(cfg, trial, run_name=run_name[:len(run_name) - 1])\n"
     ]
    },
    {
     "name": "stdout",
     "output_type": "stream",
     "text": [
      "{'homo': {'mae': mean_absolute_error, 'pearsonr': pearson_corrcoef}, 'alpha': {'mae': mean_absolute_error, 'pearsonr': pearson_corrcoef}, 'cv': {'mae': mean_absolute_error, 'pearsonr': pearson_corrcoef}}\n",
      "MTL_DGL_GNN\n",
      "-------------\n",
      "    pre-NN(depth=1, ResidualConnectionNone)\n",
      "        [FCLayer[55 -> 32]\n",
      "    \n",
      "    pre-NN-edges(depth=1, ResidualConnectionNone)\n",
      "        [FCLayer[13 -> 16]\n",
      "    \n",
      "    GNN(depth=4, ResidualConnectionSimple(skip_steps=1))\n",
      "        GPSLayerPyg[32 -> 16 -> 16 -> 16 -> 32]\n",
      "        -> Pooling(['sum', 'mean', 'max']) -> FCLayer(96 -> 32, activation=None)\n",
      "    \n",
      "\n",
      "   | Name                              | Type                      | Params\n",
      "---------------------------------------------------------------------------------\n",
      "0  | model                             | FullGraphMultiTaskNetwork | 30.0 K\n",
      "1  | model.pre_nn                      | FeedForwardNN             | 1.8 K \n",
      "2  | model.pre_nn.activation           | ReLU                      | 0     \n",
      "3  | model.pre_nn.residual_layer       | ResidualConnectionNone    | 0     \n",
      "4  | model.pre_nn.layers               | ModuleList                | 1.8 K \n",
      "5  | model.pre_nn.layers.0             | FCLayer                   | 1.8 K \n",
      "6  | model.pre_nn_edges                | FeedForwardNN             | 224   \n",
      "7  | model.pre_nn_edges.activation     | ReLU                      | 0     \n",
      "8  | model.pre_nn_edges.residual_layer | ResidualConnectionNone    | 0     \n",
      "9  | model.pre_nn_edges.layers         | ModuleList                | 224   \n",
      "10 | model.pre_nn_edges.layers.0       | FCLayer                   | 224   \n",
      "11 | model.gnn                         | FeedForwardPyg            | 24.7 K\n",
      "12 | model.gnn.activation              | ReLU                      | 0     \n",
      "13 | model.gnn.layers                  | ModuleList                | 21.6 K\n",
      "14 | model.gnn.layers.0                | GPSLayerPyg               | 11.6 K\n",
      "15 | model.gnn.layers.1                | GPSLayerPyg               | 3.2 K \n",
      "16 | model.gnn.layers.2                | GPSLayerPyg               | 3.2 K \n",
      "17 | model.gnn.layers.3                | GPSLayerPyg               | 3.5 K \n",
      "18 | model.gnn.virtual_node_layers     | ModuleList                | 0     \n",
      "19 | model.gnn.virtual_node_layers.0   | VirtualNodePyg            | 0     \n",
      "20 | model.gnn.virtual_node_layers.1   | VirtualNodePyg            | 0     \n",
      "21 | model.gnn.virtual_node_layers.2   | VirtualNodePyg            | 0     \n",
      "22 | model.gnn.residual_layer          | ResidualConnectionSimple  | 0     \n",
      "23 | model.gnn.global_pool_layer       | ModuleListConcat          | 0     \n",
      "24 | model.gnn.global_pool_layer.0     | PoolingWrapperPyg         | 0     \n",
      "25 | model.gnn.global_pool_layer.1     | PoolingWrapperPyg         | 0     \n",
      "26 | model.gnn.global_pool_layer.2     | PoolingWrapperPyg         | 0     \n",
      "27 | model.gnn.out_linear              | FCLayer                   | 3.1 K \n",
      "28 | model.gnn.out_linear.linear       | Linear                    | 3.1 K \n",
      "29 | model.gnn.out_linear.dropout      | Dropout                   | 0     \n",
      "30 | model.task_heads                  | TaskHeads                 | 3.3 K \n",
      "31 | model.task_heads.task_heads       | ModuleDict                | 3.3 K \n",
      "32 | model.task_heads.task_heads.homo  | TaskHead                  | 1.1 K \n",
      "33 | model.task_heads.task_heads.alpha | TaskHead                  | 1.1 K \n",
      "34 | model.task_heads.task_heads.cv    | TaskHead                  | 1.1 K \n",
      "---------------------------------------------------------------------------------\n",
      "30.0 K    Trainable params\n",
      "0         Non-trainable params\n",
      "30.0 K    Total params\n",
      "0.120     Total estimated model params size (MB)\n"
     ]
    },
    {
     "name": "stderr",
     "output_type": "stream",
     "text": [
      "Failed to detect the name of this notebook, you can set it manually with the WANDB_NOTEBOOK_NAME environment variable to enable code saving.\n",
      "\u001b[34m\u001b[1mwandb\u001b[0m: Currently logged in as: \u001b[33malexdymov\u001b[0m (\u001b[33mmultitask-gnn\u001b[0m). Use \u001b[1m`wandb login --relogin`\u001b[0m to force relogin\n"
     ]
    },
    {
     "data": {
      "text/html": [
       "wandb version 0.13.2 is available!  To upgrade, please run:\n",
       " $ pip install wandb --upgrade"
      ],
      "text/plain": [
       "<IPython.core.display.HTML object>"
      ]
     },
     "metadata": {},
     "output_type": "display_data"
    },
    {
     "data": {
      "text/html": [
       "Tracking run with wandb version 0.13.1"
      ],
      "text/plain": [
       "<IPython.core.display.HTML object>"
      ]
     },
     "metadata": {},
     "output_type": "display_data"
    },
    {
     "data": {
      "text/html": [
       "Run data is saved locally in <code>/home/oleksandr/code/goli/wandb/run-20220907_201320-1nco1r85</code>"
      ],
      "text/plain": [
       "<IPython.core.display.HTML object>"
      ]
     },
     "metadata": {},
     "output_type": "display_data"
    },
    {
     "data": {
      "text/html": [
       "Syncing run <strong><a href=\"https://wandb.ai/multitask-gnn/multitask-gnn/runs/1nco1r85\" target=\"_blank\">olek_test_ipu_07/09/2022_gnn.hid=16_gnn.depth=4</a></strong> to <a href=\"https://wandb.ai/multitask-gnn/multitask-gnn\" target=\"_blank\">Weights & Biases</a> (<a href=\"https://wandb.me/run\" target=\"_blank\">docs</a>)<br/>"
      ],
      "text/plain": [
       "<IPython.core.display.HTML object>"
      ]
     },
     "metadata": {},
     "output_type": "display_data"
    },
    {
     "name": "stderr",
     "output_type": "stream",
     "text": [
      "/home/oleksandr/.venv/goli_ipu/lib/python3.8/site-packages/pytorch_lightning/trainer/trainer.py:572: LightningDeprecationWarning: Trainer argument `terminate_on_nan` was deprecated in v1.5 and will be removed in 1.7. Please use `Trainer(detect_anomaly=True)` instead.\n",
      "  rank_zero_deprecation(\n",
      "GPU available: False, used: False\n",
      "TPU available: False, using: 0 TPU cores\n",
      "IPU available: True, using: 0 IPUs\n",
      "HPU available: False, using: 0 HPUs\n",
      "/home/oleksandr/.venv/goli_ipu/lib/python3.8/site-packages/pytorch_lightning/trainer/trainer.py:1836: UserWarning: IPU available but not used. Set `accelerator` and `devices` using `Trainer(accelerator='ipu', devices=4)`.\n",
      "  rank_zero_warn(\n",
      "2022-09-07 20:13:21.426 | INFO     | goli.data.datamodule:prepare_data:669 - Reading data for task 'homo'\n",
      "2022-09-07 20:13:21.438 | INFO     | goli.data.datamodule:prepare_data:669 - Reading data for task 'alpha'\n",
      "2022-09-07 20:13:21.448 | INFO     | goli.data.datamodule:prepare_data:669 - Reading data for task 'cv'\n",
      "2022-09-07 20:13:21.458 | INFO     | goli.data.datamodule:prepare_data:687 - Done reading datasets\n",
      "2022-09-07 20:13:21.459 | INFO     | goli.data.datamodule:prepare_data:699 - Prepare single-task dataset for task 'homo' with 1005 data points.\n",
      "2022-09-07 20:13:21.459 | INFO     | goli.data.datamodule:prepare_data:699 - Prepare single-task dataset for task 'alpha' with 1005 data points.\n",
      "2022-09-07 20:13:21.460 | INFO     | goli.data.datamodule:prepare_data:699 - Prepare single-task dataset for task 'cv' with 1005 data points.\n"
     ]
    },
    {
     "data": {
      "application/vnd.jupyter.widget-view+json": {
       "model_id": "481afd884a0046da8501d8420720f50f",
       "version_major": 2,
       "version_minor": 0
      },
      "text/plain": [
       "mols to ids:   0%|          | 0/3015 [00:00<?, ?it/s]"
      ]
     },
     "metadata": {},
     "output_type": "display_data"
    },
    {
     "data": {
      "application/vnd.jupyter.widget-view+json": {
       "model_id": "aadb302ca6b0482ba7ac57e1188fb412",
       "version_major": 2,
       "version_minor": 0
      },
      "text/plain": [
       "featurizing_smiles:   0%|          | 0/1005 [00:00<?, ?it/s]"
      ]
     },
     "metadata": {},
     "output_type": "display_data"
    },
    {
     "name": "stderr",
     "output_type": "stream",
     "text": [
      "/home/oleksandr/.venv/goli_ipu/lib/python3.8/site-packages/pytorch_lightning/trainer/configuration_validator.py:154: LightningDeprecationWarning: The `LightningModule.get_progress_bar_dict` method was deprecated in v1.5 and will be removed in v1.7. Please use the `ProgressBarBase.get_metrics` instead.\n",
      "  rank_zero_deprecation(\n"
     ]
    },
    {
     "data": {
      "application/vnd.jupyter.widget-view+json": {
       "model_id": "6f3017bc78904511923b947d57c83c7d",
       "version_major": 2,
       "version_minor": 0
      },
      "text/plain": [
       "mols to ids:   0%|          | 0/1809 [00:00<?, ?it/s]"
      ]
     },
     "metadata": {},
     "output_type": "display_data"
    },
    {
     "data": {
      "application/vnd.jupyter.widget-view+json": {
       "model_id": "9032a3d1c51040009b6ff1ae7973b1aa",
       "version_major": 2,
       "version_minor": 0
      },
      "text/plain": [
       "mols to ids:   0%|          | 0/603 [00:00<?, ?it/s]"
      ]
     },
     "metadata": {},
     "output_type": "display_data"
    },
    {
     "name": "stderr",
     "output_type": "stream",
     "text": [
      "/home/oleksandr/.venv/goli_ipu/lib/python3.8/site-packages/pytorch_lightning/callbacks/model_checkpoint.py:608: UserWarning: Checkpoint directory /home/oleksandr/code/goli/models_checkpoints/QM9 exists and is not empty.\n",
      "  rank_zero_warn(f\"Checkpoint directory {dirpath} exists and is not empty.\")\n",
      "\n",
      "  | Name  | Type                      | Params\n",
      "----------------------------------------------------\n",
      "0 | model | FullGraphMultiTaskNetwork | 30.0 K\n",
      "----------------------------------------------------\n",
      "30.0 K    Trainable params\n",
      "0         Non-trainable params\n",
      "30.0 K    Total params\n",
      "0.120     Total estimated model params size (MB)\n"
     ]
    },
    {
     "name": "stdout",
     "output_type": "stream",
     "text": [
      "-------------------\n",
      "MultitaskDataset\n",
      "\tabout = training set\n",
      "\tnum_graphs_total = 603\n",
      "\tnum_nodes_total = 5285\n",
      "\tmax_num_nodes_per_graph = 9\n",
      "\tmin_num_nodes_per_graph = 1\n",
      "\tstd_num_nodes_per_graph = 0.6989218547197285\n",
      "\tmean_num_nodes_per_graph = 8.764510779436153\n",
      "\tnum_edges_total = 11316\n",
      "\tmax_num_edges_per_graph = 26\n",
      "\tmin_num_edges_per_graph = 0\n",
      "\tstd_num_edges_per_graph = 2.6821780989470896\n",
      "\tmean_num_edges_per_graph = 18.766169154228855\n",
      "-------------------\n",
      "\n",
      "-------------------\n",
      "MultitaskDataset\n",
      "\tabout = validation set\n",
      "\tnum_graphs_total = 201\n",
      "\tnum_nodes_total = 1756\n",
      "\tmax_num_nodes_per_graph = 9\n",
      "\tmin_num_nodes_per_graph = 2\n",
      "\tstd_num_nodes_per_graph = 0.7949619835770694\n",
      "\tmean_num_nodes_per_graph = 8.7363184079602\n",
      "\tnum_edges_total = 3736\n",
      "\tmax_num_edges_per_graph = 24\n",
      "\tmin_num_edges_per_graph = 2\n",
      "\tstd_num_edges_per_graph = 2.7704251592456193\n",
      "\tmean_num_edges_per_graph = 18.587064676616915\n",
      "-------------------\n",
      "\n"
     ]
    },
    {
     "data": {
      "application/vnd.jupyter.widget-view+json": {
       "model_id": "ef31e37b8ee8415cb61d153ae07a397f",
       "version_major": 2,
       "version_minor": 0
      },
      "text/plain": [
       "Sanity Checking: 0it [00:00, ?it/s]"
      ]
     },
     "metadata": {},
     "output_type": "display_data"
    },
    {
     "name": "stderr",
     "output_type": "stream",
     "text": [
      "2022-09-07 20:13:26.767 | WARNING  | goli.data.datamodule:_dataloader:1545 - No IPU options for stage val. Using regular dataloader.\n",
      "/home/oleksandr/.venv/goli_ipu/lib/python3.8/site-packages/pytorch_lightning/trainer/connectors/data_connector.py:240: PossibleUserWarning: The dataloader, val_dataloader 0, does not have many workers which may be a bottleneck. Consider increasing the value of the `num_workers` argument` (try 104 which is the number of cpus on this machine) in the `DataLoader` init to improve performance.\n",
      "  rank_zero_warn(\n",
      "2022-09-07 20:13:26.842 | WARNING  | goli.data.datamodule:_dataloader:1545 - No IPU options for stage train. Using regular dataloader.\n",
      "/home/oleksandr/.venv/goli_ipu/lib/python3.8/site-packages/pytorch_lightning/trainer/connectors/data_connector.py:240: PossibleUserWarning: The dataloader, train_dataloader, does not have many workers which may be a bottleneck. Consider increasing the value of the `num_workers` argument` (try 104 which is the number of cpus on this machine) in the `DataLoader` init to improve performance.\n",
      "  rank_zero_warn(\n",
      "/home/oleksandr/.venv/goli_ipu/lib/python3.8/site-packages/pytorch_lightning/trainer/trainer.py:1938: PossibleUserWarning: The number of training samples (10) is smaller than the logging interval Trainer(log_every_n_steps=50). Set a lower value for log_every_n_steps if you want to see logs for the training epoch.\n",
      "  rank_zero_warn(\n"
     ]
    },
    {
     "data": {
      "application/vnd.jupyter.widget-view+json": {
       "model_id": "42fedb9b2ca343ea9e99bb2f8ade4ee0",
       "version_major": 2,
       "version_minor": 0
      },
      "text/plain": [
       "Training: 0it [00:00, ?it/s]"
      ]
     },
     "metadata": {},
     "output_type": "display_data"
    },
    {
     "data": {
      "application/vnd.jupyter.widget-view+json": {
       "model_id": "9479ed8938ff495183ce32bf338e91ab",
       "version_major": 2,
       "version_minor": 0
      },
      "text/plain": [
       "Validation: 0it [00:00, ?it/s]"
      ]
     },
     "metadata": {},
     "output_type": "display_data"
    },
    {
     "data": {
      "application/vnd.jupyter.widget-view+json": {
       "model_id": "c716455cb7414af5b8e62af29806a04c",
       "version_major": 2,
       "version_minor": 0
      },
      "text/plain": [
       "Validation: 0it [00:00, ?it/s]"
      ]
     },
     "metadata": {},
     "output_type": "display_data"
    },
    {
     "name": "stdout",
     "output_type": "stream",
     "text": [
      "\n",
      "------------ TRAINING STARTED ------------\n",
      "\n",
      "------------ TRAINING COMPLETED ------------\n",
      "\n",
      "\n",
      "\n",
      "------------ TESTING STARTED ------------\n"
     ]
    },
    {
     "data": {
      "application/vnd.jupyter.widget-view+json": {
       "model_id": "e5cd3747d9d24f8086e84af2ae058720",
       "version_major": 2,
       "version_minor": 0
      },
      "text/plain": [
       "mols to ids:   0%|          | 0/603 [00:00<?, ?it/s]"
      ]
     },
     "metadata": {},
     "output_type": "display_data"
    },
    {
     "name": "stderr",
     "output_type": "stream",
     "text": [
      "2022-09-07 20:13:28.008 | WARNING  | goli.data.datamodule:_dataloader:1545 - No IPU options for stage test. Using regular dataloader.\n"
     ]
    },
    {
     "name": "stdout",
     "output_type": "stream",
     "text": [
      "-------------------\n",
      "MultitaskDataset\n",
      "\tabout = test set\n",
      "\tnum_graphs_total = 201\n",
      "\tnum_nodes_total = 1751\n",
      "\tmax_num_nodes_per_graph = 9\n",
      "\tmin_num_nodes_per_graph = 1\n",
      "\tstd_num_nodes_per_graph = 0.9443829267824616\n",
      "\tmean_num_nodes_per_graph = 8.711442786069652\n",
      "\tnum_edges_total = 3748\n",
      "\tmax_num_edges_per_graph = 26\n",
      "\tmin_num_edges_per_graph = 0\n",
      "\tstd_num_edges_per_graph = 3.0647412282392468\n",
      "\tmean_num_edges_per_graph = 18.64676616915423\n",
      "-------------------\n",
      "\n"
     ]
    },
    {
     "name": "stderr",
     "output_type": "stream",
     "text": [
      "/home/oleksandr/.venv/goli_ipu/lib/python3.8/site-packages/pytorch_lightning/trainer/connectors/data_connector.py:240: PossibleUserWarning: The dataloader, test_dataloader 0, does not have many workers which may be a bottleneck. Consider increasing the value of the `num_workers` argument` (try 104 which is the number of cpus on this machine) in the `DataLoader` init to improve performance.\n",
      "  rank_zero_warn(\n"
     ]
    },
    {
     "data": {
      "application/vnd.jupyter.widget-view+json": {
       "model_id": "25cd646006244a0c8b4b614a1919ef7f",
       "version_major": 2,
       "version_minor": 0
      },
      "text/plain": [
       "Testing: 0it [00:00, ?it/s]"
      ]
     },
     "metadata": {},
     "output_type": "display_data"
    },
    {
     "name": "stdout",
     "output_type": "stream",
     "text": [
      "────────────────────────────────────────────────────────────────────────────────────────────────────────────────────────\n",
      "       Test metric             DataLoader 0\n",
      "────────────────────────────────────────────────────────────────────────────────────────────────────────────────────────\n",
      "  alpha/MSELossIPU/test     1.7005114555358887\n",
      "     alpha/loss/test        1.7005114555358887\n",
      "     alpha/mae/test         0.9041451215744019\n",
      "  alpha/mean_pred/test     -0.11061953753232956\n",
      " alpha/mean_target/test    -0.17942453920841217\n",
      " alpha/median_pred/test    -0.10525858402252197\n",
      "alpha/median_target/test     -0.05877685546875\n",
      "   alpha/pearsonr/test      0.30496150255203247\n",
      "   alpha/std_pred/test      0.03235793858766556\n",
      "  alpha/std_target/test     1.3153568506240845\n",
      "   cv/MSELossIPU/test       1.4059679508209229\n",
      "      cv/loss/test          1.4059679508209229\n",
      "       cv/mae/test          0.8514640927314758\n",
      "    cv/mean_pred/test      -0.06616797298192978\n",
      "   cv/mean_target/test     -0.11077180504798889\n",
      "   cv/median_pred/test     -0.06343027949333191\n",
      "  cv/median_target/test      -0.07501220703125\n",
      "    cv/pearsonr/test        0.12520644068717957\n",
      "    cv/std_pred/test        0.01727498508989811\n",
      "   cv/std_target/test        1.190240502357483\n",
      "  homo/MSELossIPU/test      1.1797516345977783\n",
      "     homo/loss/test         1.1797516345977783\n",
      "      homo/mae/test         0.8164665102958679\n",
      "   homo/mean_pred/test     -0.08941683173179626\n",
      "  homo/mean_target/test     0.11720336973667145\n",
      "  homo/median_pred/test    -0.06324481219053268\n",
      " homo/median_target/test      0.1390380859375\n",
      "   homo/pearsonr/test       0.2569406032562256\n",
      "   homo/std_pred/test      0.058739759027957916\n",
      "  homo/std_target/test      1.0721430778503418\n",
      "        loss/test           1.4287437200546265\n",
      "────────────────────────────────────────────────────────────────────────────────────────────────────────────────────────\n",
      "\n",
      "------------ TESTING COMPLETED ------------\n",
      "\n",
      "\n",
      "--------------------------------------------\n",
      "total computation used 8.864784962963313\n",
      "--------------------------------------------\n"
     ]
    },
    {
     "data": {
      "text/html": [
       "Waiting for W&B process to finish... <strong style=\"color:green\">(success).</strong>"
      ],
      "text/plain": [
       "<IPython.core.display.HTML object>"
      ]
     },
     "metadata": {},
     "output_type": "display_data"
    },
    {
     "data": {
      "application/vnd.jupyter.widget-view+json": {
       "model_id": "3a3591f9c3dd4f2cb128af538bdaa028",
       "version_major": 2,
       "version_minor": 0
      },
      "text/plain": [
       "VBox(children=(Label(value='0.001 MB of 0.001 MB uploaded (0.000 MB deduped)\\r'), FloatProgress(value=1.0, max…"
      ]
     },
     "metadata": {},
     "output_type": "display_data"
    },
    {
     "data": {
      "text/html": [
       "<style>\n",
       "    table.wandb td:nth-child(1) { padding: 0 10px; text-align: left ; width: auto;} td:nth-child(2) {text-align: left ; width: 100%}\n",
       "    .wandb-row { display: flex; flex-direction: row; flex-wrap: wrap; justify-content: flex-start; width: 100% }\n",
       "    .wandb-col { display: flex; flex-direction: column; flex-basis: 100%; flex: 1; padding: 10px; }\n",
       "    </style>\n",
       "<div class=\"wandb-row\"><div class=\"wandb-col\"><h3>Run history:</h3><br/><table class=\"wandb\"><tr><td>alpha/MSELossIPU/test</td><td>▁</td></tr><tr><td>alpha/MSELossIPU/train</td><td>▃▃▁▁▄▄▄▄██▅▅▂▂██▇▇▂▂▃▃▁▁▄▄▄▄██▅▅▂▂██▇▇▂▂</td></tr><tr><td>alpha/MSELossIPU/val</td><td>█▁</td></tr><tr><td>alpha/loss/test</td><td>▁</td></tr><tr><td>alpha/loss/val</td><td>█▁</td></tr><tr><td>alpha/mae/test</td><td>▁</td></tr><tr><td>alpha/mae/train</td><td>▃▃▁▁▅▅▄▄██▄▄▂▂▄▄▃▃▃▃▃▃▁▁▅▅▄▄██▄▄▂▂▄▄▃▃▃▃</td></tr><tr><td>alpha/mae/val</td><td>█▁</td></tr><tr><td>alpha/mean_pred/test</td><td>▁</td></tr><tr><td>alpha/mean_pred/train</td><td>██████████████▇▇▇▇▇▇▇▇▇▇▇▇▇▇▇▇▆▆▆▆▅▅▄▄▁▁</td></tr><tr><td>alpha/mean_pred/val</td><td>█▁</td></tr><tr><td>alpha/mean_target/test</td><td>▁</td></tr><tr><td>alpha/mean_target/train</td><td>████▇▇▄▄▁▁▅▅▃▃▅▅▆▆▅▅████▇▇▄▄▁▁▅▅▃▃▅▅▆▆▅▅</td></tr><tr><td>alpha/mean_target/val</td><td>▁▁</td></tr><tr><td>alpha/median_pred/test</td><td>▁</td></tr><tr><td>alpha/median_pred/train</td><td>██████████████▇▇▇▇▇▇▇▇▇▇▇▇▇▇▇▇▆▆▆▆▅▅▄▄▁▁</td></tr><tr><td>alpha/median_pred/val</td><td>█▁</td></tr><tr><td>alpha/median_target/test</td><td>▁</td></tr><tr><td>alpha/median_target/train</td><td>▇▇▇▇▆▆▅▅▁▁▇▇▄▄▅▅▇▇██▇▇▇▇▆▆▅▅▁▁▇▇▄▄▅▅▇▇██</td></tr><tr><td>alpha/median_target/val</td><td>▁▁</td></tr><tr><td>alpha/pearsonr/test</td><td>▁</td></tr><tr><td>alpha/pearsonr/train</td><td>▄▄▄▄▄▄▅▅▆▆▆▆▄▄▁▁▂▂▃▃▃▃▃▃▆▆▆▆▆▆▆▆▇▇▄▄▆▆██</td></tr><tr><td>alpha/pearsonr/val</td><td>▁█</td></tr><tr><td>alpha/std_pred/test</td><td>▁</td></tr><tr><td>alpha/std_pred/train</td><td>▁▁▁▁▁▁▁▁▁▁▁▁▁▁▁▁▁▁▁▁▁▁▁▁▁▁▁▁▂▂▂▂▃▃▄▄▆▆██</td></tr><tr><td>alpha/std_pred/val</td><td>▁█</td></tr><tr><td>alpha/std_target/test</td><td>▁</td></tr><tr><td>alpha/std_target/train</td><td>▃▃▁▁▅▅▄▄▇▇▅▅▁▁██▇▇▂▂▃▃▁▁▅▅▄▄▇▇▅▅▁▁██▇▇▂▂</td></tr><tr><td>alpha/std_target/val</td><td>▁▁</td></tr><tr><td>cv/MSELossIPU/test</td><td>▁</td></tr><tr><td>cv/MSELossIPU/train</td><td>▁▁▂▂▄▄▄▄▆▆▆▆▂▂▇▇██▁▁▁▁▂▂▄▄▄▄▆▆▆▆▂▂▇▇██▁▁</td></tr><tr><td>cv/MSELossIPU/val</td><td>█▁</td></tr><tr><td>cv/loss/test</td><td>▁</td></tr><tr><td>cv/loss/val</td><td>█▁</td></tr><tr><td>cv/mae/test</td><td>▁▁</td></tr><tr><td>cv/mae/train</td><td>▁▁▂▂▃▃▆▆████▁▁▅▅▅▅▂▂▁▁▂▂▃▃▆▆████▁▁▅▅▅▅▂▂</td></tr><tr><td>cv/mae/val</td><td>█▁</td></tr><tr><td>cv/mean_pred/test</td><td>▁</td></tr><tr><td>cv/mean_pred/train</td><td>██████████████▇▇▇▇▇▇▇▇▇▇▇▇▇▇▇▇▆▆▆▆▅▅▄▄▁▁</td></tr><tr><td>cv/mean_pred/val</td><td>█▁</td></tr><tr><td>cv/mean_target/test</td><td>▁</td></tr><tr><td>cv/mean_target/train</td><td>▂▂██▅▅▂▂▁▁▃▃▄▄▃▃▂▂▂▂▂▂██▅▅▂▂▁▁▃▃▄▄▃▃▂▂▂▂</td></tr><tr><td>cv/mean_target/val</td><td>▁▁</td></tr><tr><td>cv/median_pred/test</td><td>▁</td></tr><tr><td>cv/median_pred/train</td><td>██████████████▇▇▇▇▇▇▇▇▇▇▇▇▇▇▇▇▆▆▆▆▅▅▄▄▁▁</td></tr><tr><td>cv/median_pred/val</td><td>█▁</td></tr><tr><td>cv/median_target/test</td><td>▁</td></tr><tr><td>cv/median_target/train</td><td>▃▃██▃▃▁▁▁▁▅▅▄▄▄▄▂▂▂▂▃▃██▃▃▁▁▁▁▅▅▄▄▄▄▂▂▂▂</td></tr><tr><td>cv/median_target/val</td><td>▁▁</td></tr><tr><td>cv/pearsonr/test</td><td>▁</td></tr><tr><td>cv/pearsonr/train</td><td>▄▄▃▃▇▇▆▆▇▇▄▄▃▃▄▄▃▃▄▄▄▄▁▁▆▆▆▆▇▇▅▅▄▄▅▅▆▆██</td></tr><tr><td>cv/pearsonr/val</td><td>▁█</td></tr><tr><td>cv/std_pred/test</td><td>▁</td></tr><tr><td>cv/std_pred/train</td><td>▁▁▁▁▁▁▁▁▁▁▁▁▁▁▁▁▁▁▁▁▁▁▁▁▁▁▁▁▁▁▂▂▂▂▃▃▅▅██</td></tr><tr><td>cv/std_pred/val</td><td>▁█</td></tr><tr><td>cv/std_target/test</td><td>▁</td></tr><tr><td>cv/std_target/train</td><td>▁▁▂▂▄▄▄▄▆▆▇▇▂▂████▁▁▁▁▂▂▄▄▄▄▆▆▇▇▂▂████▁▁</td></tr><tr><td>cv/std_target/val</td><td>▁▁</td></tr><tr><td>epoch</td><td>▁▅█</td></tr><tr><td>grad_norm</td><td>▁▁▄▄▄▄▂▂▅▅██▃▃▅▅▃▃▃▃▁▁▄▄▄▄▂▂▅▅██▄▄▆▆▅▅▇▇</td></tr><tr><td>homo/MSELossIPU/test</td><td>▁</td></tr><tr><td>homo/MSELossIPU/train</td><td>▃▃▁▁▇▇▅▅▅▅▄▄██▄▄██▅▅▃▃▁▁▇▇▅▅▅▅▄▄▇▇▄▄██▅▅</td></tr><tr><td>homo/MSELossIPU/val</td><td>█▁</td></tr><tr><td>homo/loss/test</td><td>▁</td></tr><tr><td>homo/loss/val</td><td>█▁</td></tr><tr><td>homo/mae/test</td><td>▁</td></tr><tr><td>homo/mae/train</td><td>▃▃▁▁▇▇▆▆▆▆▆▆██▆▆▇▇▆▆▃▃▁▁▇▇▆▆▆▆▆▆██▆▆▇▇▆▆</td></tr><tr><td>homo/mae/val</td><td>█▁</td></tr><tr><td>homo/mean_pred/test</td><td>▁</td></tr><tr><td>homo/mean_pred/train</td><td>██████████████████▇▇▇▇▇▇▇▇▇▇▇▇▇▇▆▆▅▅▄▄▁▁</td></tr><tr><td>homo/mean_pred/val</td><td>█▁</td></tr><tr><td>homo/mean_target/test</td><td>▁</td></tr><tr><td>homo/mean_target/train</td><td>██▄▄▅▅▃▃▁▁▃▃▁▁▆▆▃▃▄▄██▄▄▅▅▃▃▁▁▃▃▁▁▆▆▃▃▄▄</td></tr><tr><td>homo/mean_target/val</td><td>▁▁</td></tr><tr><td>homo/median_pred/test</td><td>▁</td></tr><tr><td>homo/median_pred/train</td><td>██████████████████▇▇▇▇▇▇▇▇▇▇▇▇▇▇▆▆▅▅▄▄▁▁</td></tr><tr><td>homo/median_pred/val</td><td>█▁</td></tr><tr><td>homo/median_target/test</td><td>▁</td></tr><tr><td>homo/median_target/train</td><td>██▃▃▅▅▄▄▁▁▃▃▄▄▅▅▄▄▄▄██▃▃▅▅▄▄▁▁▃▃▄▄▅▅▄▄▄▄</td></tr><tr><td>homo/median_target/val</td><td>▁▁</td></tr><tr><td>homo/pearsonr/test</td><td>▁</td></tr><tr><td>homo/pearsonr/train</td><td>▄▄▃▃▃▃▃▃▂▂▄▄▅▅▃▃▁▁▅▅▂▂▅▅▇▇████▆▆██████▆▆</td></tr><tr><td>homo/pearsonr/val</td><td>▁█</td></tr><tr><td>homo/std_pred/test</td><td>▁</td></tr><tr><td>homo/std_pred/train</td><td>▁▁▁▁▁▁▁▁▁▁▁▁▁▁▁▁▁▁▁▁▁▁▁▁▂▂▂▂▂▂▂▂▃▃▄▄▆▆██</td></tr><tr><td>homo/std_pred/val</td><td>▁█</td></tr><tr><td>homo/std_target/test</td><td>▁</td></tr><tr><td>homo/std_target/train</td><td>▃▃▁▁▇▇▅▅▅▅▄▄▇▇▅▅██▅▅▃▃▁▁▇▇▅▅▅▅▄▄▇▇▅▅██▅▅</td></tr><tr><td>homo/std_target/val</td><td>▁▁</td></tr><tr><td>loss</td><td>▂▂▁▁▅▅▄▄▇▇▅▅▃▃▇▇██▃▃▂▂▁▁▅▅▄▄▇▇▅▅▃▃▇▇██▂▂</td></tr><tr><td>loss/test</td><td>▁</td></tr><tr><td>loss/train</td><td>▂▂▁▁▅▅▄▄▇▇▅▅▃▃▇▇██▃▃▂▂▁▁▅▅▄▄▇▇▅▅▃▃▇▇██▂▂</td></tr><tr><td>loss/val</td><td>█▁</td></tr><tr><td>train/grad_norm</td><td>▁▁▄▄▄▄▂▂▅▅██▃▃▅▅▃▃▃▃▁▁▄▄▄▄▂▂▅▅██▄▄▆▆▅▅▇▇</td></tr><tr><td>trainer/global_step</td><td>▁▁▁▂▂▂▂▂▂▃▃▃▃▃▄▄▄▄▅▄▅▅▅▅▆▆▆▆▆▆▇▇▇▇▇█████</td></tr></table><br/></div><div class=\"wandb-col\"><h3>Run summary:</h3><br/><table class=\"wandb\"><tr><td>alpha/MSELossIPU/test</td><td>1.70051</td></tr><tr><td>alpha/MSELossIPU/train</td><td>0.86625</td></tr><tr><td>alpha/MSELossIPU/val</td><td>1.57948</td></tr><tr><td>alpha/loss/test</td><td>1.70051</td></tr><tr><td>alpha/loss/val</td><td>1.57948</td></tr><tr><td>alpha/mae/test</td><td>0.90415</td></tr><tr><td>alpha/mae/train</td><td>0.76438</td></tr><tr><td>alpha/mae/val</td><td>0.86038</td></tr><tr><td>alpha/mean_pred/test</td><td>-0.11062</td></tr><tr><td>alpha/mean_pred/train</td><td>-0.07564</td></tr><tr><td>alpha/mean_pred/val</td><td>-0.10798</td></tr><tr><td>alpha/mean_target/test</td><td>-0.17942</td></tr><tr><td>alpha/mean_target/train</td><td>-0.09801</td></tr><tr><td>alpha/mean_target/val</td><td>-0.02273</td></tr><tr><td>alpha/median_pred/test</td><td>-0.10526</td></tr><tr><td>alpha/median_pred/train</td><td>-0.0764</td></tr><tr><td>alpha/median_pred/val</td><td>-0.10408</td></tr><tr><td>alpha/median_target/test</td><td>-0.05878</td></tr><tr><td>alpha/median_target/train</td><td>0.15369</td></tr><tr><td>alpha/median_target/val</td><td>0.02672</td></tr><tr><td>alpha/pearsonr/test</td><td>0.30496</td></tr><tr><td>alpha/pearsonr/train</td><td>0.70742</td></tr><tr><td>alpha/pearsonr/val</td><td>0.47323</td></tr><tr><td>alpha/std_pred/test</td><td>0.03236</td></tr><tr><td>alpha/std_pred/train</td><td>0.02094</td></tr><tr><td>alpha/std_pred/val</td><td>0.03224</td></tr><tr><td>alpha/std_target/test</td><td>1.31536</td></tr><tr><td>alpha/std_target/train</td><td>0.953</td></tr><tr><td>alpha/std_target/val</td><td>1.27231</td></tr><tr><td>cv/MSELossIPU/test</td><td>1.40597</td></tr><tr><td>cv/MSELossIPU/train</td><td>0.81085</td></tr><tr><td>cv/MSELossIPU/val</td><td>1.12461</td></tr><tr><td>cv/loss/test</td><td>1.40597</td></tr><tr><td>cv/loss/val</td><td>1.12461</td></tr><tr><td>cv/mae/test</td><td>0.85146</td></tr><tr><td>cv/mae/train</td><td>0.74728</td></tr><tr><td>cv/mae/val</td><td>0.7973</td></tr><tr><td>cv/mean_pred/test</td><td>-0.06617</td></tr><tr><td>cv/mean_pred/train</td><td>-0.04237</td></tr><tr><td>cv/mean_pred/val</td><td>-0.06476</td></tr><tr><td>cv/mean_target/test</td><td>-0.11077</td></tr><tr><td>cv/mean_target/train</td><td>-0.17124</td></tr><tr><td>cv/mean_target/val</td><td>-0.06714</td></tr><tr><td>cv/median_pred/test</td><td>-0.06343</td></tr><tr><td>cv/median_pred/train</td><td>-0.04162</td></tr><tr><td>cv/median_pred/val</td><td>-0.06276</td></tr><tr><td>cv/median_target/test</td><td>-0.07501</td></tr><tr><td>cv/median_target/train</td><td>-0.25171</td></tr><tr><td>cv/median_target/val</td><td>-0.0361</td></tr><tr><td>cv/pearsonr/test</td><td>0.12521</td></tr><tr><td>cv/pearsonr/train</td><td>0.39038</td></tr><tr><td>cv/pearsonr/val</td><td>0.21956</td></tr><tr><td>cv/std_pred/test</td><td>0.01727</td></tr><tr><td>cv/std_pred/train</td><td>0.01012</td></tr><tr><td>cv/std_pred/val</td><td>0.01722</td></tr><tr><td>cv/std_target/test</td><td>1.19024</td></tr><tr><td>cv/std_target/train</td><td>0.90263</td></tr><tr><td>cv/std_target/val</td><td>1.06708</td></tr><tr><td>epoch</td><td>2</td></tr><tr><td>grad_norm</td><td>0.29294</td></tr><tr><td>homo/MSELossIPU/test</td><td>1.17975</td></tr><tr><td>homo/MSELossIPU/train</td><td>0.97611</td></tr><tr><td>homo/MSELossIPU/val</td><td>1.02698</td></tr><tr><td>homo/loss/test</td><td>1.17975</td></tr><tr><td>homo/loss/val</td><td>1.02698</td></tr><tr><td>homo/mae/test</td><td>0.81647</td></tr><tr><td>homo/mae/train</td><td>0.77912</td></tr><tr><td>homo/mae/val</td><td>0.7924</td></tr><tr><td>homo/mean_pred/test</td><td>-0.08942</td></tr><tr><td>homo/mean_pred/train</td><td>-0.06232</td></tr><tr><td>homo/mean_pred/val</td><td>-0.08723</td></tr><tr><td>homo/mean_target/test</td><td>0.1172</td></tr><tr><td>homo/mean_target/train</td><td>-0.01598</td></tr><tr><td>homo/mean_target/val</td><td>-0.05256</td></tr><tr><td>homo/median_pred/test</td><td>-0.06324</td></tr><tr><td>homo/median_pred/train</td><td>-0.04777</td></tr><tr><td>homo/median_pred/val</td><td>-0.06007</td></tr><tr><td>homo/median_target/test</td><td>0.13904</td></tr><tr><td>homo/median_target/train</td><td>-0.06885</td></tr><tr><td>homo/median_target/val</td><td>-0.08783</td></tr><tr><td>homo/pearsonr/test</td><td>0.25694</td></tr><tr><td>homo/pearsonr/train</td><td>0.17232</td></tr><tr><td>homo/pearsonr/val</td><td>0.25652</td></tr><tr><td>homo/std_pred/test</td><td>0.05874</td></tr><tr><td>homo/std_pred/train</td><td>0.04291</td></tr><tr><td>homo/std_pred/val</td><td>0.05762</td></tr><tr><td>homo/std_target/test</td><td>1.07214</td></tr><tr><td>homo/std_target/train</td><td>0.99432</td></tr><tr><td>homo/std_target/val</td><td>1.02055</td></tr><tr><td>loss</td><td>0.8844</td></tr><tr><td>loss/test</td><td>1.42874</td></tr><tr><td>loss/train</td><td>0.8844</td></tr><tr><td>loss/val</td><td>1.24369</td></tr><tr><td>train/grad_norm</td><td>0.29294</td></tr><tr><td>trainer/global_step</td><td>20</td></tr></table><br/></div></div>"
      ],
      "text/plain": [
       "<IPython.core.display.HTML object>"
      ]
     },
     "metadata": {},
     "output_type": "display_data"
    },
    {
     "data": {
      "text/html": [
       "Synced <strong style=\"color:#cdcd00\">olek_test_ipu_07/09/2022_gnn.hid=16_gnn.depth=4</strong>: <a href=\"https://wandb.ai/multitask-gnn/multitask-gnn/runs/1nco1r85\" target=\"_blank\">https://wandb.ai/multitask-gnn/multitask-gnn/runs/1nco1r85</a><br/>Synced 5 W&B file(s), 0 media file(s), 0 artifact file(s) and 1 other file(s)"
      ],
      "text/plain": [
       "<IPython.core.display.HTML object>"
      ]
     },
     "metadata": {},
     "output_type": "display_data"
    },
    {
     "data": {
      "text/html": [
       "Find logs at: <code>./wandb/run-20220907_201320-1nco1r85/logs</code>"
      ],
      "text/plain": [
       "<IPython.core.display.HTML object>"
      ]
     },
     "metadata": {},
     "output_type": "display_data"
    },
    {
     "name": "stderr",
     "output_type": "stream",
     "text": [
      "\u001b[32m[I 2022-09-07 20:13:34,199]\u001b[0m Trial 0 finished with value: 0.8514640927314758 and parameters: {'gnn.hid': 16, 'gnn.depth': 4}. Best is trial 0 with value: 0.8514640927314758.\u001b[0m\n",
      "/home/oleksandr/.venv/goli_ipu/lib/python3.8/site-packages/optuna/distributions.py:560: UserWarning: The distribution is specified by [16, 124] and step=16, but the range is not divisible by `step`. It will be replaced by [16, 112].\n",
      "  warnings.warn(\n",
      "/tmp/ipykernel_1736612/3964897578.py:106: LightningDeprecationWarning: The `LightningModule.summarize` method is deprecated in v1.5 and will be removed in v1.7. Use `pytorch_lightning.utilities.model_summary.summarize` instead.\n",
      "  accu = main(cfg, trial, run_name=run_name[:len(run_name) - 1])\n"
     ]
    },
    {
     "name": "stdout",
     "output_type": "stream",
     "text": [
      "{'homo': {'mae': mean_absolute_error, 'pearsonr': pearson_corrcoef}, 'alpha': {'mae': mean_absolute_error, 'pearsonr': pearson_corrcoef}, 'cv': {'mae': mean_absolute_error, 'pearsonr': pearson_corrcoef}}\n",
      "MTL_DGL_GNN\n",
      "-------------\n",
      "    pre-NN(depth=1, ResidualConnectionNone)\n",
      "        [FCLayer[55 -> 32]\n",
      "    \n",
      "    pre-NN-edges(depth=1, ResidualConnectionNone)\n",
      "        [FCLayer[13 -> 16]\n",
      "    \n",
      "    GNN(depth=2, ResidualConnectionSimple(skip_steps=1))\n",
      "        GPSLayerPyg[32 -> 112 -> 32]\n",
      "        -> Pooling(['sum', 'mean', 'max']) -> FCLayer(96 -> 32, activation=None)\n",
      "    \n",
      "\n",
      "   | Name                              | Type                      | Params\n",
      "---------------------------------------------------------------------------------\n",
      "0  | model                             | FullGraphMultiTaskNetwork | 155 K \n",
      "1  | model.pre_nn                      | FeedForwardNN             | 1.8 K \n",
      "2  | model.pre_nn.activation           | ReLU                      | 0     \n",
      "3  | model.pre_nn.residual_layer       | ResidualConnectionNone    | 0     \n",
      "4  | model.pre_nn.layers               | ModuleList                | 1.8 K \n",
      "5  | model.pre_nn.layers.0             | FCLayer                   | 1.8 K \n",
      "6  | model.pre_nn_edges                | FeedForwardNN             | 224   \n",
      "7  | model.pre_nn_edges.activation     | ReLU                      | 0     \n",
      "8  | model.pre_nn_edges.residual_layer | ResidualConnectionNone    | 0     \n",
      "9  | model.pre_nn_edges.layers         | ModuleList                | 224   \n",
      "10 | model.pre_nn_edges.layers.0       | FCLayer                   | 224   \n",
      "11 | model.gnn                         | FeedForwardPyg            | 149 K \n",
      "12 | model.gnn.activation              | ReLU                      | 0     \n",
      "13 | model.gnn.layers                  | ModuleList                | 146 K \n",
      "14 | model.gnn.layers.0                | GPSLayerPyg               | 14.8 K\n",
      "15 | model.gnn.layers.1                | GPSLayerPyg               | 131 K \n",
      "16 | model.gnn.virtual_node_layers     | ModuleList                | 0     \n",
      "17 | model.gnn.virtual_node_layers.0   | VirtualNodePyg            | 0     \n",
      "18 | model.gnn.residual_layer          | ResidualConnectionSimple  | 0     \n",
      "19 | model.gnn.global_pool_layer       | ModuleListConcat          | 0     \n",
      "20 | model.gnn.global_pool_layer.0     | PoolingWrapperPyg         | 0     \n",
      "21 | model.gnn.global_pool_layer.1     | PoolingWrapperPyg         | 0     \n",
      "22 | model.gnn.global_pool_layer.2     | PoolingWrapperPyg         | 0     \n",
      "23 | model.gnn.out_linear              | FCLayer                   | 3.1 K \n",
      "24 | model.gnn.out_linear.linear       | Linear                    | 3.1 K \n",
      "25 | model.gnn.out_linear.dropout      | Dropout                   | 0     \n",
      "26 | model.task_heads                  | TaskHeads                 | 3.3 K \n",
      "27 | model.task_heads.task_heads       | ModuleDict                | 3.3 K \n",
      "28 | model.task_heads.task_heads.homo  | TaskHead                  | 1.1 K \n",
      "29 | model.task_heads.task_heads.alpha | TaskHead                  | 1.1 K \n",
      "30 | model.task_heads.task_heads.cv    | TaskHead                  | 1.1 K \n",
      "---------------------------------------------------------------------------------\n",
      "155 K     Trainable params\n",
      "0         Non-trainable params\n",
      "155 K     Total params\n",
      "0.621     Total estimated model params size (MB)\n"
     ]
    },
    {
     "data": {
      "text/html": [
       "wandb version 0.13.2 is available!  To upgrade, please run:\n",
       " $ pip install wandb --upgrade"
      ],
      "text/plain": [
       "<IPython.core.display.HTML object>"
      ]
     },
     "metadata": {},
     "output_type": "display_data"
    },
    {
     "data": {
      "text/html": [
       "Tracking run with wandb version 0.13.1"
      ],
      "text/plain": [
       "<IPython.core.display.HTML object>"
      ]
     },
     "metadata": {},
     "output_type": "display_data"
    },
    {
     "data": {
      "text/html": [
       "Run data is saved locally in <code>/home/oleksandr/code/goli/wandb/run-20220907_201334-1k3di7sr</code>"
      ],
      "text/plain": [
       "<IPython.core.display.HTML object>"
      ]
     },
     "metadata": {},
     "output_type": "display_data"
    },
    {
     "data": {
      "text/html": [
       "Syncing run <strong><a href=\"https://wandb.ai/multitask-gnn/multitask-gnn/runs/1k3di7sr\" target=\"_blank\">olek_test_ipu_07/09/2022_gnn.hid=112_gnn.depth=2</a></strong> to <a href=\"https://wandb.ai/multitask-gnn/multitask-gnn\" target=\"_blank\">Weights & Biases</a> (<a href=\"https://wandb.me/run\" target=\"_blank\">docs</a>)<br/>"
      ],
      "text/plain": [
       "<IPython.core.display.HTML object>"
      ]
     },
     "metadata": {},
     "output_type": "display_data"
    },
    {
     "name": "stderr",
     "output_type": "stream",
     "text": [
      "/home/oleksandr/.venv/goli_ipu/lib/python3.8/site-packages/pytorch_lightning/trainer/trainer.py:572: LightningDeprecationWarning: Trainer argument `terminate_on_nan` was deprecated in v1.5 and will be removed in 1.7. Please use `Trainer(detect_anomaly=True)` instead.\n",
      "  rank_zero_deprecation(\n",
      "GPU available: False, used: False\n",
      "TPU available: False, using: 0 TPU cores\n",
      "IPU available: True, using: 0 IPUs\n",
      "HPU available: False, using: 0 HPUs\n",
      "/home/oleksandr/.venv/goli_ipu/lib/python3.8/site-packages/pytorch_lightning/trainer/trainer.py:1836: UserWarning: IPU available but not used. Set `accelerator` and `devices` using `Trainer(accelerator='ipu', devices=4)`.\n",
      "  rank_zero_warn(\n",
      "2022-09-07 20:13:35.758 | INFO     | goli.data.datamodule:prepare_data:669 - Reading data for task 'homo'\n",
      "2022-09-07 20:13:35.770 | INFO     | goli.data.datamodule:prepare_data:669 - Reading data for task 'alpha'\n",
      "2022-09-07 20:13:35.780 | INFO     | goli.data.datamodule:prepare_data:669 - Reading data for task 'cv'\n",
      "2022-09-07 20:13:35.790 | INFO     | goli.data.datamodule:prepare_data:687 - Done reading datasets\n",
      "2022-09-07 20:13:35.791 | INFO     | goli.data.datamodule:prepare_data:699 - Prepare single-task dataset for task 'homo' with 1005 data points.\n",
      "2022-09-07 20:13:35.792 | INFO     | goli.data.datamodule:prepare_data:699 - Prepare single-task dataset for task 'alpha' with 1005 data points.\n",
      "2022-09-07 20:13:35.792 | INFO     | goli.data.datamodule:prepare_data:699 - Prepare single-task dataset for task 'cv' with 1005 data points.\n"
     ]
    },
    {
     "data": {
      "application/vnd.jupyter.widget-view+json": {
       "model_id": "05ef9ec507ad44b289cd4ed9aaba64a0",
       "version_major": 2,
       "version_minor": 0
      },
      "text/plain": [
       "mols to ids:   0%|          | 0/3015 [00:00<?, ?it/s]"
      ]
     },
     "metadata": {},
     "output_type": "display_data"
    },
    {
     "data": {
      "application/vnd.jupyter.widget-view+json": {
       "model_id": "3b2154795ecb4324afd0c246ed1108a3",
       "version_major": 2,
       "version_minor": 0
      },
      "text/plain": [
       "featurizing_smiles:   0%|          | 0/1005 [00:00<?, ?it/s]"
      ]
     },
     "metadata": {},
     "output_type": "display_data"
    },
    {
     "name": "stderr",
     "output_type": "stream",
     "text": [
      "/home/oleksandr/.venv/goli_ipu/lib/python3.8/site-packages/pytorch_lightning/trainer/configuration_validator.py:154: LightningDeprecationWarning: The `LightningModule.get_progress_bar_dict` method was deprecated in v1.5 and will be removed in v1.7. Please use the `ProgressBarBase.get_metrics` instead.\n",
      "  rank_zero_deprecation(\n"
     ]
    },
    {
     "data": {
      "application/vnd.jupyter.widget-view+json": {
       "model_id": "39315a80816940369578ef4182cdf774",
       "version_major": 2,
       "version_minor": 0
      },
      "text/plain": [
       "mols to ids:   0%|          | 0/1809 [00:00<?, ?it/s]"
      ]
     },
     "metadata": {},
     "output_type": "display_data"
    },
    {
     "data": {
      "application/vnd.jupyter.widget-view+json": {
       "model_id": "3d4dcab98ee34613b67ab6c16350439e",
       "version_major": 2,
       "version_minor": 0
      },
      "text/plain": [
       "mols to ids:   0%|          | 0/603 [00:00<?, ?it/s]"
      ]
     },
     "metadata": {},
     "output_type": "display_data"
    },
    {
     "name": "stderr",
     "output_type": "stream",
     "text": [
      "/home/oleksandr/.venv/goli_ipu/lib/python3.8/site-packages/pytorch_lightning/callbacks/model_checkpoint.py:608: UserWarning: Checkpoint directory /home/oleksandr/code/goli/models_checkpoints/QM9 exists and is not empty.\n",
      "  rank_zero_warn(f\"Checkpoint directory {dirpath} exists and is not empty.\")\n",
      "\n",
      "  | Name  | Type                      | Params\n",
      "----------------------------------------------------\n",
      "0 | model | FullGraphMultiTaskNetwork | 155 K \n",
      "----------------------------------------------------\n",
      "155 K     Trainable params\n",
      "0         Non-trainable params\n",
      "155 K     Total params\n",
      "0.621     Total estimated model params size (MB)\n"
     ]
    },
    {
     "name": "stdout",
     "output_type": "stream",
     "text": [
      "-------------------\n",
      "MultitaskDataset\n",
      "\tabout = training set\n",
      "\tnum_graphs_total = 603\n",
      "\tnum_nodes_total = 5285\n",
      "\tmax_num_nodes_per_graph = 9\n",
      "\tmin_num_nodes_per_graph = 1\n",
      "\tstd_num_nodes_per_graph = 0.6989218547197285\n",
      "\tmean_num_nodes_per_graph = 8.764510779436153\n",
      "\tnum_edges_total = 11316\n",
      "\tmax_num_edges_per_graph = 26\n",
      "\tmin_num_edges_per_graph = 0\n",
      "\tstd_num_edges_per_graph = 2.6821780989470896\n",
      "\tmean_num_edges_per_graph = 18.766169154228855\n",
      "-------------------\n",
      "\n",
      "-------------------\n",
      "MultitaskDataset\n",
      "\tabout = validation set\n",
      "\tnum_graphs_total = 201\n",
      "\tnum_nodes_total = 1756\n",
      "\tmax_num_nodes_per_graph = 9\n",
      "\tmin_num_nodes_per_graph = 2\n",
      "\tstd_num_nodes_per_graph = 0.7949619835770694\n",
      "\tmean_num_nodes_per_graph = 8.7363184079602\n",
      "\tnum_edges_total = 3736\n",
      "\tmax_num_edges_per_graph = 24\n",
      "\tmin_num_edges_per_graph = 2\n",
      "\tstd_num_edges_per_graph = 2.7704251592456193\n",
      "\tmean_num_edges_per_graph = 18.587064676616915\n",
      "-------------------\n",
      "\n"
     ]
    },
    {
     "data": {
      "application/vnd.jupyter.widget-view+json": {
       "model_id": "343b59c9dbf142fda89840c679e7cf15",
       "version_major": 2,
       "version_minor": 0
      },
      "text/plain": [
       "Sanity Checking: 0it [00:00, ?it/s]"
      ]
     },
     "metadata": {},
     "output_type": "display_data"
    },
    {
     "name": "stderr",
     "output_type": "stream",
     "text": [
      "2022-09-07 20:13:40.961 | WARNING  | goli.data.datamodule:_dataloader:1545 - No IPU options for stage val. Using regular dataloader.\n",
      "/home/oleksandr/.venv/goli_ipu/lib/python3.8/site-packages/pytorch_lightning/trainer/connectors/data_connector.py:240: PossibleUserWarning: The dataloader, val_dataloader 0, does not have many workers which may be a bottleneck. Consider increasing the value of the `num_workers` argument` (try 104 which is the number of cpus on this machine) in the `DataLoader` init to improve performance.\n",
      "  rank_zero_warn(\n",
      "2022-09-07 20:13:41.030 | WARNING  | goli.data.datamodule:_dataloader:1545 - No IPU options for stage train. Using regular dataloader.\n",
      "/home/oleksandr/.venv/goli_ipu/lib/python3.8/site-packages/pytorch_lightning/trainer/connectors/data_connector.py:240: PossibleUserWarning: The dataloader, train_dataloader, does not have many workers which may be a bottleneck. Consider increasing the value of the `num_workers` argument` (try 104 which is the number of cpus on this machine) in the `DataLoader` init to improve performance.\n",
      "  rank_zero_warn(\n",
      "/home/oleksandr/.venv/goli_ipu/lib/python3.8/site-packages/pytorch_lightning/trainer/trainer.py:1938: PossibleUserWarning: The number of training samples (10) is smaller than the logging interval Trainer(log_every_n_steps=50). Set a lower value for log_every_n_steps if you want to see logs for the training epoch.\n",
      "  rank_zero_warn(\n"
     ]
    },
    {
     "data": {
      "application/vnd.jupyter.widget-view+json": {
       "model_id": "a781f37b0c214c2192651b73fcc54613",
       "version_major": 2,
       "version_minor": 0
      },
      "text/plain": [
       "Training: 0it [00:00, ?it/s]"
      ]
     },
     "metadata": {},
     "output_type": "display_data"
    },
    {
     "data": {
      "application/vnd.jupyter.widget-view+json": {
       "model_id": "c52a90adf629420d9fb18ccdc30717b2",
       "version_major": 2,
       "version_minor": 0
      },
      "text/plain": [
       "Validation: 0it [00:00, ?it/s]"
      ]
     },
     "metadata": {},
     "output_type": "display_data"
    },
    {
     "data": {
      "application/vnd.jupyter.widget-view+json": {
       "model_id": "c149aa3024934a84a6390dc87cd2e564",
       "version_major": 2,
       "version_minor": 0
      },
      "text/plain": [
       "Validation: 0it [00:00, ?it/s]"
      ]
     },
     "metadata": {},
     "output_type": "display_data"
    },
    {
     "name": "stdout",
     "output_type": "stream",
     "text": [
      "\n",
      "------------ TRAINING STARTED ------------\n",
      "\n",
      "------------ TRAINING COMPLETED ------------\n",
      "\n",
      "\n",
      "\n",
      "------------ TESTING STARTED ------------\n"
     ]
    },
    {
     "data": {
      "application/vnd.jupyter.widget-view+json": {
       "model_id": "6f6e8bc468e841b0984611697366ec61",
       "version_major": 2,
       "version_minor": 0
      },
      "text/plain": [
       "mols to ids:   0%|          | 0/603 [00:00<?, ?it/s]"
      ]
     },
     "metadata": {},
     "output_type": "display_data"
    },
    {
     "name": "stdout",
     "output_type": "stream",
     "text": [
      "-------------------\n",
      "MultitaskDataset\n",
      "\tabout = test set\n",
      "\tnum_graphs_total = 201\n",
      "\tnum_nodes_total = 1751\n",
      "\tmax_num_nodes_per_graph = 9\n",
      "\tmin_num_nodes_per_graph = 1\n",
      "\tstd_num_nodes_per_graph = 0.9443829267824616\n",
      "\tmean_num_nodes_per_graph = 8.711442786069652\n",
      "\tnum_edges_total = 3748\n",
      "\tmax_num_edges_per_graph = 26\n",
      "\tmin_num_edges_per_graph = 0\n",
      "\tstd_num_edges_per_graph = 3.0647412282392468\n",
      "\tmean_num_edges_per_graph = 18.64676616915423\n",
      "-------------------\n",
      "\n"
     ]
    },
    {
     "name": "stderr",
     "output_type": "stream",
     "text": [
      "2022-09-07 20:13:42.099 | WARNING  | goli.data.datamodule:_dataloader:1545 - No IPU options for stage test. Using regular dataloader.\n",
      "/home/oleksandr/.venv/goli_ipu/lib/python3.8/site-packages/pytorch_lightning/trainer/connectors/data_connector.py:240: PossibleUserWarning: The dataloader, test_dataloader 0, does not have many workers which may be a bottleneck. Consider increasing the value of the `num_workers` argument` (try 104 which is the number of cpus on this machine) in the `DataLoader` init to improve performance.\n",
      "  rank_zero_warn(\n"
     ]
    },
    {
     "data": {
      "application/vnd.jupyter.widget-view+json": {
       "model_id": "119597ac9e2e4395ac1d27b925f500ab",
       "version_major": 2,
       "version_minor": 0
      },
      "text/plain": [
       "Testing: 0it [00:00, ?it/s]"
      ]
     },
     "metadata": {},
     "output_type": "display_data"
    },
    {
     "name": "stdout",
     "output_type": "stream",
     "text": [
      "────────────────────────────────────────────────────────────────────────────────────────────────────────────────────────\n",
      "       Test metric             DataLoader 0\n",
      "────────────────────────────────────────────────────────────────────────────────────────────────────────────────────────\n",
      "  alpha/MSELossIPU/test      1.730048656463623\n",
      "     alpha/loss/test         1.730048656463623\n",
      "     alpha/mae/test         0.9153661727905273\n",
      "  alpha/mean_pred/test     -0.09754227846860886\n",
      " alpha/mean_target/test    -0.17942453920841217\n",
      " alpha/median_pred/test    -0.09867598861455917\n",
      "alpha/median_target/test     -0.05877685546875\n",
      "   alpha/pearsonr/test     -0.08274417370557785\n",
      "   alpha/std_pred/test     0.012213335372507572\n",
      "  alpha/std_target/test     1.3153568506240845\n",
      "   cv/MSELossIPU/test       1.4093354940414429\n",
      "      cv/loss/test          1.4093354940414429\n",
      "       cv/mae/test          0.8551625609397888\n",
      "    cv/mean_pred/test      -0.12026761472225189\n",
      "   cv/mean_target/test     -0.11077180504798889\n",
      "   cv/median_pred/test     -0.12162196636199951\n",
      "  cv/median_target/test      -0.07501220703125\n",
      "    cv/pearsonr/test       -0.005888273939490318\n",
      "    cv/std_pred/test       0.015236067585647106\n",
      "   cv/std_target/test        1.190240502357483\n",
      "  homo/MSELossIPU/test      1.1763983964920044\n",
      "     homo/loss/test         1.1763983964920044\n",
      "      homo/mae/test         0.8146548867225647\n",
      "   homo/mean_pred/test     -0.04980296641588211\n",
      "  homo/mean_target/test     0.11720336973667145\n",
      "  homo/median_pred/test    -0.03047659434378147\n",
      " homo/median_target/test      0.1390380859375\n",
      "   homo/pearsonr/test       0.05924692749977112\n",
      "   homo/std_pred/test      0.026872074231505394\n",
      "  homo/std_target/test      1.0721430778503418\n",
      "        loss/test           1.4385942220687866\n",
      "────────────────────────────────────────────────────────────────────────────────────────────────────────────────────────\n",
      "\n",
      "------------ TESTING COMPLETED ------------\n",
      "\n",
      "\n",
      "--------------------------------------------\n",
      "total computation used 8.005598733201623\n",
      "--------------------------------------------\n"
     ]
    },
    {
     "data": {
      "text/html": [
       "Waiting for W&B process to finish... <strong style=\"color:green\">(success).</strong>"
      ],
      "text/plain": [
       "<IPython.core.display.HTML object>"
      ]
     },
     "metadata": {},
     "output_type": "display_data"
    },
    {
     "data": {
      "application/vnd.jupyter.widget-view+json": {
       "model_id": "00939a15dc0e4f52bc68c739c5ffbd77",
       "version_major": 2,
       "version_minor": 0
      },
      "text/plain": [
       "VBox(children=(Label(value='0.001 MB of 0.001 MB uploaded (0.000 MB deduped)\\r'), FloatProgress(value=1.0, max…"
      ]
     },
     "metadata": {},
     "output_type": "display_data"
    },
    {
     "data": {
      "text/html": [
       "<style>\n",
       "    table.wandb td:nth-child(1) { padding: 0 10px; text-align: left ; width: auto;} td:nth-child(2) {text-align: left ; width: 100%}\n",
       "    .wandb-row { display: flex; flex-direction: row; flex-wrap: wrap; justify-content: flex-start; width: 100% }\n",
       "    .wandb-col { display: flex; flex-direction: column; flex-basis: 100%; flex: 1; padding: 10px; }\n",
       "    </style>\n",
       "<div class=\"wandb-row\"><div class=\"wandb-col\"><h3>Run history:</h3><br/><table class=\"wandb\"><tr><td>alpha/MSELossIPU/test</td><td>▁</td></tr><tr><td>alpha/MSELossIPU/train</td><td>▃▃▁▁▄▄▄▄██▅▅▂▂██▇▇▂▂▃▃▁▁▄▄▄▄██▅▅▂▂██▇▇▂▂</td></tr><tr><td>alpha/MSELossIPU/val</td><td>▁█</td></tr><tr><td>alpha/loss/test</td><td>▁</td></tr><tr><td>alpha/loss/val</td><td>▁█</td></tr><tr><td>alpha/mae/test</td><td>▁</td></tr><tr><td>alpha/mae/train</td><td>▃▃▁▁▅▅▄▄██▄▄▂▂▄▄▃▃▃▃▃▃▁▁▅▅▄▄██▄▄▂▂▄▄▃▃▃▃</td></tr><tr><td>alpha/mae/val</td><td>█▁</td></tr><tr><td>alpha/mean_pred/test</td><td>▁</td></tr><tr><td>alpha/mean_pred/train</td><td>████████████████▇▇▇▇▆▆▆▆▇▇▇▇▇▇▆▆▆▆▅▅▃▃▁▁</td></tr><tr><td>alpha/mean_pred/val</td><td>█▁</td></tr><tr><td>alpha/mean_target/test</td><td>▁</td></tr><tr><td>alpha/mean_target/train</td><td>████▇▇▄▄▁▁▅▅▃▃▅▅▆▆▅▅████▇▇▄▄▁▁▅▅▃▃▅▅▆▆▅▅</td></tr><tr><td>alpha/mean_target/val</td><td>▁▁</td></tr><tr><td>alpha/median_pred/test</td><td>▁</td></tr><tr><td>alpha/median_pred/train</td><td>████████████████▇▇▇▇▆▆▆▆▇▇▇▇▇▇▆▆▆▆▅▅▃▃▁▁</td></tr><tr><td>alpha/median_pred/val</td><td>█▁</td></tr><tr><td>alpha/median_target/test</td><td>▁</td></tr><tr><td>alpha/median_target/train</td><td>▇▇▇▇▆▆▅▅▁▁▇▇▄▄▅▅▇▇██▇▇▇▇▆▆▅▅▁▁▇▇▄▄▅▅▇▇██</td></tr><tr><td>alpha/median_target/val</td><td>▁▁</td></tr><tr><td>alpha/pearsonr/test</td><td>▁</td></tr><tr><td>alpha/pearsonr/train</td><td>▄▄▇▇██▇▇▄▄▃▃▅▅▁▁▃▃▇▇▅▅▃▃▅▅▄▄▆▆▆▆▅▅▃▃▄▄▇▇</td></tr><tr><td>alpha/pearsonr/val</td><td>▁█</td></tr><tr><td>alpha/std_pred/test</td><td>▁</td></tr><tr><td>alpha/std_pred/train</td><td>▁▁▁▁▁▁▁▁▁▁▁▁▁▁▁▁▁▁▂▂▂▂▂▂▂▂▂▂▂▂▂▂▃▃▄▄▅▅██</td></tr><tr><td>alpha/std_pred/val</td><td>▁█</td></tr><tr><td>alpha/std_target/test</td><td>▁</td></tr><tr><td>alpha/std_target/train</td><td>▃▃▁▁▅▅▄▄▇▇▅▅▁▁██▇▇▂▂▃▃▁▁▅▅▄▄▇▇▅▅▁▁██▇▇▂▂</td></tr><tr><td>alpha/std_target/val</td><td>▁▁</td></tr><tr><td>cv/MSELossIPU/test</td><td>▁</td></tr><tr><td>cv/MSELossIPU/train</td><td>▁▁▂▂▄▄▄▄▆▆▆▆▂▂▇▇██▁▁▁▁▂▂▄▄▄▄▆▆▆▆▂▂▇▇██▁▁</td></tr><tr><td>cv/MSELossIPU/val</td><td>█▁</td></tr><tr><td>cv/loss/test</td><td>▁</td></tr><tr><td>cv/loss/val</td><td>█▁</td></tr><tr><td>cv/mae/test</td><td>▁▁</td></tr><tr><td>cv/mae/train</td><td>▁▁▂▂▃▃▆▆████▁▁▅▅▅▅▂▂▁▁▂▂▃▃▅▅████▁▁▅▅▅▅▁▁</td></tr><tr><td>cv/mae/val</td><td>▁█</td></tr><tr><td>cv/mean_pred/test</td><td>▁</td></tr><tr><td>cv/mean_pred/train</td><td>██████████████████▇▇▇▇▆▆▇▇▇▇▇▇▆▆▆▆▅▅▃▃▁▁</td></tr><tr><td>cv/mean_pred/val</td><td>█▁</td></tr><tr><td>cv/mean_target/test</td><td>▁</td></tr><tr><td>cv/mean_target/train</td><td>▂▂██▅▅▂▂▁▁▃▃▄▄▃▃▂▂▂▂▂▂██▅▅▂▂▁▁▃▃▄▄▃▃▂▂▂▂</td></tr><tr><td>cv/mean_target/val</td><td>▁▁</td></tr><tr><td>cv/median_pred/test</td><td>▁</td></tr><tr><td>cv/median_pred/train</td><td>██████████████████▇▇▇▇▆▆▇▇▇▇▇▇▆▆▆▆▅▅▃▃▁▁</td></tr><tr><td>cv/median_pred/val</td><td>█▁</td></tr><tr><td>cv/median_target/test</td><td>▁</td></tr><tr><td>cv/median_target/train</td><td>▃▃██▃▃▁▁▁▁▅▅▄▄▄▄▂▂▂▂▃▃██▃▃▁▁▁▁▅▅▄▄▄▄▂▂▂▂</td></tr><tr><td>cv/median_target/val</td><td>▁▁</td></tr><tr><td>cv/pearsonr/test</td><td>▁</td></tr><tr><td>cv/pearsonr/train</td><td>▇▇▄▄▂▂▄▄▅▅██▁▁▅▅▂▂▅▅▂▂▃▃▆▆▆▆▄▄▄▄▄▄▂▂▄▄▆▆</td></tr><tr><td>cv/pearsonr/val</td><td>▁█</td></tr><tr><td>cv/std_pred/test</td><td>▁</td></tr><tr><td>cv/std_pred/train</td><td>▁▁▁▁▁▁▁▁▁▁▁▁▁▁▁▁▁▁▁▁▂▂▂▂▂▂▂▂▂▂▂▂▃▃▄▄▆▆██</td></tr><tr><td>cv/std_pred/val</td><td>▁█</td></tr><tr><td>cv/std_target/test</td><td>▁</td></tr><tr><td>cv/std_target/train</td><td>▁▁▂▂▄▄▄▄▆▆▇▇▂▂████▁▁▁▁▂▂▄▄▄▄▆▆▇▇▂▂████▁▁</td></tr><tr><td>cv/std_target/val</td><td>▁▁</td></tr><tr><td>epoch</td><td>▁▅█</td></tr><tr><td>grad_norm</td><td>▁▁▄▄▄▄▂▂▅▅██▃▃▅▅▃▃▄▄▁▁▅▅▅▅▂▂▅▅██▃▃▅▅▃▃▄▄</td></tr><tr><td>homo/MSELossIPU/test</td><td>▁</td></tr><tr><td>homo/MSELossIPU/train</td><td>▃▃▁▁▇▇▅▅▅▅▄▄██▄▄██▅▅▃▃▁▁▇▇▅▅▅▅▄▄▇▇▄▄██▅▅</td></tr><tr><td>homo/MSELossIPU/val</td><td>█▁</td></tr><tr><td>homo/loss/test</td><td>▁</td></tr><tr><td>homo/loss/val</td><td>█▁</td></tr><tr><td>homo/mae/test</td><td>▁</td></tr><tr><td>homo/mae/train</td><td>▃▃▁▁▇▇▆▆▆▆▆▆██▆▆▇▇▆▆▃▃▁▁▇▇▆▆▆▆▆▆██▆▆▇▇▆▆</td></tr><tr><td>homo/mae/val</td><td>█▁</td></tr><tr><td>homo/mean_pred/test</td><td>▁</td></tr><tr><td>homo/mean_pred/train</td><td>████████████████▇▇▇▇▇▇▇▇▇▇▇▇▇▇▆▆▆▆▅▅▃▃▁▁</td></tr><tr><td>homo/mean_pred/val</td><td>█▁</td></tr><tr><td>homo/mean_target/test</td><td>▁</td></tr><tr><td>homo/mean_target/train</td><td>██▄▄▅▅▃▃▁▁▃▃▁▁▆▆▃▃▄▄██▄▄▅▅▃▃▁▁▃▃▁▁▆▆▃▃▄▄</td></tr><tr><td>homo/mean_target/val</td><td>▁▁</td></tr><tr><td>homo/median_pred/test</td><td>▁</td></tr><tr><td>homo/median_pred/train</td><td>████████████████▇▇▇▇▇▇▇▇▇▇▇▇▇▇▆▆▆▆▆▆▄▄▁▁</td></tr><tr><td>homo/median_pred/val</td><td>█▁</td></tr><tr><td>homo/median_target/test</td><td>▁</td></tr><tr><td>homo/median_target/train</td><td>██▃▃▅▅▄▄▁▁▃▃▄▄▅▅▄▄▄▄██▃▃▅▅▄▄▁▁▃▃▄▄▅▅▄▄▄▄</td></tr><tr><td>homo/median_target/val</td><td>▁▁</td></tr><tr><td>homo/pearsonr/test</td><td>▁</td></tr><tr><td>homo/pearsonr/train</td><td>▄▄▅▅▆▆▆▆▄▄▃▃▅▅▃▃▁▁▆▆▅▅▇▇▅▅▄▄▆▆▇▇▇▇▆▆▄▄██</td></tr><tr><td>homo/pearsonr/val</td><td>▁█</td></tr><tr><td>homo/std_pred/test</td><td>▁</td></tr><tr><td>homo/std_pred/train</td><td>▁▁▁▁▁▁▁▁▁▁▁▁▁▁▁▁▁▁▁▁▁▁▁▁▂▂▂▂▂▂▃▃▃▃▄▄▆▆██</td></tr><tr><td>homo/std_pred/val</td><td>▁█</td></tr><tr><td>homo/std_target/test</td><td>▁</td></tr><tr><td>homo/std_target/train</td><td>▃▃▁▁▇▇▅▅▅▅▄▄▇▇▅▅██▅▅▃▃▁▁▇▇▅▅▅▅▄▄▇▇▅▅██▅▅</td></tr><tr><td>homo/std_target/val</td><td>▁▁</td></tr><tr><td>loss</td><td>▂▂▁▁▅▅▄▄▇▇▅▅▃▃▇▇██▃▃▂▂▁▁▅▅▄▄▇▇▅▅▃▃▇▇██▂▂</td></tr><tr><td>loss/test</td><td>▁</td></tr><tr><td>loss/train</td><td>▂▂▁▁▅▅▄▄▇▇▅▅▃▃▇▇██▃▃▂▂▁▁▅▅▄▄▇▇▅▅▃▃▇▇██▂▂</td></tr><tr><td>loss/val</td><td>█▁</td></tr><tr><td>train/grad_norm</td><td>▁▁▄▄▄▄▂▂▅▅██▃▃▅▅▃▃▄▄▁▁▅▅▅▅▂▂▅▅██▃▃▅▅▃▃▄▄</td></tr><tr><td>trainer/global_step</td><td>▁▁▁▂▂▂▂▂▂▃▃▃▃▃▄▄▄▄▅▄▅▅▅▅▆▆▆▆▆▆▇▇▇▇▇█████</td></tr></table><br/></div><div class=\"wandb-col\"><h3>Run summary:</h3><br/><table class=\"wandb\"><tr><td>alpha/MSELossIPU/test</td><td>1.73005</td></tr><tr><td>alpha/MSELossIPU/train</td><td>0.88998</td></tr><tr><td>alpha/MSELossIPU/val</td><td>1.61115</td></tr><tr><td>alpha/loss/test</td><td>1.73005</td></tr><tr><td>alpha/loss/val</td><td>1.61115</td></tr><tr><td>alpha/mae/test</td><td>0.91537</td></tr><tr><td>alpha/mae/train</td><td>0.77504</td></tr><tr><td>alpha/mae/val</td><td>0.87271</td></tr><tr><td>alpha/mean_pred/test</td><td>-0.09754</td></tr><tr><td>alpha/mean_pred/train</td><td>-0.06124</td></tr><tr><td>alpha/mean_pred/val</td><td>-0.09686</td></tr><tr><td>alpha/mean_target/test</td><td>-0.17942</td></tr><tr><td>alpha/mean_target/train</td><td>-0.09801</td></tr><tr><td>alpha/mean_target/val</td><td>-0.02273</td></tr><tr><td>alpha/median_pred/test</td><td>-0.09868</td></tr><tr><td>alpha/median_pred/train</td><td>-0.06174</td></tr><tr><td>alpha/median_pred/val</td><td>-0.09734</td></tr><tr><td>alpha/median_target/test</td><td>-0.05878</td></tr><tr><td>alpha/median_target/train</td><td>0.15369</td></tr><tr><td>alpha/median_target/val</td><td>0.02672</td></tr><tr><td>alpha/pearsonr/test</td><td>-0.08274</td></tr><tr><td>alpha/pearsonr/train</td><td>0.25165</td></tr><tr><td>alpha/pearsonr/val</td><td>0.14454</td></tr><tr><td>alpha/std_pred/test</td><td>0.01221</td></tr><tr><td>alpha/std_pred/train</td><td>0.00962</td></tr><tr><td>alpha/std_pred/val</td><td>0.01166</td></tr><tr><td>alpha/std_target/test</td><td>1.31536</td></tr><tr><td>alpha/std_target/train</td><td>0.953</td></tr><tr><td>alpha/std_target/val</td><td>1.27231</td></tr><tr><td>cv/MSELossIPU/test</td><td>1.40934</td></tr><tr><td>cv/MSELossIPU/train</td><td>0.80625</td></tr><tr><td>cv/MSELossIPU/val</td><td>1.13285</td></tr><tr><td>cv/loss/test</td><td>1.40934</td></tr><tr><td>cv/loss/val</td><td>1.13285</td></tr><tr><td>cv/mae/test</td><td>0.85516</td></tr><tr><td>cv/mae/train</td><td>0.73941</td></tr><tr><td>cv/mae/val</td><td>0.80185</td></tr><tr><td>cv/mean_pred/test</td><td>-0.12027</td></tr><tr><td>cv/mean_pred/train</td><td>-0.07772</td></tr><tr><td>cv/mean_pred/val</td><td>-0.11939</td></tr><tr><td>cv/mean_target/test</td><td>-0.11077</td></tr><tr><td>cv/mean_target/train</td><td>-0.17124</td></tr><tr><td>cv/mean_target/val</td><td>-0.06714</td></tr><tr><td>cv/median_pred/test</td><td>-0.12162</td></tr><tr><td>cv/median_pred/train</td><td>-0.07793</td></tr><tr><td>cv/median_pred/val</td><td>-0.11987</td></tr><tr><td>cv/median_target/test</td><td>-0.07501</td></tr><tr><td>cv/median_target/train</td><td>-0.25171</td></tr><tr><td>cv/median_target/val</td><td>-0.0361</td></tr><tr><td>cv/pearsonr/test</td><td>-0.00589</td></tr><tr><td>cv/pearsonr/train</td><td>0.2083</td></tr><tr><td>cv/pearsonr/val</td><td>0.07852</td></tr><tr><td>cv/std_pred/test</td><td>0.01524</td></tr><tr><td>cv/std_pred/train</td><td>0.01016</td></tr><tr><td>cv/std_pred/val</td><td>0.01454</td></tr><tr><td>cv/std_target/test</td><td>1.19024</td></tr><tr><td>cv/std_target/train</td><td>0.90263</td></tr><tr><td>cv/std_target/val</td><td>1.06708</td></tr><tr><td>epoch</td><td>2</td></tr><tr><td>grad_norm</td><td>0.13682</td></tr><tr><td>homo/MSELossIPU/test</td><td>1.1764</td></tr><tr><td>homo/MSELossIPU/train</td><td>0.97988</td></tr><tr><td>homo/MSELossIPU/val</td><td>1.03861</td></tr><tr><td>homo/loss/test</td><td>1.1764</td></tr><tr><td>homo/loss/val</td><td>1.03861</td></tr><tr><td>homo/mae/test</td><td>0.81465</td></tr><tr><td>homo/mae/train</td><td>0.7829</td></tr><tr><td>homo/mae/val</td><td>0.79714</td></tr><tr><td>homo/mean_pred/test</td><td>-0.0498</td></tr><tr><td>homo/mean_pred/train</td><td>-0.03317</td></tr><tr><td>homo/mean_pred/val</td><td>-0.04944</td></tr><tr><td>homo/mean_target/test</td><td>0.1172</td></tr><tr><td>homo/mean_target/train</td><td>-0.01598</td></tr><tr><td>homo/mean_target/val</td><td>-0.05256</td></tr><tr><td>homo/median_pred/test</td><td>-0.03048</td></tr><tr><td>homo/median_pred/train</td><td>-0.03519</td></tr><tr><td>homo/median_pred/val</td><td>-0.03349</td></tr><tr><td>homo/median_target/test</td><td>0.13904</td></tr><tr><td>homo/median_target/train</td><td>-0.06885</td></tr><tr><td>homo/median_target/val</td><td>-0.08783</td></tr><tr><td>homo/pearsonr/test</td><td>0.05925</td></tr><tr><td>homo/pearsonr/train</td><td>0.18441</td></tr><tr><td>homo/pearsonr/val</td><td>0.07626</td></tr><tr><td>homo/std_pred/test</td><td>0.02687</td></tr><tr><td>homo/std_pred/train</td><td>0.01857</td></tr><tr><td>homo/std_pred/val</td><td>0.0266</td></tr><tr><td>homo/std_target/test</td><td>1.07214</td></tr><tr><td>homo/std_target/train</td><td>0.99432</td></tr><tr><td>homo/std_target/val</td><td>1.02055</td></tr><tr><td>loss</td><td>0.89204</td></tr><tr><td>loss/test</td><td>1.43859</td></tr><tr><td>loss/train</td><td>0.89204</td></tr><tr><td>loss/val</td><td>1.26087</td></tr><tr><td>train/grad_norm</td><td>0.13682</td></tr><tr><td>trainer/global_step</td><td>20</td></tr></table><br/></div></div>"
      ],
      "text/plain": [
       "<IPython.core.display.HTML object>"
      ]
     },
     "metadata": {},
     "output_type": "display_data"
    },
    {
     "data": {
      "text/html": [
       "Synced <strong style=\"color:#cdcd00\">olek_test_ipu_07/09/2022_gnn.hid=112_gnn.depth=2</strong>: <a href=\"https://wandb.ai/multitask-gnn/multitask-gnn/runs/1k3di7sr\" target=\"_blank\">https://wandb.ai/multitask-gnn/multitask-gnn/runs/1k3di7sr</a><br/>Synced 5 W&B file(s), 0 media file(s), 0 artifact file(s) and 1 other file(s)"
      ],
      "text/plain": [
       "<IPython.core.display.HTML object>"
      ]
     },
     "metadata": {},
     "output_type": "display_data"
    },
    {
     "data": {
      "text/html": [
       "Find logs at: <code>./wandb/run-20220907_201334-1k3di7sr/logs</code>"
      ],
      "text/plain": [
       "<IPython.core.display.HTML object>"
      ]
     },
     "metadata": {},
     "output_type": "display_data"
    },
    {
     "name": "stderr",
     "output_type": "stream",
     "text": [
      "\u001b[32m[I 2022-09-07 20:13:48,327]\u001b[0m Trial 1 finished with value: 0.8551625609397888 and parameters: {'gnn.hid': 112, 'gnn.depth': 2}. Best is trial 0 with value: 0.8514640927314758.\u001b[0m\n",
      "/home/oleksandr/.venv/goli_ipu/lib/python3.8/site-packages/optuna/distributions.py:560: UserWarning: The distribution is specified by [16, 124] and step=16, but the range is not divisible by `step`. It will be replaced by [16, 112].\n",
      "  warnings.warn(\n",
      "/tmp/ipykernel_1736612/3964897578.py:106: LightningDeprecationWarning: The `LightningModule.summarize` method is deprecated in v1.5 and will be removed in v1.7. Use `pytorch_lightning.utilities.model_summary.summarize` instead.\n",
      "  accu = main(cfg, trial, run_name=run_name[:len(run_name) - 1])\n"
     ]
    },
    {
     "name": "stdout",
     "output_type": "stream",
     "text": [
      "{'homo': {'mae': mean_absolute_error, 'pearsonr': pearson_corrcoef}, 'alpha': {'mae': mean_absolute_error, 'pearsonr': pearson_corrcoef}, 'cv': {'mae': mean_absolute_error, 'pearsonr': pearson_corrcoef}}\n",
      "MTL_DGL_GNN\n",
      "-------------\n",
      "    pre-NN(depth=1, ResidualConnectionNone)\n",
      "        [FCLayer[55 -> 32]\n",
      "    \n",
      "    pre-NN-edges(depth=1, ResidualConnectionNone)\n",
      "        [FCLayer[13 -> 16]\n",
      "    \n",
      "    GNN(depth=4, ResidualConnectionSimple(skip_steps=1))\n",
      "        GPSLayerPyg[32 -> 48 -> 48 -> 48 -> 32]\n",
      "        -> Pooling(['sum', 'mean', 'max']) -> FCLayer(96 -> 32, activation=None)\n",
      "    \n",
      "\n",
      "   | Name                              | Type                      | Params\n",
      "---------------------------------------------------------------------------------\n",
      "0  | model                             | FullGraphMultiTaskNetwork | 100 K \n",
      "1  | model.pre_nn                      | FeedForwardNN             | 1.8 K \n",
      "2  | model.pre_nn.activation           | ReLU                      | 0     \n",
      "3  | model.pre_nn.residual_layer       | ResidualConnectionNone    | 0     \n",
      "4  | model.pre_nn.layers               | ModuleList                | 1.8 K \n",
      "5  | model.pre_nn.layers.0             | FCLayer                   | 1.8 K \n",
      "6  | model.pre_nn_edges                | FeedForwardNN             | 224   \n",
      "7  | model.pre_nn_edges.activation     | ReLU                      | 0     \n",
      "8  | model.pre_nn_edges.residual_layer | ResidualConnectionNone    | 0     \n",
      "9  | model.pre_nn_edges.layers         | ModuleList                | 224   \n",
      "10 | model.pre_nn_edges.layers.0       | FCLayer                   | 224   \n",
      "11 | model.gnn                         | FeedForwardPyg            | 94.9 K\n",
      "12 | model.gnn.activation              | ReLU                      | 0     \n",
      "13 | model.gnn.layers                  | ModuleList                | 91.8 K\n",
      "14 | model.gnn.layers.0                | GPSLayerPyg               | 12.7 K\n",
      "15 | model.gnn.layers.1                | GPSLayerPyg               | 26.6 K\n",
      "16 | model.gnn.layers.2                | GPSLayerPyg               | 26.6 K\n",
      "17 | model.gnn.layers.3                | GPSLayerPyg               | 25.9 K\n",
      "18 | model.gnn.virtual_node_layers     | ModuleList                | 0     \n",
      "19 | model.gnn.virtual_node_layers.0   | VirtualNodePyg            | 0     \n",
      "20 | model.gnn.virtual_node_layers.1   | VirtualNodePyg            | 0     \n",
      "21 | model.gnn.virtual_node_layers.2   | VirtualNodePyg            | 0     \n",
      "22 | model.gnn.residual_layer          | ResidualConnectionSimple  | 0     \n",
      "23 | model.gnn.global_pool_layer       | ModuleListConcat          | 0     \n",
      "24 | model.gnn.global_pool_layer.0     | PoolingWrapperPyg         | 0     \n",
      "25 | model.gnn.global_pool_layer.1     | PoolingWrapperPyg         | 0     \n",
      "26 | model.gnn.global_pool_layer.2     | PoolingWrapperPyg         | 0     \n",
      "27 | model.gnn.out_linear              | FCLayer                   | 3.1 K \n",
      "28 | model.gnn.out_linear.linear       | Linear                    | 3.1 K \n",
      "29 | model.gnn.out_linear.dropout      | Dropout                   | 0     \n",
      "30 | model.task_heads                  | TaskHeads                 | 3.3 K \n",
      "31 | model.task_heads.task_heads       | ModuleDict                | 3.3 K \n",
      "32 | model.task_heads.task_heads.homo  | TaskHead                  | 1.1 K \n",
      "33 | model.task_heads.task_heads.alpha | TaskHead                  | 1.1 K \n",
      "34 | model.task_heads.task_heads.cv    | TaskHead                  | 1.1 K \n",
      "---------------------------------------------------------------------------------\n",
      "100 K     Trainable params\n",
      "0         Non-trainable params\n",
      "100 K     Total params\n",
      "0.401     Total estimated model params size (MB)\n"
     ]
    },
    {
     "data": {
      "text/html": [
       "wandb version 0.13.2 is available!  To upgrade, please run:\n",
       " $ pip install wandb --upgrade"
      ],
      "text/plain": [
       "<IPython.core.display.HTML object>"
      ]
     },
     "metadata": {},
     "output_type": "display_data"
    },
    {
     "data": {
      "text/html": [
       "Tracking run with wandb version 0.13.1"
      ],
      "text/plain": [
       "<IPython.core.display.HTML object>"
      ]
     },
     "metadata": {},
     "output_type": "display_data"
    },
    {
     "data": {
      "text/html": [
       "Run data is saved locally in <code>/home/oleksandr/code/goli/wandb/run-20220907_201348-2v497mt7</code>"
      ],
      "text/plain": [
       "<IPython.core.display.HTML object>"
      ]
     },
     "metadata": {},
     "output_type": "display_data"
    },
    {
     "data": {
      "text/html": [
       "Syncing run <strong><a href=\"https://wandb.ai/multitask-gnn/multitask-gnn/runs/2v497mt7\" target=\"_blank\">olek_test_ipu_07/09/2022_gnn.hid=48_gnn.depth=4</a></strong> to <a href=\"https://wandb.ai/multitask-gnn/multitask-gnn\" target=\"_blank\">Weights & Biases</a> (<a href=\"https://wandb.me/run\" target=\"_blank\">docs</a>)<br/>"
      ],
      "text/plain": [
       "<IPython.core.display.HTML object>"
      ]
     },
     "metadata": {},
     "output_type": "display_data"
    },
    {
     "name": "stderr",
     "output_type": "stream",
     "text": [
      "/home/oleksandr/.venv/goli_ipu/lib/python3.8/site-packages/pytorch_lightning/trainer/trainer.py:572: LightningDeprecationWarning: Trainer argument `terminate_on_nan` was deprecated in v1.5 and will be removed in 1.7. Please use `Trainer(detect_anomaly=True)` instead.\n",
      "  rank_zero_deprecation(\n",
      "GPU available: False, used: False\n",
      "TPU available: False, using: 0 TPU cores\n",
      "IPU available: True, using: 0 IPUs\n",
      "HPU available: False, using: 0 HPUs\n",
      "/home/oleksandr/.venv/goli_ipu/lib/python3.8/site-packages/pytorch_lightning/trainer/trainer.py:1836: UserWarning: IPU available but not used. Set `accelerator` and `devices` using `Trainer(accelerator='ipu', devices=4)`.\n",
      "  rank_zero_warn(\n",
      "2022-09-07 20:13:49.907 | INFO     | goli.data.datamodule:prepare_data:669 - Reading data for task 'homo'\n",
      "2022-09-07 20:13:49.920 | INFO     | goli.data.datamodule:prepare_data:669 - Reading data for task 'alpha'\n",
      "2022-09-07 20:13:49.931 | INFO     | goli.data.datamodule:prepare_data:669 - Reading data for task 'cv'\n",
      "2022-09-07 20:13:49.941 | INFO     | goli.data.datamodule:prepare_data:687 - Done reading datasets\n",
      "2022-09-07 20:13:49.942 | INFO     | goli.data.datamodule:prepare_data:699 - Prepare single-task dataset for task 'homo' with 1005 data points.\n",
      "2022-09-07 20:13:49.943 | INFO     | goli.data.datamodule:prepare_data:699 - Prepare single-task dataset for task 'alpha' with 1005 data points.\n",
      "2022-09-07 20:13:49.944 | INFO     | goli.data.datamodule:prepare_data:699 - Prepare single-task dataset for task 'cv' with 1005 data points.\n"
     ]
    },
    {
     "data": {
      "application/vnd.jupyter.widget-view+json": {
       "model_id": "4b9fc4b5ce30462db6ad31b475bf5981",
       "version_major": 2,
       "version_minor": 0
      },
      "text/plain": [
       "mols to ids:   0%|          | 0/3015 [00:00<?, ?it/s]"
      ]
     },
     "metadata": {},
     "output_type": "display_data"
    },
    {
     "data": {
      "application/vnd.jupyter.widget-view+json": {
       "model_id": "f34430fea97f4f29819dc9460d965af0",
       "version_major": 2,
       "version_minor": 0
      },
      "text/plain": [
       "featurizing_smiles:   0%|          | 0/1005 [00:00<?, ?it/s]"
      ]
     },
     "metadata": {},
     "output_type": "display_data"
    },
    {
     "name": "stderr",
     "output_type": "stream",
     "text": [
      "/home/oleksandr/.venv/goli_ipu/lib/python3.8/site-packages/pytorch_lightning/trainer/configuration_validator.py:154: LightningDeprecationWarning: The `LightningModule.get_progress_bar_dict` method was deprecated in v1.5 and will be removed in v1.7. Please use the `ProgressBarBase.get_metrics` instead.\n",
      "  rank_zero_deprecation(\n"
     ]
    },
    {
     "data": {
      "application/vnd.jupyter.widget-view+json": {
       "model_id": "130379a5f0c94c0985869534640b9624",
       "version_major": 2,
       "version_minor": 0
      },
      "text/plain": [
       "mols to ids:   0%|          | 0/1809 [00:00<?, ?it/s]"
      ]
     },
     "metadata": {},
     "output_type": "display_data"
    },
    {
     "data": {
      "application/vnd.jupyter.widget-view+json": {
       "model_id": "5664b74ca76f4fe6b143d202baba97ea",
       "version_major": 2,
       "version_minor": 0
      },
      "text/plain": [
       "mols to ids:   0%|          | 0/603 [00:00<?, ?it/s]"
      ]
     },
     "metadata": {},
     "output_type": "display_data"
    },
    {
     "name": "stderr",
     "output_type": "stream",
     "text": [
      "/home/oleksandr/.venv/goli_ipu/lib/python3.8/site-packages/pytorch_lightning/callbacks/model_checkpoint.py:608: UserWarning: Checkpoint directory /home/oleksandr/code/goli/models_checkpoints/QM9 exists and is not empty.\n",
      "  rank_zero_warn(f\"Checkpoint directory {dirpath} exists and is not empty.\")\n",
      "\n",
      "  | Name  | Type                      | Params\n",
      "----------------------------------------------------\n",
      "0 | model | FullGraphMultiTaskNetwork | 100 K \n",
      "----------------------------------------------------\n",
      "100 K     Trainable params\n",
      "0         Non-trainable params\n",
      "100 K     Total params\n",
      "0.401     Total estimated model params size (MB)\n"
     ]
    },
    {
     "name": "stdout",
     "output_type": "stream",
     "text": [
      "-------------------\n",
      "MultitaskDataset\n",
      "\tabout = training set\n",
      "\tnum_graphs_total = 603\n",
      "\tnum_nodes_total = 5285\n",
      "\tmax_num_nodes_per_graph = 9\n",
      "\tmin_num_nodes_per_graph = 1\n",
      "\tstd_num_nodes_per_graph = 0.6989218547197285\n",
      "\tmean_num_nodes_per_graph = 8.764510779436153\n",
      "\tnum_edges_total = 11316\n",
      "\tmax_num_edges_per_graph = 26\n",
      "\tmin_num_edges_per_graph = 0\n",
      "\tstd_num_edges_per_graph = 2.6821780989470896\n",
      "\tmean_num_edges_per_graph = 18.766169154228855\n",
      "-------------------\n",
      "\n",
      "-------------------\n",
      "MultitaskDataset\n",
      "\tabout = validation set\n",
      "\tnum_graphs_total = 201\n",
      "\tnum_nodes_total = 1756\n",
      "\tmax_num_nodes_per_graph = 9\n",
      "\tmin_num_nodes_per_graph = 2\n",
      "\tstd_num_nodes_per_graph = 0.7949619835770694\n",
      "\tmean_num_nodes_per_graph = 8.7363184079602\n",
      "\tnum_edges_total = 3736\n",
      "\tmax_num_edges_per_graph = 24\n",
      "\tmin_num_edges_per_graph = 2\n",
      "\tstd_num_edges_per_graph = 2.7704251592456193\n",
      "\tmean_num_edges_per_graph = 18.587064676616915\n",
      "-------------------\n",
      "\n"
     ]
    },
    {
     "data": {
      "application/vnd.jupyter.widget-view+json": {
       "model_id": "07fc372355654a06981e6ea005ee5cca",
       "version_major": 2,
       "version_minor": 0
      },
      "text/plain": [
       "Sanity Checking: 0it [00:00, ?it/s]"
      ]
     },
     "metadata": {},
     "output_type": "display_data"
    },
    {
     "name": "stderr",
     "output_type": "stream",
     "text": [
      "2022-09-07 20:13:54.904 | WARNING  | goli.data.datamodule:_dataloader:1545 - No IPU options for stage val. Using regular dataloader.\n",
      "/home/oleksandr/.venv/goli_ipu/lib/python3.8/site-packages/pytorch_lightning/trainer/connectors/data_connector.py:240: PossibleUserWarning: The dataloader, val_dataloader 0, does not have many workers which may be a bottleneck. Consider increasing the value of the `num_workers` argument` (try 104 which is the number of cpus on this machine) in the `DataLoader` init to improve performance.\n",
      "  rank_zero_warn(\n",
      "2022-09-07 20:13:54.984 | WARNING  | goli.data.datamodule:_dataloader:1545 - No IPU options for stage train. Using regular dataloader.\n",
      "/home/oleksandr/.venv/goli_ipu/lib/python3.8/site-packages/pytorch_lightning/trainer/connectors/data_connector.py:240: PossibleUserWarning: The dataloader, train_dataloader, does not have many workers which may be a bottleneck. Consider increasing the value of the `num_workers` argument` (try 104 which is the number of cpus on this machine) in the `DataLoader` init to improve performance.\n",
      "  rank_zero_warn(\n",
      "/home/oleksandr/.venv/goli_ipu/lib/python3.8/site-packages/pytorch_lightning/trainer/trainer.py:1938: PossibleUserWarning: The number of training samples (10) is smaller than the logging interval Trainer(log_every_n_steps=50). Set a lower value for log_every_n_steps if you want to see logs for the training epoch.\n",
      "  rank_zero_warn(\n"
     ]
    },
    {
     "data": {
      "application/vnd.jupyter.widget-view+json": {
       "model_id": "22307879e5ee426bbfc85a2d36812bdd",
       "version_major": 2,
       "version_minor": 0
      },
      "text/plain": [
       "Training: 0it [00:00, ?it/s]"
      ]
     },
     "metadata": {},
     "output_type": "display_data"
    },
    {
     "data": {
      "application/vnd.jupyter.widget-view+json": {
       "model_id": "11c2cdf23ef74fc8b7610d71706b2372",
       "version_major": 2,
       "version_minor": 0
      },
      "text/plain": [
       "Validation: 0it [00:00, ?it/s]"
      ]
     },
     "metadata": {},
     "output_type": "display_data"
    },
    {
     "data": {
      "application/vnd.jupyter.widget-view+json": {
       "model_id": "fc6da7e8324e4a588810e28cdae72d06",
       "version_major": 2,
       "version_minor": 0
      },
      "text/plain": [
       "Validation: 0it [00:00, ?it/s]"
      ]
     },
     "metadata": {},
     "output_type": "display_data"
    },
    {
     "name": "stdout",
     "output_type": "stream",
     "text": [
      "\n",
      "------------ TRAINING STARTED ------------\n",
      "\n",
      "------------ TRAINING COMPLETED ------------\n",
      "\n",
      "\n",
      "\n",
      "------------ TESTING STARTED ------------\n"
     ]
    },
    {
     "data": {
      "application/vnd.jupyter.widget-view+json": {
       "model_id": "f4d8a59307ad41d89db58abe0883b9f1",
       "version_major": 2,
       "version_minor": 0
      },
      "text/plain": [
       "mols to ids:   0%|          | 0/603 [00:00<?, ?it/s]"
      ]
     },
     "metadata": {},
     "output_type": "display_data"
    },
    {
     "name": "stdout",
     "output_type": "stream",
     "text": [
      "-------------------\n",
      "MultitaskDataset\n",
      "\tabout = test set\n",
      "\tnum_graphs_total = 201\n",
      "\tnum_nodes_total = 1751\n",
      "\tmax_num_nodes_per_graph = 9\n",
      "\tmin_num_nodes_per_graph = 1\n",
      "\tstd_num_nodes_per_graph = 0.9443829267824616\n",
      "\tmean_num_nodes_per_graph = 8.711442786069652\n",
      "\tnum_edges_total = 3748\n",
      "\tmax_num_edges_per_graph = 26\n",
      "\tmin_num_edges_per_graph = 0\n",
      "\tstd_num_edges_per_graph = 3.0647412282392468\n",
      "\tmean_num_edges_per_graph = 18.64676616915423\n",
      "-------------------\n"
     ]
    },
    {
     "name": "stderr",
     "output_type": "stream",
     "text": [
      "2022-09-07 20:13:56.241 | WARNING  | goli.data.datamodule:_dataloader:1545 - No IPU options for stage test. Using regular dataloader.\n"
     ]
    },
    {
     "name": "stdout",
     "output_type": "stream",
     "text": [
      "\n"
     ]
    },
    {
     "name": "stderr",
     "output_type": "stream",
     "text": [
      "/home/oleksandr/.venv/goli_ipu/lib/python3.8/site-packages/pytorch_lightning/trainer/connectors/data_connector.py:240: PossibleUserWarning: The dataloader, test_dataloader 0, does not have many workers which may be a bottleneck. Consider increasing the value of the `num_workers` argument` (try 104 which is the number of cpus on this machine) in the `DataLoader` init to improve performance.\n",
      "  rank_zero_warn(\n"
     ]
    },
    {
     "data": {
      "application/vnd.jupyter.widget-view+json": {
       "model_id": "bc13e58c5ce64bf69d9944dd907e9c63",
       "version_major": 2,
       "version_minor": 0
      },
      "text/plain": [
       "Testing: 0it [00:00, ?it/s]"
      ]
     },
     "metadata": {},
     "output_type": "display_data"
    },
    {
     "name": "stdout",
     "output_type": "stream",
     "text": [
      "────────────────────────────────────────────────────────────────────────────────────────────────────────────────────────\n",
      "       Test metric             DataLoader 0\n",
      "────────────────────────────────────────────────────────────────────────────────────────────────────────────────────────\n",
      "  alpha/MSELossIPU/test     1.6949849128723145\n",
      "     alpha/loss/test        1.6949849128723145\n",
      "     alpha/mae/test         0.9072555303573608\n",
      "  alpha/mean_pred/test     -0.20560245215892792\n",
      " alpha/mean_target/test    -0.17942453920841217\n",
      " alpha/median_pred/test    -0.20887722074985504\n",
      "alpha/median_target/test     -0.05877685546875\n",
      "   alpha/pearsonr/test      0.22582732141017914\n",
      "   alpha/std_pred/test      0.04837451130151749\n",
      "  alpha/std_target/test     1.3153568506240845\n",
      "   cv/MSELossIPU/test       1.4008042812347412\n",
      "      cv/loss/test          1.4008042812347412\n",
      "       cv/mae/test          0.8579881191253662\n",
      "    cv/mean_pred/test      -0.24460068345069885\n",
      "   cv/mean_target/test     -0.11077180504798889\n",
      "   cv/median_pred/test      -0.2486339956521988\n",
      "  cv/median_target/test      -0.07501220703125\n",
      "    cv/pearsonr/test        0.21424514055252075\n",
      "    cv/std_pred/test        0.05758492276072502\n",
      "   cv/std_target/test        1.190240502357483\n",
      "  homo/MSELossIPU/test      1.2043628692626953\n",
      "     homo/loss/test         1.2043628692626953\n",
      "      homo/mae/test         0.8264656662940979\n",
      "   homo/mean_pred/test     -0.11719640344381332\n",
      "  homo/mean_target/test     0.11720336973667145\n",
      "  homo/median_pred/test    -0.04843439906835556\n",
      " homo/median_target/test      0.1390380859375\n",
      "   homo/pearsonr/test       0.13913777470588684\n",
      "   homo/std_pred/test       0.09297820925712585\n",
      "  homo/std_target/test      1.0721430778503418\n",
      "        loss/test           1.4333839416503906\n",
      "────────────────────────────────────────────────────────────────────────────────────────────────────────────────────────\n",
      "\n",
      "------------ TESTING COMPLETED ------------\n",
      "\n",
      "\n",
      "--------------------------------------------\n",
      "total computation used 8.026666006073356\n",
      "--------------------------------------------\n"
     ]
    },
    {
     "data": {
      "text/html": [
       "Waiting for W&B process to finish... <strong style=\"color:green\">(success).</strong>"
      ],
      "text/plain": [
       "<IPython.core.display.HTML object>"
      ]
     },
     "metadata": {},
     "output_type": "display_data"
    },
    {
     "data": {
      "application/vnd.jupyter.widget-view+json": {
       "model_id": "953109e6cd6640f1a4167cdccd8b174a",
       "version_major": 2,
       "version_minor": 0
      },
      "text/plain": [
       "VBox(children=(Label(value='0.001 MB of 0.001 MB uploaded (0.000 MB deduped)\\r'), FloatProgress(value=1.0, max…"
      ]
     },
     "metadata": {},
     "output_type": "display_data"
    },
    {
     "data": {
      "text/html": [
       "<style>\n",
       "    table.wandb td:nth-child(1) { padding: 0 10px; text-align: left ; width: auto;} td:nth-child(2) {text-align: left ; width: 100%}\n",
       "    .wandb-row { display: flex; flex-direction: row; flex-wrap: wrap; justify-content: flex-start; width: 100% }\n",
       "    .wandb-col { display: flex; flex-direction: column; flex-basis: 100%; flex: 1; padding: 10px; }\n",
       "    </style>\n",
       "<div class=\"wandb-row\"><div class=\"wandb-col\"><h3>Run history:</h3><br/><table class=\"wandb\"><tr><td>alpha/MSELossIPU/test</td><td>▁</td></tr><tr><td>alpha/MSELossIPU/train</td><td>▃▃▁▁▄▄▄▄██▅▅▂▂██▇▇▂▂▃▃▁▁▄▄▄▄██▅▅▂▂██▇▇▂▂</td></tr><tr><td>alpha/MSELossIPU/val</td><td>█▁</td></tr><tr><td>alpha/loss/test</td><td>▁</td></tr><tr><td>alpha/loss/val</td><td>█▁</td></tr><tr><td>alpha/mae/test</td><td>▁</td></tr><tr><td>alpha/mae/train</td><td>▃▃▁▁▅▅▄▄██▄▄▂▂▄▄▃▃▃▃▃▃▁▁▅▅▄▄██▄▄▂▂▄▄▃▃▃▃</td></tr><tr><td>alpha/mae/val</td><td>█▁</td></tr><tr><td>alpha/mean_pred/test</td><td>▁</td></tr><tr><td>alpha/mean_pred/train</td><td>██████████████▇▇▇▇▇▇▇▇▇▇▇▇▇▇▇▇▇▇▆▆▅▅▃▃▁▁</td></tr><tr><td>alpha/mean_pred/val</td><td>█▁</td></tr><tr><td>alpha/mean_target/test</td><td>▁</td></tr><tr><td>alpha/mean_target/train</td><td>████▇▇▄▄▁▁▅▅▃▃▅▅▆▆▅▅████▇▇▄▄▁▁▅▅▃▃▅▅▆▆▅▅</td></tr><tr><td>alpha/mean_target/val</td><td>▁▁</td></tr><tr><td>alpha/median_pred/test</td><td>▁</td></tr><tr><td>alpha/median_pred/train</td><td>██████████████▇▇▇▇▇▇▇▇▇▇▇▇▇▇▇▇▇▇▆▆▅▅▃▃▁▁</td></tr><tr><td>alpha/median_pred/val</td><td>█▁</td></tr><tr><td>alpha/median_target/test</td><td>▁</td></tr><tr><td>alpha/median_target/train</td><td>▇▇▇▇▆▆▅▅▁▁▇▇▄▄▅▅▇▇██▇▇▇▇▆▆▅▅▁▁▇▇▄▄▅▅▇▇██</td></tr><tr><td>alpha/median_target/val</td><td>▁▁</td></tr><tr><td>alpha/pearsonr/test</td><td>▁</td></tr><tr><td>alpha/pearsonr/train</td><td>▅▅▅▅▆▆▆▆▆▆▁▁▄▄▁▁▁▁▄▄▄▄▅▅▆▆▅▅▆▆▅▅▇▇▅▅▅▅██</td></tr><tr><td>alpha/pearsonr/val</td><td>▁█</td></tr><tr><td>alpha/std_pred/test</td><td>▁</td></tr><tr><td>alpha/std_pred/train</td><td>▁▁▁▁▁▁▁▁▁▁▁▁▁▁▁▁▁▁▁▁▂▂▂▂▁▁▁▁▁▁▂▂▂▂▄▄▅▅██</td></tr><tr><td>alpha/std_pred/val</td><td>▁█</td></tr><tr><td>alpha/std_target/test</td><td>▁</td></tr><tr><td>alpha/std_target/train</td><td>▃▃▁▁▅▅▄▄▇▇▅▅▁▁██▇▇▂▂▃▃▁▁▅▅▄▄▇▇▅▅▁▁██▇▇▂▂</td></tr><tr><td>alpha/std_target/val</td><td>▁▁</td></tr><tr><td>cv/MSELossIPU/test</td><td>▁</td></tr><tr><td>cv/MSELossIPU/train</td><td>▁▁▂▂▄▄▄▄▆▆▆▆▂▂▇▇██▁▁▁▁▂▂▄▄▄▄▆▆▆▆▂▂▇▇██▁▁</td></tr><tr><td>cv/MSELossIPU/val</td><td>█▁</td></tr><tr><td>cv/loss/test</td><td>▁</td></tr><tr><td>cv/loss/val</td><td>█▁</td></tr><tr><td>cv/mae/test</td><td>▁▁</td></tr><tr><td>cv/mae/train</td><td>▁▁▂▂▃▃▆▆████▂▂▅▅▅▅▂▂▁▁▂▂▃▃▆▆████▂▂▅▅▅▅▁▁</td></tr><tr><td>cv/mae/val</td><td>█▁</td></tr><tr><td>cv/mean_pred/test</td><td>▁</td></tr><tr><td>cv/mean_pred/train</td><td>██████████████████▇▇▇▇▇▇▇▇▇▇▇▇▇▇▆▆▅▅▃▃▁▁</td></tr><tr><td>cv/mean_pred/val</td><td>█▁</td></tr><tr><td>cv/mean_target/test</td><td>▁</td></tr><tr><td>cv/mean_target/train</td><td>▂▂██▅▅▂▂▁▁▃▃▄▄▃▃▂▂▂▂▂▂██▅▅▂▂▁▁▃▃▄▄▃▃▂▂▂▂</td></tr><tr><td>cv/mean_target/val</td><td>▁▁</td></tr><tr><td>cv/median_pred/test</td><td>▁</td></tr><tr><td>cv/median_pred/train</td><td>██████████████████▇▇▇▇▆▆▇▇▇▇▇▇▆▆▆▆▅▅▃▃▁▁</td></tr><tr><td>cv/median_pred/val</td><td>█▁</td></tr><tr><td>cv/median_target/test</td><td>▁</td></tr><tr><td>cv/median_target/train</td><td>▃▃██▃▃▁▁▁▁▅▅▄▄▄▄▂▂▂▂▃▃██▃▃▁▁▁▁▅▅▄▄▄▄▂▂▂▂</td></tr><tr><td>cv/median_target/val</td><td>▁▁</td></tr><tr><td>cv/pearsonr/test</td><td>▁</td></tr><tr><td>cv/pearsonr/train</td><td>▅▅▃▃▆▆▆▆▆▆▅▅▃▃▃▃▁▁▂▂▅▅▆▆▄▄▆▆▇▇▆▆▄▄▄▄▅▅██</td></tr><tr><td>cv/pearsonr/val</td><td>▁█</td></tr><tr><td>cv/std_pred/test</td><td>▁</td></tr><tr><td>cv/std_pred/train</td><td>▁▁▁▁▁▁▁▁▁▁▁▁▁▁▁▁▁▁▁▁▁▁▂▂▂▂▂▂▂▂▂▂▂▂▄▄▅▅██</td></tr><tr><td>cv/std_pred/val</td><td>▁█</td></tr><tr><td>cv/std_target/test</td><td>▁</td></tr><tr><td>cv/std_target/train</td><td>▁▁▂▂▄▄▄▄▆▆▇▇▂▂████▁▁▁▁▂▂▄▄▄▄▆▆▇▇▂▂████▁▁</td></tr><tr><td>cv/std_target/val</td><td>▁▁</td></tr><tr><td>epoch</td><td>▁▅█</td></tr><tr><td>grad_norm</td><td>▁▁▄▄▃▃▂▂▄▄▆▆▃▃▄▄▃▃▃▃▁▁▅▅▆▆▂▂▅▅██▄▄▇▇▄▄▆▆</td></tr><tr><td>homo/MSELossIPU/test</td><td>▁</td></tr><tr><td>homo/MSELossIPU/train</td><td>▃▃▁▁▇▇▅▅▅▅▄▄██▄▄██▅▅▃▃▁▁▇▇▅▅▅▅▄▄▇▇▄▄██▅▅</td></tr><tr><td>homo/MSELossIPU/val</td><td>█▁</td></tr><tr><td>homo/loss/test</td><td>▁</td></tr><tr><td>homo/loss/val</td><td>█▁</td></tr><tr><td>homo/mae/test</td><td>▁</td></tr><tr><td>homo/mae/train</td><td>▃▃▁▁▇▇▆▆▆▆▆▆██▆▆▇▇▆▆▃▃▁▁▇▇▆▆▆▆▆▆██▆▆▇▇▆▆</td></tr><tr><td>homo/mae/val</td><td>█▁</td></tr><tr><td>homo/mean_pred/test</td><td>▁</td></tr><tr><td>homo/mean_pred/train</td><td>████████████████▇▇▇▇▇▇▇▇▇▇████▇▇▇▇▅▅▄▄▁▁</td></tr><tr><td>homo/mean_pred/val</td><td>█▁</td></tr><tr><td>homo/mean_target/test</td><td>▁</td></tr><tr><td>homo/mean_target/train</td><td>██▄▄▅▅▃▃▁▁▃▃▁▁▆▆▃▃▄▄██▄▄▅▅▃▃▁▁▃▃▁▁▆▆▃▃▄▄</td></tr><tr><td>homo/mean_target/val</td><td>▁▁</td></tr><tr><td>homo/median_pred/test</td><td>▁</td></tr><tr><td>homo/median_pred/train</td><td>██████████████████▇▇▇▇▇▇▇▇▇▇▇▇▇▇▆▆▅▅▄▄▁▁</td></tr><tr><td>homo/median_pred/val</td><td>█▁</td></tr><tr><td>homo/median_target/test</td><td>▁</td></tr><tr><td>homo/median_target/train</td><td>██▃▃▅▅▄▄▁▁▃▃▄▄▅▅▄▄▄▄██▃▃▅▅▄▄▁▁▃▃▄▄▅▅▄▄▄▄</td></tr><tr><td>homo/median_target/val</td><td>▁▁</td></tr><tr><td>homo/pearsonr/test</td><td>▁</td></tr><tr><td>homo/pearsonr/train</td><td>▄▄▄▄▁▁▄▄▃▃▃▃▆▆▅▅▅▅▃▃▅▅▆▆▆▆▃▃▅▅██████████</td></tr><tr><td>homo/pearsonr/val</td><td>▁█</td></tr><tr><td>homo/std_pred/test</td><td>▁</td></tr><tr><td>homo/std_pred/train</td><td>▁▁▁▁▁▁▁▁▁▁▁▁▁▁▁▁▁▁▂▂▂▂▂▂▂▂▂▂▂▂▂▂▃▃▄▄▅▅██</td></tr><tr><td>homo/std_pred/val</td><td>▁█</td></tr><tr><td>homo/std_target/test</td><td>▁</td></tr><tr><td>homo/std_target/train</td><td>▃▃▁▁▇▇▅▅▅▅▄▄▇▇▅▅██▅▅▃▃▁▁▇▇▅▅▅▅▄▄▇▇▅▅██▅▅</td></tr><tr><td>homo/std_target/val</td><td>▁▁</td></tr><tr><td>loss</td><td>▂▂▁▁▅▅▄▄▇▇▅▅▃▃▇▇██▃▃▂▂▁▁▅▅▄▄▇▇▅▅▃▃▇▇██▂▂</td></tr><tr><td>loss/test</td><td>▁</td></tr><tr><td>loss/train</td><td>▂▂▁▁▅▅▄▄▇▇▅▅▃▃▇▇██▃▃▂▂▁▁▅▅▄▄▇▇▅▅▃▃▇▇██▂▂</td></tr><tr><td>loss/val</td><td>█▁</td></tr><tr><td>train/grad_norm</td><td>▁▁▄▄▃▃▂▂▄▄▆▆▃▃▄▄▃▃▃▃▁▁▅▅▆▆▂▂▅▅██▄▄▇▇▄▄▆▆</td></tr><tr><td>trainer/global_step</td><td>▁▁▁▂▂▂▂▂▂▃▃▃▃▃▄▄▄▄▅▄▅▅▅▅▆▆▆▆▆▆▇▇▇▇▇█████</td></tr></table><br/></div><div class=\"wandb-col\"><h3>Run summary:</h3><br/><table class=\"wandb\"><tr><td>alpha/MSELossIPU/test</td><td>1.69498</td></tr><tr><td>alpha/MSELossIPU/train</td><td>0.86361</td></tr><tr><td>alpha/MSELossIPU/val</td><td>1.5956</td></tr><tr><td>alpha/loss/test</td><td>1.69498</td></tr><tr><td>alpha/loss/val</td><td>1.5956</td></tr><tr><td>alpha/mae/test</td><td>0.90726</td></tr><tr><td>alpha/mae/train</td><td>0.77491</td></tr><tr><td>alpha/mae/val</td><td>0.86826</td></tr><tr><td>alpha/mean_pred/test</td><td>-0.2056</td></tr><tr><td>alpha/mean_pred/train</td><td>-0.14754</td></tr><tr><td>alpha/mean_pred/val</td><td>-0.20143</td></tr><tr><td>alpha/mean_target/test</td><td>-0.17942</td></tr><tr><td>alpha/mean_target/train</td><td>-0.09801</td></tr><tr><td>alpha/mean_target/val</td><td>-0.02273</td></tr><tr><td>alpha/median_pred/test</td><td>-0.20888</td></tr><tr><td>alpha/median_pred/train</td><td>-0.14164</td></tr><tr><td>alpha/median_pred/val</td><td>-0.20005</td></tr><tr><td>alpha/median_target/test</td><td>-0.05878</td></tr><tr><td>alpha/median_target/train</td><td>0.15369</td></tr><tr><td>alpha/median_target/val</td><td>0.02672</td></tr><tr><td>alpha/pearsonr/test</td><td>0.22583</td></tr><tr><td>alpha/pearsonr/train</td><td>0.52101</td></tr><tr><td>alpha/pearsonr/val</td><td>0.39499</td></tr><tr><td>alpha/std_pred/test</td><td>0.04837</td></tr><tr><td>alpha/std_pred/train</td><td>0.03384</td></tr><tr><td>alpha/std_pred/val</td><td>0.04847</td></tr><tr><td>alpha/std_target/test</td><td>1.31536</td></tr><tr><td>alpha/std_target/train</td><td>0.953</td></tr><tr><td>alpha/std_target/val</td><td>1.27231</td></tr><tr><td>cv/MSELossIPU/test</td><td>1.4008</td></tr><tr><td>cv/MSELossIPU/train</td><td>0.77379</td></tr><tr><td>cv/MSELossIPU/val</td><td>1.13271</td></tr><tr><td>cv/loss/test</td><td>1.4008</td></tr><tr><td>cv/loss/val</td><td>1.13271</td></tr><tr><td>cv/mae/test</td><td>0.85799</td></tr><tr><td>cv/mae/train</td><td>0.71455</td></tr><tr><td>cv/mae/val</td><td>0.79942</td></tr><tr><td>cv/mean_pred/test</td><td>-0.2446</td></tr><tr><td>cv/mean_pred/train</td><td>-0.17275</td></tr><tr><td>cv/mean_pred/val</td><td>-0.23958</td></tr><tr><td>cv/mean_target/test</td><td>-0.11077</td></tr><tr><td>cv/mean_target/train</td><td>-0.17124</td></tr><tr><td>cv/mean_target/val</td><td>-0.06714</td></tr><tr><td>cv/median_pred/test</td><td>-0.24863</td></tr><tr><td>cv/median_pred/train</td><td>-0.16399</td></tr><tr><td>cv/median_pred/val</td><td>-0.23793</td></tr><tr><td>cv/median_target/test</td><td>-0.07501</td></tr><tr><td>cv/median_target/train</td><td>-0.25171</td></tr><tr><td>cv/median_target/val</td><td>-0.0361</td></tr><tr><td>cv/pearsonr/test</td><td>0.21425</td></tr><tr><td>cv/pearsonr/train</td><td>0.42957</td></tr><tr><td>cv/pearsonr/val</td><td>0.26677</td></tr><tr><td>cv/std_pred/test</td><td>0.05758</td></tr><tr><td>cv/std_pred/train</td><td>0.03773</td></tr><tr><td>cv/std_pred/val</td><td>0.05771</td></tr><tr><td>cv/std_target/test</td><td>1.19024</td></tr><tr><td>cv/std_target/train</td><td>0.90263</td></tr><tr><td>cv/std_target/val</td><td>1.06708</td></tr><tr><td>epoch</td><td>2</td></tr><tr><td>grad_norm</td><td>0.3341</td></tr><tr><td>homo/MSELossIPU/test</td><td>1.20436</td></tr><tr><td>homo/MSELossIPU/train</td><td>0.98128</td></tr><tr><td>homo/MSELossIPU/val</td><td>1.04028</td></tr><tr><td>homo/loss/test</td><td>1.20436</td></tr><tr><td>homo/loss/val</td><td>1.04028</td></tr><tr><td>homo/mae/test</td><td>0.82647</td></tr><tr><td>homo/mae/train</td><td>0.77646</td></tr><tr><td>homo/mae/val</td><td>0.79835</td></tr><tr><td>homo/mean_pred/test</td><td>-0.1172</td></tr><tr><td>homo/mean_pred/train</td><td>-0.09015</td></tr><tr><td>homo/mean_pred/val</td><td>-0.11482</td></tr><tr><td>homo/mean_target/test</td><td>0.1172</td></tr><tr><td>homo/mean_target/train</td><td>-0.01598</td></tr><tr><td>homo/mean_target/val</td><td>-0.05256</td></tr><tr><td>homo/median_pred/test</td><td>-0.04843</td></tr><tr><td>homo/median_pred/train</td><td>-0.08646</td></tr><tr><td>homo/median_pred/val</td><td>-0.0522</td></tr><tr><td>homo/median_target/test</td><td>0.13904</td></tr><tr><td>homo/median_target/train</td><td>-0.06885</td></tr><tr><td>homo/median_target/val</td><td>-0.08783</td></tr><tr><td>homo/pearsonr/test</td><td>0.13914</td></tr><tr><td>homo/pearsonr/train</td><td>0.29505</td></tr><tr><td>homo/pearsonr/val</td><td>0.14409</td></tr><tr><td>homo/std_pred/test</td><td>0.09298</td></tr><tr><td>homo/std_pred/train</td><td>0.07762</td></tr><tr><td>homo/std_pred/val</td><td>0.09132</td></tr><tr><td>homo/std_target/test</td><td>1.07214</td></tr><tr><td>homo/std_target/train</td><td>0.99432</td></tr><tr><td>homo/std_target/val</td><td>1.02055</td></tr><tr><td>loss</td><td>0.8729</td></tr><tr><td>loss/test</td><td>1.43338</td></tr><tr><td>loss/train</td><td>0.8729</td></tr><tr><td>loss/val</td><td>1.2562</td></tr><tr><td>train/grad_norm</td><td>0.3341</td></tr><tr><td>trainer/global_step</td><td>20</td></tr></table><br/></div></div>"
      ],
      "text/plain": [
       "<IPython.core.display.HTML object>"
      ]
     },
     "metadata": {},
     "output_type": "display_data"
    },
    {
     "data": {
      "text/html": [
       "Synced <strong style=\"color:#cdcd00\">olek_test_ipu_07/09/2022_gnn.hid=48_gnn.depth=4</strong>: <a href=\"https://wandb.ai/multitask-gnn/multitask-gnn/runs/2v497mt7\" target=\"_blank\">https://wandb.ai/multitask-gnn/multitask-gnn/runs/2v497mt7</a><br/>Synced 5 W&B file(s), 0 media file(s), 0 artifact file(s) and 1 other file(s)"
      ],
      "text/plain": [
       "<IPython.core.display.HTML object>"
      ]
     },
     "metadata": {},
     "output_type": "display_data"
    },
    {
     "data": {
      "text/html": [
       "Find logs at: <code>./wandb/run-20220907_201348-2v497mt7/logs</code>"
      ],
      "text/plain": [
       "<IPython.core.display.HTML object>"
      ]
     },
     "metadata": {},
     "output_type": "display_data"
    },
    {
     "name": "stderr",
     "output_type": "stream",
     "text": [
      "\u001b[32m[I 2022-09-07 20:14:02,262]\u001b[0m Trial 2 finished with value: 0.8579881191253662 and parameters: {'gnn.hid': 48, 'gnn.depth': 4}. Best is trial 0 with value: 0.8514640927314758.\u001b[0m\n",
      "/home/oleksandr/.venv/goli_ipu/lib/python3.8/site-packages/optuna/distributions.py:560: UserWarning: The distribution is specified by [16, 124] and step=16, but the range is not divisible by `step`. It will be replaced by [16, 112].\n",
      "  warnings.warn(\n",
      "/tmp/ipykernel_1736612/3964897578.py:106: LightningDeprecationWarning: The `LightningModule.summarize` method is deprecated in v1.5 and will be removed in v1.7. Use `pytorch_lightning.utilities.model_summary.summarize` instead.\n",
      "  accu = main(cfg, trial, run_name=run_name[:len(run_name) - 1])\n"
     ]
    },
    {
     "name": "stdout",
     "output_type": "stream",
     "text": [
      "{'homo': {'mae': mean_absolute_error, 'pearsonr': pearson_corrcoef}, 'alpha': {'mae': mean_absolute_error, 'pearsonr': pearson_corrcoef}, 'cv': {'mae': mean_absolute_error, 'pearsonr': pearson_corrcoef}}\n",
      "MTL_DGL_GNN\n",
      "-------------\n",
      "    pre-NN(depth=1, ResidualConnectionNone)\n",
      "        [FCLayer[55 -> 32]\n",
      "    \n",
      "    pre-NN-edges(depth=1, ResidualConnectionNone)\n",
      "        [FCLayer[13 -> 16]\n",
      "    \n",
      "    GNN(depth=1, ResidualConnectionSimple(skip_steps=1))\n",
      "        GPSLayerPyg[32 -> 32]\n",
      "        -> Pooling(['sum', 'mean', 'max']) -> FCLayer(96 -> 32, activation=None)\n",
      "    \n",
      "\n",
      "   | Name                              | Type                      | Params\n",
      "---------------------------------------------------------------------------------\n",
      "0  | model                             | FullGraphMultiTaskNetwork | 20.5 K\n",
      "1  | model.pre_nn                      | FeedForwardNN             | 1.8 K \n",
      "2  | model.pre_nn.activation           | ReLU                      | 0     \n",
      "3  | model.pre_nn.residual_layer       | ResidualConnectionNone    | 0     \n",
      "4  | model.pre_nn.layers               | ModuleList                | 1.8 K \n",
      "5  | model.pre_nn.layers.0             | FCLayer                   | 1.8 K \n",
      "6  | model.pre_nn_edges                | FeedForwardNN             | 224   \n",
      "7  | model.pre_nn_edges.activation     | ReLU                      | 0     \n",
      "8  | model.pre_nn_edges.residual_layer | ResidualConnectionNone    | 0     \n",
      "9  | model.pre_nn_edges.layers         | ModuleList                | 224   \n",
      "10 | model.pre_nn_edges.layers.0       | FCLayer                   | 224   \n",
      "11 | model.gnn                         | FeedForwardPyg            | 15.2 K\n",
      "12 | model.gnn.activation              | ReLU                      | 0     \n",
      "13 | model.gnn.layers                  | ModuleList                | 12.1 K\n",
      "14 | model.gnn.layers.0                | GPSLayerPyg               | 12.1 K\n",
      "15 | model.gnn.virtual_node_layers     | ModuleList                | 0     \n",
      "16 | model.gnn.virtual_node_layers.0   | VirtualNodePyg            | 0     \n",
      "17 | model.gnn.residual_layer          | ResidualConnectionSimple  | 0     \n",
      "18 | model.gnn.global_pool_layer       | ModuleListConcat          | 0     \n",
      "19 | model.gnn.global_pool_layer.0     | PoolingWrapperPyg         | 0     \n",
      "20 | model.gnn.global_pool_layer.1     | PoolingWrapperPyg         | 0     \n",
      "21 | model.gnn.global_pool_layer.2     | PoolingWrapperPyg         | 0     \n",
      "22 | model.gnn.out_linear              | FCLayer                   | 3.1 K \n",
      "23 | model.gnn.out_linear.linear       | Linear                    | 3.1 K \n",
      "24 | model.gnn.out_linear.dropout      | Dropout                   | 0     \n",
      "25 | model.task_heads                  | TaskHeads                 | 3.3 K \n",
      "26 | model.task_heads.task_heads       | ModuleDict                | 3.3 K \n",
      "27 | model.task_heads.task_heads.homo  | TaskHead                  | 1.1 K \n",
      "28 | model.task_heads.task_heads.alpha | TaskHead                  | 1.1 K \n",
      "29 | model.task_heads.task_heads.cv    | TaskHead                  | 1.1 K \n",
      "---------------------------------------------------------------------------------\n",
      "20.5 K    Trainable params\n",
      "0         Non-trainable params\n",
      "20.5 K    Total params\n",
      "0.082     Total estimated model params size (MB)\n"
     ]
    },
    {
     "data": {
      "text/html": [
       "wandb version 0.13.2 is available!  To upgrade, please run:\n",
       " $ pip install wandb --upgrade"
      ],
      "text/plain": [
       "<IPython.core.display.HTML object>"
      ]
     },
     "metadata": {},
     "output_type": "display_data"
    },
    {
     "data": {
      "text/html": [
       "Tracking run with wandb version 0.13.1"
      ],
      "text/plain": [
       "<IPython.core.display.HTML object>"
      ]
     },
     "metadata": {},
     "output_type": "display_data"
    },
    {
     "data": {
      "text/html": [
       "Run data is saved locally in <code>/home/oleksandr/code/goli/wandb/run-20220907_201402-37wz766s</code>"
      ],
      "text/plain": [
       "<IPython.core.display.HTML object>"
      ]
     },
     "metadata": {},
     "output_type": "display_data"
    },
    {
     "data": {
      "text/html": [
       "Syncing run <strong><a href=\"https://wandb.ai/multitask-gnn/multitask-gnn/runs/37wz766s\" target=\"_blank\">olek_test_ipu_07/09/2022_gnn.hid=64_gnn.depth=1</a></strong> to <a href=\"https://wandb.ai/multitask-gnn/multitask-gnn\" target=\"_blank\">Weights & Biases</a> (<a href=\"https://wandb.me/run\" target=\"_blank\">docs</a>)<br/>"
      ],
      "text/plain": [
       "<IPython.core.display.HTML object>"
      ]
     },
     "metadata": {},
     "output_type": "display_data"
    },
    {
     "name": "stderr",
     "output_type": "stream",
     "text": [
      "/home/oleksandr/.venv/goli_ipu/lib/python3.8/site-packages/pytorch_lightning/trainer/trainer.py:572: LightningDeprecationWarning: Trainer argument `terminate_on_nan` was deprecated in v1.5 and will be removed in 1.7. Please use `Trainer(detect_anomaly=True)` instead.\n",
      "  rank_zero_deprecation(\n",
      "GPU available: False, used: False\n",
      "TPU available: False, using: 0 TPU cores\n",
      "IPU available: True, using: 0 IPUs\n",
      "HPU available: False, using: 0 HPUs\n",
      "/home/oleksandr/.venv/goli_ipu/lib/python3.8/site-packages/pytorch_lightning/trainer/trainer.py:1836: UserWarning: IPU available but not used. Set `accelerator` and `devices` using `Trainer(accelerator='ipu', devices=4)`.\n",
      "  rank_zero_warn(\n",
      "2022-09-07 20:14:03.824 | INFO     | goli.data.datamodule:prepare_data:669 - Reading data for task 'homo'\n",
      "2022-09-07 20:14:03.838 | INFO     | goli.data.datamodule:prepare_data:669 - Reading data for task 'alpha'\n",
      "2022-09-07 20:14:03.848 | INFO     | goli.data.datamodule:prepare_data:669 - Reading data for task 'cv'\n",
      "2022-09-07 20:14:03.859 | INFO     | goli.data.datamodule:prepare_data:687 - Done reading datasets\n",
      "2022-09-07 20:14:03.859 | INFO     | goli.data.datamodule:prepare_data:699 - Prepare single-task dataset for task 'homo' with 1005 data points.\n",
      "2022-09-07 20:14:03.860 | INFO     | goli.data.datamodule:prepare_data:699 - Prepare single-task dataset for task 'alpha' with 1005 data points.\n",
      "2022-09-07 20:14:03.861 | INFO     | goli.data.datamodule:prepare_data:699 - Prepare single-task dataset for task 'cv' with 1005 data points.\n"
     ]
    },
    {
     "data": {
      "application/vnd.jupyter.widget-view+json": {
       "model_id": "b04830d064914c8b93b984cb0296c48c",
       "version_major": 2,
       "version_minor": 0
      },
      "text/plain": [
       "mols to ids:   0%|          | 0/3015 [00:00<?, ?it/s]"
      ]
     },
     "metadata": {},
     "output_type": "display_data"
    },
    {
     "data": {
      "application/vnd.jupyter.widget-view+json": {
       "model_id": "a61360b9190a4c5b856d8790558645af",
       "version_major": 2,
       "version_minor": 0
      },
      "text/plain": [
       "featurizing_smiles:   0%|          | 0/1005 [00:00<?, ?it/s]"
      ]
     },
     "metadata": {},
     "output_type": "display_data"
    },
    {
     "name": "stderr",
     "output_type": "stream",
     "text": [
      "/home/oleksandr/.venv/goli_ipu/lib/python3.8/site-packages/pytorch_lightning/trainer/configuration_validator.py:154: LightningDeprecationWarning: The `LightningModule.get_progress_bar_dict` method was deprecated in v1.5 and will be removed in v1.7. Please use the `ProgressBarBase.get_metrics` instead.\n",
      "  rank_zero_deprecation(\n"
     ]
    },
    {
     "data": {
      "application/vnd.jupyter.widget-view+json": {
       "model_id": "44ac10364a3241aa90a8853839ec45d0",
       "version_major": 2,
       "version_minor": 0
      },
      "text/plain": [
       "mols to ids:   0%|          | 0/1809 [00:00<?, ?it/s]"
      ]
     },
     "metadata": {},
     "output_type": "display_data"
    },
    {
     "data": {
      "application/vnd.jupyter.widget-view+json": {
       "model_id": "2ca02e78ef834ab8a58bbd972e45695f",
       "version_major": 2,
       "version_minor": 0
      },
      "text/plain": [
       "mols to ids:   0%|          | 0/603 [00:00<?, ?it/s]"
      ]
     },
     "metadata": {},
     "output_type": "display_data"
    },
    {
     "name": "stderr",
     "output_type": "stream",
     "text": [
      "/home/oleksandr/.venv/goli_ipu/lib/python3.8/site-packages/pytorch_lightning/callbacks/model_checkpoint.py:608: UserWarning: Checkpoint directory /home/oleksandr/code/goli/models_checkpoints/QM9 exists and is not empty.\n",
      "  rank_zero_warn(f\"Checkpoint directory {dirpath} exists and is not empty.\")\n",
      "\n",
      "  | Name  | Type                      | Params\n",
      "----------------------------------------------------\n",
      "0 | model | FullGraphMultiTaskNetwork | 20.5 K\n",
      "----------------------------------------------------\n",
      "20.5 K    Trainable params\n",
      "0         Non-trainable params\n",
      "20.5 K    Total params\n",
      "0.082     Total estimated model params size (MB)\n"
     ]
    },
    {
     "name": "stdout",
     "output_type": "stream",
     "text": [
      "-------------------\n",
      "MultitaskDataset\n",
      "\tabout = training set\n",
      "\tnum_graphs_total = 603\n",
      "\tnum_nodes_total = 5285\n",
      "\tmax_num_nodes_per_graph = 9\n",
      "\tmin_num_nodes_per_graph = 1\n",
      "\tstd_num_nodes_per_graph = 0.6989218547197285\n",
      "\tmean_num_nodes_per_graph = 8.764510779436153\n",
      "\tnum_edges_total = 11316\n",
      "\tmax_num_edges_per_graph = 26\n",
      "\tmin_num_edges_per_graph = 0\n",
      "\tstd_num_edges_per_graph = 2.6821780989470896\n",
      "\tmean_num_edges_per_graph = 18.766169154228855\n",
      "-------------------\n",
      "\n",
      "-------------------\n",
      "MultitaskDataset\n",
      "\tabout = validation set\n",
      "\tnum_graphs_total = 201\n",
      "\tnum_nodes_total = 1756\n",
      "\tmax_num_nodes_per_graph = 9\n",
      "\tmin_num_nodes_per_graph = 2\n",
      "\tstd_num_nodes_per_graph = 0.7949619835770694\n",
      "\tmean_num_nodes_per_graph = 8.7363184079602\n",
      "\tnum_edges_total = 3736\n",
      "\tmax_num_edges_per_graph = 24\n",
      "\tmin_num_edges_per_graph = 2\n",
      "\tstd_num_edges_per_graph = 2.7704251592456193\n",
      "\tmean_num_edges_per_graph = 18.587064676616915\n",
      "-------------------\n",
      "\n"
     ]
    },
    {
     "data": {
      "application/vnd.jupyter.widget-view+json": {
       "model_id": "8875c171af274f16b56e401492b9dd1b",
       "version_major": 2,
       "version_minor": 0
      },
      "text/plain": [
       "Sanity Checking: 0it [00:00, ?it/s]"
      ]
     },
     "metadata": {},
     "output_type": "display_data"
    },
    {
     "name": "stderr",
     "output_type": "stream",
     "text": [
      "2022-09-07 20:14:09.028 | WARNING  | goli.data.datamodule:_dataloader:1545 - No IPU options for stage val. Using regular dataloader.\n",
      "/home/oleksandr/.venv/goli_ipu/lib/python3.8/site-packages/pytorch_lightning/trainer/connectors/data_connector.py:240: PossibleUserWarning: The dataloader, val_dataloader 0, does not have many workers which may be a bottleneck. Consider increasing the value of the `num_workers` argument` (try 104 which is the number of cpus on this machine) in the `DataLoader` init to improve performance.\n",
      "  rank_zero_warn(\n",
      "2022-09-07 20:14:09.093 | WARNING  | goli.data.datamodule:_dataloader:1545 - No IPU options for stage train. Using regular dataloader.\n",
      "/home/oleksandr/.venv/goli_ipu/lib/python3.8/site-packages/pytorch_lightning/trainer/connectors/data_connector.py:240: PossibleUserWarning: The dataloader, train_dataloader, does not have many workers which may be a bottleneck. Consider increasing the value of the `num_workers` argument` (try 104 which is the number of cpus on this machine) in the `DataLoader` init to improve performance.\n",
      "  rank_zero_warn(\n",
      "/home/oleksandr/.venv/goli_ipu/lib/python3.8/site-packages/pytorch_lightning/trainer/trainer.py:1938: PossibleUserWarning: The number of training samples (10) is smaller than the logging interval Trainer(log_every_n_steps=50). Set a lower value for log_every_n_steps if you want to see logs for the training epoch.\n",
      "  rank_zero_warn(\n"
     ]
    },
    {
     "data": {
      "application/vnd.jupyter.widget-view+json": {
       "model_id": "78be6e7ca9d84e1e907b1d6b38ac1f7f",
       "version_major": 2,
       "version_minor": 0
      },
      "text/plain": [
       "Training: 0it [00:00, ?it/s]"
      ]
     },
     "metadata": {},
     "output_type": "display_data"
    },
    {
     "data": {
      "application/vnd.jupyter.widget-view+json": {
       "model_id": "b69094673e5c4bb4b69c50ea03de9db9",
       "version_major": 2,
       "version_minor": 0
      },
      "text/plain": [
       "Validation: 0it [00:00, ?it/s]"
      ]
     },
     "metadata": {},
     "output_type": "display_data"
    },
    {
     "data": {
      "application/vnd.jupyter.widget-view+json": {
       "model_id": "7cdbf33bdbbc4a61b20bbaa82d1d226a",
       "version_major": 2,
       "version_minor": 0
      },
      "text/plain": [
       "Validation: 0it [00:00, ?it/s]"
      ]
     },
     "metadata": {},
     "output_type": "display_data"
    },
    {
     "name": "stdout",
     "output_type": "stream",
     "text": [
      "\n",
      "------------ TRAINING STARTED ------------\n",
      "\n",
      "------------ TRAINING COMPLETED ------------\n",
      "\n",
      "\n",
      "\n",
      "------------ TESTING STARTED ------------\n"
     ]
    },
    {
     "data": {
      "application/vnd.jupyter.widget-view+json": {
       "model_id": "7123e8194c0e466093329efc8ae74507",
       "version_major": 2,
       "version_minor": 0
      },
      "text/plain": [
       "mols to ids:   0%|          | 0/603 [00:00<?, ?it/s]"
      ]
     },
     "metadata": {},
     "output_type": "display_data"
    },
    {
     "name": "stdout",
     "output_type": "stream",
     "text": [
      "-------------------\n",
      "MultitaskDataset\n",
      "\tabout = test set\n",
      "\tnum_graphs_total = 201\n",
      "\tnum_nodes_total = 1751\n",
      "\tmax_num_nodes_per_graph = 9\n",
      "\tmin_num_nodes_per_graph = 1\n",
      "\tstd_num_nodes_per_graph = 0.9443829267824616\n",
      "\tmean_num_nodes_per_graph = 8.711442786069652\n",
      "\tnum_edges_total = 3748\n",
      "\tmax_num_edges_per_graph = 26\n",
      "\tmin_num_edges_per_graph = 0\n",
      "\tstd_num_edges_per_graph = 3.0647412282392468\n",
      "\tmean_num_edges_per_graph = 18.64676616915423\n",
      "-------------------\n",
      "\n"
     ]
    },
    {
     "name": "stderr",
     "output_type": "stream",
     "text": [
      "2022-09-07 20:14:09.912 | WARNING  | goli.data.datamodule:_dataloader:1545 - No IPU options for stage test. Using regular dataloader.\n",
      "/home/oleksandr/.venv/goli_ipu/lib/python3.8/site-packages/pytorch_lightning/trainer/connectors/data_connector.py:240: PossibleUserWarning: The dataloader, test_dataloader 0, does not have many workers which may be a bottleneck. Consider increasing the value of the `num_workers` argument` (try 104 which is the number of cpus on this machine) in the `DataLoader` init to improve performance.\n",
      "  rank_zero_warn(\n"
     ]
    },
    {
     "data": {
      "application/vnd.jupyter.widget-view+json": {
       "model_id": "10613756a7354040b972d27291c75766",
       "version_major": 2,
       "version_minor": 0
      },
      "text/plain": [
       "Testing: 0it [00:00, ?it/s]"
      ]
     },
     "metadata": {},
     "output_type": "display_data"
    },
    {
     "name": "stdout",
     "output_type": "stream",
     "text": [
      "────────────────────────────────────────────────────────────────────────────────────────────────────────────────────────\n",
      "       Test metric             DataLoader 0\n",
      "────────────────────────────────────────────────────────────────────────────────────────────────────────────────────────\n",
      "  alpha/MSELossIPU/test     1.7496551275253296\n",
      "     alpha/loss/test        1.7496551275253296\n",
      "     alpha/mae/test         0.9179054498672485\n",
      "  alpha/mean_pred/test     -0.008976008743047714\n",
      " alpha/mean_target/test    -0.17942453920841217\n",
      " alpha/median_pred/test    -0.008973058313131332\n",
      "alpha/median_target/test     -0.05877685546875\n",
      "   alpha/pearsonr/test     -0.12444435060024261\n",
      "   alpha/std_pred/test    0.00015601229097228497\n",
      "  alpha/std_target/test     1.3153568506240845\n",
      "   cv/MSELossIPU/test       1.4187920093536377\n",
      "      cv/loss/test          1.4187920093536377\n",
      "       cv/mae/test          0.8574861884117126\n",
      "    cv/mean_pred/test      -0.01067645289003849\n",
      "   cv/mean_target/test     -0.11077180504798889\n",
      "   cv/median_pred/test     -0.010681215673685074\n",
      "  cv/median_target/test      -0.07501220703125\n",
      "    cv/pearsonr/test        0.27874279022216797\n",
      "    cv/std_pred/test       4.398720193421468e-05\n",
      "   cv/std_target/test        1.190240502357483\n",
      "  homo/MSELossIPU/test      1.1614328622817993\n",
      "     homo/loss/test         1.1614328622817993\n",
      "      homo/mae/test          0.807170033454895\n",
      "   homo/mean_pred/test     -0.004562947433441877\n",
      "  homo/mean_target/test     0.11720336973667145\n",
      "  homo/median_pred/test    -0.005991980899125338\n",
      " homo/median_target/test      0.1390380859375\n",
      "   homo/pearsonr/test       0.23111608624458313\n",
      "   homo/std_pred/test      0.0021894380915910006\n",
      "  homo/std_target/test      1.0721430778503418\n",
      "        loss/test           1.4432932138442993\n",
      "────────────────────────────────────────────────────────────────────────────────────────────────────────────────────────\n",
      "\n",
      "------------ TESTING COMPLETED ------------\n",
      "\n",
      "\n",
      "--------------------------------------------\n",
      "total computation used 7.743104385212064\n",
      "--------------------------------------------\n"
     ]
    },
    {
     "data": {
      "text/html": [
       "Waiting for W&B process to finish... <strong style=\"color:green\">(success).</strong>"
      ],
      "text/plain": [
       "<IPython.core.display.HTML object>"
      ]
     },
     "metadata": {},
     "output_type": "display_data"
    },
    {
     "data": {
      "application/vnd.jupyter.widget-view+json": {
       "model_id": "44f1543cb7da40658e2729e98adf5742",
       "version_major": 2,
       "version_minor": 0
      },
      "text/plain": [
       "VBox(children=(Label(value='0.001 MB of 0.001 MB uploaded (0.000 MB deduped)\\r'), FloatProgress(value=1.0, max…"
      ]
     },
     "metadata": {},
     "output_type": "display_data"
    },
    {
     "data": {
      "text/html": [
       "<style>\n",
       "    table.wandb td:nth-child(1) { padding: 0 10px; text-align: left ; width: auto;} td:nth-child(2) {text-align: left ; width: 100%}\n",
       "    .wandb-row { display: flex; flex-direction: row; flex-wrap: wrap; justify-content: flex-start; width: 100% }\n",
       "    .wandb-col { display: flex; flex-direction: column; flex-basis: 100%; flex: 1; padding: 10px; }\n",
       "    </style>\n",
       "<div class=\"wandb-row\"><div class=\"wandb-col\"><h3>Run history:</h3><br/><table class=\"wandb\"><tr><td>alpha/MSELossIPU/test</td><td>▁</td></tr><tr><td>alpha/MSELossIPU/train</td><td>▃▃▁▁▄▄▄▄██▅▅▂▂██▇▇▂▂▃▃▁▁▄▄▄▄██▅▅▂▂██▇▇▂▂</td></tr><tr><td>alpha/MSELossIPU/val</td><td>█▁</td></tr><tr><td>alpha/loss/test</td><td>▁</td></tr><tr><td>alpha/loss/val</td><td>█▁</td></tr><tr><td>alpha/mae/test</td><td>▁</td></tr><tr><td>alpha/mae/train</td><td>▃▃▁▁▅▅▄▄██▄▄▂▂▄▄▃▃▃▃▃▃▁▁▅▅▄▄██▄▄▂▂▄▄▃▃▃▃</td></tr><tr><td>alpha/mae/val</td><td>▁█</td></tr><tr><td>alpha/mean_pred/test</td><td>▁</td></tr><tr><td>alpha/mean_pred/train</td><td>▆▆▇▇▇▇████▇▇▇▇▆▆▆▆▅▅▅▅▄▄▄▄▄▄▄▄▃▃▃▃▂▂▂▂▁▁</td></tr><tr><td>alpha/mean_pred/val</td><td>█▁</td></tr><tr><td>alpha/mean_target/test</td><td>▁</td></tr><tr><td>alpha/mean_target/train</td><td>████▇▇▄▄▁▁▅▅▃▃▅▅▆▆▅▅████▇▇▄▄▁▁▅▅▃▃▅▅▆▆▅▅</td></tr><tr><td>alpha/mean_target/val</td><td>▁▁</td></tr><tr><td>alpha/median_pred/test</td><td>▁</td></tr><tr><td>alpha/median_pred/train</td><td>▆▆▇▇▇▇████▇▇▇▇▆▆▆▆▅▅▅▅▄▄▄▄▄▄▄▄▃▃▃▃▂▂▂▂▁▁</td></tr><tr><td>alpha/median_pred/val</td><td>█▁</td></tr><tr><td>alpha/median_target/test</td><td>▁</td></tr><tr><td>alpha/median_target/train</td><td>▇▇▇▇▆▆▅▅▁▁▇▇▄▄▅▅▇▇██▇▇▇▇▆▆▅▅▁▁▇▇▄▄▅▅▇▇██</td></tr><tr><td>alpha/median_target/val</td><td>▁▁</td></tr><tr><td>alpha/pearsonr/test</td><td>▁</td></tr><tr><td>alpha/pearsonr/train</td><td>▁▁▇▇▅▅▅▅▇▇▆▆▂▂▃▃▁▁▇▇▂▂▃▃▃▃▄▄██▅▅▅▅▁▁▃▃▇▇</td></tr><tr><td>alpha/pearsonr/val</td><td>▁█</td></tr><tr><td>alpha/std_pred/test</td><td>▁</td></tr><tr><td>alpha/std_pred/train</td><td>▁▁▂▂▂▂▃▃▃▃▂▂▂▂▂▂▃▃▃▃▄▄▃▃▃▃▄▄▃▃▃▃▅▅▆▆▇▇██</td></tr><tr><td>alpha/std_pred/val</td><td>▁█</td></tr><tr><td>alpha/std_target/test</td><td>▁</td></tr><tr><td>alpha/std_target/train</td><td>▃▃▁▁▅▅▄▄▇▇▅▅▁▁██▇▇▂▂▃▃▁▁▅▅▄▄▇▇▅▅▁▁██▇▇▂▂</td></tr><tr><td>alpha/std_target/val</td><td>▁▁</td></tr><tr><td>cv/MSELossIPU/test</td><td>▁</td></tr><tr><td>cv/MSELossIPU/train</td><td>▁▁▂▂▄▄▄▄▆▆▆▆▂▂▇▇██▁▁▁▁▂▂▄▄▄▄▆▆▆▆▂▂▇▇██▁▁</td></tr><tr><td>cv/MSELossIPU/val</td><td>█▁</td></tr><tr><td>cv/loss/test</td><td>▁</td></tr><tr><td>cv/loss/val</td><td>█▁</td></tr><tr><td>cv/mae/test</td><td>▁▁</td></tr><tr><td>cv/mae/train</td><td>▁▁▂▂▃▃▆▆████▁▁▅▅▅▅▂▂▁▁▂▂▃▃▆▆████▁▁▅▅▅▅▂▂</td></tr><tr><td>cv/mae/val</td><td>█▁</td></tr><tr><td>cv/mean_pred/test</td><td>▁</td></tr><tr><td>cv/mean_pred/train</td><td>██▇▇██████▇▇▇▇▆▆▆▆▅▅▅▅▄▄▄▄▄▄▃▃▃▃▂▂▂▂▁▁▁▁</td></tr><tr><td>cv/mean_pred/val</td><td>█▁</td></tr><tr><td>cv/mean_target/test</td><td>▁</td></tr><tr><td>cv/mean_target/train</td><td>▂▂██▅▅▂▂▁▁▃▃▄▄▃▃▂▂▂▂▂▂██▅▅▂▂▁▁▃▃▄▄▃▃▂▂▂▂</td></tr><tr><td>cv/mean_target/val</td><td>▁▁</td></tr><tr><td>cv/median_pred/test</td><td>▁</td></tr><tr><td>cv/median_pred/train</td><td>██▇▇██████▇▇▇▇▆▆▆▆▅▅▅▅▄▄▄▄▄▄▃▃▃▃▂▂▂▂▁▁▁▁</td></tr><tr><td>cv/median_pred/val</td><td>█▁</td></tr><tr><td>cv/median_target/test</td><td>▁</td></tr><tr><td>cv/median_target/train</td><td>▃▃██▃▃▁▁▁▁▅▅▄▄▄▄▂▂▂▂▃▃██▃▃▁▁▁▁▅▅▄▄▄▄▂▂▂▂</td></tr><tr><td>cv/median_target/val</td><td>▁▁</td></tr><tr><td>cv/pearsonr/test</td><td>▁</td></tr><tr><td>cv/pearsonr/train</td><td>▁▁▄▄▂▂▆▆██▅▅▄▄████▆▆▄▄▅▅▅▅▆▆▂▂▃▃▆▆▄▄▃▃▃▃</td></tr><tr><td>cv/pearsonr/val</td><td>█▁</td></tr><tr><td>cv/std_pred/test</td><td>▁</td></tr><tr><td>cv/std_pred/train</td><td>▁▁▂▂▃▃▄▄▄▄▃▃▂▂▂▂▂▂▃▃▂▂▃▃▂▂▃▃▃▃▄▄▅▅▅▅▃▃██</td></tr><tr><td>cv/std_pred/val</td><td>▁█</td></tr><tr><td>cv/std_target/test</td><td>▁</td></tr><tr><td>cv/std_target/train</td><td>▁▁▂▂▄▄▄▄▆▆▇▇▂▂████▁▁▁▁▂▂▄▄▄▄▆▆▇▇▂▂████▁▁</td></tr><tr><td>cv/std_target/val</td><td>▁▁</td></tr><tr><td>epoch</td><td>▁▅█</td></tr><tr><td>grad_norm</td><td>▁▁▄▄▄▄▂▂▅▅██▃▃▅▅▃▃▄▄▁▁▄▄▄▄▂▂▅▅██▃▃▅▅▃▃▃▃</td></tr><tr><td>homo/MSELossIPU/test</td><td>▁</td></tr><tr><td>homo/MSELossIPU/train</td><td>▃▃▁▁▇▇▅▅▅▅▄▄██▄▄██▅▅▃▃▁▁▇▇▅▅▅▅▄▄▇▇▄▄██▅▅</td></tr><tr><td>homo/MSELossIPU/val</td><td>█▁</td></tr><tr><td>homo/loss/test</td><td>▁</td></tr><tr><td>homo/loss/val</td><td>█▁</td></tr><tr><td>homo/mae/test</td><td>▁</td></tr><tr><td>homo/mae/train</td><td>▃▃▁▁▇▇▆▆▆▆▆▆██▆▆▇▇▆▆▃▃▁▁▇▇▆▆▆▆▆▆██▆▆▇▇▆▆</td></tr><tr><td>homo/mae/val</td><td>█▁</td></tr><tr><td>homo/mean_pred/test</td><td>▁</td></tr><tr><td>homo/mean_pred/train</td><td>▆▆▇▇▇▇██████▇▇▆▆▆▆▅▅▅▅▅▅▅▅▄▄▄▄▄▄▃▃▂▂▂▂▁▁</td></tr><tr><td>homo/mean_pred/val</td><td>█▁</td></tr><tr><td>homo/mean_target/test</td><td>▁</td></tr><tr><td>homo/mean_target/train</td><td>██▄▄▅▅▃▃▁▁▃▃▁▁▆▆▃▃▄▄██▄▄▅▅▃▃▁▁▃▃▁▁▆▆▃▃▄▄</td></tr><tr><td>homo/mean_target/val</td><td>▁▁</td></tr><tr><td>homo/median_pred/test</td><td>▁</td></tr><tr><td>homo/median_pred/train</td><td>▆▆▇▇████████▇▇▆▆▆▆▅▅▅▅▅▅▄▄▄▄▄▄▃▃▃▃▂▂▂▂▁▁</td></tr><tr><td>homo/median_pred/val</td><td>█▁</td></tr><tr><td>homo/median_target/test</td><td>▁</td></tr><tr><td>homo/median_target/train</td><td>██▃▃▅▅▄▄▁▁▃▃▄▄▅▅▄▄▄▄██▃▃▅▅▄▄▁▁▃▃▄▄▅▅▄▄▄▄</td></tr><tr><td>homo/median_target/val</td><td>▁▁</td></tr><tr><td>homo/pearsonr/test</td><td>▁</td></tr><tr><td>homo/pearsonr/train</td><td>▅▅▃▃▅▅▃▃▃▃▆▆▄▄▁▁▁▁▃▃▄▄▂▂▇▇██▅▅██▄▄▅▅▅▅▇▇</td></tr><tr><td>homo/pearsonr/val</td><td>▁█</td></tr><tr><td>homo/std_pred/test</td><td>▁</td></tr><tr><td>homo/std_pred/train</td><td>▁▁▁▁▁▁▂▂▁▁▂▂▂▂▃▃▃▃▃▃▃▃▄▄▅▅▅▅▅▅▆▆▇▇▇▇▇▇██</td></tr><tr><td>homo/std_pred/val</td><td>▁█</td></tr><tr><td>homo/std_target/test</td><td>▁</td></tr><tr><td>homo/std_target/train</td><td>▃▃▁▁▇▇▅▅▅▅▄▄▇▇▅▅██▅▅▃▃▁▁▇▇▅▅▅▅▄▄▇▇▅▅██▅▅</td></tr><tr><td>homo/std_target/val</td><td>▁▁</td></tr><tr><td>loss</td><td>▂▂▁▁▅▅▄▄▇▇▅▅▃▃▇▇██▃▃▂▂▁▁▅▅▄▄▇▇▅▅▃▃▇▇██▃▃</td></tr><tr><td>loss/test</td><td>▁</td></tr><tr><td>loss/train</td><td>▂▂▁▁▅▅▄▄▇▇▅▅▃▃▇▇██▃▃▂▂▁▁▅▅▄▄▇▇▅▅▃▃▇▇██▃▃</td></tr><tr><td>loss/val</td><td>█▁</td></tr><tr><td>train/grad_norm</td><td>▁▁▄▄▄▄▂▂▅▅██▃▃▅▅▃▃▄▄▁▁▄▄▄▄▂▂▅▅██▃▃▅▅▃▃▃▃</td></tr><tr><td>trainer/global_step</td><td>▁▁▁▂▂▂▂▂▂▃▃▃▃▃▄▄▄▄▅▄▅▅▅▅▆▆▆▆▆▆▇▇▇▇▇█████</td></tr></table><br/></div><div class=\"wandb-col\"><h3>Run summary:</h3><br/><table class=\"wandb\"><tr><td>alpha/MSELossIPU/test</td><td>1.74966</td></tr><tr><td>alpha/MSELossIPU/train</td><td>0.90108</td></tr><tr><td>alpha/MSELossIPU/val</td><td>1.60992</td></tr><tr><td>alpha/loss/test</td><td>1.74966</td></tr><tr><td>alpha/loss/val</td><td>1.60992</td></tr><tr><td>alpha/mae/test</td><td>0.91791</td></tr><tr><td>alpha/mae/train</td><td>0.77236</td></tr><tr><td>alpha/mae/val</td><td>0.8726</td></tr><tr><td>alpha/mean_pred/test</td><td>-0.00898</td></tr><tr><td>alpha/mean_pred/train</td><td>-0.00798</td></tr><tr><td>alpha/mean_pred/val</td><td>-0.00897</td></tr><tr><td>alpha/mean_target/test</td><td>-0.17942</td></tr><tr><td>alpha/mean_target/train</td><td>-0.09801</td></tr><tr><td>alpha/mean_target/val</td><td>-0.02273</td></tr><tr><td>alpha/median_pred/test</td><td>-0.00897</td></tr><tr><td>alpha/median_pred/train</td><td>-0.00805</td></tr><tr><td>alpha/median_pred/val</td><td>-0.00898</td></tr><tr><td>alpha/median_target/test</td><td>-0.05878</td></tr><tr><td>alpha/median_target/train</td><td>0.15369</td></tr><tr><td>alpha/median_target/val</td><td>0.02672</td></tr><tr><td>alpha/pearsonr/test</td><td>-0.12444</td></tr><tr><td>alpha/pearsonr/train</td><td>0.18237</td></tr><tr><td>alpha/pearsonr/val</td><td>0.14056</td></tr><tr><td>alpha/std_pred/test</td><td>0.00016</td></tr><tr><td>alpha/std_pred/train</td><td>0.00029</td></tr><tr><td>alpha/std_pred/val</td><td>0.00014</td></tr><tr><td>alpha/std_target/test</td><td>1.31536</td></tr><tr><td>alpha/std_target/train</td><td>0.953</td></tr><tr><td>alpha/std_target/val</td><td>1.27231</td></tr><tr><td>cv/MSELossIPU/test</td><td>1.41879</td></tr><tr><td>cv/MSELossIPU/train</td><td>0.8272</td></tr><tr><td>cv/MSELossIPU/val</td><td>1.13549</td></tr><tr><td>cv/loss/test</td><td>1.41879</td></tr><tr><td>cv/loss/val</td><td>1.13549</td></tr><tr><td>cv/mae/test</td><td>0.85749</td></tr><tr><td>cv/mae/train</td><td>0.75783</td></tr><tr><td>cv/mae/val</td><td>0.80086</td></tr><tr><td>cv/mean_pred/test</td><td>-0.01068</td></tr><tr><td>cv/mean_pred/train</td><td>-0.00981</td></tr><tr><td>cv/mean_pred/val</td><td>-0.01067</td></tr><tr><td>cv/mean_target/test</td><td>-0.11077</td></tr><tr><td>cv/mean_target/train</td><td>-0.17124</td></tr><tr><td>cv/mean_target/val</td><td>-0.06714</td></tr><tr><td>cv/median_pred/test</td><td>-0.01068</td></tr><tr><td>cv/median_pred/train</td><td>-0.00987</td></tr><tr><td>cv/median_pred/val</td><td>-0.01068</td></tr><tr><td>cv/median_target/test</td><td>-0.07501</td></tr><tr><td>cv/median_target/train</td><td>-0.25171</td></tr><tr><td>cv/median_target/val</td><td>-0.0361</td></tr><tr><td>cv/pearsonr/test</td><td>0.27874</td></tr><tr><td>cv/pearsonr/train</td><td>0.04394</td></tr><tr><td>cv/pearsonr/val</td><td>0.32561</td></tr><tr><td>cv/std_pred/test</td><td>4e-05</td></tr><tr><td>cv/std_pred/train</td><td>0.0002</td></tr><tr><td>cv/std_pred/val</td><td>4e-05</td></tr><tr><td>cv/std_target/test</td><td>1.19024</td></tr><tr><td>cv/std_target/train</td><td>0.90263</td></tr><tr><td>cv/std_target/val</td><td>1.06708</td></tr><tr><td>epoch</td><td>2</td></tr><tr><td>grad_norm</td><td>0.1192</td></tr><tr><td>homo/MSELossIPU/test</td><td>1.16143</td></tr><tr><td>homo/MSELossIPU/train</td><td>0.98066</td></tr><tr><td>homo/MSELossIPU/val</td><td>1.04099</td></tr><tr><td>homo/loss/test</td><td>1.16143</td></tr><tr><td>homo/loss/val</td><td>1.04099</td></tr><tr><td>homo/mae/test</td><td>0.80717</td></tr><tr><td>homo/mae/train</td><td>0.78507</td></tr><tr><td>homo/mae/val</td><td>0.7989</td></tr><tr><td>homo/mean_pred/test</td><td>-0.00456</td></tr><tr><td>homo/mean_pred/train</td><td>-0.00393</td></tr><tr><td>homo/mean_pred/val</td><td>-0.00456</td></tr><tr><td>homo/mean_target/test</td><td>0.1172</td></tr><tr><td>homo/mean_target/train</td><td>-0.01598</td></tr><tr><td>homo/mean_target/val</td><td>-0.05256</td></tr><tr><td>homo/median_pred/test</td><td>-0.00599</td></tr><tr><td>homo/median_pred/train</td><td>-0.00543</td></tr><tr><td>homo/median_pred/val</td><td>-0.00606</td></tr><tr><td>homo/median_target/test</td><td>0.13904</td></tr><tr><td>homo/median_target/train</td><td>-0.06885</td></tr><tr><td>homo/median_target/val</td><td>-0.08783</td></tr><tr><td>homo/pearsonr/test</td><td>0.23112</td></tr><tr><td>homo/pearsonr/train</td><td>0.16284</td></tr><tr><td>homo/pearsonr/val</td><td>0.23905</td></tr><tr><td>homo/std_pred/test</td><td>0.00219</td></tr><tr><td>homo/std_pred/train</td><td>0.00209</td></tr><tr><td>homo/std_pred/val</td><td>0.00219</td></tr><tr><td>homo/std_target/test</td><td>1.07214</td></tr><tr><td>homo/std_target/train</td><td>0.99432</td></tr><tr><td>homo/std_target/val</td><td>1.02055</td></tr><tr><td>loss</td><td>0.90298</td></tr><tr><td>loss/test</td><td>1.44329</td></tr><tr><td>loss/train</td><td>0.90298</td></tr><tr><td>loss/val</td><td>1.26214</td></tr><tr><td>train/grad_norm</td><td>0.1192</td></tr><tr><td>trainer/global_step</td><td>20</td></tr></table><br/></div></div>"
      ],
      "text/plain": [
       "<IPython.core.display.HTML object>"
      ]
     },
     "metadata": {},
     "output_type": "display_data"
    },
    {
     "data": {
      "text/html": [
       "Synced <strong style=\"color:#cdcd00\">olek_test_ipu_07/09/2022_gnn.hid=64_gnn.depth=1</strong>: <a href=\"https://wandb.ai/multitask-gnn/multitask-gnn/runs/37wz766s\" target=\"_blank\">https://wandb.ai/multitask-gnn/multitask-gnn/runs/37wz766s</a><br/>Synced 5 W&B file(s), 0 media file(s), 0 artifact file(s) and 1 other file(s)"
      ],
      "text/plain": [
       "<IPython.core.display.HTML object>"
      ]
     },
     "metadata": {},
     "output_type": "display_data"
    },
    {
     "data": {
      "text/html": [
       "Find logs at: <code>./wandb/run-20220907_201402-37wz766s/logs</code>"
      ],
      "text/plain": [
       "<IPython.core.display.HTML object>"
      ]
     },
     "metadata": {},
     "output_type": "display_data"
    },
    {
     "name": "stderr",
     "output_type": "stream",
     "text": [
      "\u001b[32m[I 2022-09-07 20:14:16,137]\u001b[0m Trial 3 finished with value: 0.8574861884117126 and parameters: {'gnn.hid': 64, 'gnn.depth': 1}. Best is trial 0 with value: 0.8514640927314758.\u001b[0m\n",
      "/home/oleksandr/.venv/goli_ipu/lib/python3.8/site-packages/optuna/distributions.py:560: UserWarning: The distribution is specified by [16, 124] and step=16, but the range is not divisible by `step`. It will be replaced by [16, 112].\n",
      "  warnings.warn(\n",
      "/tmp/ipykernel_1736612/3964897578.py:106: LightningDeprecationWarning: The `LightningModule.summarize` method is deprecated in v1.5 and will be removed in v1.7. Use `pytorch_lightning.utilities.model_summary.summarize` instead.\n",
      "  accu = main(cfg, trial, run_name=run_name[:len(run_name) - 1])\n"
     ]
    },
    {
     "name": "stdout",
     "output_type": "stream",
     "text": [
      "{'homo': {'mae': mean_absolute_error, 'pearsonr': pearson_corrcoef}, 'alpha': {'mae': mean_absolute_error, 'pearsonr': pearson_corrcoef}, 'cv': {'mae': mean_absolute_error, 'pearsonr': pearson_corrcoef}}\n",
      "MTL_DGL_GNN\n",
      "-------------\n",
      "    pre-NN(depth=1, ResidualConnectionNone)\n",
      "        [FCLayer[55 -> 32]\n",
      "    \n",
      "    pre-NN-edges(depth=1, ResidualConnectionNone)\n",
      "        [FCLayer[13 -> 16]\n",
      "    \n",
      "    GNN(depth=3, ResidualConnectionSimple(skip_steps=1))\n",
      "        GPSLayerPyg[32 -> 32 -> 32 -> 32]\n",
      "        -> Pooling(['sum', 'mean', 'max']) -> FCLayer(96 -> 32, activation=None)\n",
      "    \n",
      "\n",
      "   | Name                              | Type                      | Params\n",
      "---------------------------------------------------------------------------------\n",
      "0  | model                             | FullGraphMultiTaskNetwork | 44.8 K\n",
      "1  | model.pre_nn                      | FeedForwardNN             | 1.8 K \n",
      "2  | model.pre_nn.activation           | ReLU                      | 0     \n",
      "3  | model.pre_nn.residual_layer       | ResidualConnectionNone    | 0     \n",
      "4  | model.pre_nn.layers               | ModuleList                | 1.8 K \n",
      "5  | model.pre_nn.layers.0             | FCLayer                   | 1.8 K \n",
      "6  | model.pre_nn_edges                | FeedForwardNN             | 224   \n",
      "7  | model.pre_nn_edges.activation     | ReLU                      | 0     \n",
      "8  | model.pre_nn_edges.residual_layer | ResidualConnectionNone    | 0     \n",
      "9  | model.pre_nn_edges.layers         | ModuleList                | 224   \n",
      "10 | model.pre_nn_edges.layers.0       | FCLayer                   | 224   \n",
      "11 | model.gnn                         | FeedForwardPyg            | 39.5 K\n",
      "12 | model.gnn.activation              | ReLU                      | 0     \n",
      "13 | model.gnn.layers                  | ModuleList                | 36.4 K\n",
      "14 | model.gnn.layers.0                | GPSLayerPyg               | 12.1 K\n",
      "15 | model.gnn.layers.1                | GPSLayerPyg               | 12.1 K\n",
      "16 | model.gnn.layers.2                | GPSLayerPyg               | 12.1 K\n",
      "17 | model.gnn.virtual_node_layers     | ModuleList                | 0     \n",
      "18 | model.gnn.virtual_node_layers.0   | VirtualNodePyg            | 0     \n",
      "19 | model.gnn.virtual_node_layers.1   | VirtualNodePyg            | 0     \n",
      "20 | model.gnn.residual_layer          | ResidualConnectionSimple  | 0     \n",
      "21 | model.gnn.global_pool_layer       | ModuleListConcat          | 0     \n",
      "22 | model.gnn.global_pool_layer.0     | PoolingWrapperPyg         | 0     \n",
      "23 | model.gnn.global_pool_layer.1     | PoolingWrapperPyg         | 0     \n",
      "24 | model.gnn.global_pool_layer.2     | PoolingWrapperPyg         | 0     \n",
      "25 | model.gnn.out_linear              | FCLayer                   | 3.1 K \n",
      "26 | model.gnn.out_linear.linear       | Linear                    | 3.1 K \n",
      "27 | model.gnn.out_linear.dropout      | Dropout                   | 0     \n",
      "28 | model.task_heads                  | TaskHeads                 | 3.3 K \n",
      "29 | model.task_heads.task_heads       | ModuleDict                | 3.3 K \n",
      "30 | model.task_heads.task_heads.homo  | TaskHead                  | 1.1 K \n",
      "31 | model.task_heads.task_heads.alpha | TaskHead                  | 1.1 K \n",
      "32 | model.task_heads.task_heads.cv    | TaskHead                  | 1.1 K \n",
      "---------------------------------------------------------------------------------\n",
      "44.8 K    Trainable params\n",
      "0         Non-trainable params\n",
      "44.8 K    Total params\n",
      "0.179     Total estimated model params size (MB)\n"
     ]
    },
    {
     "data": {
      "text/html": [
       "wandb version 0.13.2 is available!  To upgrade, please run:\n",
       " $ pip install wandb --upgrade"
      ],
      "text/plain": [
       "<IPython.core.display.HTML object>"
      ]
     },
     "metadata": {},
     "output_type": "display_data"
    },
    {
     "data": {
      "text/html": [
       "Tracking run with wandb version 0.13.1"
      ],
      "text/plain": [
       "<IPython.core.display.HTML object>"
      ]
     },
     "metadata": {},
     "output_type": "display_data"
    },
    {
     "data": {
      "text/html": [
       "Run data is saved locally in <code>/home/oleksandr/code/goli/wandb/run-20220907_201416-30tvvpzi</code>"
      ],
      "text/plain": [
       "<IPython.core.display.HTML object>"
      ]
     },
     "metadata": {},
     "output_type": "display_data"
    },
    {
     "data": {
      "text/html": [
       "Syncing run <strong><a href=\"https://wandb.ai/multitask-gnn/multitask-gnn/runs/30tvvpzi\" target=\"_blank\">olek_test_ipu_07/09/2022_gnn.hid=32_gnn.depth=3</a></strong> to <a href=\"https://wandb.ai/multitask-gnn/multitask-gnn\" target=\"_blank\">Weights & Biases</a> (<a href=\"https://wandb.me/run\" target=\"_blank\">docs</a>)<br/>"
      ],
      "text/plain": [
       "<IPython.core.display.HTML object>"
      ]
     },
     "metadata": {},
     "output_type": "display_data"
    },
    {
     "name": "stderr",
     "output_type": "stream",
     "text": [
      "/home/oleksandr/.venv/goli_ipu/lib/python3.8/site-packages/pytorch_lightning/trainer/trainer.py:572: LightningDeprecationWarning: Trainer argument `terminate_on_nan` was deprecated in v1.5 and will be removed in 1.7. Please use `Trainer(detect_anomaly=True)` instead.\n",
      "  rank_zero_deprecation(\n",
      "GPU available: False, used: False\n",
      "TPU available: False, using: 0 TPU cores\n",
      "IPU available: True, using: 0 IPUs\n",
      "HPU available: False, using: 0 HPUs\n",
      "/home/oleksandr/.venv/goli_ipu/lib/python3.8/site-packages/pytorch_lightning/trainer/trainer.py:1836: UserWarning: IPU available but not used. Set `accelerator` and `devices` using `Trainer(accelerator='ipu', devices=4)`.\n",
      "  rank_zero_warn(\n",
      "2022-09-07 20:14:17.733 | INFO     | goli.data.datamodule:prepare_data:669 - Reading data for task 'homo'\n",
      "2022-09-07 20:14:17.747 | INFO     | goli.data.datamodule:prepare_data:669 - Reading data for task 'alpha'\n",
      "2022-09-07 20:14:17.757 | INFO     | goli.data.datamodule:prepare_data:669 - Reading data for task 'cv'\n",
      "2022-09-07 20:14:17.768 | INFO     | goli.data.datamodule:prepare_data:687 - Done reading datasets\n",
      "2022-09-07 20:14:17.768 | INFO     | goli.data.datamodule:prepare_data:699 - Prepare single-task dataset for task 'homo' with 1005 data points.\n",
      "2022-09-07 20:14:17.769 | INFO     | goli.data.datamodule:prepare_data:699 - Prepare single-task dataset for task 'alpha' with 1005 data points.\n",
      "2022-09-07 20:14:17.770 | INFO     | goli.data.datamodule:prepare_data:699 - Prepare single-task dataset for task 'cv' with 1005 data points.\n"
     ]
    },
    {
     "data": {
      "application/vnd.jupyter.widget-view+json": {
       "model_id": "3c5d9e9f6c2547c3b9080d4ae77b9b04",
       "version_major": 2,
       "version_minor": 0
      },
      "text/plain": [
       "mols to ids:   0%|          | 0/3015 [00:00<?, ?it/s]"
      ]
     },
     "metadata": {},
     "output_type": "display_data"
    },
    {
     "data": {
      "application/vnd.jupyter.widget-view+json": {
       "model_id": "135095ac66aa4464809fcef25d233bea",
       "version_major": 2,
       "version_minor": 0
      },
      "text/plain": [
       "featurizing_smiles:   0%|          | 0/1005 [00:00<?, ?it/s]"
      ]
     },
     "metadata": {},
     "output_type": "display_data"
    },
    {
     "name": "stderr",
     "output_type": "stream",
     "text": [
      "/home/oleksandr/.venv/goli_ipu/lib/python3.8/site-packages/pytorch_lightning/trainer/configuration_validator.py:154: LightningDeprecationWarning: The `LightningModule.get_progress_bar_dict` method was deprecated in v1.5 and will be removed in v1.7. Please use the `ProgressBarBase.get_metrics` instead.\n",
      "  rank_zero_deprecation(\n"
     ]
    },
    {
     "data": {
      "application/vnd.jupyter.widget-view+json": {
       "model_id": "897486a91a3a428babbb46c96ace2016",
       "version_major": 2,
       "version_minor": 0
      },
      "text/plain": [
       "mols to ids:   0%|          | 0/1809 [00:00<?, ?it/s]"
      ]
     },
     "metadata": {},
     "output_type": "display_data"
    },
    {
     "data": {
      "application/vnd.jupyter.widget-view+json": {
       "model_id": "6a16377dcab345e98dd9b172b937348b",
       "version_major": 2,
       "version_minor": 0
      },
      "text/plain": [
       "mols to ids:   0%|          | 0/603 [00:00<?, ?it/s]"
      ]
     },
     "metadata": {},
     "output_type": "display_data"
    },
    {
     "name": "stderr",
     "output_type": "stream",
     "text": [
      "/home/oleksandr/.venv/goli_ipu/lib/python3.8/site-packages/pytorch_lightning/callbacks/model_checkpoint.py:608: UserWarning: Checkpoint directory /home/oleksandr/code/goli/models_checkpoints/QM9 exists and is not empty.\n",
      "  rank_zero_warn(f\"Checkpoint directory {dirpath} exists and is not empty.\")\n",
      "\n",
      "  | Name  | Type                      | Params\n",
      "----------------------------------------------------\n",
      "0 | model | FullGraphMultiTaskNetwork | 44.8 K\n",
      "----------------------------------------------------\n",
      "44.8 K    Trainable params\n",
      "0         Non-trainable params\n",
      "44.8 K    Total params\n",
      "0.179     Total estimated model params size (MB)\n"
     ]
    },
    {
     "name": "stdout",
     "output_type": "stream",
     "text": [
      "-------------------\n",
      "MultitaskDataset\n",
      "\tabout = training set\n",
      "\tnum_graphs_total = 603\n",
      "\tnum_nodes_total = 5285\n",
      "\tmax_num_nodes_per_graph = 9\n",
      "\tmin_num_nodes_per_graph = 1\n",
      "\tstd_num_nodes_per_graph = 0.6989218547197285\n",
      "\tmean_num_nodes_per_graph = 8.764510779436153\n",
      "\tnum_edges_total = 11316\n",
      "\tmax_num_edges_per_graph = 26\n",
      "\tmin_num_edges_per_graph = 0\n",
      "\tstd_num_edges_per_graph = 2.6821780989470896\n",
      "\tmean_num_edges_per_graph = 18.766169154228855\n",
      "-------------------\n",
      "\n",
      "-------------------\n",
      "MultitaskDataset\n",
      "\tabout = validation set\n",
      "\tnum_graphs_total = 201\n",
      "\tnum_nodes_total = 1756\n",
      "\tmax_num_nodes_per_graph = 9\n",
      "\tmin_num_nodes_per_graph = 2\n",
      "\tstd_num_nodes_per_graph = 0.7949619835770694\n",
      "\tmean_num_nodes_per_graph = 8.7363184079602\n",
      "\tnum_edges_total = 3736\n",
      "\tmax_num_edges_per_graph = 24\n",
      "\tmin_num_edges_per_graph = 2\n",
      "\tstd_num_edges_per_graph = 2.7704251592456193\n",
      "\tmean_num_edges_per_graph = 18.587064676616915\n",
      "-------------------\n",
      "\n"
     ]
    },
    {
     "data": {
      "application/vnd.jupyter.widget-view+json": {
       "model_id": "08840cdb788543b483daf318ca86c132",
       "version_major": 2,
       "version_minor": 0
      },
      "text/plain": [
       "Sanity Checking: 0it [00:00, ?it/s]"
      ]
     },
     "metadata": {},
     "output_type": "display_data"
    },
    {
     "name": "stderr",
     "output_type": "stream",
     "text": [
      "2022-09-07 20:14:22.567 | WARNING  | goli.data.datamodule:_dataloader:1545 - No IPU options for stage val. Using regular dataloader.\n",
      "/home/oleksandr/.venv/goli_ipu/lib/python3.8/site-packages/pytorch_lightning/trainer/connectors/data_connector.py:240: PossibleUserWarning: The dataloader, val_dataloader 0, does not have many workers which may be a bottleneck. Consider increasing the value of the `num_workers` argument` (try 104 which is the number of cpus on this machine) in the `DataLoader` init to improve performance.\n",
      "  rank_zero_warn(\n",
      "2022-09-07 20:14:22.639 | WARNING  | goli.data.datamodule:_dataloader:1545 - No IPU options for stage train. Using regular dataloader.\n",
      "/home/oleksandr/.venv/goli_ipu/lib/python3.8/site-packages/pytorch_lightning/trainer/connectors/data_connector.py:240: PossibleUserWarning: The dataloader, train_dataloader, does not have many workers which may be a bottleneck. Consider increasing the value of the `num_workers` argument` (try 104 which is the number of cpus on this machine) in the `DataLoader` init to improve performance.\n",
      "  rank_zero_warn(\n",
      "/home/oleksandr/.venv/goli_ipu/lib/python3.8/site-packages/pytorch_lightning/trainer/trainer.py:1938: PossibleUserWarning: The number of training samples (10) is smaller than the logging interval Trainer(log_every_n_steps=50). Set a lower value for log_every_n_steps if you want to see logs for the training epoch.\n",
      "  rank_zero_warn(\n"
     ]
    },
    {
     "data": {
      "application/vnd.jupyter.widget-view+json": {
       "model_id": "738667aad1b946daab19e2ea96148c97",
       "version_major": 2,
       "version_minor": 0
      },
      "text/plain": [
       "Training: 0it [00:00, ?it/s]"
      ]
     },
     "metadata": {},
     "output_type": "display_data"
    },
    {
     "data": {
      "application/vnd.jupyter.widget-view+json": {
       "model_id": "37248dc4fd1846fd92fcead0b8d7881d",
       "version_major": 2,
       "version_minor": 0
      },
      "text/plain": [
       "Validation: 0it [00:00, ?it/s]"
      ]
     },
     "metadata": {},
     "output_type": "display_data"
    },
    {
     "data": {
      "application/vnd.jupyter.widget-view+json": {
       "model_id": "ac3d19394bd54f1c86e5b32b99f6d316",
       "version_major": 2,
       "version_minor": 0
      },
      "text/plain": [
       "Validation: 0it [00:00, ?it/s]"
      ]
     },
     "metadata": {},
     "output_type": "display_data"
    },
    {
     "name": "stdout",
     "output_type": "stream",
     "text": [
      "\n",
      "------------ TRAINING STARTED ------------\n",
      "\n",
      "------------ TRAINING COMPLETED ------------\n",
      "\n",
      "\n",
      "\n",
      "------------ TESTING STARTED ------------\n"
     ]
    },
    {
     "data": {
      "application/vnd.jupyter.widget-view+json": {
       "model_id": "652a46e9a23b4fea82e02cbe2f203f88",
       "version_major": 2,
       "version_minor": 0
      },
      "text/plain": [
       "mols to ids:   0%|          | 0/603 [00:00<?, ?it/s]"
      ]
     },
     "metadata": {},
     "output_type": "display_data"
    },
    {
     "name": "stdout",
     "output_type": "stream",
     "text": [
      "-------------------\n",
      "MultitaskDataset\n",
      "\tabout = test set\n",
      "\tnum_graphs_total = 201\n",
      "\tnum_nodes_total = 1751\n",
      "\tmax_num_nodes_per_graph = 9\n",
      "\tmin_num_nodes_per_graph = 1\n",
      "\tstd_num_nodes_per_graph = 0.9443829267824616\n",
      "\tmean_num_nodes_per_graph = 8.711442786069652\n",
      "\tnum_edges_total = 3748\n",
      "\tmax_num_edges_per_graph = 26\n",
      "\tmin_num_edges_per_graph = 0\n",
      "\tstd_num_edges_per_graph = 3.0647412282392468\n",
      "\tmean_num_edges_per_graph = 18.64676616915423\n",
      "-------------------\n",
      "\n"
     ]
    },
    {
     "name": "stderr",
     "output_type": "stream",
     "text": [
      "2022-09-07 20:14:23.678 | WARNING  | goli.data.datamodule:_dataloader:1545 - No IPU options for stage test. Using regular dataloader.\n",
      "/home/oleksandr/.venv/goli_ipu/lib/python3.8/site-packages/pytorch_lightning/trainer/connectors/data_connector.py:240: PossibleUserWarning: The dataloader, test_dataloader 0, does not have many workers which may be a bottleneck. Consider increasing the value of the `num_workers` argument` (try 104 which is the number of cpus on this machine) in the `DataLoader` init to improve performance.\n",
      "  rank_zero_warn(\n"
     ]
    },
    {
     "data": {
      "application/vnd.jupyter.widget-view+json": {
       "model_id": "51d9628cf008448a85213be10bbb8cff",
       "version_major": 2,
       "version_minor": 0
      },
      "text/plain": [
       "Testing: 0it [00:00, ?it/s]"
      ]
     },
     "metadata": {},
     "output_type": "display_data"
    },
    {
     "name": "stdout",
     "output_type": "stream",
     "text": [
      "────────────────────────────────────────────────────────────────────────────────────────────────────────────────────────\n",
      "       Test metric             DataLoader 0\n",
      "────────────────────────────────────────────────────────────────────────────────────────────────────────────────────────\n",
      "  alpha/MSELossIPU/test     1.7398873567581177\n",
      "     alpha/loss/test        1.7398873567581177\n",
      "     alpha/mae/test         0.9153303503990173\n",
      "  alpha/mean_pred/test     -0.039938200265169144\n",
      " alpha/mean_target/test    -0.17942453920841217\n",
      " alpha/median_pred/test    -0.04046527296304703\n",
      "alpha/median_target/test     -0.05877685546875\n",
      "   alpha/pearsonr/test     0.010962050408124924\n",
      "   alpha/std_pred/test     0.005124276038259268\n",
      "  alpha/std_target/test     1.3153568506240845\n",
      "   cv/MSELossIPU/test       1.4108092784881592\n",
      "      cv/loss/test          1.4108092784881592\n",
      "       cv/mae/test          0.8540242314338684\n",
      "    cv/mean_pred/test      -0.06344887614250183\n",
      "   cv/mean_target/test     -0.11077180504798889\n",
      "   cv/median_pred/test     -0.06434155255556107\n",
      "  cv/median_target/test      -0.07501220703125\n",
      "    cv/pearsonr/test       0.015481033362448215\n",
      "    cv/std_pred/test       0.008129957132041454\n",
      "   cv/std_target/test        1.190240502357483\n",
      "  homo/MSELossIPU/test      1.1676214933395386\n",
      "     homo/loss/test         1.1676214933395386\n",
      "      homo/mae/test         0.8103700280189514\n",
      "   homo/mean_pred/test     -0.02596079558134079\n",
      "  homo/mean_target/test     0.11720336973667145\n",
      "  homo/median_pred/test    -0.01220606453716755\n",
      " homo/median_target/test      0.1390380859375\n",
      "   homo/pearsonr/test       0.12161494791507721\n",
      "   homo/std_pred/test      0.018282826989889145\n",
      "  homo/std_target/test      1.0721430778503418\n",
      "        loss/test           1.4394394159317017\n",
      "────────────────────────────────────────────────────────────────────────────────────────────────────────────────────────\n",
      "\n",
      "------------ TESTING COMPLETED ------------\n",
      "\n",
      "\n",
      "--------------------------------------------\n",
      "total computation used 7.643697918392718\n",
      "--------------------------------------------\n"
     ]
    },
    {
     "data": {
      "text/html": [
       "Waiting for W&B process to finish... <strong style=\"color:green\">(success).</strong>"
      ],
      "text/plain": [
       "<IPython.core.display.HTML object>"
      ]
     },
     "metadata": {},
     "output_type": "display_data"
    },
    {
     "data": {
      "application/vnd.jupyter.widget-view+json": {
       "model_id": "bb2ba704845e4eb2861267626b1dd40b",
       "version_major": 2,
       "version_minor": 0
      },
      "text/plain": [
       "VBox(children=(Label(value='0.001 MB of 0.001 MB uploaded (0.000 MB deduped)\\r'), FloatProgress(value=1.0, max…"
      ]
     },
     "metadata": {},
     "output_type": "display_data"
    },
    {
     "data": {
      "text/html": [
       "<style>\n",
       "    table.wandb td:nth-child(1) { padding: 0 10px; text-align: left ; width: auto;} td:nth-child(2) {text-align: left ; width: 100%}\n",
       "    .wandb-row { display: flex; flex-direction: row; flex-wrap: wrap; justify-content: flex-start; width: 100% }\n",
       "    .wandb-col { display: flex; flex-direction: column; flex-basis: 100%; flex: 1; padding: 10px; }\n",
       "    </style>\n",
       "<div class=\"wandb-row\"><div class=\"wandb-col\"><h3>Run history:</h3><br/><table class=\"wandb\"><tr><td>alpha/MSELossIPU/test</td><td>▁</td></tr><tr><td>alpha/MSELossIPU/train</td><td>▃▃▁▁▄▄▄▄██▅▅▂▂██▇▇▂▂▃▃▁▁▄▄▄▄██▅▅▂▂██▇▇▂▂</td></tr><tr><td>alpha/MSELossIPU/val</td><td>█▁</td></tr><tr><td>alpha/loss/test</td><td>▁</td></tr><tr><td>alpha/loss/val</td><td>█▁</td></tr><tr><td>alpha/mae/test</td><td>▁</td></tr><tr><td>alpha/mae/train</td><td>▃▃▁▁▅▅▄▄██▄▄▂▂▄▄▃▃▃▃▃▃▁▁▅▅▄▄██▄▄▂▂▄▄▃▃▃▃</td></tr><tr><td>alpha/mae/val</td><td>█▁</td></tr><tr><td>alpha/mean_pred/test</td><td>▁</td></tr><tr><td>alpha/mean_pred/train</td><td>▇▇▇▇██████▇▇▇▇▇▇▇▇▇▇▆▆▆▆▆▆▆▆▆▆▆▆▅▅▄▄▃▃▁▁</td></tr><tr><td>alpha/mean_pred/val</td><td>█▁</td></tr><tr><td>alpha/mean_target/test</td><td>▁</td></tr><tr><td>alpha/mean_target/train</td><td>████▇▇▄▄▁▁▅▅▃▃▅▅▆▆▅▅████▇▇▄▄▁▁▅▅▃▃▅▅▆▆▅▅</td></tr><tr><td>alpha/mean_target/val</td><td>▁▁</td></tr><tr><td>alpha/median_pred/test</td><td>▁</td></tr><tr><td>alpha/median_pred/train</td><td>▇▇▇▇██████▇▇▇▇▇▇▇▇▇▇▆▆▆▆▆▆▆▆▆▆▆▆▅▅▄▄▃▃▁▁</td></tr><tr><td>alpha/median_pred/val</td><td>█▁</td></tr><tr><td>alpha/median_target/test</td><td>▁</td></tr><tr><td>alpha/median_target/train</td><td>▇▇▇▇▆▆▅▅▁▁▇▇▄▄▅▅▇▇██▇▇▇▇▆▆▅▅▁▁▇▇▄▄▅▅▇▇██</td></tr><tr><td>alpha/median_target/val</td><td>▁▁</td></tr><tr><td>alpha/pearsonr/test</td><td>▁</td></tr><tr><td>alpha/pearsonr/train</td><td>▅▅▄▄▆▆▆▆▇▇▄▄▅▅▁▁▂▂▄▄▃▃▄▄▆▆▃▃▅▅▄▄▆▆▃▃▄▄██</td></tr><tr><td>alpha/pearsonr/val</td><td>▁█</td></tr><tr><td>alpha/std_pred/test</td><td>▁</td></tr><tr><td>alpha/std_pred/train</td><td>▁▁▁▁▁▁▂▂▁▁▁▁▁▁▁▁▁▁▁▁▁▁▂▂▁▁▂▂▂▂▂▂▃▃▄▄▆▆██</td></tr><tr><td>alpha/std_pred/val</td><td>▁█</td></tr><tr><td>alpha/std_target/test</td><td>▁</td></tr><tr><td>alpha/std_target/train</td><td>▃▃▁▁▅▅▄▄▇▇▅▅▁▁██▇▇▂▂▃▃▁▁▅▅▄▄▇▇▅▅▁▁██▇▇▂▂</td></tr><tr><td>alpha/std_target/val</td><td>▁▁</td></tr><tr><td>cv/MSELossIPU/test</td><td>▁</td></tr><tr><td>cv/MSELossIPU/train</td><td>▁▁▂▂▄▄▄▄▆▆▆▆▂▂▇▇██▁▁▁▁▂▂▄▄▄▄▆▆▆▆▂▂▇▇██▁▁</td></tr><tr><td>cv/MSELossIPU/val</td><td>█▁</td></tr><tr><td>cv/loss/test</td><td>▁</td></tr><tr><td>cv/loss/val</td><td>█▁</td></tr><tr><td>cv/mae/test</td><td>▁▁</td></tr><tr><td>cv/mae/train</td><td>▁▁▂▂▃▃▆▆████▁▁▅▅▅▅▂▂▁▁▂▂▃▃▅▅████▁▁▅▅▅▅▂▂</td></tr><tr><td>cv/mae/val</td><td>█▁</td></tr><tr><td>cv/mean_pred/test</td><td>▁</td></tr><tr><td>cv/mean_pred/train</td><td>██████████████▇▇▇▇▇▇▇▇▇▇▇▇▇▇▆▆▆▆▅▅▄▄▃▃▁▁</td></tr><tr><td>cv/mean_pred/val</td><td>█▁</td></tr><tr><td>cv/mean_target/test</td><td>▁</td></tr><tr><td>cv/mean_target/train</td><td>▂▂██▅▅▂▂▁▁▃▃▄▄▃▃▂▂▂▂▂▂██▅▅▂▂▁▁▃▃▄▄▃▃▂▂▂▂</td></tr><tr><td>cv/mean_target/val</td><td>▁▁</td></tr><tr><td>cv/median_pred/test</td><td>▁</td></tr><tr><td>cv/median_pred/train</td><td>██████████████▇▇▇▇▇▇▇▇▇▇▇▇▆▆▆▆▆▆▅▅▄▄▃▃▁▁</td></tr><tr><td>cv/median_pred/val</td><td>█▁</td></tr><tr><td>cv/median_target/test</td><td>▁</td></tr><tr><td>cv/median_target/train</td><td>▃▃██▃▃▁▁▁▁▅▅▄▄▄▄▂▂▂▂▃▃██▃▃▁▁▁▁▅▅▄▄▄▄▂▂▂▂</td></tr><tr><td>cv/median_target/val</td><td>▁▁</td></tr><tr><td>cv/pearsonr/test</td><td>▁</td></tr><tr><td>cv/pearsonr/train</td><td>▅▅▃▃▄▄▆▆▇▇▅▅▄▄▁▁▄▄▃▃▁▁▄▄▅▅▇▇▃▃▅▅▅▅▃▃▄▄██</td></tr><tr><td>cv/pearsonr/val</td><td>▁█</td></tr><tr><td>cv/std_pred/test</td><td>▁</td></tr><tr><td>cv/std_pred/train</td><td>▁▁▁▁▁▁▁▁▁▁▁▁▁▁▁▁▁▁▁▁▂▂▂▂▂▂▂▂▂▂▂▂▃▃▄▄▆▆██</td></tr><tr><td>cv/std_pred/val</td><td>▁█</td></tr><tr><td>cv/std_target/test</td><td>▁</td></tr><tr><td>cv/std_target/train</td><td>▁▁▂▂▄▄▄▄▆▆▇▇▂▂████▁▁▁▁▂▂▄▄▄▄▆▆▇▇▂▂████▁▁</td></tr><tr><td>cv/std_target/val</td><td>▁▁</td></tr><tr><td>epoch</td><td>▁▅█</td></tr><tr><td>grad_norm</td><td>▁▁▄▄▄▄▂▂▅▅██▃▃▅▅▃▃▄▄▁▁▄▄▄▄▂▂▅▅██▃▃▅▅▃▃▃▃</td></tr><tr><td>homo/MSELossIPU/test</td><td>▁</td></tr><tr><td>homo/MSELossIPU/train</td><td>▃▃▁▁▇▇▅▅▅▅▄▄██▄▄██▅▅▃▃▁▁▇▇▅▅▅▅▄▄▇▇▄▄██▅▅</td></tr><tr><td>homo/MSELossIPU/val</td><td>█▁</td></tr><tr><td>homo/loss/test</td><td>▁</td></tr><tr><td>homo/loss/val</td><td>█▁</td></tr><tr><td>homo/mae/test</td><td>▁</td></tr><tr><td>homo/mae/train</td><td>▃▃▁▁▇▇▆▆▆▆▆▆██▆▆▇▇▆▆▃▃▁▁▇▇▆▆▆▆▆▆██▆▆▇▇▆▆</td></tr><tr><td>homo/mae/val</td><td>█▁</td></tr><tr><td>homo/mean_pred/test</td><td>▁</td></tr><tr><td>homo/mean_pred/train</td><td>▇▇████████████▇▇▇▇▇▇▇▇▇▇▇▇▇▇▆▆▆▆▆▆▄▄▃▃▁▁</td></tr><tr><td>homo/mean_pred/val</td><td>█▁</td></tr><tr><td>homo/mean_target/test</td><td>▁</td></tr><tr><td>homo/mean_target/train</td><td>██▄▄▅▅▃▃▁▁▃▃▁▁▆▆▃▃▄▄██▄▄▅▅▃▃▁▁▃▃▁▁▆▆▃▃▄▄</td></tr><tr><td>homo/mean_target/val</td><td>▁▁</td></tr><tr><td>homo/median_pred/test</td><td>▁</td></tr><tr><td>homo/median_pred/train</td><td>▇▇████████████▇▇▇▇▇▇▇▇▇▇▇▇▆▆▆▆▆▆▆▆▅▅▅▅▁▁</td></tr><tr><td>homo/median_pred/val</td><td>█▁</td></tr><tr><td>homo/median_target/test</td><td>▁</td></tr><tr><td>homo/median_target/train</td><td>██▃▃▅▅▄▄▁▁▃▃▄▄▅▅▄▄▄▄██▃▃▅▅▄▄▁▁▃▃▄▄▅▅▄▄▄▄</td></tr><tr><td>homo/median_target/val</td><td>▁▁</td></tr><tr><td>homo/pearsonr/test</td><td>▁</td></tr><tr><td>homo/pearsonr/train</td><td>▅▅▇▇▆▆▅▅▂▂▆▆▃▃▄▄▁▁▁▁▃▃▆▆▄▄▅▅▄▄▅▅██▅▅▅▅██</td></tr><tr><td>homo/pearsonr/val</td><td>▁█</td></tr><tr><td>homo/std_pred/test</td><td>▁</td></tr><tr><td>homo/std_pred/train</td><td>▁▁▁▁▁▁▁▁▁▁▁▁▁▁▁▁▁▁▂▂▂▂▂▂▂▂▂▂▂▂▃▃▃▃▄▄▆▆██</td></tr><tr><td>homo/std_pred/val</td><td>▁█</td></tr><tr><td>homo/std_target/test</td><td>▁</td></tr><tr><td>homo/std_target/train</td><td>▃▃▁▁▇▇▅▅▅▅▄▄▇▇▅▅██▅▅▃▃▁▁▇▇▅▅▅▅▄▄▇▇▅▅██▅▅</td></tr><tr><td>homo/std_target/val</td><td>▁▁</td></tr><tr><td>loss</td><td>▂▂▁▁▅▅▄▄▇▇▅▅▃▃▇▇██▃▃▂▂▁▁▅▅▄▄▇▇▅▅▃▃▇▇██▂▂</td></tr><tr><td>loss/test</td><td>▁</td></tr><tr><td>loss/train</td><td>▂▂▁▁▅▅▄▄▇▇▅▅▃▃▇▇██▃▃▂▂▁▁▅▅▄▄▇▇▅▅▃▃▇▇██▂▂</td></tr><tr><td>loss/val</td><td>█▁</td></tr><tr><td>train/grad_norm</td><td>▁▁▄▄▄▄▂▂▅▅██▃▃▅▅▃▃▄▄▁▁▄▄▄▄▂▂▅▅██▃▃▅▅▃▃▃▃</td></tr><tr><td>trainer/global_step</td><td>▁▁▁▂▂▂▂▂▂▃▃▃▃▃▄▄▄▄▅▄▅▅▅▅▆▆▆▆▆▆▇▇▇▇▇█████</td></tr></table><br/></div><div class=\"wandb-col\"><h3>Run summary:</h3><br/><table class=\"wandb\"><tr><td>alpha/MSELossIPU/test</td><td>1.73989</td></tr><tr><td>alpha/MSELossIPU/train</td><td>0.8948</td></tr><tr><td>alpha/MSELossIPU/val</td><td>1.60717</td></tr><tr><td>alpha/loss/test</td><td>1.73989</td></tr><tr><td>alpha/loss/val</td><td>1.60717</td></tr><tr><td>alpha/mae/test</td><td>0.91533</td></tr><tr><td>alpha/mae/train</td><td>0.77136</td></tr><tr><td>alpha/mae/val</td><td>0.87139</td></tr><tr><td>alpha/mean_pred/test</td><td>-0.03994</td></tr><tr><td>alpha/mean_pred/train</td><td>-0.0275</td></tr><tr><td>alpha/mean_pred/val</td><td>-0.03961</td></tr><tr><td>alpha/mean_target/test</td><td>-0.17942</td></tr><tr><td>alpha/mean_target/train</td><td>-0.09801</td></tr><tr><td>alpha/mean_target/val</td><td>-0.02273</td></tr><tr><td>alpha/median_pred/test</td><td>-0.04047</td></tr><tr><td>alpha/median_pred/train</td><td>-0.02764</td></tr><tr><td>alpha/median_pred/val</td><td>-0.03969</td></tr><tr><td>alpha/median_target/test</td><td>-0.05878</td></tr><tr><td>alpha/median_target/train</td><td>0.15369</td></tr><tr><td>alpha/median_target/val</td><td>0.02672</td></tr><tr><td>alpha/pearsonr/test</td><td>0.01096</td></tr><tr><td>alpha/pearsonr/train</td><td>0.44722</td></tr><tr><td>alpha/pearsonr/val</td><td>0.23493</td></tr><tr><td>alpha/std_pred/test</td><td>0.00512</td></tr><tr><td>alpha/std_pred/train</td><td>0.0039</td></tr><tr><td>alpha/std_pred/val</td><td>0.00492</td></tr><tr><td>alpha/std_target/test</td><td>1.31536</td></tr><tr><td>alpha/std_target/train</td><td>0.953</td></tr><tr><td>alpha/std_target/val</td><td>1.27231</td></tr><tr><td>cv/MSELossIPU/test</td><td>1.41081</td></tr><tr><td>cv/MSELossIPU/train</td><td>0.81359</td></tr><tr><td>cv/MSELossIPU/val</td><td>1.1307</td></tr><tr><td>cv/loss/test</td><td>1.41081</td></tr><tr><td>cv/loss/val</td><td>1.1307</td></tr><tr><td>cv/mae/test</td><td>0.85402</td></tr><tr><td>cv/mae/train</td><td>0.74757</td></tr><tr><td>cv/mae/val</td><td>0.79975</td></tr><tr><td>cv/mean_pred/test</td><td>-0.06345</td></tr><tr><td>cv/mean_pred/train</td><td>-0.04495</td></tr><tr><td>cv/mean_pred/val</td><td>-0.06292</td></tr><tr><td>cv/mean_target/test</td><td>-0.11077</td></tr><tr><td>cv/mean_target/train</td><td>-0.17124</td></tr><tr><td>cv/mean_target/val</td><td>-0.06714</td></tr><tr><td>cv/median_pred/test</td><td>-0.06434</td></tr><tr><td>cv/median_pred/train</td><td>-0.04489</td></tr><tr><td>cv/median_pred/val</td><td>-0.06315</td></tr><tr><td>cv/median_target/test</td><td>-0.07501</td></tr><tr><td>cv/median_target/train</td><td>-0.25171</td></tr><tr><td>cv/median_target/val</td><td>-0.0361</td></tr><tr><td>cv/pearsonr/test</td><td>0.01548</td></tr><tr><td>cv/pearsonr/train</td><td>0.35681</td></tr><tr><td>cv/pearsonr/val</td><td>0.10327</td></tr><tr><td>cv/std_pred/test</td><td>0.00813</td></tr><tr><td>cv/std_pred/train</td><td>0.0056</td></tr><tr><td>cv/std_pred/val</td><td>0.0078</td></tr><tr><td>cv/std_target/test</td><td>1.19024</td></tr><tr><td>cv/std_target/train</td><td>0.90263</td></tr><tr><td>cv/std_target/val</td><td>1.06708</td></tr><tr><td>epoch</td><td>2</td></tr><tr><td>grad_norm</td><td>0.11882</td></tr><tr><td>homo/MSELossIPU/test</td><td>1.16762</td></tr><tr><td>homo/MSELossIPU/train</td><td>0.97992</td></tr><tr><td>homo/MSELossIPU/val</td><td>1.03888</td></tr><tr><td>homo/loss/test</td><td>1.16762</td></tr><tr><td>homo/loss/val</td><td>1.03888</td></tr><tr><td>homo/mae/test</td><td>0.81037</td></tr><tr><td>homo/mae/train</td><td>0.78381</td></tr><tr><td>homo/mae/val</td><td>0.79775</td></tr><tr><td>homo/mean_pred/test</td><td>-0.02596</td></tr><tr><td>homo/mean_pred/train</td><td>-0.01821</td></tr><tr><td>homo/mean_pred/val</td><td>-0.02574</td></tr><tr><td>homo/mean_target/test</td><td>0.1172</td></tr><tr><td>homo/mean_target/train</td><td>-0.01598</td></tr><tr><td>homo/mean_target/val</td><td>-0.05256</td></tr><tr><td>homo/median_pred/test</td><td>-0.01221</td></tr><tr><td>homo/median_pred/train</td><td>-0.02245</td></tr><tr><td>homo/median_pred/val</td><td>-0.01416</td></tr><tr><td>homo/median_target/test</td><td>0.13904</td></tr><tr><td>homo/median_target/train</td><td>-0.06885</td></tr><tr><td>homo/median_target/val</td><td>-0.08783</td></tr><tr><td>homo/pearsonr/test</td><td>0.12161</td></tr><tr><td>homo/pearsonr/train</td><td>0.24765</td></tr><tr><td>homo/pearsonr/val</td><td>0.12693</td></tr><tr><td>homo/std_pred/test</td><td>0.01828</td></tr><tr><td>homo/std_pred/train</td><td>0.0133</td></tr><tr><td>homo/std_pred/val</td><td>0.01808</td></tr><tr><td>homo/std_target/test</td><td>1.07214</td></tr><tr><td>homo/std_target/train</td><td>0.99432</td></tr><tr><td>homo/std_target/val</td><td>1.02055</td></tr><tr><td>loss</td><td>0.8961</td></tr><tr><td>loss/test</td><td>1.43944</td></tr><tr><td>loss/train</td><td>0.8961</td></tr><tr><td>loss/val</td><td>1.25892</td></tr><tr><td>train/grad_norm</td><td>0.11882</td></tr><tr><td>trainer/global_step</td><td>20</td></tr></table><br/></div></div>"
      ],
      "text/plain": [
       "<IPython.core.display.HTML object>"
      ]
     },
     "metadata": {},
     "output_type": "display_data"
    },
    {
     "data": {
      "text/html": [
       "Synced <strong style=\"color:#cdcd00\">olek_test_ipu_07/09/2022_gnn.hid=32_gnn.depth=3</strong>: <a href=\"https://wandb.ai/multitask-gnn/multitask-gnn/runs/30tvvpzi\" target=\"_blank\">https://wandb.ai/multitask-gnn/multitask-gnn/runs/30tvvpzi</a><br/>Synced 5 W&B file(s), 0 media file(s), 0 artifact file(s) and 1 other file(s)"
      ],
      "text/plain": [
       "<IPython.core.display.HTML object>"
      ]
     },
     "metadata": {},
     "output_type": "display_data"
    },
    {
     "data": {
      "text/html": [
       "Find logs at: <code>./wandb/run-20220907_201416-30tvvpzi/logs</code>"
      ],
      "text/plain": [
       "<IPython.core.display.HTML object>"
      ]
     },
     "metadata": {},
     "output_type": "display_data"
    },
    {
     "name": "stderr",
     "output_type": "stream",
     "text": [
      "\u001b[32m[I 2022-09-07 20:14:28,980]\u001b[0m Trial 4 finished with value: 0.8540242314338684 and parameters: {'gnn.hid': 32, 'gnn.depth': 3}. Best is trial 0 with value: 0.8514640927314758.\u001b[0m\n"
     ]
    },
    {
     "name": "stdout",
     "output_type": "stream",
     "text": [
      "Study statistics: \n",
      "  Number of finished trials:  5\n",
      "  Number of complete trials:  5\n",
      "Best trial:\n",
      "  Value:  0.8514640927314758\n",
      "  Params: \n",
      "    gnn.hid: 16\n",
      "    gnn.depth: 4\n"
     ]
    }
   ],
   "source": [
    "# General imports\n",
    "import os\n",
    "from os.path import dirname, abspath\n",
    "import yaml\n",
    "from copy import deepcopy\n",
    "from omegaconf import DictConfig\n",
    "from functools import partial\n",
    "from datetime import date\n",
    "import timeit\n",
    "from tests.optuna.optuna_base_config import update_configuration\n",
    "\n",
    "# Current project imports\n",
    "import goli\n",
    "from goli.config._loader import load_datamodule, load_metrics, load_architecture, load_predictor, load_trainer\n",
    "\n",
    "# Optuna\n",
    "import optuna\n",
    "from optuna.trial import TrialState\n",
    "\n",
    "# WandB\n",
    "import wandb\n",
    "\n",
    "# Set up the working directory\n",
    "MAIN_DIR = dirname(dirname(abspath(goli.__file__)))\n",
    "# CONFIG_FILE = \"tests/mtl/config_micro_ZINC_mtl_test_3_tasks_pyg.yaml\"\n",
    "#CONFIG_FILE = \"tests/mtl/config_ipu_9atoms.yaml\"\n",
    "CONFIG_FILE = \"tests/mtl/config_ipu_allsizes.yaml\"\n",
    "# CONFIG_FILE = \"tests/mtl/config_ipu_reproduce.yaml\"\n",
    "OPTUNA_CONFIG_FILE = \"tests/optuna/optuna_base_config.py\"\n",
    "os.chdir(MAIN_DIR)\n",
    "\n",
    "def main(cfg: DictConfig, trial, run_name=\"main\") -> None:\n",
    "    st = timeit.default_timer()\n",
    "\n",
    "    cfg = deepcopy(cfg)\n",
    "\n",
    "    # Load and initialize the dataset\n",
    "    datamodule = load_datamodule(cfg)\n",
    "\n",
    "    # Initialize the network\n",
    "    model_class, model_kwargs = load_architecture(\n",
    "        cfg,\n",
    "        in_dim_nodes=datamodule.num_node_feats_with_positional_encoding,\n",
    "        in_dim_edges=datamodule.num_edge_feats,\n",
    "    )\n",
    "\n",
    "\n",
    "    metrics = load_metrics(cfg)\n",
    "    print(metrics)\n",
    "\n",
    "    predictor = load_predictor(cfg, model_class, model_kwargs, metrics)\n",
    "\n",
    "    print(predictor.model)\n",
    "    print(predictor.summarize(max_depth=4))\n",
    "\n",
    "    trainer = load_trainer(cfg, run_name)\n",
    "\n",
    "    datamodule.prepare_data()\n",
    "    trainer.fit(model=predictor, datamodule=datamodule)\n",
    "    # Run the model training\n",
    "    print(\"\\n------------ TRAINING STARTED ------------\")\n",
    "    try:\n",
    "        print(\"\\n------------ TRAINING COMPLETED ------------\\n\\n\")\n",
    "\n",
    "    except Exception as e:\n",
    "        if not cfg[\"constants\"][\"raise_train_error\"]:\n",
    "            print(\"\\n------------ TRAINING ERROR: ------------\\n\\n\", e)\n",
    "        else:\n",
    "            raise e\n",
    "\n",
    "    print(\"\\n------------ TESTING STARTED ------------\")\n",
    "    try:\n",
    "        ckpt_path = trainer.checkpoint_callbacks[0].best_model_path\n",
    "        #ckpt_path = \"models_checkpoints/micro_ZINC_mtl/model-v3.ckpt\"\n",
    "        trainer.test(model=predictor, datamodule=datamodule) #, ckpt_path=ckpt_path)\n",
    "        print(\"\\n------------ TESTING COMPLETED ------------\\n\\n\")\n",
    "\n",
    "    except Exception as e:\n",
    "        if not cfg[\"constants\"][\"raise_train_error\"]:\n",
    "            print(\"\\n------------ TESTING ERROR: ------------\\n\\n\", e)\n",
    "        else:\n",
    "            raise e\n",
    "\n",
    "    print (\"--------------------------------------------\")\n",
    "    print(\"total computation used\", timeit.default_timer() - st)\n",
    "    print (\"--------------------------------------------\")\n",
    "\n",
    "    return trainer.callback_metrics[\"cv/mae/test\"].cpu().item()\n",
    "\n",
    "if __name__ == \"__main__\":\n",
    "    #nan_checker(\"goli/data/QM9/micro_qm9.csv\") #can be deleted\n",
    "    with open(os.path.join(MAIN_DIR, CONFIG_FILE), \"r\") as f:\n",
    "        cfg = yaml.safe_load(f)\n",
    "\n",
    "    def objective(trial, cfg):\n",
    "        cfg = deepcopy(cfg)\n",
    "    \n",
    "        with open(os.path.join(MAIN_DIR, OPTUNA_CONFIG_FILE), \"r\") as optuna_config:\n",
    "            cfg = update_configuration(trial, cfg)\n",
    "\n",
    "        run_name = 'no_name_' if not \"name\" in cfg[\"constants\"] else cfg[\"constants\"][\"name\"] + \"_\"\n",
    "        run_name = run_name + date.today().strftime(\"%d/%m/%Y\") + \"_\"\n",
    "        for key, value in trial.params.items():\n",
    "            run_name = run_name + str(key) + \"=\" + str(value) + \"_\"\n",
    "\n",
    "        accu = main(cfg, trial, run_name=run_name[:len(run_name) - 1])\n",
    "        wandb.log(data={\"cv/mae/test\": accu})\n",
    "        wandb.finish()\n",
    "        return accu\n",
    "\n",
    "    study = optuna.create_study()\n",
    "    study.optimize(partial(objective, cfg=cfg), n_trials=5, timeout=600)\n",
    "\n",
    "    complete_trials = study.get_trials(deepcopy=False, states=[TrialState.COMPLETE])\n",
    "\n",
    "    print(\"Study statistics: \")\n",
    "    print(\"  Number of finished trials: \", len(study.trials))\n",
    "    print(\"  Number of complete trials: \", len(complete_trials))\n",
    "\n",
    "    print(\"Best trial:\")\n",
    "    trial = study.best_trial\n",
    "\n",
    "    print(\"  Value: \", trial.value)\n",
    "\n",
    "    print(\"  Params: \")\n",
    "    for key, value in trial.params.items():\n",
    "        print(\"    {}: {}\".format(key, value))\n"
   ]
  },
  {
   "cell_type": "code",
   "execution_count": 8,
   "metadata": {},
   "outputs": [
    {
     "data": {
      "application/vnd.plotly.v1+json": {
       "config": {
        "plotlyServerURL": "https://plot.ly"
       },
       "data": [
        {
         "mode": "markers",
         "name": "Objective Value",
         "type": "scatter",
         "x": [
          0,
          1,
          2,
          3,
          4
         ],
         "y": [
          0.8543636798858643,
          0.8514640927314758,
          0.858460009098053,
          0.8579881191253662,
          0.8579881191253662
         ]
        },
        {
         "name": "Best Value",
         "type": "scatter",
         "x": [
          0,
          1,
          2,
          3,
          4
         ],
         "y": [
          0.8543636798858643,
          0.8514640927314758,
          0.8514640927314758,
          0.8514640927314758,
          0.8514640927314758
         ]
        }
       ],
       "layout": {
        "template": {
         "data": {
          "bar": [
           {
            "error_x": {
             "color": "#2a3f5f"
            },
            "error_y": {
             "color": "#2a3f5f"
            },
            "marker": {
             "line": {
              "color": "#E5ECF6",
              "width": 0.5
             },
             "pattern": {
              "fillmode": "overlay",
              "size": 10,
              "solidity": 0.2
             }
            },
            "type": "bar"
           }
          ],
          "barpolar": [
           {
            "marker": {
             "line": {
              "color": "#E5ECF6",
              "width": 0.5
             },
             "pattern": {
              "fillmode": "overlay",
              "size": 10,
              "solidity": 0.2
             }
            },
            "type": "barpolar"
           }
          ],
          "carpet": [
           {
            "aaxis": {
             "endlinecolor": "#2a3f5f",
             "gridcolor": "white",
             "linecolor": "white",
             "minorgridcolor": "white",
             "startlinecolor": "#2a3f5f"
            },
            "baxis": {
             "endlinecolor": "#2a3f5f",
             "gridcolor": "white",
             "linecolor": "white",
             "minorgridcolor": "white",
             "startlinecolor": "#2a3f5f"
            },
            "type": "carpet"
           }
          ],
          "choropleth": [
           {
            "colorbar": {
             "outlinewidth": 0,
             "ticks": ""
            },
            "type": "choropleth"
           }
          ],
          "contour": [
           {
            "colorbar": {
             "outlinewidth": 0,
             "ticks": ""
            },
            "colorscale": [
             [
              0,
              "#0d0887"
             ],
             [
              0.1111111111111111,
              "#46039f"
             ],
             [
              0.2222222222222222,
              "#7201a8"
             ],
             [
              0.3333333333333333,
              "#9c179e"
             ],
             [
              0.4444444444444444,
              "#bd3786"
             ],
             [
              0.5555555555555556,
              "#d8576b"
             ],
             [
              0.6666666666666666,
              "#ed7953"
             ],
             [
              0.7777777777777778,
              "#fb9f3a"
             ],
             [
              0.8888888888888888,
              "#fdca26"
             ],
             [
              1,
              "#f0f921"
             ]
            ],
            "type": "contour"
           }
          ],
          "contourcarpet": [
           {
            "colorbar": {
             "outlinewidth": 0,
             "ticks": ""
            },
            "type": "contourcarpet"
           }
          ],
          "heatmap": [
           {
            "colorbar": {
             "outlinewidth": 0,
             "ticks": ""
            },
            "colorscale": [
             [
              0,
              "#0d0887"
             ],
             [
              0.1111111111111111,
              "#46039f"
             ],
             [
              0.2222222222222222,
              "#7201a8"
             ],
             [
              0.3333333333333333,
              "#9c179e"
             ],
             [
              0.4444444444444444,
              "#bd3786"
             ],
             [
              0.5555555555555556,
              "#d8576b"
             ],
             [
              0.6666666666666666,
              "#ed7953"
             ],
             [
              0.7777777777777778,
              "#fb9f3a"
             ],
             [
              0.8888888888888888,
              "#fdca26"
             ],
             [
              1,
              "#f0f921"
             ]
            ],
            "type": "heatmap"
           }
          ],
          "heatmapgl": [
           {
            "colorbar": {
             "outlinewidth": 0,
             "ticks": ""
            },
            "colorscale": [
             [
              0,
              "#0d0887"
             ],
             [
              0.1111111111111111,
              "#46039f"
             ],
             [
              0.2222222222222222,
              "#7201a8"
             ],
             [
              0.3333333333333333,
              "#9c179e"
             ],
             [
              0.4444444444444444,
              "#bd3786"
             ],
             [
              0.5555555555555556,
              "#d8576b"
             ],
             [
              0.6666666666666666,
              "#ed7953"
             ],
             [
              0.7777777777777778,
              "#fb9f3a"
             ],
             [
              0.8888888888888888,
              "#fdca26"
             ],
             [
              1,
              "#f0f921"
             ]
            ],
            "type": "heatmapgl"
           }
          ],
          "histogram": [
           {
            "marker": {
             "pattern": {
              "fillmode": "overlay",
              "size": 10,
              "solidity": 0.2
             }
            },
            "type": "histogram"
           }
          ],
          "histogram2d": [
           {
            "colorbar": {
             "outlinewidth": 0,
             "ticks": ""
            },
            "colorscale": [
             [
              0,
              "#0d0887"
             ],
             [
              0.1111111111111111,
              "#46039f"
             ],
             [
              0.2222222222222222,
              "#7201a8"
             ],
             [
              0.3333333333333333,
              "#9c179e"
             ],
             [
              0.4444444444444444,
              "#bd3786"
             ],
             [
              0.5555555555555556,
              "#d8576b"
             ],
             [
              0.6666666666666666,
              "#ed7953"
             ],
             [
              0.7777777777777778,
              "#fb9f3a"
             ],
             [
              0.8888888888888888,
              "#fdca26"
             ],
             [
              1,
              "#f0f921"
             ]
            ],
            "type": "histogram2d"
           }
          ],
          "histogram2dcontour": [
           {
            "colorbar": {
             "outlinewidth": 0,
             "ticks": ""
            },
            "colorscale": [
             [
              0,
              "#0d0887"
             ],
             [
              0.1111111111111111,
              "#46039f"
             ],
             [
              0.2222222222222222,
              "#7201a8"
             ],
             [
              0.3333333333333333,
              "#9c179e"
             ],
             [
              0.4444444444444444,
              "#bd3786"
             ],
             [
              0.5555555555555556,
              "#d8576b"
             ],
             [
              0.6666666666666666,
              "#ed7953"
             ],
             [
              0.7777777777777778,
              "#fb9f3a"
             ],
             [
              0.8888888888888888,
              "#fdca26"
             ],
             [
              1,
              "#f0f921"
             ]
            ],
            "type": "histogram2dcontour"
           }
          ],
          "mesh3d": [
           {
            "colorbar": {
             "outlinewidth": 0,
             "ticks": ""
            },
            "type": "mesh3d"
           }
          ],
          "parcoords": [
           {
            "line": {
             "colorbar": {
              "outlinewidth": 0,
              "ticks": ""
             }
            },
            "type": "parcoords"
           }
          ],
          "pie": [
           {
            "automargin": true,
            "type": "pie"
           }
          ],
          "scatter": [
           {
            "fillpattern": {
             "fillmode": "overlay",
             "size": 10,
             "solidity": 0.2
            },
            "type": "scatter"
           }
          ],
          "scatter3d": [
           {
            "line": {
             "colorbar": {
              "outlinewidth": 0,
              "ticks": ""
             }
            },
            "marker": {
             "colorbar": {
              "outlinewidth": 0,
              "ticks": ""
             }
            },
            "type": "scatter3d"
           }
          ],
          "scattercarpet": [
           {
            "marker": {
             "colorbar": {
              "outlinewidth": 0,
              "ticks": ""
             }
            },
            "type": "scattercarpet"
           }
          ],
          "scattergeo": [
           {
            "marker": {
             "colorbar": {
              "outlinewidth": 0,
              "ticks": ""
             }
            },
            "type": "scattergeo"
           }
          ],
          "scattergl": [
           {
            "marker": {
             "colorbar": {
              "outlinewidth": 0,
              "ticks": ""
             }
            },
            "type": "scattergl"
           }
          ],
          "scattermapbox": [
           {
            "marker": {
             "colorbar": {
              "outlinewidth": 0,
              "ticks": ""
             }
            },
            "type": "scattermapbox"
           }
          ],
          "scatterpolar": [
           {
            "marker": {
             "colorbar": {
              "outlinewidth": 0,
              "ticks": ""
             }
            },
            "type": "scatterpolar"
           }
          ],
          "scatterpolargl": [
           {
            "marker": {
             "colorbar": {
              "outlinewidth": 0,
              "ticks": ""
             }
            },
            "type": "scatterpolargl"
           }
          ],
          "scatterternary": [
           {
            "marker": {
             "colorbar": {
              "outlinewidth": 0,
              "ticks": ""
             }
            },
            "type": "scatterternary"
           }
          ],
          "surface": [
           {
            "colorbar": {
             "outlinewidth": 0,
             "ticks": ""
            },
            "colorscale": [
             [
              0,
              "#0d0887"
             ],
             [
              0.1111111111111111,
              "#46039f"
             ],
             [
              0.2222222222222222,
              "#7201a8"
             ],
             [
              0.3333333333333333,
              "#9c179e"
             ],
             [
              0.4444444444444444,
              "#bd3786"
             ],
             [
              0.5555555555555556,
              "#d8576b"
             ],
             [
              0.6666666666666666,
              "#ed7953"
             ],
             [
              0.7777777777777778,
              "#fb9f3a"
             ],
             [
              0.8888888888888888,
              "#fdca26"
             ],
             [
              1,
              "#f0f921"
             ]
            ],
            "type": "surface"
           }
          ],
          "table": [
           {
            "cells": {
             "fill": {
              "color": "#EBF0F8"
             },
             "line": {
              "color": "white"
             }
            },
            "header": {
             "fill": {
              "color": "#C8D4E3"
             },
             "line": {
              "color": "white"
             }
            },
            "type": "table"
           }
          ]
         },
         "layout": {
          "annotationdefaults": {
           "arrowcolor": "#2a3f5f",
           "arrowhead": 0,
           "arrowwidth": 1
          },
          "autotypenumbers": "strict",
          "coloraxis": {
           "colorbar": {
            "outlinewidth": 0,
            "ticks": ""
           }
          },
          "colorscale": {
           "diverging": [
            [
             0,
             "#8e0152"
            ],
            [
             0.1,
             "#c51b7d"
            ],
            [
             0.2,
             "#de77ae"
            ],
            [
             0.3,
             "#f1b6da"
            ],
            [
             0.4,
             "#fde0ef"
            ],
            [
             0.5,
             "#f7f7f7"
            ],
            [
             0.6,
             "#e6f5d0"
            ],
            [
             0.7,
             "#b8e186"
            ],
            [
             0.8,
             "#7fbc41"
            ],
            [
             0.9,
             "#4d9221"
            ],
            [
             1,
             "#276419"
            ]
           ],
           "sequential": [
            [
             0,
             "#0d0887"
            ],
            [
             0.1111111111111111,
             "#46039f"
            ],
            [
             0.2222222222222222,
             "#7201a8"
            ],
            [
             0.3333333333333333,
             "#9c179e"
            ],
            [
             0.4444444444444444,
             "#bd3786"
            ],
            [
             0.5555555555555556,
             "#d8576b"
            ],
            [
             0.6666666666666666,
             "#ed7953"
            ],
            [
             0.7777777777777778,
             "#fb9f3a"
            ],
            [
             0.8888888888888888,
             "#fdca26"
            ],
            [
             1,
             "#f0f921"
            ]
           ],
           "sequentialminus": [
            [
             0,
             "#0d0887"
            ],
            [
             0.1111111111111111,
             "#46039f"
            ],
            [
             0.2222222222222222,
             "#7201a8"
            ],
            [
             0.3333333333333333,
             "#9c179e"
            ],
            [
             0.4444444444444444,
             "#bd3786"
            ],
            [
             0.5555555555555556,
             "#d8576b"
            ],
            [
             0.6666666666666666,
             "#ed7953"
            ],
            [
             0.7777777777777778,
             "#fb9f3a"
            ],
            [
             0.8888888888888888,
             "#fdca26"
            ],
            [
             1,
             "#f0f921"
            ]
           ]
          },
          "colorway": [
           "#636efa",
           "#EF553B",
           "#00cc96",
           "#ab63fa",
           "#FFA15A",
           "#19d3f3",
           "#FF6692",
           "#B6E880",
           "#FF97FF",
           "#FECB52"
          ],
          "font": {
           "color": "#2a3f5f"
          },
          "geo": {
           "bgcolor": "white",
           "lakecolor": "white",
           "landcolor": "#E5ECF6",
           "showlakes": true,
           "showland": true,
           "subunitcolor": "white"
          },
          "hoverlabel": {
           "align": "left"
          },
          "hovermode": "closest",
          "mapbox": {
           "style": "light"
          },
          "paper_bgcolor": "white",
          "plot_bgcolor": "#E5ECF6",
          "polar": {
           "angularaxis": {
            "gridcolor": "white",
            "linecolor": "white",
            "ticks": ""
           },
           "bgcolor": "#E5ECF6",
           "radialaxis": {
            "gridcolor": "white",
            "linecolor": "white",
            "ticks": ""
           }
          },
          "scene": {
           "xaxis": {
            "backgroundcolor": "#E5ECF6",
            "gridcolor": "white",
            "gridwidth": 2,
            "linecolor": "white",
            "showbackground": true,
            "ticks": "",
            "zerolinecolor": "white"
           },
           "yaxis": {
            "backgroundcolor": "#E5ECF6",
            "gridcolor": "white",
            "gridwidth": 2,
            "linecolor": "white",
            "showbackground": true,
            "ticks": "",
            "zerolinecolor": "white"
           },
           "zaxis": {
            "backgroundcolor": "#E5ECF6",
            "gridcolor": "white",
            "gridwidth": 2,
            "linecolor": "white",
            "showbackground": true,
            "ticks": "",
            "zerolinecolor": "white"
           }
          },
          "shapedefaults": {
           "line": {
            "color": "#2a3f5f"
           }
          },
          "ternary": {
           "aaxis": {
            "gridcolor": "white",
            "linecolor": "white",
            "ticks": ""
           },
           "baxis": {
            "gridcolor": "white",
            "linecolor": "white",
            "ticks": ""
           },
           "bgcolor": "#E5ECF6",
           "caxis": {
            "gridcolor": "white",
            "linecolor": "white",
            "ticks": ""
           }
          },
          "title": {
           "x": 0.05
          },
          "xaxis": {
           "automargin": true,
           "gridcolor": "white",
           "linecolor": "white",
           "ticks": "",
           "title": {
            "standoff": 15
           },
           "zerolinecolor": "white",
           "zerolinewidth": 2
          },
          "yaxis": {
           "automargin": true,
           "gridcolor": "white",
           "linecolor": "white",
           "ticks": "",
           "title": {
            "standoff": 15
           },
           "zerolinecolor": "white",
           "zerolinewidth": 2
          }
         }
        },
        "title": {
         "text": "Optimization History Plot"
        },
        "xaxis": {
         "title": {
          "text": "#Trials"
         }
        },
        "yaxis": {
         "title": {
          "text": "Objective Value"
         }
        }
       }
      },
      "text/html": [
       "<div>                            <div id=\"bdf46baa-510c-4be4-96aa-a06bf95c0ab6\" class=\"plotly-graph-div\" style=\"height:525px; width:100%;\"></div>            <script type=\"text/javascript\">                require([\"plotly\"], function(Plotly) {                    window.PLOTLYENV=window.PLOTLYENV || {};                                    if (document.getElementById(\"bdf46baa-510c-4be4-96aa-a06bf95c0ab6\")) {                    Plotly.newPlot(                        \"bdf46baa-510c-4be4-96aa-a06bf95c0ab6\",                        [{\"mode\":\"markers\",\"name\":\"Objective Value\",\"x\":[0,1,2,3,4],\"y\":[0.8543636798858643,0.8514640927314758,0.858460009098053,0.8579881191253662,0.8579881191253662],\"type\":\"scatter\"},{\"name\":\"Best Value\",\"x\":[0,1,2,3,4],\"y\":[0.8543636798858643,0.8514640927314758,0.8514640927314758,0.8514640927314758,0.8514640927314758],\"type\":\"scatter\"}],                        {\"title\":{\"text\":\"Optimization History Plot\"},\"xaxis\":{\"title\":{\"text\":\"#Trials\"}},\"yaxis\":{\"title\":{\"text\":\"Objective Value\"}},\"template\":{\"data\":{\"histogram2dcontour\":[{\"type\":\"histogram2dcontour\",\"colorbar\":{\"outlinewidth\":0,\"ticks\":\"\"},\"colorscale\":[[0.0,\"#0d0887\"],[0.1111111111111111,\"#46039f\"],[0.2222222222222222,\"#7201a8\"],[0.3333333333333333,\"#9c179e\"],[0.4444444444444444,\"#bd3786\"],[0.5555555555555556,\"#d8576b\"],[0.6666666666666666,\"#ed7953\"],[0.7777777777777778,\"#fb9f3a\"],[0.8888888888888888,\"#fdca26\"],[1.0,\"#f0f921\"]]}],\"choropleth\":[{\"type\":\"choropleth\",\"colorbar\":{\"outlinewidth\":0,\"ticks\":\"\"}}],\"histogram2d\":[{\"type\":\"histogram2d\",\"colorbar\":{\"outlinewidth\":0,\"ticks\":\"\"},\"colorscale\":[[0.0,\"#0d0887\"],[0.1111111111111111,\"#46039f\"],[0.2222222222222222,\"#7201a8\"],[0.3333333333333333,\"#9c179e\"],[0.4444444444444444,\"#bd3786\"],[0.5555555555555556,\"#d8576b\"],[0.6666666666666666,\"#ed7953\"],[0.7777777777777778,\"#fb9f3a\"],[0.8888888888888888,\"#fdca26\"],[1.0,\"#f0f921\"]]}],\"heatmap\":[{\"type\":\"heatmap\",\"colorbar\":{\"outlinewidth\":0,\"ticks\":\"\"},\"colorscale\":[[0.0,\"#0d0887\"],[0.1111111111111111,\"#46039f\"],[0.2222222222222222,\"#7201a8\"],[0.3333333333333333,\"#9c179e\"],[0.4444444444444444,\"#bd3786\"],[0.5555555555555556,\"#d8576b\"],[0.6666666666666666,\"#ed7953\"],[0.7777777777777778,\"#fb9f3a\"],[0.8888888888888888,\"#fdca26\"],[1.0,\"#f0f921\"]]}],\"heatmapgl\":[{\"type\":\"heatmapgl\",\"colorbar\":{\"outlinewidth\":0,\"ticks\":\"\"},\"colorscale\":[[0.0,\"#0d0887\"],[0.1111111111111111,\"#46039f\"],[0.2222222222222222,\"#7201a8\"],[0.3333333333333333,\"#9c179e\"],[0.4444444444444444,\"#bd3786\"],[0.5555555555555556,\"#d8576b\"],[0.6666666666666666,\"#ed7953\"],[0.7777777777777778,\"#fb9f3a\"],[0.8888888888888888,\"#fdca26\"],[1.0,\"#f0f921\"]]}],\"contourcarpet\":[{\"type\":\"contourcarpet\",\"colorbar\":{\"outlinewidth\":0,\"ticks\":\"\"}}],\"contour\":[{\"type\":\"contour\",\"colorbar\":{\"outlinewidth\":0,\"ticks\":\"\"},\"colorscale\":[[0.0,\"#0d0887\"],[0.1111111111111111,\"#46039f\"],[0.2222222222222222,\"#7201a8\"],[0.3333333333333333,\"#9c179e\"],[0.4444444444444444,\"#bd3786\"],[0.5555555555555556,\"#d8576b\"],[0.6666666666666666,\"#ed7953\"],[0.7777777777777778,\"#fb9f3a\"],[0.8888888888888888,\"#fdca26\"],[1.0,\"#f0f921\"]]}],\"surface\":[{\"type\":\"surface\",\"colorbar\":{\"outlinewidth\":0,\"ticks\":\"\"},\"colorscale\":[[0.0,\"#0d0887\"],[0.1111111111111111,\"#46039f\"],[0.2222222222222222,\"#7201a8\"],[0.3333333333333333,\"#9c179e\"],[0.4444444444444444,\"#bd3786\"],[0.5555555555555556,\"#d8576b\"],[0.6666666666666666,\"#ed7953\"],[0.7777777777777778,\"#fb9f3a\"],[0.8888888888888888,\"#fdca26\"],[1.0,\"#f0f921\"]]}],\"mesh3d\":[{\"type\":\"mesh3d\",\"colorbar\":{\"outlinewidth\":0,\"ticks\":\"\"}}],\"scatter\":[{\"fillpattern\":{\"fillmode\":\"overlay\",\"size\":10,\"solidity\":0.2},\"type\":\"scatter\"}],\"parcoords\":[{\"type\":\"parcoords\",\"line\":{\"colorbar\":{\"outlinewidth\":0,\"ticks\":\"\"}}}],\"scatterpolargl\":[{\"type\":\"scatterpolargl\",\"marker\":{\"colorbar\":{\"outlinewidth\":0,\"ticks\":\"\"}}}],\"bar\":[{\"error_x\":{\"color\":\"#2a3f5f\"},\"error_y\":{\"color\":\"#2a3f5f\"},\"marker\":{\"line\":{\"color\":\"#E5ECF6\",\"width\":0.5},\"pattern\":{\"fillmode\":\"overlay\",\"size\":10,\"solidity\":0.2}},\"type\":\"bar\"}],\"scattergeo\":[{\"type\":\"scattergeo\",\"marker\":{\"colorbar\":{\"outlinewidth\":0,\"ticks\":\"\"}}}],\"scatterpolar\":[{\"type\":\"scatterpolar\",\"marker\":{\"colorbar\":{\"outlinewidth\":0,\"ticks\":\"\"}}}],\"histogram\":[{\"marker\":{\"pattern\":{\"fillmode\":\"overlay\",\"size\":10,\"solidity\":0.2}},\"type\":\"histogram\"}],\"scattergl\":[{\"type\":\"scattergl\",\"marker\":{\"colorbar\":{\"outlinewidth\":0,\"ticks\":\"\"}}}],\"scatter3d\":[{\"type\":\"scatter3d\",\"line\":{\"colorbar\":{\"outlinewidth\":0,\"ticks\":\"\"}},\"marker\":{\"colorbar\":{\"outlinewidth\":0,\"ticks\":\"\"}}}],\"scattermapbox\":[{\"type\":\"scattermapbox\",\"marker\":{\"colorbar\":{\"outlinewidth\":0,\"ticks\":\"\"}}}],\"scatterternary\":[{\"type\":\"scatterternary\",\"marker\":{\"colorbar\":{\"outlinewidth\":0,\"ticks\":\"\"}}}],\"scattercarpet\":[{\"type\":\"scattercarpet\",\"marker\":{\"colorbar\":{\"outlinewidth\":0,\"ticks\":\"\"}}}],\"carpet\":[{\"aaxis\":{\"endlinecolor\":\"#2a3f5f\",\"gridcolor\":\"white\",\"linecolor\":\"white\",\"minorgridcolor\":\"white\",\"startlinecolor\":\"#2a3f5f\"},\"baxis\":{\"endlinecolor\":\"#2a3f5f\",\"gridcolor\":\"white\",\"linecolor\":\"white\",\"minorgridcolor\":\"white\",\"startlinecolor\":\"#2a3f5f\"},\"type\":\"carpet\"}],\"table\":[{\"cells\":{\"fill\":{\"color\":\"#EBF0F8\"},\"line\":{\"color\":\"white\"}},\"header\":{\"fill\":{\"color\":\"#C8D4E3\"},\"line\":{\"color\":\"white\"}},\"type\":\"table\"}],\"barpolar\":[{\"marker\":{\"line\":{\"color\":\"#E5ECF6\",\"width\":0.5},\"pattern\":{\"fillmode\":\"overlay\",\"size\":10,\"solidity\":0.2}},\"type\":\"barpolar\"}],\"pie\":[{\"automargin\":true,\"type\":\"pie\"}]},\"layout\":{\"autotypenumbers\":\"strict\",\"colorway\":[\"#636efa\",\"#EF553B\",\"#00cc96\",\"#ab63fa\",\"#FFA15A\",\"#19d3f3\",\"#FF6692\",\"#B6E880\",\"#FF97FF\",\"#FECB52\"],\"font\":{\"color\":\"#2a3f5f\"},\"hovermode\":\"closest\",\"hoverlabel\":{\"align\":\"left\"},\"paper_bgcolor\":\"white\",\"plot_bgcolor\":\"#E5ECF6\",\"polar\":{\"bgcolor\":\"#E5ECF6\",\"angularaxis\":{\"gridcolor\":\"white\",\"linecolor\":\"white\",\"ticks\":\"\"},\"radialaxis\":{\"gridcolor\":\"white\",\"linecolor\":\"white\",\"ticks\":\"\"}},\"ternary\":{\"bgcolor\":\"#E5ECF6\",\"aaxis\":{\"gridcolor\":\"white\",\"linecolor\":\"white\",\"ticks\":\"\"},\"baxis\":{\"gridcolor\":\"white\",\"linecolor\":\"white\",\"ticks\":\"\"},\"caxis\":{\"gridcolor\":\"white\",\"linecolor\":\"white\",\"ticks\":\"\"}},\"coloraxis\":{\"colorbar\":{\"outlinewidth\":0,\"ticks\":\"\"}},\"colorscale\":{\"sequential\":[[0.0,\"#0d0887\"],[0.1111111111111111,\"#46039f\"],[0.2222222222222222,\"#7201a8\"],[0.3333333333333333,\"#9c179e\"],[0.4444444444444444,\"#bd3786\"],[0.5555555555555556,\"#d8576b\"],[0.6666666666666666,\"#ed7953\"],[0.7777777777777778,\"#fb9f3a\"],[0.8888888888888888,\"#fdca26\"],[1.0,\"#f0f921\"]],\"sequentialminus\":[[0.0,\"#0d0887\"],[0.1111111111111111,\"#46039f\"],[0.2222222222222222,\"#7201a8\"],[0.3333333333333333,\"#9c179e\"],[0.4444444444444444,\"#bd3786\"],[0.5555555555555556,\"#d8576b\"],[0.6666666666666666,\"#ed7953\"],[0.7777777777777778,\"#fb9f3a\"],[0.8888888888888888,\"#fdca26\"],[1.0,\"#f0f921\"]],\"diverging\":[[0,\"#8e0152\"],[0.1,\"#c51b7d\"],[0.2,\"#de77ae\"],[0.3,\"#f1b6da\"],[0.4,\"#fde0ef\"],[0.5,\"#f7f7f7\"],[0.6,\"#e6f5d0\"],[0.7,\"#b8e186\"],[0.8,\"#7fbc41\"],[0.9,\"#4d9221\"],[1,\"#276419\"]]},\"xaxis\":{\"gridcolor\":\"white\",\"linecolor\":\"white\",\"ticks\":\"\",\"title\":{\"standoff\":15},\"zerolinecolor\":\"white\",\"automargin\":true,\"zerolinewidth\":2},\"yaxis\":{\"gridcolor\":\"white\",\"linecolor\":\"white\",\"ticks\":\"\",\"title\":{\"standoff\":15},\"zerolinecolor\":\"white\",\"automargin\":true,\"zerolinewidth\":2},\"scene\":{\"xaxis\":{\"backgroundcolor\":\"#E5ECF6\",\"gridcolor\":\"white\",\"linecolor\":\"white\",\"showbackground\":true,\"ticks\":\"\",\"zerolinecolor\":\"white\",\"gridwidth\":2},\"yaxis\":{\"backgroundcolor\":\"#E5ECF6\",\"gridcolor\":\"white\",\"linecolor\":\"white\",\"showbackground\":true,\"ticks\":\"\",\"zerolinecolor\":\"white\",\"gridwidth\":2},\"zaxis\":{\"backgroundcolor\":\"#E5ECF6\",\"gridcolor\":\"white\",\"linecolor\":\"white\",\"showbackground\":true,\"ticks\":\"\",\"zerolinecolor\":\"white\",\"gridwidth\":2}},\"shapedefaults\":{\"line\":{\"color\":\"#2a3f5f\"}},\"annotationdefaults\":{\"arrowcolor\":\"#2a3f5f\",\"arrowhead\":0,\"arrowwidth\":1},\"geo\":{\"bgcolor\":\"white\",\"landcolor\":\"#E5ECF6\",\"subunitcolor\":\"white\",\"showland\":true,\"showlakes\":true,\"lakecolor\":\"white\"},\"title\":{\"x\":0.05},\"mapbox\":{\"style\":\"light\"}}}},                        {\"responsive\": true}                    ).then(function(){\n",
       "                            \n",
       "var gd = document.getElementById('bdf46baa-510c-4be4-96aa-a06bf95c0ab6');\n",
       "var x = new MutationObserver(function (mutations, observer) {{\n",
       "        var display = window.getComputedStyle(gd).display;\n",
       "        if (!display || display === 'none') {{\n",
       "            console.log([gd, 'removed!']);\n",
       "            Plotly.purge(gd);\n",
       "            observer.disconnect();\n",
       "        }}\n",
       "}});\n",
       "\n",
       "// Listen for the removal of the full notebook cells\n",
       "var notebookContainer = gd.closest('#notebook-container');\n",
       "if (notebookContainer) {{\n",
       "    x.observe(notebookContainer, {childList: true});\n",
       "}}\n",
       "\n",
       "// Listen for the clearing of the current output cell\n",
       "var outputEl = gd.closest('.output');\n",
       "if (outputEl) {{\n",
       "    x.observe(outputEl, {childList: true});\n",
       "}}\n",
       "\n",
       "                        })                };                });            </script>        </div>"
      ]
     },
     "metadata": {},
     "output_type": "display_data"
    }
   ],
   "source": [
    "# Optimization history plot\n",
    "optuna.visualization.plot_optimization_history(study)"
   ]
  },
  {
   "cell_type": "code",
   "execution_count": 9,
   "metadata": {},
   "outputs": [
    {
     "data": {
      "application/vnd.plotly.v1+json": {
       "config": {
        "plotlyServerURL": "https://plot.ly"
       },
       "data": [
        {
         "marker": {
          "color": [
           0,
           1,
           2,
           3,
           4
          ],
          "colorbar": {
           "title": {
            "text": "#Trials"
           },
           "x": 1,
           "xpad": 40
          },
          "colorscale": [
           [
            0,
            "rgb(247,251,255)"
           ],
           [
            0.125,
            "rgb(222,235,247)"
           ],
           [
            0.25,
            "rgb(198,219,239)"
           ],
           [
            0.375,
            "rgb(158,202,225)"
           ],
           [
            0.5,
            "rgb(107,174,214)"
           ],
           [
            0.625,
            "rgb(66,146,198)"
           ],
           [
            0.75,
            "rgb(33,113,181)"
           ],
           [
            0.875,
            "rgb(8,81,156)"
           ],
           [
            1,
            "rgb(8,48,107)"
           ]
          ],
          "line": {
           "color": "Grey",
           "width": 0.5
          },
          "showscale": true
         },
         "mode": "markers",
         "showlegend": false,
         "type": "scatter",
         "x": [
          3,
          4,
          3,
          4,
          4
         ],
         "xaxis": "x",
         "y": [
          0.8543636798858643,
          0.8514640927314758,
          0.858460009098053,
          0.8579881191253662,
          0.8579881191253662
         ],
         "yaxis": "y"
        },
        {
         "marker": {
          "color": [
           0,
           1,
           2,
           3,
           4
          ],
          "colorbar": {
           "title": {
            "text": "#Trials"
           },
           "x": 1,
           "xpad": 40
          },
          "colorscale": [
           [
            0,
            "rgb(247,251,255)"
           ],
           [
            0.125,
            "rgb(222,235,247)"
           ],
           [
            0.25,
            "rgb(198,219,239)"
           ],
           [
            0.375,
            "rgb(158,202,225)"
           ],
           [
            0.5,
            "rgb(107,174,214)"
           ],
           [
            0.625,
            "rgb(66,146,198)"
           ],
           [
            0.75,
            "rgb(33,113,181)"
           ],
           [
            0.875,
            "rgb(8,81,156)"
           ],
           [
            1,
            "rgb(8,48,107)"
           ]
          ],
          "line": {
           "color": "Grey",
           "width": 0.5
          },
          "showscale": false
         },
         "mode": "markers",
         "showlegend": false,
         "type": "scatter",
         "x": [
          96,
          16,
          80,
          48,
          48
         ],
         "xaxis": "x2",
         "y": [
          0.8543636798858643,
          0.8514640927314758,
          0.858460009098053,
          0.8579881191253662,
          0.8579881191253662
         ],
         "yaxis": "y2"
        }
       ],
       "layout": {
        "template": {
         "data": {
          "bar": [
           {
            "error_x": {
             "color": "#2a3f5f"
            },
            "error_y": {
             "color": "#2a3f5f"
            },
            "marker": {
             "line": {
              "color": "#E5ECF6",
              "width": 0.5
             },
             "pattern": {
              "fillmode": "overlay",
              "size": 10,
              "solidity": 0.2
             }
            },
            "type": "bar"
           }
          ],
          "barpolar": [
           {
            "marker": {
             "line": {
              "color": "#E5ECF6",
              "width": 0.5
             },
             "pattern": {
              "fillmode": "overlay",
              "size": 10,
              "solidity": 0.2
             }
            },
            "type": "barpolar"
           }
          ],
          "carpet": [
           {
            "aaxis": {
             "endlinecolor": "#2a3f5f",
             "gridcolor": "white",
             "linecolor": "white",
             "minorgridcolor": "white",
             "startlinecolor": "#2a3f5f"
            },
            "baxis": {
             "endlinecolor": "#2a3f5f",
             "gridcolor": "white",
             "linecolor": "white",
             "minorgridcolor": "white",
             "startlinecolor": "#2a3f5f"
            },
            "type": "carpet"
           }
          ],
          "choropleth": [
           {
            "colorbar": {
             "outlinewidth": 0,
             "ticks": ""
            },
            "type": "choropleth"
           }
          ],
          "contour": [
           {
            "colorbar": {
             "outlinewidth": 0,
             "ticks": ""
            },
            "colorscale": [
             [
              0,
              "#0d0887"
             ],
             [
              0.1111111111111111,
              "#46039f"
             ],
             [
              0.2222222222222222,
              "#7201a8"
             ],
             [
              0.3333333333333333,
              "#9c179e"
             ],
             [
              0.4444444444444444,
              "#bd3786"
             ],
             [
              0.5555555555555556,
              "#d8576b"
             ],
             [
              0.6666666666666666,
              "#ed7953"
             ],
             [
              0.7777777777777778,
              "#fb9f3a"
             ],
             [
              0.8888888888888888,
              "#fdca26"
             ],
             [
              1,
              "#f0f921"
             ]
            ],
            "type": "contour"
           }
          ],
          "contourcarpet": [
           {
            "colorbar": {
             "outlinewidth": 0,
             "ticks": ""
            },
            "type": "contourcarpet"
           }
          ],
          "heatmap": [
           {
            "colorbar": {
             "outlinewidth": 0,
             "ticks": ""
            },
            "colorscale": [
             [
              0,
              "#0d0887"
             ],
             [
              0.1111111111111111,
              "#46039f"
             ],
             [
              0.2222222222222222,
              "#7201a8"
             ],
             [
              0.3333333333333333,
              "#9c179e"
             ],
             [
              0.4444444444444444,
              "#bd3786"
             ],
             [
              0.5555555555555556,
              "#d8576b"
             ],
             [
              0.6666666666666666,
              "#ed7953"
             ],
             [
              0.7777777777777778,
              "#fb9f3a"
             ],
             [
              0.8888888888888888,
              "#fdca26"
             ],
             [
              1,
              "#f0f921"
             ]
            ],
            "type": "heatmap"
           }
          ],
          "heatmapgl": [
           {
            "colorbar": {
             "outlinewidth": 0,
             "ticks": ""
            },
            "colorscale": [
             [
              0,
              "#0d0887"
             ],
             [
              0.1111111111111111,
              "#46039f"
             ],
             [
              0.2222222222222222,
              "#7201a8"
             ],
             [
              0.3333333333333333,
              "#9c179e"
             ],
             [
              0.4444444444444444,
              "#bd3786"
             ],
             [
              0.5555555555555556,
              "#d8576b"
             ],
             [
              0.6666666666666666,
              "#ed7953"
             ],
             [
              0.7777777777777778,
              "#fb9f3a"
             ],
             [
              0.8888888888888888,
              "#fdca26"
             ],
             [
              1,
              "#f0f921"
             ]
            ],
            "type": "heatmapgl"
           }
          ],
          "histogram": [
           {
            "marker": {
             "pattern": {
              "fillmode": "overlay",
              "size": 10,
              "solidity": 0.2
             }
            },
            "type": "histogram"
           }
          ],
          "histogram2d": [
           {
            "colorbar": {
             "outlinewidth": 0,
             "ticks": ""
            },
            "colorscale": [
             [
              0,
              "#0d0887"
             ],
             [
              0.1111111111111111,
              "#46039f"
             ],
             [
              0.2222222222222222,
              "#7201a8"
             ],
             [
              0.3333333333333333,
              "#9c179e"
             ],
             [
              0.4444444444444444,
              "#bd3786"
             ],
             [
              0.5555555555555556,
              "#d8576b"
             ],
             [
              0.6666666666666666,
              "#ed7953"
             ],
             [
              0.7777777777777778,
              "#fb9f3a"
             ],
             [
              0.8888888888888888,
              "#fdca26"
             ],
             [
              1,
              "#f0f921"
             ]
            ],
            "type": "histogram2d"
           }
          ],
          "histogram2dcontour": [
           {
            "colorbar": {
             "outlinewidth": 0,
             "ticks": ""
            },
            "colorscale": [
             [
              0,
              "#0d0887"
             ],
             [
              0.1111111111111111,
              "#46039f"
             ],
             [
              0.2222222222222222,
              "#7201a8"
             ],
             [
              0.3333333333333333,
              "#9c179e"
             ],
             [
              0.4444444444444444,
              "#bd3786"
             ],
             [
              0.5555555555555556,
              "#d8576b"
             ],
             [
              0.6666666666666666,
              "#ed7953"
             ],
             [
              0.7777777777777778,
              "#fb9f3a"
             ],
             [
              0.8888888888888888,
              "#fdca26"
             ],
             [
              1,
              "#f0f921"
             ]
            ],
            "type": "histogram2dcontour"
           }
          ],
          "mesh3d": [
           {
            "colorbar": {
             "outlinewidth": 0,
             "ticks": ""
            },
            "type": "mesh3d"
           }
          ],
          "parcoords": [
           {
            "line": {
             "colorbar": {
              "outlinewidth": 0,
              "ticks": ""
             }
            },
            "type": "parcoords"
           }
          ],
          "pie": [
           {
            "automargin": true,
            "type": "pie"
           }
          ],
          "scatter": [
           {
            "fillpattern": {
             "fillmode": "overlay",
             "size": 10,
             "solidity": 0.2
            },
            "type": "scatter"
           }
          ],
          "scatter3d": [
           {
            "line": {
             "colorbar": {
              "outlinewidth": 0,
              "ticks": ""
             }
            },
            "marker": {
             "colorbar": {
              "outlinewidth": 0,
              "ticks": ""
             }
            },
            "type": "scatter3d"
           }
          ],
          "scattercarpet": [
           {
            "marker": {
             "colorbar": {
              "outlinewidth": 0,
              "ticks": ""
             }
            },
            "type": "scattercarpet"
           }
          ],
          "scattergeo": [
           {
            "marker": {
             "colorbar": {
              "outlinewidth": 0,
              "ticks": ""
             }
            },
            "type": "scattergeo"
           }
          ],
          "scattergl": [
           {
            "marker": {
             "colorbar": {
              "outlinewidth": 0,
              "ticks": ""
             }
            },
            "type": "scattergl"
           }
          ],
          "scattermapbox": [
           {
            "marker": {
             "colorbar": {
              "outlinewidth": 0,
              "ticks": ""
             }
            },
            "type": "scattermapbox"
           }
          ],
          "scatterpolar": [
           {
            "marker": {
             "colorbar": {
              "outlinewidth": 0,
              "ticks": ""
             }
            },
            "type": "scatterpolar"
           }
          ],
          "scatterpolargl": [
           {
            "marker": {
             "colorbar": {
              "outlinewidth": 0,
              "ticks": ""
             }
            },
            "type": "scatterpolargl"
           }
          ],
          "scatterternary": [
           {
            "marker": {
             "colorbar": {
              "outlinewidth": 0,
              "ticks": ""
             }
            },
            "type": "scatterternary"
           }
          ],
          "surface": [
           {
            "colorbar": {
             "outlinewidth": 0,
             "ticks": ""
            },
            "colorscale": [
             [
              0,
              "#0d0887"
             ],
             [
              0.1111111111111111,
              "#46039f"
             ],
             [
              0.2222222222222222,
              "#7201a8"
             ],
             [
              0.3333333333333333,
              "#9c179e"
             ],
             [
              0.4444444444444444,
              "#bd3786"
             ],
             [
              0.5555555555555556,
              "#d8576b"
             ],
             [
              0.6666666666666666,
              "#ed7953"
             ],
             [
              0.7777777777777778,
              "#fb9f3a"
             ],
             [
              0.8888888888888888,
              "#fdca26"
             ],
             [
              1,
              "#f0f921"
             ]
            ],
            "type": "surface"
           }
          ],
          "table": [
           {
            "cells": {
             "fill": {
              "color": "#EBF0F8"
             },
             "line": {
              "color": "white"
             }
            },
            "header": {
             "fill": {
              "color": "#C8D4E3"
             },
             "line": {
              "color": "white"
             }
            },
            "type": "table"
           }
          ]
         },
         "layout": {
          "annotationdefaults": {
           "arrowcolor": "#2a3f5f",
           "arrowhead": 0,
           "arrowwidth": 1
          },
          "autotypenumbers": "strict",
          "coloraxis": {
           "colorbar": {
            "outlinewidth": 0,
            "ticks": ""
           }
          },
          "colorscale": {
           "diverging": [
            [
             0,
             "#8e0152"
            ],
            [
             0.1,
             "#c51b7d"
            ],
            [
             0.2,
             "#de77ae"
            ],
            [
             0.3,
             "#f1b6da"
            ],
            [
             0.4,
             "#fde0ef"
            ],
            [
             0.5,
             "#f7f7f7"
            ],
            [
             0.6,
             "#e6f5d0"
            ],
            [
             0.7,
             "#b8e186"
            ],
            [
             0.8,
             "#7fbc41"
            ],
            [
             0.9,
             "#4d9221"
            ],
            [
             1,
             "#276419"
            ]
           ],
           "sequential": [
            [
             0,
             "#0d0887"
            ],
            [
             0.1111111111111111,
             "#46039f"
            ],
            [
             0.2222222222222222,
             "#7201a8"
            ],
            [
             0.3333333333333333,
             "#9c179e"
            ],
            [
             0.4444444444444444,
             "#bd3786"
            ],
            [
             0.5555555555555556,
             "#d8576b"
            ],
            [
             0.6666666666666666,
             "#ed7953"
            ],
            [
             0.7777777777777778,
             "#fb9f3a"
            ],
            [
             0.8888888888888888,
             "#fdca26"
            ],
            [
             1,
             "#f0f921"
            ]
           ],
           "sequentialminus": [
            [
             0,
             "#0d0887"
            ],
            [
             0.1111111111111111,
             "#46039f"
            ],
            [
             0.2222222222222222,
             "#7201a8"
            ],
            [
             0.3333333333333333,
             "#9c179e"
            ],
            [
             0.4444444444444444,
             "#bd3786"
            ],
            [
             0.5555555555555556,
             "#d8576b"
            ],
            [
             0.6666666666666666,
             "#ed7953"
            ],
            [
             0.7777777777777778,
             "#fb9f3a"
            ],
            [
             0.8888888888888888,
             "#fdca26"
            ],
            [
             1,
             "#f0f921"
            ]
           ]
          },
          "colorway": [
           "#636efa",
           "#EF553B",
           "#00cc96",
           "#ab63fa",
           "#FFA15A",
           "#19d3f3",
           "#FF6692",
           "#B6E880",
           "#FF97FF",
           "#FECB52"
          ],
          "font": {
           "color": "#2a3f5f"
          },
          "geo": {
           "bgcolor": "white",
           "lakecolor": "white",
           "landcolor": "#E5ECF6",
           "showlakes": true,
           "showland": true,
           "subunitcolor": "white"
          },
          "hoverlabel": {
           "align": "left"
          },
          "hovermode": "closest",
          "mapbox": {
           "style": "light"
          },
          "paper_bgcolor": "white",
          "plot_bgcolor": "#E5ECF6",
          "polar": {
           "angularaxis": {
            "gridcolor": "white",
            "linecolor": "white",
            "ticks": ""
           },
           "bgcolor": "#E5ECF6",
           "radialaxis": {
            "gridcolor": "white",
            "linecolor": "white",
            "ticks": ""
           }
          },
          "scene": {
           "xaxis": {
            "backgroundcolor": "#E5ECF6",
            "gridcolor": "white",
            "gridwidth": 2,
            "linecolor": "white",
            "showbackground": true,
            "ticks": "",
            "zerolinecolor": "white"
           },
           "yaxis": {
            "backgroundcolor": "#E5ECF6",
            "gridcolor": "white",
            "gridwidth": 2,
            "linecolor": "white",
            "showbackground": true,
            "ticks": "",
            "zerolinecolor": "white"
           },
           "zaxis": {
            "backgroundcolor": "#E5ECF6",
            "gridcolor": "white",
            "gridwidth": 2,
            "linecolor": "white",
            "showbackground": true,
            "ticks": "",
            "zerolinecolor": "white"
           }
          },
          "shapedefaults": {
           "line": {
            "color": "#2a3f5f"
           }
          },
          "ternary": {
           "aaxis": {
            "gridcolor": "white",
            "linecolor": "white",
            "ticks": ""
           },
           "baxis": {
            "gridcolor": "white",
            "linecolor": "white",
            "ticks": ""
           },
           "bgcolor": "#E5ECF6",
           "caxis": {
            "gridcolor": "white",
            "linecolor": "white",
            "ticks": ""
           }
          },
          "title": {
           "x": 0.05
          },
          "xaxis": {
           "automargin": true,
           "gridcolor": "white",
           "linecolor": "white",
           "ticks": "",
           "title": {
            "standoff": 15
           },
           "zerolinecolor": "white",
           "zerolinewidth": 2
          },
          "yaxis": {
           "automargin": true,
           "gridcolor": "white",
           "linecolor": "white",
           "ticks": "",
           "title": {
            "standoff": 15
           },
           "zerolinecolor": "white",
           "zerolinewidth": 2
          }
         }
        },
        "title": {
         "text": "Slice Plot"
        },
        "xaxis": {
         "anchor": "y",
         "domain": [
          0,
          0.45
         ],
         "title": {
          "text": "gnn.depth"
         }
        },
        "xaxis2": {
         "anchor": "y2",
         "domain": [
          0.55,
          1
         ],
         "title": {
          "text": "gnn.hid"
         }
        },
        "yaxis": {
         "anchor": "x",
         "domain": [
          0,
          1
         ],
         "title": {
          "text": "Objective Value"
         }
        },
        "yaxis2": {
         "anchor": "x2",
         "domain": [
          0,
          1
         ],
         "matches": "y",
         "showticklabels": false
        }
       }
      },
      "text/html": [
       "<div>                            <div id=\"7bb14a98-22dc-47eb-b9a8-bf996ef939b8\" class=\"plotly-graph-div\" style=\"height:525px; width:100%;\"></div>            <script type=\"text/javascript\">                require([\"plotly\"], function(Plotly) {                    window.PLOTLYENV=window.PLOTLYENV || {};                                    if (document.getElementById(\"7bb14a98-22dc-47eb-b9a8-bf996ef939b8\")) {                    Plotly.newPlot(                        \"7bb14a98-22dc-47eb-b9a8-bf996ef939b8\",                        [{\"marker\":{\"color\":[0,1,2,3,4],\"colorbar\":{\"title\":{\"text\":\"#Trials\"},\"x\":1.0,\"xpad\":40},\"colorscale\":[[0.0,\"rgb(247,251,255)\"],[0.125,\"rgb(222,235,247)\"],[0.25,\"rgb(198,219,239)\"],[0.375,\"rgb(158,202,225)\"],[0.5,\"rgb(107,174,214)\"],[0.625,\"rgb(66,146,198)\"],[0.75,\"rgb(33,113,181)\"],[0.875,\"rgb(8,81,156)\"],[1.0,\"rgb(8,48,107)\"]],\"line\":{\"color\":\"Grey\",\"width\":0.5},\"showscale\":true},\"mode\":\"markers\",\"showlegend\":false,\"x\":[3,4,3,4,4],\"y\":[0.8543636798858643,0.8514640927314758,0.858460009098053,0.8579881191253662,0.8579881191253662],\"type\":\"scatter\",\"xaxis\":\"x\",\"yaxis\":\"y\"},{\"marker\":{\"color\":[0,1,2,3,4],\"colorbar\":{\"title\":{\"text\":\"#Trials\"},\"x\":1.0,\"xpad\":40},\"colorscale\":[[0.0,\"rgb(247,251,255)\"],[0.125,\"rgb(222,235,247)\"],[0.25,\"rgb(198,219,239)\"],[0.375,\"rgb(158,202,225)\"],[0.5,\"rgb(107,174,214)\"],[0.625,\"rgb(66,146,198)\"],[0.75,\"rgb(33,113,181)\"],[0.875,\"rgb(8,81,156)\"],[1.0,\"rgb(8,48,107)\"]],\"line\":{\"color\":\"Grey\",\"width\":0.5},\"showscale\":false},\"mode\":\"markers\",\"showlegend\":false,\"x\":[96,16,80,48,48],\"y\":[0.8543636798858643,0.8514640927314758,0.858460009098053,0.8579881191253662,0.8579881191253662],\"type\":\"scatter\",\"xaxis\":\"x2\",\"yaxis\":\"y2\"}],                        {\"template\":{\"data\":{\"histogram2dcontour\":[{\"type\":\"histogram2dcontour\",\"colorbar\":{\"outlinewidth\":0,\"ticks\":\"\"},\"colorscale\":[[0.0,\"#0d0887\"],[0.1111111111111111,\"#46039f\"],[0.2222222222222222,\"#7201a8\"],[0.3333333333333333,\"#9c179e\"],[0.4444444444444444,\"#bd3786\"],[0.5555555555555556,\"#d8576b\"],[0.6666666666666666,\"#ed7953\"],[0.7777777777777778,\"#fb9f3a\"],[0.8888888888888888,\"#fdca26\"],[1.0,\"#f0f921\"]]}],\"choropleth\":[{\"type\":\"choropleth\",\"colorbar\":{\"outlinewidth\":0,\"ticks\":\"\"}}],\"histogram2d\":[{\"type\":\"histogram2d\",\"colorbar\":{\"outlinewidth\":0,\"ticks\":\"\"},\"colorscale\":[[0.0,\"#0d0887\"],[0.1111111111111111,\"#46039f\"],[0.2222222222222222,\"#7201a8\"],[0.3333333333333333,\"#9c179e\"],[0.4444444444444444,\"#bd3786\"],[0.5555555555555556,\"#d8576b\"],[0.6666666666666666,\"#ed7953\"],[0.7777777777777778,\"#fb9f3a\"],[0.8888888888888888,\"#fdca26\"],[1.0,\"#f0f921\"]]}],\"heatmap\":[{\"type\":\"heatmap\",\"colorbar\":{\"outlinewidth\":0,\"ticks\":\"\"},\"colorscale\":[[0.0,\"#0d0887\"],[0.1111111111111111,\"#46039f\"],[0.2222222222222222,\"#7201a8\"],[0.3333333333333333,\"#9c179e\"],[0.4444444444444444,\"#bd3786\"],[0.5555555555555556,\"#d8576b\"],[0.6666666666666666,\"#ed7953\"],[0.7777777777777778,\"#fb9f3a\"],[0.8888888888888888,\"#fdca26\"],[1.0,\"#f0f921\"]]}],\"heatmapgl\":[{\"type\":\"heatmapgl\",\"colorbar\":{\"outlinewidth\":0,\"ticks\":\"\"},\"colorscale\":[[0.0,\"#0d0887\"],[0.1111111111111111,\"#46039f\"],[0.2222222222222222,\"#7201a8\"],[0.3333333333333333,\"#9c179e\"],[0.4444444444444444,\"#bd3786\"],[0.5555555555555556,\"#d8576b\"],[0.6666666666666666,\"#ed7953\"],[0.7777777777777778,\"#fb9f3a\"],[0.8888888888888888,\"#fdca26\"],[1.0,\"#f0f921\"]]}],\"contourcarpet\":[{\"type\":\"contourcarpet\",\"colorbar\":{\"outlinewidth\":0,\"ticks\":\"\"}}],\"contour\":[{\"type\":\"contour\",\"colorbar\":{\"outlinewidth\":0,\"ticks\":\"\"},\"colorscale\":[[0.0,\"#0d0887\"],[0.1111111111111111,\"#46039f\"],[0.2222222222222222,\"#7201a8\"],[0.3333333333333333,\"#9c179e\"],[0.4444444444444444,\"#bd3786\"],[0.5555555555555556,\"#d8576b\"],[0.6666666666666666,\"#ed7953\"],[0.7777777777777778,\"#fb9f3a\"],[0.8888888888888888,\"#fdca26\"],[1.0,\"#f0f921\"]]}],\"surface\":[{\"type\":\"surface\",\"colorbar\":{\"outlinewidth\":0,\"ticks\":\"\"},\"colorscale\":[[0.0,\"#0d0887\"],[0.1111111111111111,\"#46039f\"],[0.2222222222222222,\"#7201a8\"],[0.3333333333333333,\"#9c179e\"],[0.4444444444444444,\"#bd3786\"],[0.5555555555555556,\"#d8576b\"],[0.6666666666666666,\"#ed7953\"],[0.7777777777777778,\"#fb9f3a\"],[0.8888888888888888,\"#fdca26\"],[1.0,\"#f0f921\"]]}],\"mesh3d\":[{\"type\":\"mesh3d\",\"colorbar\":{\"outlinewidth\":0,\"ticks\":\"\"}}],\"scatter\":[{\"fillpattern\":{\"fillmode\":\"overlay\",\"size\":10,\"solidity\":0.2},\"type\":\"scatter\"}],\"parcoords\":[{\"type\":\"parcoords\",\"line\":{\"colorbar\":{\"outlinewidth\":0,\"ticks\":\"\"}}}],\"scatterpolargl\":[{\"type\":\"scatterpolargl\",\"marker\":{\"colorbar\":{\"outlinewidth\":0,\"ticks\":\"\"}}}],\"bar\":[{\"error_x\":{\"color\":\"#2a3f5f\"},\"error_y\":{\"color\":\"#2a3f5f\"},\"marker\":{\"line\":{\"color\":\"#E5ECF6\",\"width\":0.5},\"pattern\":{\"fillmode\":\"overlay\",\"size\":10,\"solidity\":0.2}},\"type\":\"bar\"}],\"scattergeo\":[{\"type\":\"scattergeo\",\"marker\":{\"colorbar\":{\"outlinewidth\":0,\"ticks\":\"\"}}}],\"scatterpolar\":[{\"type\":\"scatterpolar\",\"marker\":{\"colorbar\":{\"outlinewidth\":0,\"ticks\":\"\"}}}],\"histogram\":[{\"marker\":{\"pattern\":{\"fillmode\":\"overlay\",\"size\":10,\"solidity\":0.2}},\"type\":\"histogram\"}],\"scattergl\":[{\"type\":\"scattergl\",\"marker\":{\"colorbar\":{\"outlinewidth\":0,\"ticks\":\"\"}}}],\"scatter3d\":[{\"type\":\"scatter3d\",\"line\":{\"colorbar\":{\"outlinewidth\":0,\"ticks\":\"\"}},\"marker\":{\"colorbar\":{\"outlinewidth\":0,\"ticks\":\"\"}}}],\"scattermapbox\":[{\"type\":\"scattermapbox\",\"marker\":{\"colorbar\":{\"outlinewidth\":0,\"ticks\":\"\"}}}],\"scatterternary\":[{\"type\":\"scatterternary\",\"marker\":{\"colorbar\":{\"outlinewidth\":0,\"ticks\":\"\"}}}],\"scattercarpet\":[{\"type\":\"scattercarpet\",\"marker\":{\"colorbar\":{\"outlinewidth\":0,\"ticks\":\"\"}}}],\"carpet\":[{\"aaxis\":{\"endlinecolor\":\"#2a3f5f\",\"gridcolor\":\"white\",\"linecolor\":\"white\",\"minorgridcolor\":\"white\",\"startlinecolor\":\"#2a3f5f\"},\"baxis\":{\"endlinecolor\":\"#2a3f5f\",\"gridcolor\":\"white\",\"linecolor\":\"white\",\"minorgridcolor\":\"white\",\"startlinecolor\":\"#2a3f5f\"},\"type\":\"carpet\"}],\"table\":[{\"cells\":{\"fill\":{\"color\":\"#EBF0F8\"},\"line\":{\"color\":\"white\"}},\"header\":{\"fill\":{\"color\":\"#C8D4E3\"},\"line\":{\"color\":\"white\"}},\"type\":\"table\"}],\"barpolar\":[{\"marker\":{\"line\":{\"color\":\"#E5ECF6\",\"width\":0.5},\"pattern\":{\"fillmode\":\"overlay\",\"size\":10,\"solidity\":0.2}},\"type\":\"barpolar\"}],\"pie\":[{\"automargin\":true,\"type\":\"pie\"}]},\"layout\":{\"autotypenumbers\":\"strict\",\"colorway\":[\"#636efa\",\"#EF553B\",\"#00cc96\",\"#ab63fa\",\"#FFA15A\",\"#19d3f3\",\"#FF6692\",\"#B6E880\",\"#FF97FF\",\"#FECB52\"],\"font\":{\"color\":\"#2a3f5f\"},\"hovermode\":\"closest\",\"hoverlabel\":{\"align\":\"left\"},\"paper_bgcolor\":\"white\",\"plot_bgcolor\":\"#E5ECF6\",\"polar\":{\"bgcolor\":\"#E5ECF6\",\"angularaxis\":{\"gridcolor\":\"white\",\"linecolor\":\"white\",\"ticks\":\"\"},\"radialaxis\":{\"gridcolor\":\"white\",\"linecolor\":\"white\",\"ticks\":\"\"}},\"ternary\":{\"bgcolor\":\"#E5ECF6\",\"aaxis\":{\"gridcolor\":\"white\",\"linecolor\":\"white\",\"ticks\":\"\"},\"baxis\":{\"gridcolor\":\"white\",\"linecolor\":\"white\",\"ticks\":\"\"},\"caxis\":{\"gridcolor\":\"white\",\"linecolor\":\"white\",\"ticks\":\"\"}},\"coloraxis\":{\"colorbar\":{\"outlinewidth\":0,\"ticks\":\"\"}},\"colorscale\":{\"sequential\":[[0.0,\"#0d0887\"],[0.1111111111111111,\"#46039f\"],[0.2222222222222222,\"#7201a8\"],[0.3333333333333333,\"#9c179e\"],[0.4444444444444444,\"#bd3786\"],[0.5555555555555556,\"#d8576b\"],[0.6666666666666666,\"#ed7953\"],[0.7777777777777778,\"#fb9f3a\"],[0.8888888888888888,\"#fdca26\"],[1.0,\"#f0f921\"]],\"sequentialminus\":[[0.0,\"#0d0887\"],[0.1111111111111111,\"#46039f\"],[0.2222222222222222,\"#7201a8\"],[0.3333333333333333,\"#9c179e\"],[0.4444444444444444,\"#bd3786\"],[0.5555555555555556,\"#d8576b\"],[0.6666666666666666,\"#ed7953\"],[0.7777777777777778,\"#fb9f3a\"],[0.8888888888888888,\"#fdca26\"],[1.0,\"#f0f921\"]],\"diverging\":[[0,\"#8e0152\"],[0.1,\"#c51b7d\"],[0.2,\"#de77ae\"],[0.3,\"#f1b6da\"],[0.4,\"#fde0ef\"],[0.5,\"#f7f7f7\"],[0.6,\"#e6f5d0\"],[0.7,\"#b8e186\"],[0.8,\"#7fbc41\"],[0.9,\"#4d9221\"],[1,\"#276419\"]]},\"xaxis\":{\"gridcolor\":\"white\",\"linecolor\":\"white\",\"ticks\":\"\",\"title\":{\"standoff\":15},\"zerolinecolor\":\"white\",\"automargin\":true,\"zerolinewidth\":2},\"yaxis\":{\"gridcolor\":\"white\",\"linecolor\":\"white\",\"ticks\":\"\",\"title\":{\"standoff\":15},\"zerolinecolor\":\"white\",\"automargin\":true,\"zerolinewidth\":2},\"scene\":{\"xaxis\":{\"backgroundcolor\":\"#E5ECF6\",\"gridcolor\":\"white\",\"linecolor\":\"white\",\"showbackground\":true,\"ticks\":\"\",\"zerolinecolor\":\"white\",\"gridwidth\":2},\"yaxis\":{\"backgroundcolor\":\"#E5ECF6\",\"gridcolor\":\"white\",\"linecolor\":\"white\",\"showbackground\":true,\"ticks\":\"\",\"zerolinecolor\":\"white\",\"gridwidth\":2},\"zaxis\":{\"backgroundcolor\":\"#E5ECF6\",\"gridcolor\":\"white\",\"linecolor\":\"white\",\"showbackground\":true,\"ticks\":\"\",\"zerolinecolor\":\"white\",\"gridwidth\":2}},\"shapedefaults\":{\"line\":{\"color\":\"#2a3f5f\"}},\"annotationdefaults\":{\"arrowcolor\":\"#2a3f5f\",\"arrowhead\":0,\"arrowwidth\":1},\"geo\":{\"bgcolor\":\"white\",\"landcolor\":\"#E5ECF6\",\"subunitcolor\":\"white\",\"showland\":true,\"showlakes\":true,\"lakecolor\":\"white\"},\"title\":{\"x\":0.05},\"mapbox\":{\"style\":\"light\"}}},\"xaxis\":{\"anchor\":\"y\",\"domain\":[0.0,0.45],\"title\":{\"text\":\"gnn.depth\"}},\"yaxis\":{\"anchor\":\"x\",\"domain\":[0.0,1.0],\"title\":{\"text\":\"Objective Value\"}},\"xaxis2\":{\"anchor\":\"y2\",\"domain\":[0.55,1.0],\"title\":{\"text\":\"gnn.hid\"}},\"yaxis2\":{\"anchor\":\"x2\",\"domain\":[0.0,1.0],\"matches\":\"y\",\"showticklabels\":false},\"title\":{\"text\":\"Slice Plot\"}},                        {\"responsive\": true}                    ).then(function(){\n",
       "                            \n",
       "var gd = document.getElementById('7bb14a98-22dc-47eb-b9a8-bf996ef939b8');\n",
       "var x = new MutationObserver(function (mutations, observer) {{\n",
       "        var display = window.getComputedStyle(gd).display;\n",
       "        if (!display || display === 'none') {{\n",
       "            console.log([gd, 'removed!']);\n",
       "            Plotly.purge(gd);\n",
       "            observer.disconnect();\n",
       "        }}\n",
       "}});\n",
       "\n",
       "// Listen for the removal of the full notebook cells\n",
       "var notebookContainer = gd.closest('#notebook-container');\n",
       "if (notebookContainer) {{\n",
       "    x.observe(notebookContainer, {childList: true});\n",
       "}}\n",
       "\n",
       "// Listen for the clearing of the current output cell\n",
       "var outputEl = gd.closest('.output');\n",
       "if (outputEl) {{\n",
       "    x.observe(outputEl, {childList: true});\n",
       "}}\n",
       "\n",
       "                        })                };                });            </script>        </div>"
      ]
     },
     "metadata": {},
     "output_type": "display_data"
    }
   ],
   "source": [
    "# Slice plot\n",
    "optuna.visualization.plot_slice(study)"
   ]
  },
  {
   "cell_type": "code",
   "execution_count": 10,
   "metadata": {},
   "outputs": [
    {
     "data": {
      "application/vnd.plotly.v1+json": {
       "config": {
        "plotlyServerURL": "https://plot.ly"
       },
       "data": [
        {
         "colorbar": {
          "title": {
           "text": "Objective Value"
          }
         },
         "colorscale": [
          [
           0,
           "rgb(5,10,172)"
          ],
          [
           0.35,
           "rgb(40,60,190)"
          ],
          [
           0.5,
           "rgb(70,100,245)"
          ],
          [
           0.6,
           "rgb(90,120,245)"
          ],
          [
           0.7,
           "rgb(106,137,247)"
          ],
          [
           1,
           "rgb(220,220,220)"
          ]
         ],
         "connectgaps": true,
         "contours": {
          "coloring": "heatmap"
         },
         "hoverinfo": "none",
         "line": {
          "smoothing": 1.3
         },
         "reversescale": true,
         "type": "contour",
         "x": [
          2.95,
          3,
          4,
          4.05
         ],
         "y": [
          12,
          16,
          48,
          80,
          96,
          100
         ],
         "z": [
          [
           null,
           null,
           null,
           null
          ],
          [
           null,
           null,
           0.8514640927314758,
           null
          ],
          [
           null,
           null,
           0.8579881191253662,
           null
          ],
          [
           null,
           0.858460009098053,
           null,
           null
          ],
          [
           null,
           0.8543636798858643,
           null,
           null
          ],
          [
           null,
           null,
           null,
           null
          ]
         ]
        },
        {
         "marker": {
          "color": "black",
          "line": {
           "color": "Grey",
           "width": 0.5
          }
         },
         "mode": "markers",
         "showlegend": false,
         "type": "scatter",
         "x": [
          3,
          4,
          3,
          4,
          4
         ],
         "y": [
          96,
          16,
          80,
          48,
          48
         ]
        }
       ],
       "layout": {
        "template": {
         "data": {
          "bar": [
           {
            "error_x": {
             "color": "#2a3f5f"
            },
            "error_y": {
             "color": "#2a3f5f"
            },
            "marker": {
             "line": {
              "color": "#E5ECF6",
              "width": 0.5
             },
             "pattern": {
              "fillmode": "overlay",
              "size": 10,
              "solidity": 0.2
             }
            },
            "type": "bar"
           }
          ],
          "barpolar": [
           {
            "marker": {
             "line": {
              "color": "#E5ECF6",
              "width": 0.5
             },
             "pattern": {
              "fillmode": "overlay",
              "size": 10,
              "solidity": 0.2
             }
            },
            "type": "barpolar"
           }
          ],
          "carpet": [
           {
            "aaxis": {
             "endlinecolor": "#2a3f5f",
             "gridcolor": "white",
             "linecolor": "white",
             "minorgridcolor": "white",
             "startlinecolor": "#2a3f5f"
            },
            "baxis": {
             "endlinecolor": "#2a3f5f",
             "gridcolor": "white",
             "linecolor": "white",
             "minorgridcolor": "white",
             "startlinecolor": "#2a3f5f"
            },
            "type": "carpet"
           }
          ],
          "choropleth": [
           {
            "colorbar": {
             "outlinewidth": 0,
             "ticks": ""
            },
            "type": "choropleth"
           }
          ],
          "contour": [
           {
            "colorbar": {
             "outlinewidth": 0,
             "ticks": ""
            },
            "colorscale": [
             [
              0,
              "#0d0887"
             ],
             [
              0.1111111111111111,
              "#46039f"
             ],
             [
              0.2222222222222222,
              "#7201a8"
             ],
             [
              0.3333333333333333,
              "#9c179e"
             ],
             [
              0.4444444444444444,
              "#bd3786"
             ],
             [
              0.5555555555555556,
              "#d8576b"
             ],
             [
              0.6666666666666666,
              "#ed7953"
             ],
             [
              0.7777777777777778,
              "#fb9f3a"
             ],
             [
              0.8888888888888888,
              "#fdca26"
             ],
             [
              1,
              "#f0f921"
             ]
            ],
            "type": "contour"
           }
          ],
          "contourcarpet": [
           {
            "colorbar": {
             "outlinewidth": 0,
             "ticks": ""
            },
            "type": "contourcarpet"
           }
          ],
          "heatmap": [
           {
            "colorbar": {
             "outlinewidth": 0,
             "ticks": ""
            },
            "colorscale": [
             [
              0,
              "#0d0887"
             ],
             [
              0.1111111111111111,
              "#46039f"
             ],
             [
              0.2222222222222222,
              "#7201a8"
             ],
             [
              0.3333333333333333,
              "#9c179e"
             ],
             [
              0.4444444444444444,
              "#bd3786"
             ],
             [
              0.5555555555555556,
              "#d8576b"
             ],
             [
              0.6666666666666666,
              "#ed7953"
             ],
             [
              0.7777777777777778,
              "#fb9f3a"
             ],
             [
              0.8888888888888888,
              "#fdca26"
             ],
             [
              1,
              "#f0f921"
             ]
            ],
            "type": "heatmap"
           }
          ],
          "heatmapgl": [
           {
            "colorbar": {
             "outlinewidth": 0,
             "ticks": ""
            },
            "colorscale": [
             [
              0,
              "#0d0887"
             ],
             [
              0.1111111111111111,
              "#46039f"
             ],
             [
              0.2222222222222222,
              "#7201a8"
             ],
             [
              0.3333333333333333,
              "#9c179e"
             ],
             [
              0.4444444444444444,
              "#bd3786"
             ],
             [
              0.5555555555555556,
              "#d8576b"
             ],
             [
              0.6666666666666666,
              "#ed7953"
             ],
             [
              0.7777777777777778,
              "#fb9f3a"
             ],
             [
              0.8888888888888888,
              "#fdca26"
             ],
             [
              1,
              "#f0f921"
             ]
            ],
            "type": "heatmapgl"
           }
          ],
          "histogram": [
           {
            "marker": {
             "pattern": {
              "fillmode": "overlay",
              "size": 10,
              "solidity": 0.2
             }
            },
            "type": "histogram"
           }
          ],
          "histogram2d": [
           {
            "colorbar": {
             "outlinewidth": 0,
             "ticks": ""
            },
            "colorscale": [
             [
              0,
              "#0d0887"
             ],
             [
              0.1111111111111111,
              "#46039f"
             ],
             [
              0.2222222222222222,
              "#7201a8"
             ],
             [
              0.3333333333333333,
              "#9c179e"
             ],
             [
              0.4444444444444444,
              "#bd3786"
             ],
             [
              0.5555555555555556,
              "#d8576b"
             ],
             [
              0.6666666666666666,
              "#ed7953"
             ],
             [
              0.7777777777777778,
              "#fb9f3a"
             ],
             [
              0.8888888888888888,
              "#fdca26"
             ],
             [
              1,
              "#f0f921"
             ]
            ],
            "type": "histogram2d"
           }
          ],
          "histogram2dcontour": [
           {
            "colorbar": {
             "outlinewidth": 0,
             "ticks": ""
            },
            "colorscale": [
             [
              0,
              "#0d0887"
             ],
             [
              0.1111111111111111,
              "#46039f"
             ],
             [
              0.2222222222222222,
              "#7201a8"
             ],
             [
              0.3333333333333333,
              "#9c179e"
             ],
             [
              0.4444444444444444,
              "#bd3786"
             ],
             [
              0.5555555555555556,
              "#d8576b"
             ],
             [
              0.6666666666666666,
              "#ed7953"
             ],
             [
              0.7777777777777778,
              "#fb9f3a"
             ],
             [
              0.8888888888888888,
              "#fdca26"
             ],
             [
              1,
              "#f0f921"
             ]
            ],
            "type": "histogram2dcontour"
           }
          ],
          "mesh3d": [
           {
            "colorbar": {
             "outlinewidth": 0,
             "ticks": ""
            },
            "type": "mesh3d"
           }
          ],
          "parcoords": [
           {
            "line": {
             "colorbar": {
              "outlinewidth": 0,
              "ticks": ""
             }
            },
            "type": "parcoords"
           }
          ],
          "pie": [
           {
            "automargin": true,
            "type": "pie"
           }
          ],
          "scatter": [
           {
            "fillpattern": {
             "fillmode": "overlay",
             "size": 10,
             "solidity": 0.2
            },
            "type": "scatter"
           }
          ],
          "scatter3d": [
           {
            "line": {
             "colorbar": {
              "outlinewidth": 0,
              "ticks": ""
             }
            },
            "marker": {
             "colorbar": {
              "outlinewidth": 0,
              "ticks": ""
             }
            },
            "type": "scatter3d"
           }
          ],
          "scattercarpet": [
           {
            "marker": {
             "colorbar": {
              "outlinewidth": 0,
              "ticks": ""
             }
            },
            "type": "scattercarpet"
           }
          ],
          "scattergeo": [
           {
            "marker": {
             "colorbar": {
              "outlinewidth": 0,
              "ticks": ""
             }
            },
            "type": "scattergeo"
           }
          ],
          "scattergl": [
           {
            "marker": {
             "colorbar": {
              "outlinewidth": 0,
              "ticks": ""
             }
            },
            "type": "scattergl"
           }
          ],
          "scattermapbox": [
           {
            "marker": {
             "colorbar": {
              "outlinewidth": 0,
              "ticks": ""
             }
            },
            "type": "scattermapbox"
           }
          ],
          "scatterpolar": [
           {
            "marker": {
             "colorbar": {
              "outlinewidth": 0,
              "ticks": ""
             }
            },
            "type": "scatterpolar"
           }
          ],
          "scatterpolargl": [
           {
            "marker": {
             "colorbar": {
              "outlinewidth": 0,
              "ticks": ""
             }
            },
            "type": "scatterpolargl"
           }
          ],
          "scatterternary": [
           {
            "marker": {
             "colorbar": {
              "outlinewidth": 0,
              "ticks": ""
             }
            },
            "type": "scatterternary"
           }
          ],
          "surface": [
           {
            "colorbar": {
             "outlinewidth": 0,
             "ticks": ""
            },
            "colorscale": [
             [
              0,
              "#0d0887"
             ],
             [
              0.1111111111111111,
              "#46039f"
             ],
             [
              0.2222222222222222,
              "#7201a8"
             ],
             [
              0.3333333333333333,
              "#9c179e"
             ],
             [
              0.4444444444444444,
              "#bd3786"
             ],
             [
              0.5555555555555556,
              "#d8576b"
             ],
             [
              0.6666666666666666,
              "#ed7953"
             ],
             [
              0.7777777777777778,
              "#fb9f3a"
             ],
             [
              0.8888888888888888,
              "#fdca26"
             ],
             [
              1,
              "#f0f921"
             ]
            ],
            "type": "surface"
           }
          ],
          "table": [
           {
            "cells": {
             "fill": {
              "color": "#EBF0F8"
             },
             "line": {
              "color": "white"
             }
            },
            "header": {
             "fill": {
              "color": "#C8D4E3"
             },
             "line": {
              "color": "white"
             }
            },
            "type": "table"
           }
          ]
         },
         "layout": {
          "annotationdefaults": {
           "arrowcolor": "#2a3f5f",
           "arrowhead": 0,
           "arrowwidth": 1
          },
          "autotypenumbers": "strict",
          "coloraxis": {
           "colorbar": {
            "outlinewidth": 0,
            "ticks": ""
           }
          },
          "colorscale": {
           "diverging": [
            [
             0,
             "#8e0152"
            ],
            [
             0.1,
             "#c51b7d"
            ],
            [
             0.2,
             "#de77ae"
            ],
            [
             0.3,
             "#f1b6da"
            ],
            [
             0.4,
             "#fde0ef"
            ],
            [
             0.5,
             "#f7f7f7"
            ],
            [
             0.6,
             "#e6f5d0"
            ],
            [
             0.7,
             "#b8e186"
            ],
            [
             0.8,
             "#7fbc41"
            ],
            [
             0.9,
             "#4d9221"
            ],
            [
             1,
             "#276419"
            ]
           ],
           "sequential": [
            [
             0,
             "#0d0887"
            ],
            [
             0.1111111111111111,
             "#46039f"
            ],
            [
             0.2222222222222222,
             "#7201a8"
            ],
            [
             0.3333333333333333,
             "#9c179e"
            ],
            [
             0.4444444444444444,
             "#bd3786"
            ],
            [
             0.5555555555555556,
             "#d8576b"
            ],
            [
             0.6666666666666666,
             "#ed7953"
            ],
            [
             0.7777777777777778,
             "#fb9f3a"
            ],
            [
             0.8888888888888888,
             "#fdca26"
            ],
            [
             1,
             "#f0f921"
            ]
           ],
           "sequentialminus": [
            [
             0,
             "#0d0887"
            ],
            [
             0.1111111111111111,
             "#46039f"
            ],
            [
             0.2222222222222222,
             "#7201a8"
            ],
            [
             0.3333333333333333,
             "#9c179e"
            ],
            [
             0.4444444444444444,
             "#bd3786"
            ],
            [
             0.5555555555555556,
             "#d8576b"
            ],
            [
             0.6666666666666666,
             "#ed7953"
            ],
            [
             0.7777777777777778,
             "#fb9f3a"
            ],
            [
             0.8888888888888888,
             "#fdca26"
            ],
            [
             1,
             "#f0f921"
            ]
           ]
          },
          "colorway": [
           "#636efa",
           "#EF553B",
           "#00cc96",
           "#ab63fa",
           "#FFA15A",
           "#19d3f3",
           "#FF6692",
           "#B6E880",
           "#FF97FF",
           "#FECB52"
          ],
          "font": {
           "color": "#2a3f5f"
          },
          "geo": {
           "bgcolor": "white",
           "lakecolor": "white",
           "landcolor": "#E5ECF6",
           "showlakes": true,
           "showland": true,
           "subunitcolor": "white"
          },
          "hoverlabel": {
           "align": "left"
          },
          "hovermode": "closest",
          "mapbox": {
           "style": "light"
          },
          "paper_bgcolor": "white",
          "plot_bgcolor": "#E5ECF6",
          "polar": {
           "angularaxis": {
            "gridcolor": "white",
            "linecolor": "white",
            "ticks": ""
           },
           "bgcolor": "#E5ECF6",
           "radialaxis": {
            "gridcolor": "white",
            "linecolor": "white",
            "ticks": ""
           }
          },
          "scene": {
           "xaxis": {
            "backgroundcolor": "#E5ECF6",
            "gridcolor": "white",
            "gridwidth": 2,
            "linecolor": "white",
            "showbackground": true,
            "ticks": "",
            "zerolinecolor": "white"
           },
           "yaxis": {
            "backgroundcolor": "#E5ECF6",
            "gridcolor": "white",
            "gridwidth": 2,
            "linecolor": "white",
            "showbackground": true,
            "ticks": "",
            "zerolinecolor": "white"
           },
           "zaxis": {
            "backgroundcolor": "#E5ECF6",
            "gridcolor": "white",
            "gridwidth": 2,
            "linecolor": "white",
            "showbackground": true,
            "ticks": "",
            "zerolinecolor": "white"
           }
          },
          "shapedefaults": {
           "line": {
            "color": "#2a3f5f"
           }
          },
          "ternary": {
           "aaxis": {
            "gridcolor": "white",
            "linecolor": "white",
            "ticks": ""
           },
           "baxis": {
            "gridcolor": "white",
            "linecolor": "white",
            "ticks": ""
           },
           "bgcolor": "#E5ECF6",
           "caxis": {
            "gridcolor": "white",
            "linecolor": "white",
            "ticks": ""
           }
          },
          "title": {
           "x": 0.05
          },
          "xaxis": {
           "automargin": true,
           "gridcolor": "white",
           "linecolor": "white",
           "ticks": "",
           "title": {
            "standoff": 15
           },
           "zerolinecolor": "white",
           "zerolinewidth": 2
          },
          "yaxis": {
           "automargin": true,
           "gridcolor": "white",
           "linecolor": "white",
           "ticks": "",
           "title": {
            "standoff": 15
           },
           "zerolinecolor": "white",
           "zerolinewidth": 2
          }
         }
        },
        "title": {
         "text": "Contour Plot"
        },
        "xaxis": {
         "range": [
          2.95,
          4.05
         ],
         "title": {
          "text": "gnn.depth"
         }
        },
        "yaxis": {
         "range": [
          12,
          100
         ],
         "title": {
          "text": "gnn.hid"
         }
        }
       }
      },
      "text/html": [
       "<div>                            <div id=\"39d9d70c-267d-4f86-9dbe-6e3e6fe5064f\" class=\"plotly-graph-div\" style=\"height:525px; width:100%;\"></div>            <script type=\"text/javascript\">                require([\"plotly\"], function(Plotly) {                    window.PLOTLYENV=window.PLOTLYENV || {};                                    if (document.getElementById(\"39d9d70c-267d-4f86-9dbe-6e3e6fe5064f\")) {                    Plotly.newPlot(                        \"39d9d70c-267d-4f86-9dbe-6e3e6fe5064f\",                        [{\"colorbar\":{\"title\":{\"text\":\"Objective Value\"}},\"colorscale\":[[0,\"rgb(5,10,172)\"],[0.35,\"rgb(40,60,190)\"],[0.5,\"rgb(70,100,245)\"],[0.6,\"rgb(90,120,245)\"],[0.7,\"rgb(106,137,247)\"],[1,\"rgb(220,220,220)\"]],\"connectgaps\":true,\"contours\":{\"coloring\":\"heatmap\"},\"hoverinfo\":\"none\",\"line\":{\"smoothing\":1.3},\"reversescale\":true,\"x\":[2.95,3,4,4.05],\"y\":[12.0,16,48,80,96,100.0],\"z\":[[null,null,null,null],[null,null,0.8514640927314758,null],[null,null,0.8579881191253662,null],[null,0.858460009098053,null,null],[null,0.8543636798858643,null,null],[null,null,null,null]],\"type\":\"contour\"},{\"marker\":{\"color\":\"black\",\"line\":{\"color\":\"Grey\",\"width\":0.5}},\"mode\":\"markers\",\"showlegend\":false,\"x\":[3,4,3,4,4],\"y\":[96,16,80,48,48],\"type\":\"scatter\"}],                        {\"title\":{\"text\":\"Contour Plot\"},\"template\":{\"data\":{\"histogram2dcontour\":[{\"type\":\"histogram2dcontour\",\"colorbar\":{\"outlinewidth\":0,\"ticks\":\"\"},\"colorscale\":[[0.0,\"#0d0887\"],[0.1111111111111111,\"#46039f\"],[0.2222222222222222,\"#7201a8\"],[0.3333333333333333,\"#9c179e\"],[0.4444444444444444,\"#bd3786\"],[0.5555555555555556,\"#d8576b\"],[0.6666666666666666,\"#ed7953\"],[0.7777777777777778,\"#fb9f3a\"],[0.8888888888888888,\"#fdca26\"],[1.0,\"#f0f921\"]]}],\"choropleth\":[{\"type\":\"choropleth\",\"colorbar\":{\"outlinewidth\":0,\"ticks\":\"\"}}],\"histogram2d\":[{\"type\":\"histogram2d\",\"colorbar\":{\"outlinewidth\":0,\"ticks\":\"\"},\"colorscale\":[[0.0,\"#0d0887\"],[0.1111111111111111,\"#46039f\"],[0.2222222222222222,\"#7201a8\"],[0.3333333333333333,\"#9c179e\"],[0.4444444444444444,\"#bd3786\"],[0.5555555555555556,\"#d8576b\"],[0.6666666666666666,\"#ed7953\"],[0.7777777777777778,\"#fb9f3a\"],[0.8888888888888888,\"#fdca26\"],[1.0,\"#f0f921\"]]}],\"heatmap\":[{\"type\":\"heatmap\",\"colorbar\":{\"outlinewidth\":0,\"ticks\":\"\"},\"colorscale\":[[0.0,\"#0d0887\"],[0.1111111111111111,\"#46039f\"],[0.2222222222222222,\"#7201a8\"],[0.3333333333333333,\"#9c179e\"],[0.4444444444444444,\"#bd3786\"],[0.5555555555555556,\"#d8576b\"],[0.6666666666666666,\"#ed7953\"],[0.7777777777777778,\"#fb9f3a\"],[0.8888888888888888,\"#fdca26\"],[1.0,\"#f0f921\"]]}],\"heatmapgl\":[{\"type\":\"heatmapgl\",\"colorbar\":{\"outlinewidth\":0,\"ticks\":\"\"},\"colorscale\":[[0.0,\"#0d0887\"],[0.1111111111111111,\"#46039f\"],[0.2222222222222222,\"#7201a8\"],[0.3333333333333333,\"#9c179e\"],[0.4444444444444444,\"#bd3786\"],[0.5555555555555556,\"#d8576b\"],[0.6666666666666666,\"#ed7953\"],[0.7777777777777778,\"#fb9f3a\"],[0.8888888888888888,\"#fdca26\"],[1.0,\"#f0f921\"]]}],\"contourcarpet\":[{\"type\":\"contourcarpet\",\"colorbar\":{\"outlinewidth\":0,\"ticks\":\"\"}}],\"contour\":[{\"type\":\"contour\",\"colorbar\":{\"outlinewidth\":0,\"ticks\":\"\"},\"colorscale\":[[0.0,\"#0d0887\"],[0.1111111111111111,\"#46039f\"],[0.2222222222222222,\"#7201a8\"],[0.3333333333333333,\"#9c179e\"],[0.4444444444444444,\"#bd3786\"],[0.5555555555555556,\"#d8576b\"],[0.6666666666666666,\"#ed7953\"],[0.7777777777777778,\"#fb9f3a\"],[0.8888888888888888,\"#fdca26\"],[1.0,\"#f0f921\"]]}],\"surface\":[{\"type\":\"surface\",\"colorbar\":{\"outlinewidth\":0,\"ticks\":\"\"},\"colorscale\":[[0.0,\"#0d0887\"],[0.1111111111111111,\"#46039f\"],[0.2222222222222222,\"#7201a8\"],[0.3333333333333333,\"#9c179e\"],[0.4444444444444444,\"#bd3786\"],[0.5555555555555556,\"#d8576b\"],[0.6666666666666666,\"#ed7953\"],[0.7777777777777778,\"#fb9f3a\"],[0.8888888888888888,\"#fdca26\"],[1.0,\"#f0f921\"]]}],\"mesh3d\":[{\"type\":\"mesh3d\",\"colorbar\":{\"outlinewidth\":0,\"ticks\":\"\"}}],\"scatter\":[{\"fillpattern\":{\"fillmode\":\"overlay\",\"size\":10,\"solidity\":0.2},\"type\":\"scatter\"}],\"parcoords\":[{\"type\":\"parcoords\",\"line\":{\"colorbar\":{\"outlinewidth\":0,\"ticks\":\"\"}}}],\"scatterpolargl\":[{\"type\":\"scatterpolargl\",\"marker\":{\"colorbar\":{\"outlinewidth\":0,\"ticks\":\"\"}}}],\"bar\":[{\"error_x\":{\"color\":\"#2a3f5f\"},\"error_y\":{\"color\":\"#2a3f5f\"},\"marker\":{\"line\":{\"color\":\"#E5ECF6\",\"width\":0.5},\"pattern\":{\"fillmode\":\"overlay\",\"size\":10,\"solidity\":0.2}},\"type\":\"bar\"}],\"scattergeo\":[{\"type\":\"scattergeo\",\"marker\":{\"colorbar\":{\"outlinewidth\":0,\"ticks\":\"\"}}}],\"scatterpolar\":[{\"type\":\"scatterpolar\",\"marker\":{\"colorbar\":{\"outlinewidth\":0,\"ticks\":\"\"}}}],\"histogram\":[{\"marker\":{\"pattern\":{\"fillmode\":\"overlay\",\"size\":10,\"solidity\":0.2}},\"type\":\"histogram\"}],\"scattergl\":[{\"type\":\"scattergl\",\"marker\":{\"colorbar\":{\"outlinewidth\":0,\"ticks\":\"\"}}}],\"scatter3d\":[{\"type\":\"scatter3d\",\"line\":{\"colorbar\":{\"outlinewidth\":0,\"ticks\":\"\"}},\"marker\":{\"colorbar\":{\"outlinewidth\":0,\"ticks\":\"\"}}}],\"scattermapbox\":[{\"type\":\"scattermapbox\",\"marker\":{\"colorbar\":{\"outlinewidth\":0,\"ticks\":\"\"}}}],\"scatterternary\":[{\"type\":\"scatterternary\",\"marker\":{\"colorbar\":{\"outlinewidth\":0,\"ticks\":\"\"}}}],\"scattercarpet\":[{\"type\":\"scattercarpet\",\"marker\":{\"colorbar\":{\"outlinewidth\":0,\"ticks\":\"\"}}}],\"carpet\":[{\"aaxis\":{\"endlinecolor\":\"#2a3f5f\",\"gridcolor\":\"white\",\"linecolor\":\"white\",\"minorgridcolor\":\"white\",\"startlinecolor\":\"#2a3f5f\"},\"baxis\":{\"endlinecolor\":\"#2a3f5f\",\"gridcolor\":\"white\",\"linecolor\":\"white\",\"minorgridcolor\":\"white\",\"startlinecolor\":\"#2a3f5f\"},\"type\":\"carpet\"}],\"table\":[{\"cells\":{\"fill\":{\"color\":\"#EBF0F8\"},\"line\":{\"color\":\"white\"}},\"header\":{\"fill\":{\"color\":\"#C8D4E3\"},\"line\":{\"color\":\"white\"}},\"type\":\"table\"}],\"barpolar\":[{\"marker\":{\"line\":{\"color\":\"#E5ECF6\",\"width\":0.5},\"pattern\":{\"fillmode\":\"overlay\",\"size\":10,\"solidity\":0.2}},\"type\":\"barpolar\"}],\"pie\":[{\"automargin\":true,\"type\":\"pie\"}]},\"layout\":{\"autotypenumbers\":\"strict\",\"colorway\":[\"#636efa\",\"#EF553B\",\"#00cc96\",\"#ab63fa\",\"#FFA15A\",\"#19d3f3\",\"#FF6692\",\"#B6E880\",\"#FF97FF\",\"#FECB52\"],\"font\":{\"color\":\"#2a3f5f\"},\"hovermode\":\"closest\",\"hoverlabel\":{\"align\":\"left\"},\"paper_bgcolor\":\"white\",\"plot_bgcolor\":\"#E5ECF6\",\"polar\":{\"bgcolor\":\"#E5ECF6\",\"angularaxis\":{\"gridcolor\":\"white\",\"linecolor\":\"white\",\"ticks\":\"\"},\"radialaxis\":{\"gridcolor\":\"white\",\"linecolor\":\"white\",\"ticks\":\"\"}},\"ternary\":{\"bgcolor\":\"#E5ECF6\",\"aaxis\":{\"gridcolor\":\"white\",\"linecolor\":\"white\",\"ticks\":\"\"},\"baxis\":{\"gridcolor\":\"white\",\"linecolor\":\"white\",\"ticks\":\"\"},\"caxis\":{\"gridcolor\":\"white\",\"linecolor\":\"white\",\"ticks\":\"\"}},\"coloraxis\":{\"colorbar\":{\"outlinewidth\":0,\"ticks\":\"\"}},\"colorscale\":{\"sequential\":[[0.0,\"#0d0887\"],[0.1111111111111111,\"#46039f\"],[0.2222222222222222,\"#7201a8\"],[0.3333333333333333,\"#9c179e\"],[0.4444444444444444,\"#bd3786\"],[0.5555555555555556,\"#d8576b\"],[0.6666666666666666,\"#ed7953\"],[0.7777777777777778,\"#fb9f3a\"],[0.8888888888888888,\"#fdca26\"],[1.0,\"#f0f921\"]],\"sequentialminus\":[[0.0,\"#0d0887\"],[0.1111111111111111,\"#46039f\"],[0.2222222222222222,\"#7201a8\"],[0.3333333333333333,\"#9c179e\"],[0.4444444444444444,\"#bd3786\"],[0.5555555555555556,\"#d8576b\"],[0.6666666666666666,\"#ed7953\"],[0.7777777777777778,\"#fb9f3a\"],[0.8888888888888888,\"#fdca26\"],[1.0,\"#f0f921\"]],\"diverging\":[[0,\"#8e0152\"],[0.1,\"#c51b7d\"],[0.2,\"#de77ae\"],[0.3,\"#f1b6da\"],[0.4,\"#fde0ef\"],[0.5,\"#f7f7f7\"],[0.6,\"#e6f5d0\"],[0.7,\"#b8e186\"],[0.8,\"#7fbc41\"],[0.9,\"#4d9221\"],[1,\"#276419\"]]},\"xaxis\":{\"gridcolor\":\"white\",\"linecolor\":\"white\",\"ticks\":\"\",\"title\":{\"standoff\":15},\"zerolinecolor\":\"white\",\"automargin\":true,\"zerolinewidth\":2},\"yaxis\":{\"gridcolor\":\"white\",\"linecolor\":\"white\",\"ticks\":\"\",\"title\":{\"standoff\":15},\"zerolinecolor\":\"white\",\"automargin\":true,\"zerolinewidth\":2},\"scene\":{\"xaxis\":{\"backgroundcolor\":\"#E5ECF6\",\"gridcolor\":\"white\",\"linecolor\":\"white\",\"showbackground\":true,\"ticks\":\"\",\"zerolinecolor\":\"white\",\"gridwidth\":2},\"yaxis\":{\"backgroundcolor\":\"#E5ECF6\",\"gridcolor\":\"white\",\"linecolor\":\"white\",\"showbackground\":true,\"ticks\":\"\",\"zerolinecolor\":\"white\",\"gridwidth\":2},\"zaxis\":{\"backgroundcolor\":\"#E5ECF6\",\"gridcolor\":\"white\",\"linecolor\":\"white\",\"showbackground\":true,\"ticks\":\"\",\"zerolinecolor\":\"white\",\"gridwidth\":2}},\"shapedefaults\":{\"line\":{\"color\":\"#2a3f5f\"}},\"annotationdefaults\":{\"arrowcolor\":\"#2a3f5f\",\"arrowhead\":0,\"arrowwidth\":1},\"geo\":{\"bgcolor\":\"white\",\"landcolor\":\"#E5ECF6\",\"subunitcolor\":\"white\",\"showland\":true,\"showlakes\":true,\"lakecolor\":\"white\"},\"title\":{\"x\":0.05},\"mapbox\":{\"style\":\"light\"}}},\"xaxis\":{\"title\":{\"text\":\"gnn.depth\"},\"range\":[2.95,4.05]},\"yaxis\":{\"title\":{\"text\":\"gnn.hid\"},\"range\":[12.0,100.0]}},                        {\"responsive\": true}                    ).then(function(){\n",
       "                            \n",
       "var gd = document.getElementById('39d9d70c-267d-4f86-9dbe-6e3e6fe5064f');\n",
       "var x = new MutationObserver(function (mutations, observer) {{\n",
       "        var display = window.getComputedStyle(gd).display;\n",
       "        if (!display || display === 'none') {{\n",
       "            console.log([gd, 'removed!']);\n",
       "            Plotly.purge(gd);\n",
       "            observer.disconnect();\n",
       "        }}\n",
       "}});\n",
       "\n",
       "// Listen for the removal of the full notebook cells\n",
       "var notebookContainer = gd.closest('#notebook-container');\n",
       "if (notebookContainer) {{\n",
       "    x.observe(notebookContainer, {childList: true});\n",
       "}}\n",
       "\n",
       "// Listen for the clearing of the current output cell\n",
       "var outputEl = gd.closest('.output');\n",
       "if (outputEl) {{\n",
       "    x.observe(outputEl, {childList: true});\n",
       "}}\n",
       "\n",
       "                        })                };                });            </script>        </div>"
      ]
     },
     "metadata": {},
     "output_type": "display_data"
    }
   ],
   "source": [
    "# Contour plot\n",
    "optuna.visualization.plot_contour(study, params=['gnn.hid', 'gnn.depth'])"
   ]
  }
 ],
 "metadata": {
  "kernelspec": {
   "display_name": "Python 3.8.10 ('goli_ipu')",
   "language": "python",
   "name": "python3"
  },
  "language_info": {
   "codemirror_mode": {
    "name": "ipython",
    "version": 3
   },
   "file_extension": ".py",
   "mimetype": "text/x-python",
   "name": "python",
   "nbconvert_exporter": "python",
   "pygments_lexer": "ipython3",
   "version": "3.8.10"
  },
  "orig_nbformat": 4,
  "vscode": {
   "interpreter": {
    "hash": "b813b16c721ca8d9e65e6e6945a38a6ae48015ae799c455bab639da90d3bb278"
   }
  }
 },
 "nbformat": 4,
 "nbformat_minor": 2
}
