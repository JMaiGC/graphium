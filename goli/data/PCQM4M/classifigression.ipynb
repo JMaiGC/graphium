{
 "cells": [
  {
   "cell_type": "code",
   "execution_count": 1,
   "id": "586a5049-2da2-4be5-9571-ca43a9f6dae7",
   "metadata": {
    "tags": []
   },
   "outputs": [],
   "source": [
    "import numpy as np\n",
    "import pandas as pd\n",
    "import seaborn as sns"
   ]
  },
  {
   "cell_type": "code",
   "execution_count": 2,
   "id": "e9cb3c5b-0a14-46a3-8fc7-e38655242be2",
   "metadata": {
    "tags": []
   },
   "outputs": [],
   "source": [
    "df = pd.read_csv('pcqm4mv2-20k.csv')"
   ]
  },
  {
   "cell_type": "code",
   "execution_count": 3,
   "id": "59946ffa-df78-45e7-90e2-e4fb902c7f71",
   "metadata": {
    "tags": []
   },
   "outputs": [],
   "source": [
    "df = df[~df['homo_lumo_gap'].isna()]"
   ]
  },
  {
   "cell_type": "code",
   "execution_count": 4,
   "id": "139d8e9f-ac70-46c2-a2a3-740fbc2e56d0",
   "metadata": {
    "tags": []
   },
   "outputs": [
    {
     "data": {
      "text/html": [
       "<div>\n",
       "<style scoped>\n",
       "    .dataframe tbody tr th:only-of-type {\n",
       "        vertical-align: middle;\n",
       "    }\n",
       "\n",
       "    .dataframe tbody tr th {\n",
       "        vertical-align: top;\n",
       "    }\n",
       "\n",
       "    .dataframe thead th {\n",
       "        text-align: right;\n",
       "    }\n",
       "</style>\n",
       "<table border=\"1\" class=\"dataframe\">\n",
       "  <thead>\n",
       "    <tr style=\"text-align: right;\">\n",
       "      <th></th>\n",
       "      <th>cxsmiles</th>\n",
       "      <th>homo_lumo_gap</th>\n",
       "    </tr>\n",
       "  </thead>\n",
       "  <tbody>\n",
       "    <tr>\n",
       "      <th>0</th>\n",
       "      <td>[H]OC(=O)/C(=C(\\[H])C([H])([H])C([H])([H])C([H...</td>\n",
       "      <td>6.122562</td>\n",
       "    </tr>\n",
       "    <tr>\n",
       "      <th>1</th>\n",
       "      <td>[H]OC1=NC2=C([H])C([H])=C(C3=NC([H])=C([H])S3)...</td>\n",
       "      <td>4.179669</td>\n",
       "    </tr>\n",
       "    <tr>\n",
       "      <th>2</th>\n",
       "      <td>[H]OC([H])(C([H])([H])C([H])([H])OC([H])([H])[...</td>\n",
       "      <td>8.522606</td>\n",
       "    </tr>\n",
       "    <tr>\n",
       "      <th>4</th>\n",
       "      <td>[H]C1=C(C([H])([H])[H])C(=O)C(C([H])([H])[H])=...</td>\n",
       "      <td>2.985089</td>\n",
       "    </tr>\n",
       "    <tr>\n",
       "      <th>6</th>\n",
       "      <td>[H]O/C(=N/C1=C([H])N(C([H])([H])[H])N=C1[H])[C...</td>\n",
       "      <td>5.627314</td>\n",
       "    </tr>\n",
       "    <tr>\n",
       "      <th>...</th>\n",
       "      <td>...</td>\n",
       "      <td>...</td>\n",
       "    </tr>\n",
       "    <tr>\n",
       "      <th>19995</th>\n",
       "      <td>[H]OC(=O)C1=C(C([H])([H])SC([H])([H])[C@@]([H]...</td>\n",
       "      <td>4.666753</td>\n",
       "    </tr>\n",
       "    <tr>\n",
       "      <th>19996</th>\n",
       "      <td>[H]N(C([H])([H])[H])[C@]([H])(C([H])([H])OC1([...</td>\n",
       "      <td>7.537554</td>\n",
       "    </tr>\n",
       "    <tr>\n",
       "      <th>19997</th>\n",
       "      <td>[H]C1=NC([H])=C2C(=N1)C([H])([H])C([H])([H])C(...</td>\n",
       "      <td>5.251797</td>\n",
       "    </tr>\n",
       "    <tr>\n",
       "      <th>19998</th>\n",
       "      <td>[H]OC([H])([H])C([H])([H])C([H])([H])C([H])([H...</td>\n",
       "      <td>8.479068</td>\n",
       "    </tr>\n",
       "    <tr>\n",
       "      <th>19999</th>\n",
       "      <td>[H]OC(C1=C([H])C([H])=C([H])C2=C1N=C(C([H])([H...</td>\n",
       "      <td>5.374249</td>\n",
       "    </tr>\n",
       "  </tbody>\n",
       "</table>\n",
       "<p>18404 rows × 2 columns</p>\n",
       "</div>"
      ],
      "text/plain": [
       "                                                cxsmiles  homo_lumo_gap\n",
       "0      [H]OC(=O)/C(=C(\\[H])C([H])([H])C([H])([H])C([H...       6.122562\n",
       "1      [H]OC1=NC2=C([H])C([H])=C(C3=NC([H])=C([H])S3)...       4.179669\n",
       "2      [H]OC([H])(C([H])([H])C([H])([H])OC([H])([H])[...       8.522606\n",
       "4      [H]C1=C(C([H])([H])[H])C(=O)C(C([H])([H])[H])=...       2.985089\n",
       "6      [H]O/C(=N/C1=C([H])N(C([H])([H])[H])N=C1[H])[C...       5.627314\n",
       "...                                                  ...            ...\n",
       "19995  [H]OC(=O)C1=C(C([H])([H])SC([H])([H])[C@@]([H]...       4.666753\n",
       "19996  [H]N(C([H])([H])[H])[C@]([H])(C([H])([H])OC1([...       7.537554\n",
       "19997  [H]C1=NC([H])=C2C(=N1)C([H])([H])C([H])([H])C(...       5.251797\n",
       "19998  [H]OC([H])([H])C([H])([H])C([H])([H])C([H])([H...       8.479068\n",
       "19999  [H]OC(C1=C([H])C([H])=C([H])C2=C1N=C(C([H])([H...       5.374249\n",
       "\n",
       "[18404 rows x 2 columns]"
      ]
     },
     "execution_count": 4,
     "metadata": {},
     "output_type": "execute_result"
    }
   ],
   "source": [
    "df"
   ]
  },
  {
   "cell_type": "code",
   "execution_count": 5,
   "id": "08effb5b-fc47-4284-8c69-b44900c76d1d",
   "metadata": {
    "tags": []
   },
   "outputs": [
    {
     "data": {
      "text/plain": [
       "<seaborn.axisgrid.FacetGrid at 0x7ff7ae1c9210>"
      ]
     },
     "execution_count": 5,
     "metadata": {},
     "output_type": "execute_result"
    },
    {
     "data": {
      "image/png": "[encoded data removed]",
      "text/plain": [
       "<Figure size 500x500 with 1 Axes>"
      ]
     },
     "metadata": {},
     "output_type": "display_data"
    }
   ],
   "source": [
    "sns.displot(df['homo_lumo_gap'])"
   ]
  },
  {
   "cell_type": "code",
   "execution_count": 6,
   "id": "09328f4c-1055-4ed9-b583-35cc2f617c36",
   "metadata": {
    "tags": []
   },
   "outputs": [
    {
     "data": {
      "text/plain": [
       "array([4.74022328, 5.30349895, 5.84228437, 6.62052998])"
      ]
     },
     "execution_count": 6,
     "metadata": {},
     "output_type": "execute_result"
    }
   ],
   "source": [
    "quantiles = np.quantile(df['homo_lumo_gap'], [0.2, 0.4, 0.6, 0.8])\n",
    "quantiles"
   ]
  },
  {
   "cell_type": "code",
   "execution_count": 7,
   "id": "ba9e756c-b633-4fb0-9e93-97e9a7f86fe2",
   "metadata": {
    "tags": []
   },
   "outputs": [],
   "source": [
    "def bracketize(x):\n",
    "    for i, q in enumerate(quantiles):\n",
    "        if x < q:\n",
    "            return i\n",
    "    \n",
    "    return len(quantiles)"
   ]
  },
  {
   "cell_type": "code",
   "execution_count": 8,
   "id": "45de2999-ae46-42b9-9caa-f5db2bc26be7",
   "metadata": {
    "tags": []
   },
   "outputs": [
    {
     "data": {
      "text/plain": [
       "0        3\n",
       "1        0\n",
       "2        4\n",
       "4        0\n",
       "6        2\n",
       "        ..\n",
       "19995    0\n",
       "19996    4\n",
       "19997    1\n",
       "19998    4\n",
       "19999    2\n",
       "Name: homo_lumo_gap, Length: 18404, dtype: int64"
      ]
     },
     "execution_count": 8,
     "metadata": {},
     "output_type": "execute_result"
    }
   ],
   "source": [
    "brackets = df['homo_lumo_gap'].map(bracketize)\n",
    "brackets"
   ]
  },
  {
   "cell_type": "code",
   "execution_count": 9,
   "id": "3a05a2d5-9411-4769-898e-d339efd18b6e",
   "metadata": {
    "tags": []
   },
   "outputs": [
    {
     "data": {
      "text/plain": [
       "homo_lumo_gap\n",
       "2    3695\n",
       "4    3683\n",
       "3    3681\n",
       "0    3677\n",
       "1    3668\n",
       "Name: count, dtype: int64"
      ]
     },
     "execution_count": 9,
     "metadata": {},
     "output_type": "execute_result"
    }
   ],
   "source": [
    "brackets.value_counts()"
   ]
  },
  {
   "cell_type": "code",
   "execution_count": 10,
   "id": "b0336c2b-2f27-468f-8565-ab6ac4720ff7",
   "metadata": {
    "tags": []
   },
   "outputs": [],
   "source": [
    "df['homo_lumo_gap_b0'] = (brackets == 0).astype(int)\n",
    "df['homo_lumo_gap_b1'] = (brackets == 1).astype(int)\n",
    "df['homo_lumo_gap_b2'] = (brackets == 2).astype(int)\n",
    "df['homo_lumo_gap_b3'] = (brackets == 3).astype(int)\n",
    "df['homo_lumo_gap_b4'] = (brackets == 4).astype(int)"
   ]
  },
  {
   "cell_type": "code",
   "execution_count": 11,
   "id": "6a52a1bb-9b9f-4a83-9fe2-11c85d883323",
   "metadata": {
    "tags": []
   },
   "outputs": [
    {
     "data": {
      "text/html": [
       "<div>\n",
       "<style scoped>\n",
       "    .dataframe tbody tr th:only-of-type {\n",
       "        vertical-align: middle;\n",
       "    }\n",
       "\n",
       "    .dataframe tbody tr th {\n",
       "        vertical-align: top;\n",
       "    }\n",
       "\n",
       "    .dataframe thead th {\n",
       "        text-align: right;\n",
       "    }\n",
       "</style>\n",
       "<table border=\"1\" class=\"dataframe\">\n",
       "  <thead>\n",
       "    <tr style=\"text-align: right;\">\n",
       "      <th></th>\n",
       "      <th>cxsmiles</th>\n",
       "      <th>homo_lumo_gap</th>\n",
       "      <th>homo_lumo_gap_b0</th>\n",
       "      <th>homo_lumo_gap_b1</th>\n",
       "      <th>homo_lumo_gap_b2</th>\n",
       "      <th>homo_lumo_gap_b3</th>\n",
       "      <th>homo_lumo_gap_b4</th>\n",
       "    </tr>\n",
       "  </thead>\n",
       "  <tbody>\n",
       "    <tr>\n",
       "      <th>0</th>\n",
       "      <td>[H]OC(=O)/C(=C(\\[H])C([H])([H])C([H])([H])C([H...</td>\n",
       "      <td>6.122562</td>\n",
       "      <td>0</td>\n",
       "      <td>0</td>\n",
       "      <td>0</td>\n",
       "      <td>1</td>\n",
       "      <td>0</td>\n",
       "    </tr>\n",
       "    <tr>\n",
       "      <th>1</th>\n",
       "      <td>[H]OC1=NC2=C([H])C([H])=C(C3=NC([H])=C([H])S3)...</td>\n",
       "      <td>4.179669</td>\n",
       "      <td>1</td>\n",
       "      <td>0</td>\n",
       "      <td>0</td>\n",
       "      <td>0</td>\n",
       "      <td>0</td>\n",
       "    </tr>\n",
       "    <tr>\n",
       "      <th>2</th>\n",
       "      <td>[H]OC([H])(C([H])([H])C([H])([H])OC([H])([H])[...</td>\n",
       "      <td>8.522606</td>\n",
       "      <td>0</td>\n",
       "      <td>0</td>\n",
       "      <td>0</td>\n",
       "      <td>0</td>\n",
       "      <td>1</td>\n",
       "    </tr>\n",
       "    <tr>\n",
       "      <th>4</th>\n",
       "      <td>[H]C1=C(C([H])([H])[H])C(=O)C(C([H])([H])[H])=...</td>\n",
       "      <td>2.985089</td>\n",
       "      <td>1</td>\n",
       "      <td>0</td>\n",
       "      <td>0</td>\n",
       "      <td>0</td>\n",
       "      <td>0</td>\n",
       "    </tr>\n",
       "    <tr>\n",
       "      <th>6</th>\n",
       "      <td>[H]O/C(=N/C1=C([H])N(C([H])([H])[H])N=C1[H])[C...</td>\n",
       "      <td>5.627314</td>\n",
       "      <td>0</td>\n",
       "      <td>0</td>\n",
       "      <td>1</td>\n",
       "      <td>0</td>\n",
       "      <td>0</td>\n",
       "    </tr>\n",
       "    <tr>\n",
       "      <th>...</th>\n",
       "      <td>...</td>\n",
       "      <td>...</td>\n",
       "      <td>...</td>\n",
       "      <td>...</td>\n",
       "      <td>...</td>\n",
       "      <td>...</td>\n",
       "      <td>...</td>\n",
       "    </tr>\n",
       "    <tr>\n",
       "      <th>19995</th>\n",
       "      <td>[H]OC(=O)C1=C(C([H])([H])SC([H])([H])[C@@]([H]...</td>\n",
       "      <td>4.666753</td>\n",
       "      <td>1</td>\n",
       "      <td>0</td>\n",
       "      <td>0</td>\n",
       "      <td>0</td>\n",
       "      <td>0</td>\n",
       "    </tr>\n",
       "    <tr>\n",
       "      <th>19996</th>\n",
       "      <td>[H]N(C([H])([H])[H])[C@]([H])(C([H])([H])OC1([...</td>\n",
       "      <td>7.537554</td>\n",
       "      <td>0</td>\n",
       "      <td>0</td>\n",
       "      <td>0</td>\n",
       "      <td>0</td>\n",
       "      <td>1</td>\n",
       "    </tr>\n",
       "    <tr>\n",
       "      <th>19997</th>\n",
       "      <td>[H]C1=NC([H])=C2C(=N1)C([H])([H])C([H])([H])C(...</td>\n",
       "      <td>5.251797</td>\n",
       "      <td>0</td>\n",
       "      <td>1</td>\n",
       "      <td>0</td>\n",
       "      <td>0</td>\n",
       "      <td>0</td>\n",
       "    </tr>\n",
       "    <tr>\n",
       "      <th>19998</th>\n",
       "      <td>[H]OC([H])([H])C([H])([H])C([H])([H])C([H])([H...</td>\n",
       "      <td>8.479068</td>\n",
       "      <td>0</td>\n",
       "      <td>0</td>\n",
       "      <td>0</td>\n",
       "      <td>0</td>\n",
       "      <td>1</td>\n",
       "    </tr>\n",
       "    <tr>\n",
       "      <th>19999</th>\n",
       "      <td>[H]OC(C1=C([H])C([H])=C([H])C2=C1N=C(C([H])([H...</td>\n",
       "      <td>5.374249</td>\n",
       "      <td>0</td>\n",
       "      <td>0</td>\n",
       "      <td>1</td>\n",
       "      <td>0</td>\n",
       "      <td>0</td>\n",
       "    </tr>\n",
       "  </tbody>\n",
       "</table>\n",
       "<p>18404 rows × 7 columns</p>\n",
       "</div>"
      ],
      "text/plain": [
       "                                                cxsmiles  homo_lumo_gap   \n",
       "0      [H]OC(=O)/C(=C(\\[H])C([H])([H])C([H])([H])C([H...       6.122562  \\\n",
       "1      [H]OC1=NC2=C([H])C([H])=C(C3=NC([H])=C([H])S3)...       4.179669   \n",
       "2      [H]OC([H])(C([H])([H])C([H])([H])OC([H])([H])[...       8.522606   \n",
       "4      [H]C1=C(C([H])([H])[H])C(=O)C(C([H])([H])[H])=...       2.985089   \n",
       "6      [H]O/C(=N/C1=C([H])N(C([H])([H])[H])N=C1[H])[C...       5.627314   \n",
       "...                                                  ...            ...   \n",
       "19995  [H]OC(=O)C1=C(C([H])([H])SC([H])([H])[C@@]([H]...       4.666753   \n",
       "19996  [H]N(C([H])([H])[H])[C@]([H])(C([H])([H])OC1([...       7.537554   \n",
       "19997  [H]C1=NC([H])=C2C(=N1)C([H])([H])C([H])([H])C(...       5.251797   \n",
       "19998  [H]OC([H])([H])C([H])([H])C([H])([H])C([H])([H...       8.479068   \n",
       "19999  [H]OC(C1=C([H])C([H])=C([H])C2=C1N=C(C([H])([H...       5.374249   \n",
       "\n",
       "       homo_lumo_gap_b0  homo_lumo_gap_b1  homo_lumo_gap_b2  homo_lumo_gap_b3   \n",
       "0                     0                 0                 0                 1  \\\n",
       "1                     1                 0                 0                 0   \n",
       "2                     0                 0                 0                 0   \n",
       "4                     1                 0                 0                 0   \n",
       "6                     0                 0                 1                 0   \n",
       "...                 ...               ...               ...               ...   \n",
       "19995                 1                 0                 0                 0   \n",
       "19996                 0                 0                 0                 0   \n",
       "19997                 0                 1                 0                 0   \n",
       "19998                 0                 0                 0                 0   \n",
       "19999                 0                 0                 1                 0   \n",
       "\n",
       "       homo_lumo_gap_b4  \n",
       "0                     0  \n",
       "1                     0  \n",
       "2                     1  \n",
       "4                     0  \n",
       "6                     0  \n",
       "...                 ...  \n",
       "19995                 0  \n",
       "19996                 1  \n",
       "19997                 0  \n",
       "19998                 1  \n",
       "19999                 0  \n",
       "\n",
       "[18404 rows x 7 columns]"
      ]
     },
     "execution_count": 11,
     "metadata": {},
     "output_type": "execute_result"
    }
   ],
   "source": [
    "df"
   ]
  },
  {
   "cell_type": "code",
   "execution_count": 12,
   "id": "ff2013df-9021-4b4e-aae0-1ea98619221e",
   "metadata": {
    "tags": []
   },
   "outputs": [],
   "source": [
    "df.to_csv('pcqm4mv2-20k-classifigression.csv', index=False)"
   ]
  },
  {
   "cell_type": "code",
   "execution_count": null,
   "id": "98b0229b-7795-4123-892b-715d9c64074d",
   "metadata": {},
   "outputs": [],
   "source": [
    "old"
   ]
  }
 ],
 "metadata": {
  "kernelspec": {
   "display_name": "Python 3 (ipykernel)",
   "language": "python",
   "name": "python3"
  },
  "language_info": {
   "codemirror_mode": {
    "name": "ipython",
    "version": 3
   },
   "file_extension": ".py",
   "mimetype": "text/x-python",
   "name": "python",
   "nbconvert_exporter": "python",
   "pygments_lexer": "ipython3",
   "version": "3.10.10"
  }
 },
 "nbformat": 4,
 "nbformat_minor": 5
}
