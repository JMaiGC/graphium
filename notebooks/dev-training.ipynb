{
 "cells": [
  {
   "cell_type": "code",
   "execution_count": 1,
   "metadata": {},
   "outputs": [
    {
     "name": "stderr",
     "output_type": "stream",
     "text": [
      "Using backend: pytorch\n"
     ]
    }
   ],
   "source": [
    "%load_ext autoreload\n",
    "%autoreload 2\n",
    "\n",
    "import pathlib\n",
    "import functools\n",
    "import tempfile\n",
    "\n",
    "import numpy as np\n",
    "import pytorch_lightning as pl\n",
    "import torch\n",
    "import datamol as dm\n",
    "\n",
    "import goli"
   ]
  },
  {
   "cell_type": "code",
   "execution_count": 4,
   "metadata": {},
   "outputs": [
    {
     "name": "stderr",
     "output_type": "stream",
     "text": [
      "2021-03-16 18:39:34.142 | INFO     | goli.data.datamodule:prepare_data:171 - Prepare dataset with 100 data points.\n"
     ]
    },
    {
     "data": {
      "application/vnd.jupyter.widget-view+json": {
       "model_id": "cd0b57b4ef624f2dabe119afa9996132",
       "version_major": 2,
       "version_minor": 0
      },
      "text/plain": [
       "  0%|          | 0/100 [00:00<?, ?it/s]"
      ]
     },
     "metadata": {},
     "output_type": "display_data"
    }
   ],
   "source": [
    "# # General imports\n",
    "# import os\n",
    "# from os.path import dirname, abspath\n",
    "# import yaml\n",
    "# from copy import deepcopy\n",
    "# from omegaconf import DictConfig\n",
    "\n",
    "\n",
    "# # Current project imports\n",
    "# import goli\n",
    "# from goli.utils.config_loader import (\n",
    "#     config_load_constants,\n",
    "#     config_load_dataset,\n",
    "#     config_load_architecture,\n",
    "#     config_load_metrics,\n",
    "#     config_load_predictor,\n",
    "#     config_load_training,\n",
    "# )\n",
    "\n",
    "\n",
    "# # Set up the working directory\n",
    "# MAIN_DIR = dirname(abspath(goli.__file__))\n",
    "# os.chdir(MAIN_DIR)\n",
    "\n",
    "\n",
    "# def main(cfg: DictConfig) -> None:\n",
    "#     cfg = dict(deepcopy(cfg))\n",
    "\n",
    "#     # Get the general parameters and generate the train/val/test datasets\n",
    "#     data_device, model_device, dtype, exp_name, seed, raise_train_error = config_load_constants(\n",
    "#         **cfg[\"constants\"], main_dir=MAIN_DIR\n",
    "#     )\n",
    "\n",
    "#     # Load and initialize the dataset\n",
    "#     datamodule = config_load_dataset(\n",
    "#         **cfg[\"datasets\"],\n",
    "#         main_dir=MAIN_DIR,\n",
    "#         data_device=data_device,\n",
    "#         model_device=model_device,\n",
    "#         seed=seed,\n",
    "#         dtype=dtype,\n",
    "#     )\n",
    "#     print(\"\\ndatamodule:\\n\", datamodule, \"\\n\")\n",
    "\n",
    "#     # Initialize the network\n",
    "#     model = config_load_architecture(\n",
    "#         **cfg[\"architecture\"],\n",
    "#         in_dim_nodes=datamodule.num_node_feats_with_positional_encoding,\n",
    "#         in_dim_edges=datamodule.num_edge_feats,\n",
    "#         model_device=model_device,\n",
    "#         dtype=dtype,\n",
    "#     )\n",
    "\n",
    "#     print(\"\\nmodel:\\n\", model, \"\\n\")\n",
    "#     pass\n",
    "\n",
    "#     # metrics, metrics_on_progress_bar = config_load_metrics(cfg[\"metrics\"])\n",
    "#     # predictor = config_load_predictor(\n",
    "#     #     cfg[\"predictor\"],\n",
    "#     #     metrics,\n",
    "#     #     metrics_on_progress_bar,\n",
    "#     #     model,\n",
    "#     #     layer_name,\n",
    "#     #     train_dt,\n",
    "#     #     val_dt,\n",
    "#     #     device,\n",
    "#     #     dtype,\n",
    "#     # )\n",
    "#     # trainer = config_load_training(cfg[\"training\"], predictor)\n",
    "\n",
    "#     # # Run the model training\n",
    "#     # try:\n",
    "#     #     trainer.fit(predictor)\n",
    "#     #     print(\"\\n------------ TRAINING COMPLETED ------------\\n\\n\")\n",
    "#     # except Exception as e:\n",
    "#     #     if not cfg[\"constants\"][\"raise_train_error\"]:\n",
    "#     #         print(\"\\n------------ TRAINING ERROR: ------------\\n\\n\", e)\n",
    "#     #     else:\n",
    "#     #         raise\n",
    "\n",
    "\n",
    "# if __name__ == \"__main__\":\n",
    "#     with open(os.path.join(MAIN_DIR, \"expts/config_micro_ZINC.yaml\"), \"r\") as f:\n",
    "#         cfg = yaml.safe_load(f)\n",
    "#     main(cfg)\n"
   ]
  },
  {
   "cell_type": "code",
   "execution_count": null,
   "metadata": {},
   "outputs": [],
   "source": []
  }
 ],
 "metadata": {
  "kernelspec": {
   "display_name": "Python [conda env:goli]",
   "language": "python",
   "name": "conda-env-goli-py"
  },
  "language_info": {
   "codemirror_mode": {
    "name": "ipython",
    "version": 3
   },
   "file_extension": ".py",
   "mimetype": "text/x-python",
   "name": "python",
   "nbconvert_exporter": "python",
   "pygments_lexer": "ipython3",
   "version": "3.8.6"
  },
  "widgets": {
   "application/vnd.jupyter.widget-state+json": {
    "state": {},
    "version_major": 2,
    "version_minor": 0
   }
  }
 },
 "nbformat": 4,
 "nbformat_minor": 4
}