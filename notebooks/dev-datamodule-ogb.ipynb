{
 "cells": [
  {
   "cell_type": "markdown",
   "metadata": {},
   "source": [
    "```yaml\n",
    "data:\n",
    "  module_type: \"DGLOGBDataModule\"\n",
    "  args:\n",
    "    cache_data_path: null\n",
    "  \n",
    "    dataset_name: \"ogbg-moltox21\"\n",
    "  \n",
    "    batch_size_train_val: 16\n",
    "    batch_size_test: 16\n",
    "  \n",
    "    featurization:\n",
    "      atom_property_list_float: []\n",
    "      atom_property_list_onehot: [\"atomic-number\", \"degree\"]\n",
    "      edge_property_list: [\"ring\", \"bond-type-onehot\"]\n",
    "      add_self_loop: false\n",
    "      use_bonds_weights: false\n",
    "      explicit_H: false\n",
    "```"
   ]
  },
  {
   "cell_type": "code",
   "execution_count": 1,
   "metadata": {},
   "outputs": [
    {
     "name": "stderr",
     "output_type": "stream",
     "text": [
      "Using backend: pytorch\n"
     ]
    }
   ],
   "source": [
    "%load_ext autoreload\n",
    "%autoreload 2\n",
    "\n",
    "import pathlib\n",
    "import functools\n",
    "import tempfile\n",
    "import importlib\n",
    "\n",
    "import numpy as np\n",
    "import pandas as pd\n",
    "import pytorch_lightning as pl\n",
    "import torch\n",
    "import datamol as dm\n",
    "\n",
    "import goli"
   ]
  },
  {
   "cell_type": "code",
   "execution_count": 13,
   "metadata": {},
   "outputs": [
    {
     "name": "stderr",
     "output_type": "stream",
     "text": [
      "2021-04-15 13:38:54.312 | INFO     | goli.data.datamodule:_load_dataset:573 - Downloading http://snap.stanford.edu/ogb/data/graphproppred/csv_mol_download/pcba.zip to /home/hadim/.cache/goli/ogb/pcba.zip\n"
     ]
    },
    {
     "data": {
      "application/vnd.jupyter.widget-view+json": {
       "model_id": "ac6408f4354e439a89fec154a29d3184",
       "version_major": 2,
       "version_minor": 0
      },
      "text/plain": [
       "  0%|          | 0.00/37.7M [00:00<?, ?B/s]"
      ]
     },
     "metadata": {},
     "output_type": "display_data"
    },
    {
     "name": "stderr",
     "output_type": "stream",
     "text": [
      "2021-04-15 13:39:42.467 | INFO     | goli.data.datamodule:_load_dataset:582 - Loading /home/hadim/.cache/goli/ogb/pcba/mapping/mol.csv.gz in memory.\n",
      "2021-04-15 13:39:44.727 | INFO     | goli.data.datamodule:_load_dataset:595 - Saving splits to /home/hadim/.cache/goli/ogb/pcba/split/scaffold.csv.gz\n"
     ]
    },
    {
     "data": {
      "text/plain": [
       "dataset_name: ogbg-molpcba\n",
       "name: DGLOGBDataModule\n",
       "len: 437929\n",
       "batch_size_train_val: 16\n",
       "batch_size_test: 16\n",
       "num_node_feats: 50\n",
       "num_edge_feats: 5\n",
       "collate_fn: goli_collate_fn\n",
       "featurization:\n",
       "  atom_property_list_float: []\n",
       "  atom_property_list_onehot:\n",
       "  - atomic-number\n",
       "  - degree\n",
       "  edge_property_list:\n",
       "  - bond-type-onehot\n",
       "  add_self_loop: false\n",
       "  use_bonds_weights: false\n",
       "  explicit_H: false"
      ]
     },
     "execution_count": 13,
     "metadata": {},
     "output_type": "execute_result"
    }
   ],
   "source": [
    "dataset_names = [\"ogbg-molhiv\", \"ogbg-molpcba\", \"ogbg-moltox21\"]\n",
    "dataset_name = dataset_names[1]\n",
    "\n",
    "# Setup a temporary cache file. Only for\n",
    "# demo purposes, use a known path in prod.\n",
    "cache_data_path = pathlib.Path(tempfile.mkdtemp()) / \"cache.pkl\"\n",
    "\n",
    "# Setup the featurization\n",
    "featurization_args = {}\n",
    "featurization_args[\"atom_property_list_float\"] = []  # [\"weight\", \"valence\"]\n",
    "featurization_args[\"atom_property_list_onehot\"] = [\"atomic-number\", \"degree\"]\n",
    "featurization_args[\"edge_property_list\"] = [\"bond-type-onehot\"]\n",
    "featurization_args[\"add_self_loop\"] = False\n",
    "featurization_args[\"use_bonds_weights\"] = False\n",
    "featurization_args[\"explicit_H\"] = False\n",
    "\n",
    "# Config for datamodule\n",
    "dm_args = {}\n",
    "dm_args[\"dataset_name\"] = dataset_name\n",
    "dm_args[\"cache_data_path\"] = cache_data_path\n",
    "dm_args[\"featurization\"] = featurization_args\n",
    "dm_args[\"batch_size_train_val\"] = 16\n",
    "dm_args[\"batch_size_test\"] = 16\n",
    "dm_args[\"num_workers\"] = 0\n",
    "dm_args[\"pin_memory\"] = True\n",
    "dm_args[\"featurization_n_jobs\"] = 16\n",
    "dm_args[\"featurization_progress\"] = True\n",
    "\n",
    "ds = goli.data.DGLOGBDataModule(**dm_args)\n",
    "ds"
   ]
  },
  {
   "cell_type": "code",
   "execution_count": 14,
   "metadata": {},
   "outputs": [
    {
     "data": {
      "text/plain": [
       "{'num tasks': '128',\n",
       " 'eval metric': 'ap',\n",
       " 'download_name': 'pcba',\n",
       " 'version': '1',\n",
       " 'url': 'http://snap.stanford.edu/ogb/data/graphproppred/csv_mol_download/pcba.zip',\n",
       " 'add_inverse_edge': 'True',\n",
       " 'data type': 'mol',\n",
       " 'has_node_attr': 'True',\n",
       " 'has_edge_attr': 'True',\n",
       " 'task type': 'binary classification',\n",
       " 'num classes': '2',\n",
       " 'split': 'scaffold',\n",
       " 'additional node files': 'None',\n",
       " 'additional edge files': 'None',\n",
       " 'binary': 'False'}"
      ]
     },
     "execution_count": 14,
     "metadata": {},
     "output_type": "execute_result"
    }
   ],
   "source": [
    "# Access to the OGB metadata with\n",
    "ds.metadata"
   ]
  },
  {
   "cell_type": "code",
   "execution_count": null,
   "metadata": {},
   "outputs": [
    {
     "name": "stderr",
     "output_type": "stream",
     "text": [
      "2021-04-15 13:46:36.444 | INFO     | goli.data.datamodule:prepare_data:291 - Prepare dataset with 437929 data points.\n"
     ]
    },
    {
     "data": {
      "application/vnd.jupyter.widget-view+json": {
       "model_id": "74433f443aee49409c6cb92fa7077a0c",
       "version_major": 2,
       "version_minor": 0
      },
      "text/plain": [
       "  0%|          | 0/437929 [00:00<?, ?it/s]"
      ]
     },
     "metadata": {},
     "output_type": "display_data"
    }
   ],
   "source": [
    "# Load and prepare the data\n",
    "ds.prepare_data()\n",
    "\n",
    "# Create the split torch datasets\n",
    "ds.setup()"
   ]
  },
  {
   "cell_type": "code",
   "execution_count": null,
   "metadata": {},
   "outputs": [],
   "source": [
    "ds.train_ds[0]"
   ]
  },
  {
   "cell_type": "code",
   "execution_count": null,
   "metadata": {},
   "outputs": [],
   "source": [
    "# Load a dataloader and get the first batch from it\n",
    "dl = ds.train_dataloader()\n",
    "it = iter(dl)\n",
    "batch = next(it)\n",
    "batch"
   ]
  },
  {
   "cell_type": "code",
   "execution_count": null,
   "metadata": {},
   "outputs": [],
   "source": []
  }
 ],
 "metadata": {
  "kernelspec": {
   "display_name": "Python [conda env:goli]",
   "language": "python",
   "name": "conda-env-goli-py"
  },
  "language_info": {
   "codemirror_mode": {
    "name": "ipython",
    "version": 3
   },
   "file_extension": ".py",
   "mimetype": "text/x-python",
   "name": "python",
   "nbconvert_exporter": "python",
   "pygments_lexer": "ipython3",
   "version": "3.8.6"
  },
  "widgets": {
   "application/vnd.jupyter.widget-state+json": {
    "state": {
     "00207bad6a1641c889ffd94d62d54844": {
      "model_module": "@jupyter-widgets/controls",
      "model_module_version": "1.5.0",
      "model_name": "HTMLModel",
      "state": {
       "layout": "IPY_MODEL_ad27b17fc2d746d09310dc0751b7be9c",
       "style": "IPY_MODEL_0c8ed5a523214f85b7adf493b1310d16",
       "value": " 37.7M/? [00:47&lt;00:00, 950kB/s]"
      }
     },
     "0c8ed5a523214f85b7adf493b1310d16": {
      "model_module": "@jupyter-widgets/controls",
      "model_module_version": "1.5.0",
      "model_name": "DescriptionStyleModel",
      "state": {
       "description_width": ""
      }
     },
     "0ccb976ca18b42c2a24cd66a809fb2cb": {
      "model_module": "@jupyter-widgets/base",
      "model_module_version": "1.2.0",
      "model_name": "LayoutModel",
      "state": {}
     },
     "0da801da2cf9472785e298aa82264c77": {
      "model_module": "@jupyter-widgets/controls",
      "model_module_version": "1.5.0",
      "model_name": "DescriptionStyleModel",
      "state": {
       "description_width": ""
      }
     },
     "152646271738483494cc99fe62ff76e4": {
      "model_module": "@jupyter-widgets/base",
      "model_module_version": "1.2.0",
      "model_name": "LayoutModel",
      "state": {}
     },
     "1a32adae69d54ac1b217045724840164": {
      "model_module": "@jupyter-widgets/controls",
      "model_module_version": "1.5.0",
      "model_name": "DescriptionStyleModel",
      "state": {
       "description_width": ""
      }
     },
     "230c60a12a1a42ca85863b95d7f580d2": {
      "model_module": "@jupyter-widgets/base",
      "model_module_version": "1.2.0",
      "model_name": "LayoutModel",
      "state": {}
     },
     "28647d053ff8496e8a9dc74c298e48d2": {
      "model_module": "@jupyter-widgets/controls",
      "model_module_version": "1.5.0",
      "model_name": "DescriptionStyleModel",
      "state": {
       "description_width": ""
      }
     },
     "2b4e30dbc029409ba7e5d290285624e3": {
      "model_module": "@jupyter-widgets/base",
      "model_module_version": "1.2.0",
      "model_name": "LayoutModel",
      "state": {}
     },
     "2fb8bb486b954018bc9f0ebf2340aa9e": {
      "model_module": "@jupyter-widgets/controls",
      "model_module_version": "1.5.0",
      "model_name": "HTMLModel",
      "state": {
       "layout": "IPY_MODEL_ea24ab5946d84435a0cafe25ec9450f2",
       "style": "IPY_MODEL_5302e91ac83c4e7f9bb9568f5a3108a7",
       "value": " 7831/7831 [00:05&lt;00:00, 2051.59it/s]"
      }
     },
     "315c9508b7de42f4ac85446f3945defa": {
      "model_module": "@jupyter-widgets/controls",
      "model_module_version": "1.5.0",
      "model_name": "HBoxModel",
      "state": {
       "children": [
        "IPY_MODEL_bf2c98e47ae3455ab93d94120b766c4c",
        "IPY_MODEL_5089e3c4ccb84020a57a603e8952965a",
        "IPY_MODEL_2fb8bb486b954018bc9f0ebf2340aa9e"
       ],
       "layout": "IPY_MODEL_96bbec69d444435987cda9788623733e"
      }
     },
     "3b7ec5d6bfb0434aae78e1d80af169f5": {
      "model_module": "@jupyter-widgets/base",
      "model_module_version": "1.2.0",
      "model_name": "LayoutModel",
      "state": {}
     },
     "455b4f407b234022bdf4d35d9f00df80": {
      "model_module": "@jupyter-widgets/controls",
      "model_module_version": "1.5.0",
      "model_name": "FloatProgressModel",
      "state": {
       "layout": "IPY_MODEL_4e1e23dda4f343ff810c0ae191a2299c",
       "max": 437929,
       "style": "IPY_MODEL_630c561de6f84712ae8e930d5f077ae2",
       "value": 1
      }
     },
     "4e1e23dda4f343ff810c0ae191a2299c": {
      "model_module": "@jupyter-widgets/base",
      "model_module_version": "1.2.0",
      "model_name": "LayoutModel",
      "state": {}
     },
     "4fff9d8d9ab6441baf1e43d54ebb5d27": {
      "model_module": "@jupyter-widgets/controls",
      "model_module_version": "1.5.0",
      "model_name": "DescriptionStyleModel",
      "state": {
       "description_width": ""
      }
     },
     "5089e3c4ccb84020a57a603e8952965a": {
      "model_module": "@jupyter-widgets/controls",
      "model_module_version": "1.5.0",
      "model_name": "FloatProgressModel",
      "state": {
       "bar_style": "success",
       "layout": "IPY_MODEL_3b7ec5d6bfb0434aae78e1d80af169f5",
       "max": 7831,
       "style": "IPY_MODEL_9b40324489744c199d77c21de97b0941",
       "value": 7831
      }
     },
     "5302e91ac83c4e7f9bb9568f5a3108a7": {
      "model_module": "@jupyter-widgets/controls",
      "model_module_version": "1.5.0",
      "model_name": "DescriptionStyleModel",
      "state": {
       "description_width": ""
      }
     },
     "535a75c171eb4eed92ec81241ea0acaf": {
      "model_module": "@jupyter-widgets/controls",
      "model_module_version": "1.5.0",
      "model_name": "FloatProgressModel",
      "state": {
       "bar_style": "success",
       "layout": "IPY_MODEL_97a26c6538e840fc8cc5d08a0890e607",
       "max": 41127,
       "style": "IPY_MODEL_c0665249b60a4aceae7c13911907379d",
       "value": 41127
      }
     },
     "59fa8e6f4a3d40f783ab0811c23387db": {
      "model_module": "@jupyter-widgets/base",
      "model_module_version": "1.2.0",
      "model_name": "LayoutModel",
      "state": {}
     },
     "630c561de6f84712ae8e930d5f077ae2": {
      "model_module": "@jupyter-widgets/controls",
      "model_module_version": "1.5.0",
      "model_name": "ProgressStyleModel",
      "state": {
       "description_width": ""
      }
     },
     "65a212cb5ce94cbeb7624ebdc864d578": {
      "model_module": "@jupyter-widgets/controls",
      "model_module_version": "1.5.0",
      "model_name": "HTMLModel",
      "state": {
       "layout": "IPY_MODEL_e2635f03a28a4590b5b459c4630ad54a",
       "style": "IPY_MODEL_0da801da2cf9472785e298aa82264c77",
       "value": "  0%"
      }
     },
     "6bfac98e665d47f0b44466162f917f49": {
      "model_module": "@jupyter-widgets/base",
      "model_module_version": "1.2.0",
      "model_name": "LayoutModel",
      "state": {}
     },
     "74433f443aee49409c6cb92fa7077a0c": {
      "model_module": "@jupyter-widgets/controls",
      "model_module_version": "1.5.0",
      "model_name": "HBoxModel",
      "state": {
       "children": [
        "IPY_MODEL_65a212cb5ce94cbeb7624ebdc864d578",
        "IPY_MODEL_455b4f407b234022bdf4d35d9f00df80",
        "IPY_MODEL_815197bf4cd446928dfdb3756ac0ca66"
       ],
       "layout": "IPY_MODEL_230c60a12a1a42ca85863b95d7f580d2"
      }
     },
     "815197bf4cd446928dfdb3756ac0ca66": {
      "model_module": "@jupyter-widgets/controls",
      "model_module_version": "1.5.0",
      "model_name": "HTMLModel",
      "state": {
       "layout": "IPY_MODEL_8bfb0ade38414557a41520ecd81398dc",
       "style": "IPY_MODEL_28647d053ff8496e8a9dc74c298e48d2",
       "value": " 1/437929 [00:02&lt;277:47:31,  2.28s/it]"
      }
     },
     "8a29a4500c964b4fab2fa5143da71594": {
      "model_module": "@jupyter-widgets/base",
      "model_module_version": "1.2.0",
      "model_name": "LayoutModel",
      "state": {}
     },
     "8bfb0ade38414557a41520ecd81398dc": {
      "model_module": "@jupyter-widgets/base",
      "model_module_version": "1.2.0",
      "model_name": "LayoutModel",
      "state": {}
     },
     "96bbec69d444435987cda9788623733e": {
      "model_module": "@jupyter-widgets/base",
      "model_module_version": "1.2.0",
      "model_name": "LayoutModel",
      "state": {}
     },
     "97a26c6538e840fc8cc5d08a0890e607": {
      "model_module": "@jupyter-widgets/base",
      "model_module_version": "1.2.0",
      "model_name": "LayoutModel",
      "state": {}
     },
     "9b40324489744c199d77c21de97b0941": {
      "model_module": "@jupyter-widgets/controls",
      "model_module_version": "1.5.0",
      "model_name": "ProgressStyleModel",
      "state": {
       "description_width": ""
      }
     },
     "a13eef816fa84461990b85096af0287e": {
      "model_module": "@jupyter-widgets/controls",
      "model_module_version": "1.5.0",
      "model_name": "DescriptionStyleModel",
      "state": {
       "description_width": ""
      }
     },
     "a1d37de243f2479083d9e2bbfd4cfcd6": {
      "model_module": "@jupyter-widgets/controls",
      "model_module_version": "1.5.0",
      "model_name": "HTMLModel",
      "state": {
       "layout": "IPY_MODEL_8a29a4500c964b4fab2fa5143da71594",
       "style": "IPY_MODEL_dce4be25f3944fa89ed82c1eb3cef501",
       "value": " 41127/41127 [00:35&lt;00:00, 1223.64it/s]"
      }
     },
     "ac6408f4354e439a89fec154a29d3184": {
      "model_module": "@jupyter-widgets/controls",
      "model_module_version": "1.5.0",
      "model_name": "HBoxModel",
      "state": {
       "children": [
        "IPY_MODEL_e61e8f0bca2841d4b65b286e73010131",
        "IPY_MODEL_e458e085d78e4393a4fcf8a01c115ec7",
        "IPY_MODEL_00207bad6a1641c889ffd94d62d54844"
       ],
       "layout": "IPY_MODEL_59fa8e6f4a3d40f783ab0811c23387db"
      }
     },
     "ad27b17fc2d746d09310dc0751b7be9c": {
      "model_module": "@jupyter-widgets/base",
      "model_module_version": "1.2.0",
      "model_name": "LayoutModel",
      "state": {}
     },
     "b5f9830998f54304b1e2491f42dfafe2": {
      "model_module": "@jupyter-widgets/controls",
      "model_module_version": "1.5.0",
      "model_name": "HTMLModel",
      "state": {
       "layout": "IPY_MODEL_6bfac98e665d47f0b44466162f917f49",
       "style": "IPY_MODEL_1a32adae69d54ac1b217045724840164",
       "value": "100%"
      }
     },
     "bf2c98e47ae3455ab93d94120b766c4c": {
      "model_module": "@jupyter-widgets/controls",
      "model_module_version": "1.5.0",
      "model_name": "HTMLModel",
      "state": {
       "layout": "IPY_MODEL_0ccb976ca18b42c2a24cd66a809fb2cb",
       "style": "IPY_MODEL_4fff9d8d9ab6441baf1e43d54ebb5d27",
       "value": "100%"
      }
     },
     "c0665249b60a4aceae7c13911907379d": {
      "model_module": "@jupyter-widgets/controls",
      "model_module_version": "1.5.0",
      "model_name": "ProgressStyleModel",
      "state": {
       "description_width": ""
      }
     },
     "cdb58b5214774d9e9780a1289fc23f1c": {
      "model_module": "@jupyter-widgets/controls",
      "model_module_version": "1.5.0",
      "model_name": "ProgressStyleModel",
      "state": {
       "description_width": ""
      }
     },
     "d1815d9b04f346a09def4d2148f183d2": {
      "model_module": "@jupyter-widgets/controls",
      "model_module_version": "1.5.0",
      "model_name": "HBoxModel",
      "state": {
       "children": [
        "IPY_MODEL_b5f9830998f54304b1e2491f42dfafe2",
        "IPY_MODEL_535a75c171eb4eed92ec81241ea0acaf",
        "IPY_MODEL_a1d37de243f2479083d9e2bbfd4cfcd6"
       ],
       "layout": "IPY_MODEL_2b4e30dbc029409ba7e5d290285624e3"
      }
     },
     "dce4be25f3944fa89ed82c1eb3cef501": {
      "model_module": "@jupyter-widgets/controls",
      "model_module_version": "1.5.0",
      "model_name": "DescriptionStyleModel",
      "state": {
       "description_width": ""
      }
     },
     "e2635f03a28a4590b5b459c4630ad54a": {
      "model_module": "@jupyter-widgets/base",
      "model_module_version": "1.2.0",
      "model_name": "LayoutModel",
      "state": {}
     },
     "e458e085d78e4393a4fcf8a01c115ec7": {
      "model_module": "@jupyter-widgets/controls",
      "model_module_version": "1.5.0",
      "model_name": "FloatProgressModel",
      "state": {
       "bar_style": "success",
       "layout": "IPY_MODEL_152646271738483494cc99fe62ff76e4",
       "max": 39533472,
       "style": "IPY_MODEL_cdb58b5214774d9e9780a1289fc23f1c",
       "value": 39533472
      }
     },
     "e61e8f0bca2841d4b65b286e73010131": {
      "model_module": "@jupyter-widgets/controls",
      "model_module_version": "1.5.0",
      "model_name": "HTMLModel",
      "state": {
       "layout": "IPY_MODEL_f86c7959f76d4625ae0ca835b367240e",
       "style": "IPY_MODEL_a13eef816fa84461990b85096af0287e"
      }
     },
     "ea24ab5946d84435a0cafe25ec9450f2": {
      "model_module": "@jupyter-widgets/base",
      "model_module_version": "1.2.0",
      "model_name": "LayoutModel",
      "state": {}
     },
     "f86c7959f76d4625ae0ca835b367240e": {
      "model_module": "@jupyter-widgets/base",
      "model_module_version": "1.2.0",
      "model_name": "LayoutModel",
      "state": {}
     }
    },
    "version_major": 2,
    "version_minor": 0
   }
  }
 },
 "nbformat": 4,
 "nbformat_minor": 4
}
