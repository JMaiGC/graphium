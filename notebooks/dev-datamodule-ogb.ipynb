{
 "cells": [
  {
   "cell_type": "code",
   "execution_count": 16,
   "metadata": {},
   "outputs": [
    {
     "name": "stdout",
     "output_type": "stream",
     "text": [
      "The autoreload extension is already loaded. To reload it, use:\n",
      "  %reload_ext autoreload\n"
     ]
    }
   ],
   "source": [
    "%load_ext autoreload\n",
    "%autoreload 2\n",
    "\n",
    "import pathlib\n",
    "import functools\n",
    "import tempfile\n",
    "\n",
    "import numpy as np\n",
    "import pandas as pd\n",
    "import pytorch_lightning as pl\n",
    "import torch\n",
    "import datamol as dm\n",
    "\n",
    "import goli"
   ]
  },
  {
   "cell_type": "code",
   "execution_count": 6,
   "metadata": {},
   "outputs": [],
   "source": [
    "from ogb.graphproppred.mol_encoder import AtomEncoder, BondEncoder\n",
    "\n",
    "from ogb.graphproppred import DglGraphPropPredDataset\n",
    "from ogb.graphproppred import collate_dgl\n",
    "from ogb.graphproppred import GraphPropPredDataset\n",
    "\n",
    "from torch.utils.data import DataLoader"
   ]
  },
  {
   "cell_type": "code",
   "execution_count": 23,
   "metadata": {},
   "outputs": [
    {
     "name": "stderr",
     "output_type": "stream",
     "text": [
      "  0%|          | 0/39 [00:00<?, ?it/s]"
     ]
    },
    {
     "name": "stdout",
     "output_type": "stream",
     "text": [
      "Downloading http://snap.stanford.edu/ogb/data/graphproppred/csv_mol_download/pcba.zip\n"
     ]
    },
    {
     "name": "stderr",
     "output_type": "stream",
     "text": [
      "Downloaded 0.04 GB: 100%|██████████| 39/39 [00:14<00:00,  2.74it/s]\n"
     ]
    },
    {
     "name": "stdout",
     "output_type": "stream",
     "text": [
      "Extracting /home/hadim/.cache/goli/ogb_datasets/pcba.zip\n",
      "Loading necessary files...\n",
      "This might take a while.\n"
     ]
    },
    {
     "name": "stderr",
     "output_type": "stream",
     "text": [
      "  0%|          | 0/437929 [00:00<?, ?it/s]"
     ]
    },
    {
     "name": "stdout",
     "output_type": "stream",
     "text": [
      "Processing graphs...\n"
     ]
    },
    {
     "name": "stderr",
     "output_type": "stream",
     "text": [
      "100%|██████████| 437929/437929 [00:03<00:00, 122909.91it/s]\n",
      "  0%|          | 721/437929 [00:00<01:00, 7202.71it/s]"
     ]
    },
    {
     "name": "stdout",
     "output_type": "stream",
     "text": [
      "Converting graphs into DGL objects...\n"
     ]
    },
    {
     "name": "stderr",
     "output_type": "stream",
     "text": [
      "100%|██████████| 437929/437929 [01:08<00:00, 6349.51it/s]\n"
     ]
    },
    {
     "name": "stdout",
     "output_type": "stream",
     "text": [
      "Saving...\n"
     ]
    }
   ],
   "source": [
    "dataset_names = [\"ogbg-molhiv\", \"ogbg-molpcba\", \"ogbg-moltox21\"]\n",
    "\n",
    "ogb_dir = goli.utils.fs.get_cache_dir(suffix=\"ogb_datasets\")\n",
    "\n",
    "dataset = DglGraphPropPredDataset(name=\"ogbg-molpcba\", root=ogb_dir)\n",
    "split_idx = dataset.get_idx_split() "
   ]
  },
  {
   "cell_type": "code",
   "execution_count": 27,
   "metadata": {},
   "outputs": [
    {
     "data": {
      "text/plain": [
       "(Graph(num_nodes=20, num_edges=44,\n",
       "       ndata_schemes={'feat': Scheme(shape=(9,), dtype=torch.int64)}\n",
       "       edata_schemes={'feat': Scheme(shape=(3,), dtype=torch.int64)}),\n",
       " tensor([0., 0., nan, 0., 0., 0., 0., 0., 0., 0., 0., 0., 0., 0., 0., 0., nan, 0.,\n",
       "         0., 0., nan, 0., 0., 0., 0., 0., 0., 0., 0., 0., nan, 0., 0., 0., 0., 0.,\n",
       "         0., 0., 0., 0., 0., nan, 0., 0., 0., nan, 0., nan, 0., 0., nan, 0., 0., 0.,\n",
       "         0., 0., 0., 0., nan, 0., 0., 0., 0., 0., 0., 0., 0., 0., 0., 0., 0., 0.,\n",
       "         0., 0., 0., 0., 0., 0., 0., 0., 0., 0., 0., nan, 0., 0., 0., nan, 0., 0.,\n",
       "         0., 0., 1., nan, 0., 0., nan, 0., 0., 0., 0., 0., 0., 0., 0., 0., 0., 0.,\n",
       "         nan, nan, nan, nan, nan, nan, nan, nan, nan, nan, nan, nan, nan, nan, nan, nan, nan, nan,\n",
       "         nan, nan]))"
      ]
     },
     "execution_count": 27,
     "metadata": {},
     "output_type": "execute_result"
    }
   ],
   "source": [
    "dataset[0]"
   ]
  },
  {
   "cell_type": "code",
   "execution_count": 25,
   "metadata": {},
   "outputs": [
    {
     "data": {
      "text/plain": [
       "num tasks                                                              128\n",
       "eval metric                                                             ap\n",
       "download_name                                                         pcba\n",
       "version                                                                  1\n",
       "url                      http://snap.stanford.edu/ogb/data/graphproppre...\n",
       "add_inverse_edge                                                      True\n",
       "data type                                                              mol\n",
       "has_node_attr                                                         True\n",
       "has_edge_attr                                                         True\n",
       "task type                                            binary classification\n",
       "num classes                                                              2\n",
       "split                                                             scaffold\n",
       "additional node files                                                 None\n",
       "additional edge files                                                 None\n",
       "binary                                                               False\n",
       "Name: ogbg-molpcba, dtype: object"
      ]
     },
     "execution_count": 25,
     "metadata": {},
     "output_type": "execute_result"
    }
   ],
   "source": [
    "df = pd.read_csv(pathlib.Path(dataset.root) / \"mapping\" / \"mol.csv.gz\")\n",
    "dataset.meta_info"
   ]
  },
  {
   "cell_type": "code",
   "execution_count": 26,
   "metadata": {},
   "outputs": [
    {
     "data": {
      "text/html": [
       "<div>\n",
       "<style scoped>\n",
       "    .dataframe tbody tr th:only-of-type {\n",
       "        vertical-align: middle;\n",
       "    }\n",
       "\n",
       "    .dataframe tbody tr th {\n",
       "        vertical-align: top;\n",
       "    }\n",
       "\n",
       "    .dataframe thead th {\n",
       "        text-align: right;\n",
       "    }\n",
       "</style>\n",
       "<table border=\"1\" class=\"dataframe\">\n",
       "  <thead>\n",
       "    <tr style=\"text-align: right;\">\n",
       "      <th></th>\n",
       "      <th>PCBA-1030</th>\n",
       "      <th>PCBA-1379</th>\n",
       "      <th>PCBA-1452</th>\n",
       "      <th>PCBA-1454</th>\n",
       "      <th>PCBA-1457</th>\n",
       "      <th>PCBA-1458</th>\n",
       "      <th>PCBA-1460</th>\n",
       "      <th>PCBA-1461</th>\n",
       "      <th>PCBA-1468</th>\n",
       "      <th>PCBA-1469</th>\n",
       "      <th>...</th>\n",
       "      <th>PCBA-914</th>\n",
       "      <th>PCBA-915</th>\n",
       "      <th>PCBA-924</th>\n",
       "      <th>PCBA-925</th>\n",
       "      <th>PCBA-926</th>\n",
       "      <th>PCBA-927</th>\n",
       "      <th>PCBA-938</th>\n",
       "      <th>PCBA-995</th>\n",
       "      <th>smiles</th>\n",
       "      <th>mol_id</th>\n",
       "    </tr>\n",
       "  </thead>\n",
       "  <tbody>\n",
       "    <tr>\n",
       "      <th>0</th>\n",
       "      <td>0.0</td>\n",
       "      <td>0.0</td>\n",
       "      <td>NaN</td>\n",
       "      <td>0.0</td>\n",
       "      <td>0.0</td>\n",
       "      <td>0.0</td>\n",
       "      <td>0.0</td>\n",
       "      <td>0.0</td>\n",
       "      <td>0.0</td>\n",
       "      <td>0.0</td>\n",
       "      <td>...</td>\n",
       "      <td>NaN</td>\n",
       "      <td>NaN</td>\n",
       "      <td>NaN</td>\n",
       "      <td>NaN</td>\n",
       "      <td>NaN</td>\n",
       "      <td>NaN</td>\n",
       "      <td>NaN</td>\n",
       "      <td>NaN</td>\n",
       "      <td>CC(=O)N1CCC2(CC1)NC(=O)N(c1ccccc1)N2</td>\n",
       "      <td>CID1511280</td>\n",
       "    </tr>\n",
       "    <tr>\n",
       "      <th>1</th>\n",
       "      <td>0.0</td>\n",
       "      <td>0.0</td>\n",
       "      <td>NaN</td>\n",
       "      <td>0.0</td>\n",
       "      <td>0.0</td>\n",
       "      <td>NaN</td>\n",
       "      <td>0.0</td>\n",
       "      <td>0.0</td>\n",
       "      <td>0.0</td>\n",
       "      <td>0.0</td>\n",
       "      <td>...</td>\n",
       "      <td>NaN</td>\n",
       "      <td>NaN</td>\n",
       "      <td>NaN</td>\n",
       "      <td>NaN</td>\n",
       "      <td>NaN</td>\n",
       "      <td>NaN</td>\n",
       "      <td>NaN</td>\n",
       "      <td>NaN</td>\n",
       "      <td>N#Cc1nnn(-c2ccc(Cl)cc2)c1N</td>\n",
       "      <td>CID332939</td>\n",
       "    </tr>\n",
       "    <tr>\n",
       "      <th>2</th>\n",
       "      <td>NaN</td>\n",
       "      <td>0.0</td>\n",
       "      <td>NaN</td>\n",
       "      <td>0.0</td>\n",
       "      <td>0.0</td>\n",
       "      <td>0.0</td>\n",
       "      <td>0.0</td>\n",
       "      <td>0.0</td>\n",
       "      <td>0.0</td>\n",
       "      <td>0.0</td>\n",
       "      <td>...</td>\n",
       "      <td>NaN</td>\n",
       "      <td>NaN</td>\n",
       "      <td>NaN</td>\n",
       "      <td>NaN</td>\n",
       "      <td>NaN</td>\n",
       "      <td>NaN</td>\n",
       "      <td>NaN</td>\n",
       "      <td>NaN</td>\n",
       "      <td>COC(=O)c1ccc(NC(=O)c2ccccc2CC[N+](=O)[O-])cc1</td>\n",
       "      <td>CID3800322</td>\n",
       "    </tr>\n",
       "    <tr>\n",
       "      <th>3</th>\n",
       "      <td>NaN</td>\n",
       "      <td>NaN</td>\n",
       "      <td>NaN</td>\n",
       "      <td>NaN</td>\n",
       "      <td>NaN</td>\n",
       "      <td>NaN</td>\n",
       "      <td>NaN</td>\n",
       "      <td>NaN</td>\n",
       "      <td>NaN</td>\n",
       "      <td>NaN</td>\n",
       "      <td>...</td>\n",
       "      <td>NaN</td>\n",
       "      <td>NaN</td>\n",
       "      <td>NaN</td>\n",
       "      <td>NaN</td>\n",
       "      <td>NaN</td>\n",
       "      <td>NaN</td>\n",
       "      <td>NaN</td>\n",
       "      <td>NaN</td>\n",
       "      <td>CCC1NC(=O)c2cccnc2-n2c1nc1ccc(F)cc1c2=O</td>\n",
       "      <td>CID46904422</td>\n",
       "    </tr>\n",
       "    <tr>\n",
       "      <th>4</th>\n",
       "      <td>NaN</td>\n",
       "      <td>NaN</td>\n",
       "      <td>NaN</td>\n",
       "      <td>0.0</td>\n",
       "      <td>NaN</td>\n",
       "      <td>NaN</td>\n",
       "      <td>NaN</td>\n",
       "      <td>0.0</td>\n",
       "      <td>0.0</td>\n",
       "      <td>0.0</td>\n",
       "      <td>...</td>\n",
       "      <td>NaN</td>\n",
       "      <td>NaN</td>\n",
       "      <td>NaN</td>\n",
       "      <td>NaN</td>\n",
       "      <td>NaN</td>\n",
       "      <td>NaN</td>\n",
       "      <td>NaN</td>\n",
       "      <td>NaN</td>\n",
       "      <td>CC1=CC(=O)/C(=C2/C=C(C(=O)Nc3ccc(S(=O)(=O)Nc4o...</td>\n",
       "      <td>CID16445987</td>\n",
       "    </tr>\n",
       "    <tr>\n",
       "      <th>...</th>\n",
       "      <td>...</td>\n",
       "      <td>...</td>\n",
       "      <td>...</td>\n",
       "      <td>...</td>\n",
       "      <td>...</td>\n",
       "      <td>...</td>\n",
       "      <td>...</td>\n",
       "      <td>...</td>\n",
       "      <td>...</td>\n",
       "      <td>...</td>\n",
       "      <td>...</td>\n",
       "      <td>...</td>\n",
       "      <td>...</td>\n",
       "      <td>...</td>\n",
       "      <td>...</td>\n",
       "      <td>...</td>\n",
       "      <td>...</td>\n",
       "      <td>...</td>\n",
       "      <td>...</td>\n",
       "      <td>...</td>\n",
       "      <td>...</td>\n",
       "    </tr>\n",
       "    <tr>\n",
       "      <th>437924</th>\n",
       "      <td>NaN</td>\n",
       "      <td>NaN</td>\n",
       "      <td>NaN</td>\n",
       "      <td>NaN</td>\n",
       "      <td>NaN</td>\n",
       "      <td>NaN</td>\n",
       "      <td>NaN</td>\n",
       "      <td>NaN</td>\n",
       "      <td>NaN</td>\n",
       "      <td>NaN</td>\n",
       "      <td>...</td>\n",
       "      <td>NaN</td>\n",
       "      <td>NaN</td>\n",
       "      <td>NaN</td>\n",
       "      <td>NaN</td>\n",
       "      <td>NaN</td>\n",
       "      <td>NaN</td>\n",
       "      <td>NaN</td>\n",
       "      <td>NaN</td>\n",
       "      <td>CC1CCC2C(C1)OS(=O)(=O)NC2(C)C</td>\n",
       "      <td>CID24761803</td>\n",
       "    </tr>\n",
       "    <tr>\n",
       "      <th>437925</th>\n",
       "      <td>NaN</td>\n",
       "      <td>NaN</td>\n",
       "      <td>NaN</td>\n",
       "      <td>NaN</td>\n",
       "      <td>NaN</td>\n",
       "      <td>NaN</td>\n",
       "      <td>NaN</td>\n",
       "      <td>NaN</td>\n",
       "      <td>NaN</td>\n",
       "      <td>NaN</td>\n",
       "      <td>...</td>\n",
       "      <td>NaN</td>\n",
       "      <td>NaN</td>\n",
       "      <td>NaN</td>\n",
       "      <td>NaN</td>\n",
       "      <td>NaN</td>\n",
       "      <td>NaN</td>\n",
       "      <td>NaN</td>\n",
       "      <td>NaN</td>\n",
       "      <td>O=Cc1cc(CCC(=O)O)ccc1O</td>\n",
       "      <td>CID24761802</td>\n",
       "    </tr>\n",
       "    <tr>\n",
       "      <th>437926</th>\n",
       "      <td>0.0</td>\n",
       "      <td>0.0</td>\n",
       "      <td>0.0</td>\n",
       "      <td>NaN</td>\n",
       "      <td>0.0</td>\n",
       "      <td>0.0</td>\n",
       "      <td>0.0</td>\n",
       "      <td>0.0</td>\n",
       "      <td>0.0</td>\n",
       "      <td>0.0</td>\n",
       "      <td>...</td>\n",
       "      <td>NaN</td>\n",
       "      <td>NaN</td>\n",
       "      <td>NaN</td>\n",
       "      <td>NaN</td>\n",
       "      <td>NaN</td>\n",
       "      <td>NaN</td>\n",
       "      <td>NaN</td>\n",
       "      <td>NaN</td>\n",
       "      <td>O=c1nc(CN2CCN(c3ccc(F)cc3)CC2)[nH]c2ccccc12</td>\n",
       "      <td>CID1861000</td>\n",
       "    </tr>\n",
       "    <tr>\n",
       "      <th>437927</th>\n",
       "      <td>NaN</td>\n",
       "      <td>NaN</td>\n",
       "      <td>NaN</td>\n",
       "      <td>NaN</td>\n",
       "      <td>NaN</td>\n",
       "      <td>NaN</td>\n",
       "      <td>NaN</td>\n",
       "      <td>NaN</td>\n",
       "      <td>NaN</td>\n",
       "      <td>NaN</td>\n",
       "      <td>...</td>\n",
       "      <td>NaN</td>\n",
       "      <td>NaN</td>\n",
       "      <td>NaN</td>\n",
       "      <td>NaN</td>\n",
       "      <td>NaN</td>\n",
       "      <td>NaN</td>\n",
       "      <td>NaN</td>\n",
       "      <td>NaN</td>\n",
       "      <td>Cc1ccc(C(C)C)c(OCC(O)CN(C)Cc2ccccc2)c1</td>\n",
       "      <td>CID24761809</td>\n",
       "    </tr>\n",
       "    <tr>\n",
       "      <th>437928</th>\n",
       "      <td>NaN</td>\n",
       "      <td>NaN</td>\n",
       "      <td>NaN</td>\n",
       "      <td>NaN</td>\n",
       "      <td>NaN</td>\n",
       "      <td>NaN</td>\n",
       "      <td>NaN</td>\n",
       "      <td>NaN</td>\n",
       "      <td>NaN</td>\n",
       "      <td>NaN</td>\n",
       "      <td>...</td>\n",
       "      <td>NaN</td>\n",
       "      <td>NaN</td>\n",
       "      <td>NaN</td>\n",
       "      <td>NaN</td>\n",
       "      <td>NaN</td>\n",
       "      <td>NaN</td>\n",
       "      <td>NaN</td>\n",
       "      <td>NaN</td>\n",
       "      <td>CCN(CC(=O)Nc1ccc(C)c(S(=O)(=O)N(C)C)c1)Cc1ccccc1</td>\n",
       "      <td>CID24761808</td>\n",
       "    </tr>\n",
       "  </tbody>\n",
       "</table>\n",
       "<p>437929 rows × 130 columns</p>\n",
       "</div>"
      ],
      "text/plain": [
       "        PCBA-1030  PCBA-1379  PCBA-1452  PCBA-1454  PCBA-1457  PCBA-1458  \\\n",
       "0             0.0        0.0        NaN        0.0        0.0        0.0   \n",
       "1             0.0        0.0        NaN        0.0        0.0        NaN   \n",
       "2             NaN        0.0        NaN        0.0        0.0        0.0   \n",
       "3             NaN        NaN        NaN        NaN        NaN        NaN   \n",
       "4             NaN        NaN        NaN        0.0        NaN        NaN   \n",
       "...           ...        ...        ...        ...        ...        ...   \n",
       "437924        NaN        NaN        NaN        NaN        NaN        NaN   \n",
       "437925        NaN        NaN        NaN        NaN        NaN        NaN   \n",
       "437926        0.0        0.0        0.0        NaN        0.0        0.0   \n",
       "437927        NaN        NaN        NaN        NaN        NaN        NaN   \n",
       "437928        NaN        NaN        NaN        NaN        NaN        NaN   \n",
       "\n",
       "        PCBA-1460  PCBA-1461  PCBA-1468  PCBA-1469  ...  PCBA-914  PCBA-915  \\\n",
       "0             0.0        0.0        0.0        0.0  ...       NaN       NaN   \n",
       "1             0.0        0.0        0.0        0.0  ...       NaN       NaN   \n",
       "2             0.0        0.0        0.0        0.0  ...       NaN       NaN   \n",
       "3             NaN        NaN        NaN        NaN  ...       NaN       NaN   \n",
       "4             NaN        0.0        0.0        0.0  ...       NaN       NaN   \n",
       "...           ...        ...        ...        ...  ...       ...       ...   \n",
       "437924        NaN        NaN        NaN        NaN  ...       NaN       NaN   \n",
       "437925        NaN        NaN        NaN        NaN  ...       NaN       NaN   \n",
       "437926        0.0        0.0        0.0        0.0  ...       NaN       NaN   \n",
       "437927        NaN        NaN        NaN        NaN  ...       NaN       NaN   \n",
       "437928        NaN        NaN        NaN        NaN  ...       NaN       NaN   \n",
       "\n",
       "        PCBA-924  PCBA-925  PCBA-926  PCBA-927  PCBA-938  PCBA-995  \\\n",
       "0            NaN       NaN       NaN       NaN       NaN       NaN   \n",
       "1            NaN       NaN       NaN       NaN       NaN       NaN   \n",
       "2            NaN       NaN       NaN       NaN       NaN       NaN   \n",
       "3            NaN       NaN       NaN       NaN       NaN       NaN   \n",
       "4            NaN       NaN       NaN       NaN       NaN       NaN   \n",
       "...          ...       ...       ...       ...       ...       ...   \n",
       "437924       NaN       NaN       NaN       NaN       NaN       NaN   \n",
       "437925       NaN       NaN       NaN       NaN       NaN       NaN   \n",
       "437926       NaN       NaN       NaN       NaN       NaN       NaN   \n",
       "437927       NaN       NaN       NaN       NaN       NaN       NaN   \n",
       "437928       NaN       NaN       NaN       NaN       NaN       NaN   \n",
       "\n",
       "                                                   smiles       mol_id  \n",
       "0                    CC(=O)N1CCC2(CC1)NC(=O)N(c1ccccc1)N2   CID1511280  \n",
       "1                              N#Cc1nnn(-c2ccc(Cl)cc2)c1N    CID332939  \n",
       "2           COC(=O)c1ccc(NC(=O)c2ccccc2CC[N+](=O)[O-])cc1   CID3800322  \n",
       "3                 CCC1NC(=O)c2cccnc2-n2c1nc1ccc(F)cc1c2=O  CID46904422  \n",
       "4       CC1=CC(=O)/C(=C2/C=C(C(=O)Nc3ccc(S(=O)(=O)Nc4o...  CID16445987  \n",
       "...                                                   ...          ...  \n",
       "437924                      CC1CCC2C(C1)OS(=O)(=O)NC2(C)C  CID24761803  \n",
       "437925                             O=Cc1cc(CCC(=O)O)ccc1O  CID24761802  \n",
       "437926        O=c1nc(CN2CCN(c3ccc(F)cc3)CC2)[nH]c2ccccc12   CID1861000  \n",
       "437927             Cc1ccc(C(C)C)c(OCC(O)CN(C)Cc2ccccc2)c1  CID24761809  \n",
       "437928   CCN(CC(=O)Nc1ccc(C)c(S(=O)(=O)N(C)C)c1)Cc1ccccc1  CID24761808  \n",
       "\n",
       "[437929 rows x 130 columns]"
      ]
     },
     "execution_count": 26,
     "metadata": {},
     "output_type": "execute_result"
    }
   ],
   "source": [
    "df"
   ]
  },
  {
   "cell_type": "code",
   "execution_count": 25,
   "metadata": {},
   "outputs": [
    {
     "data": {
      "text/plain": [
       "Graph(num_nodes=19, num_edges=40,\n",
       "      ndata_schemes={'feat': Scheme(shape=(9,), dtype=torch.int64)}\n",
       "      edata_schemes={'feat': Scheme(shape=(3,), dtype=torch.int64)})"
      ]
     },
     "execution_count": 25,
     "metadata": {},
     "output_type": "execute_result"
    }
   ],
   "source": [
    "g"
   ]
  },
  {
   "cell_type": "code",
   "execution_count": 3,
   "metadata": {},
   "outputs": [],
   "source": [
    "split_idx = dataset.get_idx_split()\n",
    "train_idx, valid_idx, test_idx = split_idx[\"train\"], split_idx[\"valid\"], split_idx[\"test\"]\n",
    "\n",
    "\n",
    "dataset = DglGraphPropPredDataset(name = d_name)\n",
    "\n",
    "atom_encoder = AtomEncoder(emb_dim = 100)\n",
    "bond_encoder = BondEncoder(emb_dim = 100)"
   ]
  },
  {
   "cell_type": "code",
   "execution_count": null,
   "metadata": {},
   "outputs": [],
   "source": [
    "ogbg-molhiv ogbg-molpcba ogbg-moltox21"
   ]
  },
  {
   "cell_type": "code",
   "execution_count": 3,
   "metadata": {},
   "outputs": [
    {
     "data": {
      "text/plain": [
       "name: DGLFromSmilesDataModule\n",
       "len: 100\n",
       "batch_size_train_val: 16\n",
       "batch_size_test: 16\n",
       "num_node_feats: 50\n",
       "num_edge_feats: 5\n",
       "collate_fn: goli_collate_fn\n",
       "featurization:\n",
       "  atom_property_list_float: []\n",
       "  atom_property_list_onehot:\n",
       "  - atomic-number\n",
       "  - degree\n",
       "  edge_property_list:\n",
       "  - bond-type-onehot\n",
       "  add_self_loop: false\n",
       "  use_bonds_weights: false\n",
       "  explicit_H: false"
      ]
     },
     "execution_count": 3,
     "metadata": {},
     "output_type": "execute_result"
    }
   ],
   "source": [
    "# Setup a temporary cache file. Only for\n",
    "# demo purposes, use a known path in prod.\n",
    "cache_data_path = pathlib.Path(tempfile.mkdtemp()) / \"cache.pkl\"\n",
    "\n",
    "# Load a dataframe\n",
    "df = goli.data.load_tiny_zinc()\n",
    "df.head()\n",
    "\n",
    "# Setup the featurization\n",
    "featurization_args = {}\n",
    "featurization_args[\"atom_property_list_float\"] = []  # [\"weight\", \"valence\"]\n",
    "featurization_args[\"atom_property_list_onehot\"] = [\"atomic-number\", \"degree\"]\n",
    "featurization_args[\"edge_property_list\"] = [\"bond-type-onehot\"]\n",
    "featurization_args[\"add_self_loop\"] = False\n",
    "featurization_args[\"use_bonds_weights\"] = False\n",
    "featurization_args[\"explicit_H\"] = False\n",
    "\n",
    "# Config for datamodule\n",
    "dm_args = {}\n",
    "dm_args[\"df\"] = df\n",
    "dm_args[\"cache_data_path\"] = None#cache_data_path  # unsed at the moment\n",
    "dm_args[\"featurization\"] = featurization_args\n",
    "dm_args[\"smiles_col\"] = \"SMILES\"\n",
    "dm_args[\"label_cols\"] = [\"SA\"]\n",
    "dm_args[\"split_val\"] = 0.2\n",
    "dm_args[\"split_test\"] = 0.2\n",
    "dm_args[\"split_seed\"] = 19\n",
    "dm_args[\"batch_size_train_val\"] = 16\n",
    "dm_args[\"batch_size_test\"] = 16\n",
    "dm_args[\"num_workers\"] = 0\n",
    "dm_args[\"pin_memory\"] = True\n",
    "dm_args[\"featurization_n_jobs\"] = 16\n",
    "dm_args[\"featurization_progress\"] = True\n",
    "\n",
    "dm = goli.data.DGLFromSmilesDataModule(**dm_args)\n",
    "dm"
   ]
  },
  {
   "cell_type": "code",
   "execution_count": 4,
   "metadata": {},
   "outputs": [
    {
     "name": "stderr",
     "output_type": "stream",
     "text": [
      "2021-04-14 13:26:39.242 | INFO     | goli.data.datamodule:prepare_data:278 - Prepare dataset with 100 data points.\n"
     ]
    },
    {
     "data": {
      "application/vnd.jupyter.widget-view+json": {
       "model_id": "0dcbd7573b624613b206dcf942aeaafd",
       "version_major": 2,
       "version_minor": 0
      },
      "text/plain": [
       "  0%|          | 0/100 [00:00<?, ?it/s]"
      ]
     },
     "metadata": {},
     "output_type": "display_data"
    }
   ],
   "source": [
    "# Load and prepare the data\n",
    "dm.prepare_data()\n",
    "\n",
    "# Create the split torch datasets\n",
    "dm.setup()"
   ]
  },
  {
   "cell_type": "code",
   "execution_count": 5,
   "metadata": {},
   "outputs": [
    {
     "data": {
      "text/plain": [
       "{'smiles': 'CN1CCC[C@@]2(CCN(C(=O)CN3CCNC(=O)C3)C2)C1=O',\n",
       " 'features': Graph(num_nodes=22, num_edges=48,\n",
       "       ndata_schemes={'feat': Scheme(shape=(50,), dtype=torch.float32)}\n",
       "       edata_schemes={'feat': Scheme(shape=(5,), dtype=torch.float32)}),\n",
       " 'labels': array([3.60516846])}"
      ]
     },
     "execution_count": 5,
     "metadata": {},
     "output_type": "execute_result"
    }
   ],
   "source": [
    "dm.train_ds[0]"
   ]
  },
  {
   "cell_type": "code",
   "execution_count": 7,
   "metadata": {},
   "outputs": [
    {
     "data": {
      "text/plain": [
       "{'smiles': ['c1cc2c(cc1N[C@@H]1CCOC3(CCC3)C1)CCC2',\n",
       "  'CC(=O)N1CC[C@@H]([NH2+][C@@H](C)CSCC(C)C)C1',\n",
       "  'Cc1ccc(-c2nc3ccc(C)c(C)c3[nH]2)nc1',\n",
       "  'CCOC[C@H](O)[C@](C)(CC)[NH+]1CCCC1',\n",
       "  'Cc1cc(CC(=O)N[C@H](c2ccc(F)cc2)C2CCC2)no1',\n",
       "  'CCc1ccc(C(=O)/C(=C(/S)NC2CC2)[n+]2ccc(CC)cc2)cc1',\n",
       "  'Cc1ccc(NC(=O)c2ccc(F)cc2F)cc1S(=O)(=O)Nc1ccc(Cl)cc1',\n",
       "  'CC#CCCC(=O)Nc1cccc2c1C(=O)c1ccccc1C2=O',\n",
       "  'CCOc1cc(/C=C(\\\\C#N)C(=O)c2c[nH]c3cc(Cl)ccc23)ccc1OC',\n",
       "  'CNC(=O)[C@@H]1CCC[NH+]1Cc1ccc(C)c(F)c1',\n",
       "  'CC(C)(C)OC(=O)N[C@H]1CCN(c2cc(-c3cccs3)n[nH]2)C1',\n",
       "  'Cc1nn(-c2ccccc2)c(O)c1/C=[NH+]/Cc1ccncc1',\n",
       "  'COCC[NH+](C)Cc1c(C)cc(C)c(C(C)=O)c1C',\n",
       "  'Cc1nc(C)c(S(=O)(=O)/N=C(\\\\[O-])C[C@H]2CCCO2)s1',\n",
       "  'COc1cccc(CN2CCC[NH+](CC(=O)Nc3ccc(F)cc3)S2(=O)=O)c1',\n",
       "  'COc1cc(F)cc(CNC(=O)[C@H]2CCCN2C(=O)Cc2ccccc2)c1'],\n",
       " 'features': Graph(num_nodes=352, num_edges=754,\n",
       "       ndata_schemes={'feat': Scheme(shape=(50,), dtype=torch.float32)}\n",
       "       edata_schemes={'feat': Scheme(shape=(6,), dtype=torch.float32)}),\n",
       " 'labels': tensor([[3.3631],\n",
       "         [4.4837],\n",
       "         [2.3425],\n",
       "         [5.1279],\n",
       "         [2.6651],\n",
       "         [2.7752],\n",
       "         [1.9474],\n",
       "         [2.2990],\n",
       "         [2.3508],\n",
       "         [4.3913],\n",
       "         [3.2280],\n",
       "         [3.1176],\n",
       "         [3.9551],\n",
       "         [3.8130],\n",
       "         [3.5463],\n",
       "         [2.4272]], dtype=torch.float64)}"
      ]
     },
     "execution_count": 7,
     "metadata": {},
     "output_type": "execute_result"
    }
   ],
   "source": [
    "# Load a dataloader and get the first batch from it\n",
    "dl = dm.train_dataloader()\n",
    "it = iter(dl)\n",
    "batch = next(it)\n",
    "batch"
   ]
  },
  {
   "cell_type": "markdown",
   "metadata": {},
   "source": [
    "---\n",
    "\n",
    "## Launch a training\n",
    "\n",
    "In `goli.cli.train` I have added a `click` CLI command that take a config file as input and build the datamodule. Once I am done with the PL module I will complete the command.\n",
    "\n",
    "The way to use it is quite simple, you need to install goli with `pip install -e .` (omit`-e` in prod) and then:\n",
    "\n",
    "```bash\n",
    "goli train -c my_config.yaml\n",
    "```\n",
    "\n",
    "It's not here for now but usually I \"augment\" the CLI command with various config key you might want to set without having to modify the config file itself:\n",
    "\n",
    "```bash\n",
    "goli train -c my_config.yaml --training-path /home/hadim/data/goli/runs/exp_1\n",
    "```\n",
    "\n",
    "Later the same strategy could be done to launch an hparams tuning run (with a config file as above + a config file defning the search space).\n",
    "\n",
    "```bash\n",
    "goli tune -c my_config.yaml --tune-config tuning_space.yaml\n",
    "```"
   ]
  },
  {
   "cell_type": "code",
   "execution_count": null,
   "metadata": {},
   "outputs": [],
   "source": []
  }
 ],
 "metadata": {
  "kernelspec": {
   "display_name": "Python [conda env:goli]",
   "language": "python",
   "name": "conda-env-goli-py"
  },
  "language_info": {
   "codemirror_mode": {
    "name": "ipython",
    "version": 3
   },
   "file_extension": ".py",
   "mimetype": "text/x-python",
   "name": "python",
   "nbconvert_exporter": "python",
   "pygments_lexer": "ipython3",
   "version": "3.8.6"
  },
  "widgets": {
   "application/vnd.jupyter.widget-state+json": {
    "state": {
     "0dcbd7573b624613b206dcf942aeaafd": {
      "model_module": "@jupyter-widgets/controls",
      "model_module_version": "1.5.0",
      "model_name": "HBoxModel",
      "state": {
       "children": [
        "IPY_MODEL_922679e9fe5d4450a505a84f016829b0",
        "IPY_MODEL_fbfd241863b34d9786d39d3bcb7ad206",
        "IPY_MODEL_8860899226cf47c69410bec0be14303b"
       ],
       "layout": "IPY_MODEL_14ecdef2a7024028980edf68946210e3"
      }
     },
     "14ecdef2a7024028980edf68946210e3": {
      "model_module": "@jupyter-widgets/base",
      "model_module_version": "1.2.0",
      "model_name": "LayoutModel",
      "state": {}
     },
     "1665e214dc6340868f63c9c06ac022b6": {
      "model_module": "@jupyter-widgets/base",
      "model_module_version": "1.2.0",
      "model_name": "LayoutModel",
      "state": {}
     },
     "3d50035de4bd434d8562e3dd047c9aec": {
      "model_module": "@jupyter-widgets/controls",
      "model_module_version": "1.5.0",
      "model_name": "DescriptionStyleModel",
      "state": {
       "description_width": ""
      }
     },
     "7e00e28b9c72467bb4881ea7ec7a6c95": {
      "model_module": "@jupyter-widgets/controls",
      "model_module_version": "1.5.0",
      "model_name": "ProgressStyleModel",
      "state": {
       "description_width": ""
      }
     },
     "8860899226cf47c69410bec0be14303b": {
      "model_module": "@jupyter-widgets/controls",
      "model_module_version": "1.5.0",
      "model_name": "HTMLModel",
      "state": {
       "layout": "IPY_MODEL_1665e214dc6340868f63c9c06ac022b6",
       "style": "IPY_MODEL_3d50035de4bd434d8562e3dd047c9aec",
       "value": " 100/100 [00:02&lt;00:00, 41.37it/s]"
      }
     },
     "922679e9fe5d4450a505a84f016829b0": {
      "model_module": "@jupyter-widgets/controls",
      "model_module_version": "1.5.0",
      "model_name": "HTMLModel",
      "state": {
       "layout": "IPY_MODEL_c48d79f45603482ba6c448b832175dcd",
       "style": "IPY_MODEL_c95abac73dd647eea893095daaf0e920",
       "value": "100%"
      }
     },
     "c48d79f45603482ba6c448b832175dcd": {
      "model_module": "@jupyter-widgets/base",
      "model_module_version": "1.2.0",
      "model_name": "LayoutModel",
      "state": {}
     },
     "c95abac73dd647eea893095daaf0e920": {
      "model_module": "@jupyter-widgets/controls",
      "model_module_version": "1.5.0",
      "model_name": "DescriptionStyleModel",
      "state": {
       "description_width": ""
      }
     },
     "cadcf261dcfa47b88db81559d1a1947d": {
      "model_module": "@jupyter-widgets/base",
      "model_module_version": "1.2.0",
      "model_name": "LayoutModel",
      "state": {}
     },
     "fbfd241863b34d9786d39d3bcb7ad206": {
      "model_module": "@jupyter-widgets/controls",
      "model_module_version": "1.5.0",
      "model_name": "FloatProgressModel",
      "state": {
       "bar_style": "success",
       "layout": "IPY_MODEL_cadcf261dcfa47b88db81559d1a1947d",
       "style": "IPY_MODEL_7e00e28b9c72467bb4881ea7ec7a6c95",
       "value": 100
      }
     }
    },
    "version_major": 2,
    "version_minor": 0
   }
  }
 },
 "nbformat": 4,
 "nbformat_minor": 4
}
