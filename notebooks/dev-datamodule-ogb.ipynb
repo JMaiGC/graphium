{
 "cells": [
  {
   "cell_type": "markdown",
   "metadata": {},
   "source": [
    "```yaml\n",
    "data:\n",
    "  module_type: \"DGLOGBDataModule\"\n",
    "  args:\n",
    "    cache_data_path: null\n",
    "  \n",
    "    dataset_name: \"ogbg-moltox21\"\n",
    "  \n",
    "    batch_size_train_val: 16\n",
    "    batch_size_test: 16\n",
    "  \n",
    "    featurization:\n",
    "      atom_property_list_float: []\n",
    "      atom_property_list_onehot: [\"atomic-number\", \"degree\"]\n",
    "      edge_property_list: [\"ring\", \"bond-type-onehot\"]\n",
    "      add_self_loop: false\n",
    "      use_bonds_weights: false\n",
    "      explicit_H: false\n",
    "```"
   ]
  },
  {
   "cell_type": "code",
   "execution_count": 1,
   "metadata": {},
   "outputs": [
    {
     "name": "stderr",
     "output_type": "stream",
     "text": [
      "Using backend: pytorch\n"
     ]
    }
   ],
   "source": [
    "%load_ext autoreload\n",
    "%autoreload 2\n",
    "\n",
    "import pathlib\n",
    "import functools\n",
    "import tempfile\n",
    "import importlib\n",
    "\n",
    "import numpy as np\n",
    "import pandas as pd\n",
    "import pytorch_lightning as pl\n",
    "import torch\n",
    "import datamol as dm\n",
    "\n",
    "import goli"
   ]
  },
  {
   "cell_type": "code",
   "execution_count": 5,
   "metadata": {},
   "outputs": [
    {
     "name": "stderr",
     "output_type": "stream",
     "text": [
      "2021-04-15 13:59:24.451 | INFO     | goli.data.datamodule:_load_dataset:585 - Loading /home/hadim/.cache/goli/ogb/freesolv/mapping/mol.csv.gz in memory.\n",
      "2021-04-15 13:59:24.456 | INFO     | goli.data.datamodule:_load_dataset:598 - Saving splits to /home/hadim/.cache/goli/ogb/freesolv/split/scaffold.csv.gz\n"
     ]
    },
    {
     "data": {
      "text/plain": [
       "dataset_name: ogbg-molfreesolv\n",
       "name: DGLOGBDataModule\n",
       "len: 642\n",
       "batch_size_train_val: 16\n",
       "batch_size_test: 16\n",
       "num_node_feats: 50\n",
       "num_edge_feats: 5\n",
       "collate_fn: goli_collate_fn\n",
       "featurization:\n",
       "  atom_property_list_float: []\n",
       "  atom_property_list_onehot:\n",
       "  - atomic-number\n",
       "  - degree\n",
       "  edge_property_list:\n",
       "  - bond-type-onehot\n",
       "  add_self_loop: false\n",
       "  use_bonds_weights: false\n",
       "  explicit_H: false"
      ]
     },
     "execution_count": 5,
     "metadata": {},
     "output_type": "execute_result"
    }
   ],
   "source": [
    "dataset_names = [\"ogbg-molhiv\", \"ogbg-molpcba\", \"ogbg-moltox21\", \"ogbg-molfreesolv\"]\n",
    "dataset_name = dataset_names[3]\n",
    "\n",
    "# Setup a temporary cache file. Only for\n",
    "# demo purposes, use a known path in prod.\n",
    "cache_data_path = pathlib.Path(tempfile.mkdtemp()) / \"cache.pkl\"\n",
    "\n",
    "# Setup the featurization\n",
    "featurization_args = {}\n",
    "featurization_args[\"atom_property_list_float\"] = []  # [\"weight\", \"valence\"]\n",
    "featurization_args[\"atom_property_list_onehot\"] = [\"atomic-number\", \"degree\"]\n",
    "featurization_args[\"edge_property_list\"] = [\"bond-type-onehot\"]\n",
    "featurization_args[\"add_self_loop\"] = False\n",
    "featurization_args[\"use_bonds_weights\"] = False\n",
    "featurization_args[\"explicit_H\"] = False\n",
    "\n",
    "# Config for datamodule\n",
    "dm_args = {}\n",
    "dm_args[\"dataset_name\"] = dataset_name\n",
    "dm_args[\"cache_data_path\"] = cache_data_path\n",
    "dm_args[\"featurization\"] = featurization_args\n",
    "dm_args[\"batch_size_train_val\"] = 16\n",
    "dm_args[\"batch_size_test\"] = 16\n",
    "dm_args[\"num_workers\"] = 0\n",
    "dm_args[\"pin_memory\"] = True\n",
    "dm_args[\"featurization_n_jobs\"] = 16\n",
    "dm_args[\"featurization_progress\"] = True\n",
    "\n",
    "ds = goli.data.DGLOGBDataModule(**dm_args)\n",
    "\n",
    "# test metadata\n",
    "assert set(ds.metadata.keys()) == {\n",
    "    \"num tasks\",\n",
    "    \"eval metric\",\n",
    "    \"download_name\",\n",
    "    \"version\",\n",
    "    \"url\",\n",
    "    \"add_inverse_edge\",\n",
    "    \"data type\",\n",
    "    \"has_node_attr\",\n",
    "    \"has_edge_attr\",\n",
    "    \"task type\",\n",
    "    \"num classes\",\n",
    "    \"split\",\n",
    "    \"additional node files\",\n",
    "    \"additional edge files\",\n",
    "    \"binary\",\n",
    "}\n",
    "\n",
    "ds.prepare_data()\n",
    "ds.setup()\n",
    "\n",
    "# test module\n",
    "assert ds.num_edge_feats ==5\n",
    "assert ds.num_node_feats ==50\n",
    "assert len(ds) == 642\n",
    "assert ds.dataset_name == \"ogbg-molfreesolv\"\n",
    "\n",
    "# test dataset\n",
    "assert set(ds.train_ds[0].keys()) == {'smiles', 'indices', 'features', 'labels'}\n",
    "\n",
    "# test batch loader\n",
    "batch = next(iter(ds.train_dataloader()))\n",
    "assert len(batch[\"smiles\"]) == 16\n",
    "assert len(batch[\"labels\"]) == 16\n",
    "assert len(batch[\"indices\"]) == 16"
   ]
  },
  {
   "cell_type": "code",
   "execution_count": 16,
   "metadata": {},
   "outputs": [
    {
     "name": "stderr",
     "output_type": "stream",
     "text": [
      "2021-04-15 14:01:02.872 | INFO     | goli.data.datamodule:prepare_data:270 - Reload data from /tmp/tmp0jwkbcco/cache.pkl.\n"
     ]
    }
   ],
   "source": [
    "# test metadata\n",
    "assert set(ds.metadata.keys()) == {\n",
    "    \"num tasks\",\n",
    "    \"eval metric\",\n",
    "    \"download_name\",\n",
    "    \"version\",\n",
    "    \"url\",\n",
    "    \"add_inverse_edge\",\n",
    "    \"data type\",\n",
    "    \"has_node_attr\",\n",
    "    \"has_edge_attr\",\n",
    "    \"task type\",\n",
    "    \"num classes\",\n",
    "    \"split\",\n",
    "    \"additional node files\",\n",
    "    \"additional edge files\",\n",
    "    \"binary\",\n",
    "}\n",
    "\n",
    "ds.prepare_data()\n",
    "ds.setup()\n",
    "\n",
    "# test module\n",
    "assert ds.num_edge_feats ==5\n",
    "assert ds.num_node_feats ==50\n",
    "assert len(ds) == 642\n",
    "assert ds.dataset_name == \"ogbg-molfreesolv\"\n",
    "\n",
    "# test dataset\n",
    "assert set(ds.train_ds[0].keys()) == {'smiles', 'indices', 'features', 'labels'}\n",
    "\n",
    "# test batch loader\n",
    "batch = next(iter(ds.train_dataloader()))\n",
    "assert len(batch[\"smiles\"]) == 16\n",
    "assert len(batch[\"labels\"]) == 16\n",
    "assert len(batch[\"indices\"]) == 16"
   ]
  },
  {
   "cell_type": "code",
   "execution_count": 21,
   "metadata": {},
   "outputs": [],
   "source": []
  },
  {
   "cell_type": "code",
   "execution_count": 33,
   "metadata": {},
   "outputs": [],
   "source": []
  },
  {
   "cell_type": "code",
   "execution_count": 29,
   "metadata": {},
   "outputs": [],
   "source": [
    "g = batch[\"features\"]"
   ]
  },
  {
   "cell_type": "code",
   "execution_count": 32,
   "metadata": {},
   "outputs": [
    {
     "data": {
      "text/plain": [
       "Graph(num_nodes=132, num_edges=248,\n",
       "      ndata_schemes={'feat': Scheme(shape=(50,), dtype=torch.float32)}\n",
       "      edata_schemes={'feat': Scheme(shape=(5,), dtype=torch.float32)})"
      ]
     },
     "execution_count": 32,
     "metadata": {},
     "output_type": "execute_result"
    }
   ],
   "source": [
    "g."
   ]
  },
  {
   "cell_type": "code",
   "execution_count": 2,
   "metadata": {},
   "outputs": [
    {
     "name": "stderr",
     "output_type": "stream",
     "text": [
      "2021-04-15 13:58:25.705 | INFO     | goli.data.datamodule:_load_dataset:585 - Loading /home/hadim/.cache/goli/ogb/freesolv/mapping/mol.csv.gz in memory.\n",
      "2021-04-15 13:58:25.710 | INFO     | goli.data.datamodule:_load_dataset:598 - Saving splits to /home/hadim/.cache/goli/ogb/freesolv/split/scaffold.csv.gz\n"
     ]
    },
    {
     "data": {
      "text/plain": [
       "dataset_name: ogbg-molfreesolv\n",
       "name: DGLOGBDataModule\n",
       "len: 642\n",
       "batch_size_train_val: 16\n",
       "batch_size_test: 16\n",
       "num_node_feats: 50\n",
       "num_edge_feats: 5\n",
       "collate_fn: goli_collate_fn\n",
       "featurization:\n",
       "  atom_property_list_float: []\n",
       "  atom_property_list_onehot:\n",
       "  - atomic-number\n",
       "  - degree\n",
       "  edge_property_list:\n",
       "  - bond-type-onehot\n",
       "  add_self_loop: false\n",
       "  use_bonds_weights: false\n",
       "  explicit_H: false"
      ]
     },
     "execution_count": 2,
     "metadata": {},
     "output_type": "execute_result"
    }
   ],
   "source": [
    "dataset_names = [\"ogbg-molhiv\", \"ogbg-molpcba\", \"ogbg-moltox21\", \"ogbg-molfreesolv\"]\n",
    "dataset_name = dataset_names[3]\n",
    "\n",
    "# Setup a temporary cache file. Only for\n",
    "# demo purposes, use a known path in prod.\n",
    "cache_data_path = pathlib.Path(tempfile.mkdtemp()) / \"cache.pkl\"\n",
    "\n",
    "# Setup the featurization\n",
    "featurization_args = {}\n",
    "featurization_args[\"atom_property_list_float\"] = []  # [\"weight\", \"valence\"]\n",
    "featurization_args[\"atom_property_list_onehot\"] = [\"atomic-number\", \"degree\"]\n",
    "featurization_args[\"edge_property_list\"] = [\"bond-type-onehot\"]\n",
    "featurization_args[\"add_self_loop\"] = False\n",
    "featurization_args[\"use_bonds_weights\"] = False\n",
    "featurization_args[\"explicit_H\"] = False\n",
    "\n",
    "# Config for datamodule\n",
    "dm_args = {}\n",
    "dm_args[\"dataset_name\"] = dataset_name\n",
    "dm_args[\"cache_data_path\"] = cache_data_path\n",
    "dm_args[\"featurization\"] = featurization_args\n",
    "dm_args[\"batch_size_train_val\"] = 16\n",
    "dm_args[\"batch_size_test\"] = 16\n",
    "dm_args[\"num_workers\"] = 0\n",
    "dm_args[\"pin_memory\"] = True\n",
    "dm_args[\"featurization_n_jobs\"] = 16\n",
    "dm_args[\"featurization_progress\"] = True\n",
    "\n",
    "ds = goli.data.DGLOGBDataModule(**dm_args)\n",
    "ds"
   ]
  },
  {
   "cell_type": "code",
   "execution_count": 3,
   "metadata": {},
   "outputs": [
    {
     "data": {
      "text/plain": [
       "{'num tasks': '1',\n",
       " 'eval metric': 'rmse',\n",
       " 'download_name': 'freesolv',\n",
       " 'version': '1',\n",
       " 'url': 'http://snap.stanford.edu/ogb/data/graphproppred/csv_mol_download/freesolv.zip',\n",
       " 'add_inverse_edge': 'True',\n",
       " 'data type': 'mol',\n",
       " 'has_node_attr': 'True',\n",
       " 'has_edge_attr': 'True',\n",
       " 'task type': 'regression',\n",
       " 'num classes': '-1',\n",
       " 'split': 'scaffold',\n",
       " 'additional node files': 'None',\n",
       " 'additional edge files': 'None',\n",
       " 'binary': 'False'}"
      ]
     },
     "execution_count": 3,
     "metadata": {},
     "output_type": "execute_result"
    }
   ],
   "source": [
    "# Access to the OGB metadata with\n",
    "ds.metadata"
   ]
  },
  {
   "cell_type": "code",
   "execution_count": 4,
   "metadata": {},
   "outputs": [
    {
     "name": "stderr",
     "output_type": "stream",
     "text": [
      "2021-04-15 13:58:27.338 | INFO     | goli.data.datamodule:prepare_data:291 - Prepare dataset with 642 data points.\n"
     ]
    },
    {
     "data": {
      "application/vnd.jupyter.widget-view+json": {
       "model_id": "266bd8b8547b4a7ea6cf3d73c99ec40b",
       "version_major": 2,
       "version_minor": 0
      },
      "text/plain": [
       "  0%|          | 0/642 [00:00<?, ?it/s]"
      ]
     },
     "metadata": {},
     "output_type": "display_data"
    },
    {
     "name": "stderr",
     "output_type": "stream",
     "text": [
      "2021-04-15 13:58:30.234 | INFO     | goli.data.datamodule:prepare_data:326 - Write prepared data to /tmp/tmp0l7sfhr5/cache.pkl\n"
     ]
    }
   ],
   "source": [
    "# Load and prepare the data\n",
    "ds.prepare_data()\n",
    "\n",
    "# Create the split torch datasets\n",
    "ds.setup()"
   ]
  },
  {
   "cell_type": "code",
   "execution_count": null,
   "metadata": {},
   "outputs": [],
   "source": [
    "ds.train_ds[0]"
   ]
  },
  {
   "cell_type": "code",
   "execution_count": null,
   "metadata": {},
   "outputs": [],
   "source": [
    "# Load a dataloader and get the first batch from it\n",
    "dl = ds.train_dataloader()\n",
    "it = iter(dl)\n",
    "batch = next(it)\n",
    "batch"
   ]
  },
  {
   "cell_type": "code",
   "execution_count": 16,
   "metadata": {},
   "outputs": [
    {
     "data": {
      "text/html": [
       "<div>\n",
       "<style scoped>\n",
       "    .dataframe tbody tr th:only-of-type {\n",
       "        vertical-align: middle;\n",
       "    }\n",
       "\n",
       "    .dataframe tbody tr th {\n",
       "        vertical-align: top;\n",
       "    }\n",
       "\n",
       "    .dataframe thead th {\n",
       "        text-align: right;\n",
       "    }\n",
       "</style>\n",
       "<table border=\"1\" class=\"dataframe\">\n",
       "  <thead>\n",
       "    <tr style=\"text-align: right;\">\n",
       "      <th>Unnamed: 0</th>\n",
       "      <th>num tasks</th>\n",
       "      <th>eval metric</th>\n",
       "      <th>download_name</th>\n",
       "      <th>version</th>\n",
       "      <th>url</th>\n",
       "      <th>add_inverse_edge</th>\n",
       "      <th>data type</th>\n",
       "      <th>has_node_attr</th>\n",
       "      <th>has_edge_attr</th>\n",
       "      <th>task type</th>\n",
       "      <th>num classes</th>\n",
       "      <th>split</th>\n",
       "      <th>additional node files</th>\n",
       "      <th>additional edge files</th>\n",
       "      <th>binary</th>\n",
       "    </tr>\n",
       "  </thead>\n",
       "  <tbody>\n",
       "    <tr>\n",
       "      <th>ogbg-molbace</th>\n",
       "      <td>1</td>\n",
       "      <td>rocauc</td>\n",
       "      <td>bace</td>\n",
       "      <td>1</td>\n",
       "      <td>http://snap.stanford.edu/ogb/data/graphproppre...</td>\n",
       "      <td>True</td>\n",
       "      <td>mol</td>\n",
       "      <td>True</td>\n",
       "      <td>True</td>\n",
       "      <td>binary classification</td>\n",
       "      <td>2</td>\n",
       "      <td>scaffold</td>\n",
       "      <td>None</td>\n",
       "      <td>None</td>\n",
       "      <td>False</td>\n",
       "    </tr>\n",
       "    <tr>\n",
       "      <th>ogbg-molbbbp</th>\n",
       "      <td>1</td>\n",
       "      <td>rocauc</td>\n",
       "      <td>bbbp</td>\n",
       "      <td>1</td>\n",
       "      <td>http://snap.stanford.edu/ogb/data/graphproppre...</td>\n",
       "      <td>True</td>\n",
       "      <td>mol</td>\n",
       "      <td>True</td>\n",
       "      <td>True</td>\n",
       "      <td>binary classification</td>\n",
       "      <td>2</td>\n",
       "      <td>scaffold</td>\n",
       "      <td>None</td>\n",
       "      <td>None</td>\n",
       "      <td>False</td>\n",
       "    </tr>\n",
       "    <tr>\n",
       "      <th>ogbg-molclintox</th>\n",
       "      <td>2</td>\n",
       "      <td>rocauc</td>\n",
       "      <td>clintox</td>\n",
       "      <td>1</td>\n",
       "      <td>http://snap.stanford.edu/ogb/data/graphproppre...</td>\n",
       "      <td>True</td>\n",
       "      <td>mol</td>\n",
       "      <td>True</td>\n",
       "      <td>True</td>\n",
       "      <td>binary classification</td>\n",
       "      <td>2</td>\n",
       "      <td>scaffold</td>\n",
       "      <td>None</td>\n",
       "      <td>None</td>\n",
       "      <td>False</td>\n",
       "    </tr>\n",
       "    <tr>\n",
       "      <th>ogbg-molmuv</th>\n",
       "      <td>17</td>\n",
       "      <td>ap</td>\n",
       "      <td>muv</td>\n",
       "      <td>1</td>\n",
       "      <td>http://snap.stanford.edu/ogb/data/graphproppre...</td>\n",
       "      <td>True</td>\n",
       "      <td>mol</td>\n",
       "      <td>True</td>\n",
       "      <td>True</td>\n",
       "      <td>binary classification</td>\n",
       "      <td>2</td>\n",
       "      <td>scaffold</td>\n",
       "      <td>None</td>\n",
       "      <td>None</td>\n",
       "      <td>False</td>\n",
       "    </tr>\n",
       "    <tr>\n",
       "      <th>ogbg-molpcba</th>\n",
       "      <td>128</td>\n",
       "      <td>ap</td>\n",
       "      <td>pcba</td>\n",
       "      <td>1</td>\n",
       "      <td>http://snap.stanford.edu/ogb/data/graphproppre...</td>\n",
       "      <td>True</td>\n",
       "      <td>mol</td>\n",
       "      <td>True</td>\n",
       "      <td>True</td>\n",
       "      <td>binary classification</td>\n",
       "      <td>2</td>\n",
       "      <td>scaffold</td>\n",
       "      <td>None</td>\n",
       "      <td>None</td>\n",
       "      <td>False</td>\n",
       "    </tr>\n",
       "    <tr>\n",
       "      <th>ogbg-molsider</th>\n",
       "      <td>27</td>\n",
       "      <td>rocauc</td>\n",
       "      <td>sider</td>\n",
       "      <td>1</td>\n",
       "      <td>http://snap.stanford.edu/ogb/data/graphproppre...</td>\n",
       "      <td>True</td>\n",
       "      <td>mol</td>\n",
       "      <td>True</td>\n",
       "      <td>True</td>\n",
       "      <td>binary classification</td>\n",
       "      <td>2</td>\n",
       "      <td>scaffold</td>\n",
       "      <td>None</td>\n",
       "      <td>None</td>\n",
       "      <td>False</td>\n",
       "    </tr>\n",
       "    <tr>\n",
       "      <th>ogbg-moltox21</th>\n",
       "      <td>12</td>\n",
       "      <td>rocauc</td>\n",
       "      <td>tox21</td>\n",
       "      <td>1</td>\n",
       "      <td>http://snap.stanford.edu/ogb/data/graphproppre...</td>\n",
       "      <td>True</td>\n",
       "      <td>mol</td>\n",
       "      <td>True</td>\n",
       "      <td>True</td>\n",
       "      <td>binary classification</td>\n",
       "      <td>2</td>\n",
       "      <td>scaffold</td>\n",
       "      <td>None</td>\n",
       "      <td>None</td>\n",
       "      <td>False</td>\n",
       "    </tr>\n",
       "    <tr>\n",
       "      <th>ogbg-moltoxcast</th>\n",
       "      <td>617</td>\n",
       "      <td>rocauc</td>\n",
       "      <td>toxcast</td>\n",
       "      <td>1</td>\n",
       "      <td>http://snap.stanford.edu/ogb/data/graphproppre...</td>\n",
       "      <td>True</td>\n",
       "      <td>mol</td>\n",
       "      <td>True</td>\n",
       "      <td>True</td>\n",
       "      <td>binary classification</td>\n",
       "      <td>2</td>\n",
       "      <td>scaffold</td>\n",
       "      <td>None</td>\n",
       "      <td>None</td>\n",
       "      <td>False</td>\n",
       "    </tr>\n",
       "    <tr>\n",
       "      <th>ogbg-molhiv</th>\n",
       "      <td>1</td>\n",
       "      <td>rocauc</td>\n",
       "      <td>hiv</td>\n",
       "      <td>1</td>\n",
       "      <td>http://snap.stanford.edu/ogb/data/graphproppre...</td>\n",
       "      <td>True</td>\n",
       "      <td>mol</td>\n",
       "      <td>True</td>\n",
       "      <td>True</td>\n",
       "      <td>binary classification</td>\n",
       "      <td>2</td>\n",
       "      <td>scaffold</td>\n",
       "      <td>None</td>\n",
       "      <td>None</td>\n",
       "      <td>False</td>\n",
       "    </tr>\n",
       "    <tr>\n",
       "      <th>ogbg-molesol</th>\n",
       "      <td>1</td>\n",
       "      <td>rmse</td>\n",
       "      <td>esol</td>\n",
       "      <td>1</td>\n",
       "      <td>http://snap.stanford.edu/ogb/data/graphproppre...</td>\n",
       "      <td>True</td>\n",
       "      <td>mol</td>\n",
       "      <td>True</td>\n",
       "      <td>True</td>\n",
       "      <td>regression</td>\n",
       "      <td>-1</td>\n",
       "      <td>scaffold</td>\n",
       "      <td>None</td>\n",
       "      <td>None</td>\n",
       "      <td>False</td>\n",
       "    </tr>\n",
       "    <tr>\n",
       "      <th>ogbg-molfreesolv</th>\n",
       "      <td>1</td>\n",
       "      <td>rmse</td>\n",
       "      <td>freesolv</td>\n",
       "      <td>1</td>\n",
       "      <td>http://snap.stanford.edu/ogb/data/graphproppre...</td>\n",
       "      <td>True</td>\n",
       "      <td>mol</td>\n",
       "      <td>True</td>\n",
       "      <td>True</td>\n",
       "      <td>regression</td>\n",
       "      <td>-1</td>\n",
       "      <td>scaffold</td>\n",
       "      <td>None</td>\n",
       "      <td>None</td>\n",
       "      <td>False</td>\n",
       "    </tr>\n",
       "    <tr>\n",
       "      <th>ogbg-mollipo</th>\n",
       "      <td>1</td>\n",
       "      <td>rmse</td>\n",
       "      <td>lipophilicity</td>\n",
       "      <td>1</td>\n",
       "      <td>http://snap.stanford.edu/ogb/data/graphproppre...</td>\n",
       "      <td>True</td>\n",
       "      <td>mol</td>\n",
       "      <td>True</td>\n",
       "      <td>True</td>\n",
       "      <td>regression</td>\n",
       "      <td>-1</td>\n",
       "      <td>scaffold</td>\n",
       "      <td>None</td>\n",
       "      <td>None</td>\n",
       "      <td>False</td>\n",
       "    </tr>\n",
       "    <tr>\n",
       "      <th>ogbg-molchembl</th>\n",
       "      <td>1310</td>\n",
       "      <td>rocauc</td>\n",
       "      <td>chembl</td>\n",
       "      <td>1</td>\n",
       "      <td>http://snap.stanford.edu/ogb/data/graphproppre...</td>\n",
       "      <td>True</td>\n",
       "      <td>mol</td>\n",
       "      <td>True</td>\n",
       "      <td>True</td>\n",
       "      <td>binary classification</td>\n",
       "      <td>2</td>\n",
       "      <td>scaffold</td>\n",
       "      <td>None</td>\n",
       "      <td>None</td>\n",
       "      <td>False</td>\n",
       "    </tr>\n",
       "  </tbody>\n",
       "</table>\n",
       "</div>"
      ],
      "text/plain": [
       "Unnamed: 0       num tasks eval metric  download_name version  \\\n",
       "ogbg-molbace             1      rocauc           bace       1   \n",
       "ogbg-molbbbp             1      rocauc           bbbp       1   \n",
       "ogbg-molclintox          2      rocauc        clintox       1   \n",
       "ogbg-molmuv             17          ap            muv       1   \n",
       "ogbg-molpcba           128          ap           pcba       1   \n",
       "ogbg-molsider           27      rocauc          sider       1   \n",
       "ogbg-moltox21           12      rocauc          tox21       1   \n",
       "ogbg-moltoxcast        617      rocauc        toxcast       1   \n",
       "ogbg-molhiv              1      rocauc            hiv       1   \n",
       "ogbg-molesol             1        rmse           esol       1   \n",
       "ogbg-molfreesolv         1        rmse       freesolv       1   \n",
       "ogbg-mollipo             1        rmse  lipophilicity       1   \n",
       "ogbg-molchembl        1310      rocauc         chembl       1   \n",
       "\n",
       "Unnamed: 0                                                      url  \\\n",
       "ogbg-molbace      http://snap.stanford.edu/ogb/data/graphproppre...   \n",
       "ogbg-molbbbp      http://snap.stanford.edu/ogb/data/graphproppre...   \n",
       "ogbg-molclintox   http://snap.stanford.edu/ogb/data/graphproppre...   \n",
       "ogbg-molmuv       http://snap.stanford.edu/ogb/data/graphproppre...   \n",
       "ogbg-molpcba      http://snap.stanford.edu/ogb/data/graphproppre...   \n",
       "ogbg-molsider     http://snap.stanford.edu/ogb/data/graphproppre...   \n",
       "ogbg-moltox21     http://snap.stanford.edu/ogb/data/graphproppre...   \n",
       "ogbg-moltoxcast   http://snap.stanford.edu/ogb/data/graphproppre...   \n",
       "ogbg-molhiv       http://snap.stanford.edu/ogb/data/graphproppre...   \n",
       "ogbg-molesol      http://snap.stanford.edu/ogb/data/graphproppre...   \n",
       "ogbg-molfreesolv  http://snap.stanford.edu/ogb/data/graphproppre...   \n",
       "ogbg-mollipo      http://snap.stanford.edu/ogb/data/graphproppre...   \n",
       "ogbg-molchembl    http://snap.stanford.edu/ogb/data/graphproppre...   \n",
       "\n",
       "Unnamed: 0       add_inverse_edge data type has_node_attr has_edge_attr  \\\n",
       "ogbg-molbace                 True       mol          True          True   \n",
       "ogbg-molbbbp                 True       mol          True          True   \n",
       "ogbg-molclintox              True       mol          True          True   \n",
       "ogbg-molmuv                  True       mol          True          True   \n",
       "ogbg-molpcba                 True       mol          True          True   \n",
       "ogbg-molsider                True       mol          True          True   \n",
       "ogbg-moltox21                True       mol          True          True   \n",
       "ogbg-moltoxcast              True       mol          True          True   \n",
       "ogbg-molhiv                  True       mol          True          True   \n",
       "ogbg-molesol                 True       mol          True          True   \n",
       "ogbg-molfreesolv             True       mol          True          True   \n",
       "ogbg-mollipo                 True       mol          True          True   \n",
       "ogbg-molchembl               True       mol          True          True   \n",
       "\n",
       "Unnamed: 0                    task type num classes     split  \\\n",
       "ogbg-molbace      binary classification           2  scaffold   \n",
       "ogbg-molbbbp      binary classification           2  scaffold   \n",
       "ogbg-molclintox   binary classification           2  scaffold   \n",
       "ogbg-molmuv       binary classification           2  scaffold   \n",
       "ogbg-molpcba      binary classification           2  scaffold   \n",
       "ogbg-molsider     binary classification           2  scaffold   \n",
       "ogbg-moltox21     binary classification           2  scaffold   \n",
       "ogbg-moltoxcast   binary classification           2  scaffold   \n",
       "ogbg-molhiv       binary classification           2  scaffold   \n",
       "ogbg-molesol                 regression          -1  scaffold   \n",
       "ogbg-molfreesolv             regression          -1  scaffold   \n",
       "ogbg-mollipo                 regression          -1  scaffold   \n",
       "ogbg-molchembl    binary classification           2  scaffold   \n",
       "\n",
       "Unnamed: 0       additional node files additional edge files binary  \n",
       "ogbg-molbace                      None                  None  False  \n",
       "ogbg-molbbbp                      None                  None  False  \n",
       "ogbg-molclintox                   None                  None  False  \n",
       "ogbg-molmuv                       None                  None  False  \n",
       "ogbg-molpcba                      None                  None  False  \n",
       "ogbg-molsider                     None                  None  False  \n",
       "ogbg-moltox21                     None                  None  False  \n",
       "ogbg-moltoxcast                   None                  None  False  \n",
       "ogbg-molhiv                       None                  None  False  \n",
       "ogbg-molesol                      None                  None  False  \n",
       "ogbg-molfreesolv                  None                  None  False  \n",
       "ogbg-mollipo                      None                  None  False  \n",
       "ogbg-molchembl                    None                  None  False  "
      ]
     },
     "execution_count": 16,
     "metadata": {},
     "output_type": "execute_result"
    }
   ],
   "source": [
    "ds._get_ogb_metadata()"
   ]
  },
  {
   "cell_type": "code",
   "execution_count": null,
   "metadata": {},
   "outputs": [],
   "source": []
  }
 ],
 "metadata": {
  "kernelspec": {
   "display_name": "Python [conda env:goli]",
   "language": "python",
   "name": "conda-env-goli-py"
  },
  "language_info": {
   "codemirror_mode": {
    "name": "ipython",
    "version": 3
   },
   "file_extension": ".py",
   "mimetype": "text/x-python",
   "name": "python",
   "nbconvert_exporter": "python",
   "pygments_lexer": "ipython3",
   "version": "3.8.6"
  },
  "widgets": {
   "application/vnd.jupyter.widget-state+json": {
    "state": {
     "13ee0c3c1a2242c3b64ac883a999c7bc": {
      "model_module": "@jupyter-widgets/controls",
      "model_module_version": "1.5.0",
      "model_name": "DescriptionStyleModel",
      "state": {
       "description_width": ""
      }
     },
     "266bd8b8547b4a7ea6cf3d73c99ec40b": {
      "model_module": "@jupyter-widgets/controls",
      "model_module_version": "1.5.0",
      "model_name": "HBoxModel",
      "state": {
       "children": [
        "IPY_MODEL_accb0973f6bf4ffc93ee08261a167150",
        "IPY_MODEL_7760d889b4e74bd8beab4f090db00651",
        "IPY_MODEL_3fb297d1a0ae4bbdb444e7f3ed82d160"
       ],
       "layout": "IPY_MODEL_425608106e54489e9095690870a05e30"
      }
     },
     "2e99b8ef30e046c59de8504a207b1608": {
      "model_module": "@jupyter-widgets/base",
      "model_module_version": "1.2.0",
      "model_name": "LayoutModel",
      "state": {}
     },
     "3fb297d1a0ae4bbdb444e7f3ed82d160": {
      "model_module": "@jupyter-widgets/controls",
      "model_module_version": "1.5.0",
      "model_name": "HTMLModel",
      "state": {
       "layout": "IPY_MODEL_f7080b15b31143d6855dd92c2f5147a9",
       "style": "IPY_MODEL_13ee0c3c1a2242c3b64ac883a999c7bc",
       "value": " 642/642 [00:02&lt;00:00, 621.10it/s]"
      }
     },
     "41d34e1ac5b143c5b723739fd4d88074": {
      "model_module": "@jupyter-widgets/controls",
      "model_module_version": "1.5.0",
      "model_name": "FloatProgressModel",
      "state": {
       "bar_style": "success",
       "layout": "IPY_MODEL_d286e38a6ef74817ab35cdb93030b86a",
       "max": 642,
       "style": "IPY_MODEL_ee74a6b60e504b309a06a882ae22a7ba",
       "value": 642
      }
     },
     "425608106e54489e9095690870a05e30": {
      "model_module": "@jupyter-widgets/base",
      "model_module_version": "1.2.0",
      "model_name": "LayoutModel",
      "state": {}
     },
     "4dc4519f2d9b45c0b84d0f3391d4a91d": {
      "model_module": "@jupyter-widgets/controls",
      "model_module_version": "1.5.0",
      "model_name": "HTMLModel",
      "state": {
       "layout": "IPY_MODEL_2e99b8ef30e046c59de8504a207b1608",
       "style": "IPY_MODEL_890e68136fee4d0cb1bd1ce94eedfe3d",
       "value": " 642/642 [00:00&lt;00:00, 1468.14it/s]"
      }
     },
     "4deb575a70f7495b87a305c58320b253": {
      "model_module": "@jupyter-widgets/controls",
      "model_module_version": "1.5.0",
      "model_name": "ProgressStyleModel",
      "state": {
       "description_width": ""
      }
     },
     "58663f80f5e84eb88bb4c492ef977278": {
      "model_module": "@jupyter-widgets/base",
      "model_module_version": "1.2.0",
      "model_name": "LayoutModel",
      "state": {}
     },
     "5caaa663d8824e6e9b513695bbfa0d0e": {
      "model_module": "@jupyter-widgets/base",
      "model_module_version": "1.2.0",
      "model_name": "LayoutModel",
      "state": {}
     },
     "6c6b4b704c824d79be04e9be16b76a75": {
      "model_module": "@jupyter-widgets/controls",
      "model_module_version": "1.5.0",
      "model_name": "HTMLModel",
      "state": {
       "layout": "IPY_MODEL_5caaa663d8824e6e9b513695bbfa0d0e",
       "style": "IPY_MODEL_d899b8c906dc494abcdcc9135dd5e268",
       "value": "100%"
      }
     },
     "7760d889b4e74bd8beab4f090db00651": {
      "model_module": "@jupyter-widgets/controls",
      "model_module_version": "1.5.0",
      "model_name": "FloatProgressModel",
      "state": {
       "bar_style": "success",
       "layout": "IPY_MODEL_c0ff7b2693654850bf158de2c801bc0a",
       "max": 642,
       "style": "IPY_MODEL_4deb575a70f7495b87a305c58320b253",
       "value": 642
      }
     },
     "7e6836e9daee466681028fa5cfff8d5b": {
      "model_module": "@jupyter-widgets/base",
      "model_module_version": "1.2.0",
      "model_name": "LayoutModel",
      "state": {}
     },
     "811f3943fa504ae8b9d299f0ef2c5c1a": {
      "model_module": "@jupyter-widgets/controls",
      "model_module_version": "1.5.0",
      "model_name": "DescriptionStyleModel",
      "state": {
       "description_width": ""
      }
     },
     "890e68136fee4d0cb1bd1ce94eedfe3d": {
      "model_module": "@jupyter-widgets/controls",
      "model_module_version": "1.5.0",
      "model_name": "DescriptionStyleModel",
      "state": {
       "description_width": ""
      }
     },
     "accb0973f6bf4ffc93ee08261a167150": {
      "model_module": "@jupyter-widgets/controls",
      "model_module_version": "1.5.0",
      "model_name": "HTMLModel",
      "state": {
       "layout": "IPY_MODEL_58663f80f5e84eb88bb4c492ef977278",
       "style": "IPY_MODEL_811f3943fa504ae8b9d299f0ef2c5c1a",
       "value": "100%"
      }
     },
     "bc76118cc50043da8bd8c1b0f52d7a08": {
      "model_module": "@jupyter-widgets/controls",
      "model_module_version": "1.5.0",
      "model_name": "HBoxModel",
      "state": {
       "children": [
        "IPY_MODEL_6c6b4b704c824d79be04e9be16b76a75",
        "IPY_MODEL_41d34e1ac5b143c5b723739fd4d88074",
        "IPY_MODEL_4dc4519f2d9b45c0b84d0f3391d4a91d"
       ],
       "layout": "IPY_MODEL_7e6836e9daee466681028fa5cfff8d5b"
      }
     },
     "c0ff7b2693654850bf158de2c801bc0a": {
      "model_module": "@jupyter-widgets/base",
      "model_module_version": "1.2.0",
      "model_name": "LayoutModel",
      "state": {}
     },
     "d286e38a6ef74817ab35cdb93030b86a": {
      "model_module": "@jupyter-widgets/base",
      "model_module_version": "1.2.0",
      "model_name": "LayoutModel",
      "state": {}
     },
     "d899b8c906dc494abcdcc9135dd5e268": {
      "model_module": "@jupyter-widgets/controls",
      "model_module_version": "1.5.0",
      "model_name": "DescriptionStyleModel",
      "state": {
       "description_width": ""
      }
     },
     "ee74a6b60e504b309a06a882ae22a7ba": {
      "model_module": "@jupyter-widgets/controls",
      "model_module_version": "1.5.0",
      "model_name": "ProgressStyleModel",
      "state": {
       "description_width": ""
      }
     },
     "f7080b15b31143d6855dd92c2f5147a9": {
      "model_module": "@jupyter-widgets/base",
      "model_module_version": "1.2.0",
      "model_name": "LayoutModel",
      "state": {}
     }
    },
    "version_major": 2,
    "version_minor": 0
   }
  }
 },
 "nbformat": 4,
 "nbformat_minor": 4
}
