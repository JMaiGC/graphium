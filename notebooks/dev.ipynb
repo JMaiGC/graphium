{
 "cells": [
  {
   "cell_type": "code",
   "execution_count": 1,
   "metadata": {},
   "outputs": [
    {
     "name": "stderr",
     "output_type": "stream",
     "text": [
      "Using backend: pytorch\n",
      "/home/hadim/local/conda/envs/goli/lib/python3.8/site-packages/umap/__init__.py:9: UserWarning: Tensorflow not installed; ParametricUMAP will be unavailable\n",
      "  warn(\"Tensorflow not installed; ParametricUMAP will be unavailable\")\n"
     ]
    }
   ],
   "source": [
    "%load_ext autoreload\n",
    "%autoreload 2\n",
    "\n",
    "import pathlib\n",
    "import functools\n",
    "import tempfile\n",
    "\n",
    "import numpy as np\n",
    "import pytorch_lightning as pl\n",
    "import torch\n",
    "import datamol as dm\n",
    "\n",
    "import goli"
   ]
  },
  {
   "cell_type": "code",
   "execution_count": 2,
   "metadata": {},
   "outputs": [
    {
     "data": {
      "text/html": [
       "<div>\n",
       "<style scoped>\n",
       "    .dataframe tbody tr th:only-of-type {\n",
       "        vertical-align: middle;\n",
       "    }\n",
       "\n",
       "    .dataframe tbody tr th {\n",
       "        vertical-align: top;\n",
       "    }\n",
       "\n",
       "    .dataframe thead th {\n",
       "        text-align: right;\n",
       "    }\n",
       "</style>\n",
       "<table border=\"1\" class=\"dataframe\">\n",
       "  <thead>\n",
       "    <tr style=\"text-align: right;\">\n",
       "      <th></th>\n",
       "      <th>SMILES</th>\n",
       "      <th>SA</th>\n",
       "      <th>logp</th>\n",
       "      <th>score</th>\n",
       "    </tr>\n",
       "  </thead>\n",
       "  <tbody>\n",
       "    <tr>\n",
       "      <th>0</th>\n",
       "      <td>CCc1ccc(C(=O)/C(=C(/S)NC2CC2)[n+]2ccc(CC)cc2)cc1</td>\n",
       "      <td>2.775189</td>\n",
       "      <td>3.7897</td>\n",
       "      <td>6.564889</td>\n",
       "    </tr>\n",
       "    <tr>\n",
       "      <th>1</th>\n",
       "      <td>C=CCOc1ccc(C(F)(F)F)cc1C(=O)NC[C@H]1CCC[C@H]1O</td>\n",
       "      <td>3.071498</td>\n",
       "      <td>3.1610</td>\n",
       "      <td>6.232498</td>\n",
       "    </tr>\n",
       "    <tr>\n",
       "      <th>2</th>\n",
       "      <td>COc1cc(OC)cc([C@@H](NC(=O)Cn2ccccc2=O)c2nccn2C)c1</td>\n",
       "      <td>2.840009</td>\n",
       "      <td>1.5048</td>\n",
       "      <td>4.344809</td>\n",
       "    </tr>\n",
       "    <tr>\n",
       "      <th>3</th>\n",
       "      <td>CN1CCC[C@@]2(CCN(C(=O)CN3CCNC(=O)C3)C2)C1=O</td>\n",
       "      <td>3.605168</td>\n",
       "      <td>-1.1109</td>\n",
       "      <td>2.494268</td>\n",
       "    </tr>\n",
       "    <tr>\n",
       "      <th>4</th>\n",
       "      <td>COc1ccc(Cl)cc1NC(=O)c1nn(C)cc1[N+](=O)[O-]</td>\n",
       "      <td>2.132665</td>\n",
       "      <td>2.2426</td>\n",
       "      <td>4.375265</td>\n",
       "    </tr>\n",
       "  </tbody>\n",
       "</table>\n",
       "</div>"
      ],
      "text/plain": [
       "                                              SMILES        SA    logp  \\\n",
       "0   CCc1ccc(C(=O)/C(=C(/S)NC2CC2)[n+]2ccc(CC)cc2)cc1  2.775189  3.7897   \n",
       "1     C=CCOc1ccc(C(F)(F)F)cc1C(=O)NC[C@H]1CCC[C@H]1O  3.071498  3.1610   \n",
       "2  COc1cc(OC)cc([C@@H](NC(=O)Cn2ccccc2=O)c2nccn2C)c1  2.840009  1.5048   \n",
       "3        CN1CCC[C@@]2(CCN(C(=O)CN3CCNC(=O)C3)C2)C1=O  3.605168 -1.1109   \n",
       "4         COc1ccc(Cl)cc1NC(=O)c1nn(C)cc1[N+](=O)[O-]  2.132665  2.2426   \n",
       "\n",
       "      score  \n",
       "0  6.564889  \n",
       "1  6.232498  \n",
       "2  4.344809  \n",
       "3  2.494268  \n",
       "4  4.375265  "
      ]
     },
     "execution_count": 2,
     "metadata": {},
     "output_type": "execute_result"
    }
   ],
   "source": [
    "# Load a default config\n",
    "config = goli.load_config(name=\"micro_zinc_default\")\n",
    "\n",
    "# Setup a temporary cache file. Only for\n",
    "# demo purposes, use a known path in prod.\n",
    "cache_data_path = pathlib.Path(tempfile.mkdtemp()) / \"cache.pkl\"\n",
    "cache_data_path = None\n",
    "\n",
    "# Load a dataframe\n",
    "df = goli.data.load_tiny_zinc()\n",
    "df.head()"
   ]
  },
  {
   "cell_type": "code",
   "execution_count": 3,
   "metadata": {},
   "outputs": [
    {
     "data": {
      "text/plain": [
       "name: DGLFromSmilesDataModule\n",
       "len: 100\n",
       "train_val_batch_size: 16\n",
       "test_batch_size: 16\n",
       "num_node_feats: 50\n",
       "num_edge_feats: 6\n",
       "collate_fn: goli_collate_fn\n",
       "featurization:\n",
       "  atom_property_list_float: []\n",
       "  atom_property_list_onehot:\n",
       "  - atomic-number\n",
       "  - degree\n",
       "  edge_property_list:\n",
       "  - ring\n",
       "  - bond-type-onehot\n",
       "  add_self_loop: false\n",
       "  use_bonds_weights: false\n",
       "  explicit_H: false"
      ]
     },
     "execution_count": 3,
     "metadata": {},
     "output_type": "execute_result"
    }
   ],
   "source": [
    "# Setup a temporary cache file. Only for\n",
    "# demo purposes, use a known path in prod.\n",
    "cache_data_path = pathlib.Path(tempfile.mkdtemp()) / \"cache.pkl\"\n",
    "\n",
    "# Load a dataframe\n",
    "df = goli.data.load_tiny_zinc()\n",
    "df.head()\n",
    "\n",
    "# Config for datamodule\n",
    "dm_args = dict(config.data.args)\n",
    "dm_args[\"df\"] = df\n",
    "dm_args[\"cache_data_path\"] = cache_data_path\n",
    "dm_args[\"featurization_n_jobs\"] = 0\n",
    "dm_args[\"featurization_progress\"] = True\n",
    "\n",
    "dm = goli.data.DGLFromSmilesDataModule(**dm_args)\n",
    "dm"
   ]
  },
  {
   "cell_type": "code",
   "execution_count": 4,
   "metadata": {},
   "outputs": [
    {
     "name": "stderr",
     "output_type": "stream",
     "text": [
      "2021-03-17 09:56:22.856 | INFO     | goli.data.datamodule:prepare_data:174 - Prepare dataset with 100 data points.\n"
     ]
    },
    {
     "data": {
      "application/vnd.jupyter.widget-view+json": {
       "model_id": "37e68a72719c400fa49910fd1febd9ec",
       "version_major": 2,
       "version_minor": 0
      },
      "text/plain": [
       "  0%|          | 0/100 [00:00<?, ?it/s]"
      ]
     },
     "metadata": {},
     "output_type": "display_data"
    },
    {
     "name": "stderr",
     "output_type": "stream",
     "text": [
      "2021-03-17 09:56:23.399 | INFO     | goli.data.datamodule:prepare_data:206 - Write prepared data to /tmp/tmpon2zdfcq/cache.pkl\n"
     ]
    }
   ],
   "source": [
    "# Load and prepare the data\n",
    "dm.prepare_data()\n",
    "\n",
    "# Create the split torch datasets\n",
    "dm.setup()"
   ]
  },
  {
   "cell_type": "code",
   "execution_count": 5,
   "metadata": {},
   "outputs": [
    {
     "data": {
      "text/plain": [
       "{'smiles': ['COC(=O)c1cncc(C(=O)Nc2cccc(COC(C)C)c2)c1',\n",
       "  'O=C(Nc1ccnn1Cc1cccc(Cl)c1)C1CCN(S(=O)(=O)c2ccccc2F)CC1',\n",
       "  'Cc1ccc(C(=O)N2CCC[C@@H](C(=O)N(C)CC(=O)NC(C)C)C2)cc1',\n",
       "  'COc1cc(F)cc(CNC(=O)[C@H]2CCCN2C(=O)Cc2ccccc2)c1',\n",
       "  'CC(C)(C)OC(=O)N[C@H]1CCN(c2cc(-c3cccs3)n[nH]2)C1',\n",
       "  'Cc1cc(CC(=O)N[C@H](c2ccc(F)cc2)C2CCC2)no1',\n",
       "  'CCc1cc(C#N)c(NC(=O)CCC(=O)N(CC)CC)s1',\n",
       "  'c1cc2c(cc1N[C@@H]1CCOC3(CCC3)C1)CCC2',\n",
       "  'COCC[NH+](C)Cc1c(C)cc(C)c(C(C)=O)c1C',\n",
       "  'Cc1ccc(-c2nc3ccc(C)c(C)c3[nH]2)nc1',\n",
       "  'COc1cc(OC)c([C@@H](C)[NH2+]C[C@H](O)C2CCOCC2)cc1Cl',\n",
       "  'Cc1ccsc1C(=O)NCCNC(=O)c1ccco1',\n",
       "  'CC#CCCC(=O)Nc1cccc2c1C(=O)c1ccccc1C2=O',\n",
       "  'Cc1n[nH]c(SCC(=O)Nc2cccc(C#Cc3ccccn3)c2)n1',\n",
       "  'C[C@@H](C#N)Sc1nnc(C23CC4CC(CC(C4)C2)C3)o1',\n",
       "  'CCc1ccc(C(=O)/C(=C(/S)NC2CC2)[n+]2ccc(CC)cc2)cc1'],\n",
       " 'features': Graph(num_nodes=367, num_edges=788,\n",
       "       ndata_schemes={'feat': Scheme(shape=(50,), dtype=torch.float32)}\n",
       "       edata_schemes={'feat': Scheme(shape=(6,), dtype=torch.float32)}),\n",
       " 'labels': tensor([[2.0442],\n",
       "         [2.2964],\n",
       "         [2.4929],\n",
       "         [2.4272],\n",
       "         [3.2280],\n",
       "         [2.6651],\n",
       "         [2.4936],\n",
       "         [3.3631],\n",
       "         [3.9551],\n",
       "         [2.3425],\n",
       "         [3.9610],\n",
       "         [2.1146],\n",
       "         [2.2990],\n",
       "         [2.6850],\n",
       "         [4.5769],\n",
       "         [2.7752]], dtype=torch.float64)}"
      ]
     },
     "execution_count": 5,
     "metadata": {},
     "output_type": "execute_result"
    }
   ],
   "source": [
    "# Load a dataloader and get the first batch from it\n",
    "dl = dm.train_dataloader()\n",
    "it = iter(dl)\n",
    "batch = next(it)\n",
    "batch"
   ]
  },
  {
   "cell_type": "code",
   "execution_count": null,
   "metadata": {},
   "outputs": [],
   "source": []
  }
 ],
 "metadata": {
  "kernelspec": {
   "display_name": "Python [conda env:goli]",
   "language": "python",
   "name": "conda-env-goli-py"
  },
  "language_info": {
   "codemirror_mode": {
    "name": "ipython",
    "version": 3
   },
   "file_extension": ".py",
   "mimetype": "text/x-python",
   "name": "python",
   "nbconvert_exporter": "python",
   "pygments_lexer": "ipython3",
   "version": "3.8.6"
  },
  "widgets": {
   "application/vnd.jupyter.widget-state+json": {
    "state": {
     "295f9f6a4a064a12929b72893870eec8": {
      "model_module": "@jupyter-widgets/controls",
      "model_module_version": "1.5.0",
      "model_name": "DescriptionStyleModel",
      "state": {
       "description_width": ""
      }
     },
     "331c7fa093814e95b2789534d4369484": {
      "model_module": "@jupyter-widgets/controls",
      "model_module_version": "1.5.0",
      "model_name": "HTMLModel",
      "state": {
       "layout": "IPY_MODEL_dc34ba3ccf5e4817942aa0372be6b75b",
       "style": "IPY_MODEL_295f9f6a4a064a12929b72893870eec8",
       "value": "100%"
      }
     },
     "37e68a72719c400fa49910fd1febd9ec": {
      "model_module": "@jupyter-widgets/controls",
      "model_module_version": "1.5.0",
      "model_name": "HBoxModel",
      "state": {
       "children": [
        "IPY_MODEL_331c7fa093814e95b2789534d4369484",
        "IPY_MODEL_593e1702cb984590ae83a1782cc1ddb6",
        "IPY_MODEL_d46e9ead5b1143b7942c2ea0cdc0699c"
       ],
       "layout": "IPY_MODEL_9270e93c225a460c8e14ef580c147c78"
      }
     },
     "4fc720c197e8499ba266189934ed1d34": {
      "model_module": "@jupyter-widgets/base",
      "model_module_version": "1.2.0",
      "model_name": "LayoutModel",
      "state": {}
     },
     "593e1702cb984590ae83a1782cc1ddb6": {
      "model_module": "@jupyter-widgets/controls",
      "model_module_version": "1.5.0",
      "model_name": "FloatProgressModel",
      "state": {
       "bar_style": "success",
       "layout": "IPY_MODEL_4fc720c197e8499ba266189934ed1d34",
       "style": "IPY_MODEL_6a7dbebf6ce745aba00f5359006d3f56",
       "value": 100
      }
     },
     "6a7dbebf6ce745aba00f5359006d3f56": {
      "model_module": "@jupyter-widgets/controls",
      "model_module_version": "1.5.0",
      "model_name": "ProgressStyleModel",
      "state": {
       "description_width": ""
      }
     },
     "9270e93c225a460c8e14ef580c147c78": {
      "model_module": "@jupyter-widgets/base",
      "model_module_version": "1.2.0",
      "model_name": "LayoutModel",
      "state": {}
     },
     "aea933bec9e045fa917e3164fb77b57f": {
      "model_module": "@jupyter-widgets/base",
      "model_module_version": "1.2.0",
      "model_name": "LayoutModel",
      "state": {}
     },
     "b5f7c63bd4d746dbb35b1cdd6a88dbd2": {
      "model_module": "@jupyter-widgets/controls",
      "model_module_version": "1.5.0",
      "model_name": "DescriptionStyleModel",
      "state": {
       "description_width": ""
      }
     },
     "d46e9ead5b1143b7942c2ea0cdc0699c": {
      "model_module": "@jupyter-widgets/controls",
      "model_module_version": "1.5.0",
      "model_name": "HTMLModel",
      "state": {
       "layout": "IPY_MODEL_aea933bec9e045fa917e3164fb77b57f",
       "style": "IPY_MODEL_b5f7c63bd4d746dbb35b1cdd6a88dbd2",
       "value": " 100/100 [00:00&lt;00:00, 192.09it/s]"
      }
     },
     "dc34ba3ccf5e4817942aa0372be6b75b": {
      "model_module": "@jupyter-widgets/base",
      "model_module_version": "1.2.0",
      "model_name": "LayoutModel",
      "state": {}
     }
    },
    "version_major": 2,
    "version_minor": 0
   }
  }
 },
 "nbformat": 4,
 "nbformat_minor": 4
}
