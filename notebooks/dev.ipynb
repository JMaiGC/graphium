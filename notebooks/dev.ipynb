{
 "cells": [
  {
   "cell_type": "code",
   "execution_count": 1,
   "metadata": {},
   "outputs": [
    {
     "name": "stderr",
     "output_type": "stream",
     "text": [
      "Using backend: pytorch\n",
      "/home/hadim/local/conda/envs/goli/lib/python3.8/site-packages/umap/__init__.py:9: UserWarning: Tensorflow not installed; ParametricUMAP will be unavailable\n",
      "  warn(\"Tensorflow not installed; ParametricUMAP will be unavailable\")\n"
     ]
    }
   ],
   "source": [
    "%load_ext autoreload\n",
    "%autoreload 2\n",
    "\n",
    "import pathlib\n",
    "import functools\n",
    "import tempfile\n",
    "\n",
    "import numpy as np\n",
    "import pytorch_lightning as pl\n",
    "import torch\n",
    "import datamol as dm\n",
    "\n",
    "import goli"
   ]
  },
  {
   "cell_type": "code",
   "execution_count": 2,
   "metadata": {},
   "outputs": [
    {
     "data": {
      "text/plain": [
       "name: DGLFromSmilesDataModule\n",
       "len: 100\n",
       "train_val_batch_size: 16\n",
       "test_batch_size: 16\n",
       "num_node_feats: 50\n",
       "num_edge_feats: 6\n",
       "collate_fn: goli_collate_fn\n",
       "featurization:\n",
       "  atom_property_list_float: []\n",
       "  atom_property_list_onehot:\n",
       "  - atomic-number\n",
       "  - degree\n",
       "  edge_property_list:\n",
       "  - ring\n",
       "  - bond-type-onehot\n",
       "  add_self_loop: false\n",
       "  use_bonds_weights: false\n",
       "  explicit_H: false"
      ]
     },
     "execution_count": 2,
     "metadata": {},
     "output_type": "execute_result"
    }
   ],
   "source": [
    "# Setup a temporary cache file. Only for\n",
    "# demo purposes, use a known path in prod.\n",
    "cache_data_path = pathlib.Path(tempfile.mkdtemp()) / \"cache.pkl\"\n",
    "\n",
    "# Load a dataframe\n",
    "df = goli.data.load_tiny_zinc()\n",
    "df.head()\n",
    "\n",
    "# Setup the featurization\n",
    "featurization_args = {}\n",
    "featurization_args[\"atom_property_list_float\"] = []  # [\"weight\", \"valence\"]\n",
    "featurization_args[\"atom_property_list_onehot\"] = [\"atomic-number\", \"degree\"]\n",
    "featurization_args[\"edge_property_list\"] = [\"ring\", \"bond-type-onehot\"]\n",
    "featurization_args[\"add_self_loop\"] = False\n",
    "featurization_args[\"use_bonds_weights\"] = False\n",
    "featurization_args[\"explicit_H\"] = False\n",
    "\n",
    "# Config for datamodule\n",
    "dm_args = {}\n",
    "dm_args[\"df\"] = df\n",
    "dm_args[\"cache_data_path\"] = None#cache_data_path  # unsed at the moment\n",
    "dm_args[\"featurization\"] = featurization_args\n",
    "dm_args[\"smiles_col\"] = \"SMILES\"\n",
    "dm_args[\"label_cols\"] = [\"SA\"]\n",
    "dm_args[\"split_val\"] = 0.2\n",
    "dm_args[\"split_test\"] = 0.2\n",
    "dm_args[\"split_seed\"] = 19\n",
    "dm_args[\"train_val_batch_size\"] = 16\n",
    "dm_args[\"test_batch_size\"] = 16\n",
    "dm_args[\"num_workers\"] = -1\n",
    "dm_args[\"pin_memory\"] = True\n",
    "dm_args[\"featurization_n_jobs\"] = 16\n",
    "dm_args[\"featurization_progress\"] = True\n",
    "\n",
    "\n",
    "dm = goli.data.DGLFromSmilesDataModule(**dm_args)\n",
    "dm"
   ]
  },
  {
   "cell_type": "code",
   "execution_count": 3,
   "metadata": {},
   "outputs": [
    {
     "name": "stderr",
     "output_type": "stream",
     "text": [
      "2021-03-17 08:54:46.513 | INFO     | goli.data.datamodule:prepare_data:173 - Prepare dataset with 100 data points.\n"
     ]
    },
    {
     "data": {
      "application/vnd.jupyter.widget-view+json": {
       "model_id": "52d4ce62c5654eb19dcba739ff561d81",
       "version_major": 2,
       "version_minor": 0
      },
      "text/plain": [
       "  0%|          | 0/100 [00:00<?, ?it/s]"
      ]
     },
     "metadata": {},
     "output_type": "display_data"
    }
   ],
   "source": [
    "# Load and prepare the data\n",
    "dm.prepare_data()\n",
    "\n",
    "# Create the split torch datasets\n",
    "dm.setup()"
   ]
  },
  {
   "cell_type": "code",
   "execution_count": 4,
   "metadata": {},
   "outputs": [
    {
     "data": {
      "text/plain": [
       "{'smiles': ['c1cc2c(cc1N[C@@H]1CCOC3(CCC3)C1)CCC2',\n",
       "  'Cc1cc(C)cc(NC(=O)[C@@H](Sc2nnnn2C2CC2)c2ccccc2)c1',\n",
       "  'Cc1cc(C(=O)N2CCN(C(=O)N[C@H]3CC(=O)N(C4CC4)C3)CC2)c(C)o1',\n",
       "  'O=C(CNc1nc(C2CC2)no1)N1CCc2sccc2C1',\n",
       "  'COc1ccc(Cl)cc1NC(=O)c1nn(C)cc1[N+](=O)[O-]',\n",
       "  'C[NH2+]Cc1ccc(-c2cc(C)ccc2F)s1',\n",
       "  'Cc1ocnc1CNC(=O)N(C)Cc1ccc(OC(F)F)cc1',\n",
       "  'Cc1ccc(NC(=O)c2ccc(F)cc2F)cc1S(=O)(=O)Nc1ccc(Cl)cc1',\n",
       "  'CCc1onc(C)c1NC(=O)CCCC(C)(C)C',\n",
       "  'CCC[C@H](NC(N)=O)C(=O)NC[C@@H]1CCCO1',\n",
       "  'C=CCn1c([S-])nnc1-c1sc(NC(=O)c2cccc(NC(C)=O)c2)nc1C',\n",
       "  'CCOC[C@H](O)[C@](C)(CC)[NH+]1CCCC1',\n",
       "  'COc1ccccc1[C@H](C)NC(=O)C[C@H]1C[NH2+]CCO1',\n",
       "  'COC(C[C@@](C)(O)C[C@@H]1CCCN(S(C)(=O)=O)C1)OC',\n",
       "  'O=c1c2ccccc2sn1-c1ncc(Br)s1',\n",
       "  'COc1ccc2c(c1)[C@H]([NH2+][C@H](C)CCN1CCOCC1)CCCO2'],\n",
       " 'features': Graph(num_nodes=341, num_edges=730,\n",
       "       ndata_schemes={'feat': Scheme(shape=(50,), dtype=torch.float32)}\n",
       "       edata_schemes={'feat': Scheme(shape=(6,), dtype=torch.float32)}),\n",
       " 'labels': tensor([[3.3631],\n",
       "         [2.7085],\n",
       "         [2.9217],\n",
       "         [2.7814],\n",
       "         [2.1327],\n",
       "         [3.1286],\n",
       "         [2.6028],\n",
       "         [1.9474],\n",
       "         [2.6016],\n",
       "         [2.8694],\n",
       "         [2.9435],\n",
       "         [5.1279],\n",
       "         [3.8128],\n",
       "         [3.6699],\n",
       "         [2.8532],\n",
       "         [3.7891]], dtype=torch.float64)}"
      ]
     },
     "execution_count": 4,
     "metadata": {},
     "output_type": "execute_result"
    }
   ],
   "source": [
    "# Load a dataloader and get the first batch from it\n",
    "dl = dm.train_dataloader()\n",
    "it = iter(dl)\n",
    "batch = next(it)\n",
    "batch"
   ]
  },
  {
   "cell_type": "code",
   "execution_count": null,
   "metadata": {},
   "outputs": [],
   "source": []
  }
 ],
 "metadata": {
  "kernelspec": {
   "display_name": "Python [conda env:goli]",
   "language": "python",
   "name": "conda-env-goli-py"
  },
  "language_info": {
   "codemirror_mode": {
    "name": "ipython",
    "version": 3
   },
   "file_extension": ".py",
   "mimetype": "text/x-python",
   "name": "python",
   "nbconvert_exporter": "python",
   "pygments_lexer": "ipython3",
   "version": "3.8.6"
  },
  "widgets": {
   "application/vnd.jupyter.widget-state+json": {
    "state": {
     "0a9cad6936944c3b82e5464ccd223e35": {
      "model_module": "@jupyter-widgets/base",
      "model_module_version": "1.2.0",
      "model_name": "LayoutModel",
      "state": {}
     },
     "1d0247ee71a9497ebd8e924ed65b2808": {
      "model_module": "@jupyter-widgets/controls",
      "model_module_version": "1.5.0",
      "model_name": "FloatProgressModel",
      "state": {
       "bar_style": "success",
       "layout": "IPY_MODEL_57f46f30bee14e97ae13651ac36cb091",
       "style": "IPY_MODEL_c6d3932ba3f34e9cb24b1a5d2ba45918",
       "value": 100
      }
     },
     "3167c1a242064e94bd91087f354e9e60": {
      "model_module": "@jupyter-widgets/controls",
      "model_module_version": "1.5.0",
      "model_name": "HTMLModel",
      "state": {
       "layout": "IPY_MODEL_760e60d526f24f8fb8f8cee602a4433b",
       "style": "IPY_MODEL_70ded7a2dae04e6f8b3260265312496a",
       "value": " 100/100 [00:13&lt;00:00, 12.80it/s]"
      }
     },
     "48a9404c007b47ec81620d421bc3f91a": {
      "model_module": "@jupyter-widgets/controls",
      "model_module_version": "1.5.0",
      "model_name": "HTMLModel",
      "state": {
       "layout": "IPY_MODEL_d763027e0e9f47eabf0f2411a16ebaea",
       "style": "IPY_MODEL_dc9a33cefaeb4ac288a208dfc1cb6ad4",
       "value": "100%"
      }
     },
     "52d4ce62c5654eb19dcba739ff561d81": {
      "model_module": "@jupyter-widgets/controls",
      "model_module_version": "1.5.0",
      "model_name": "HBoxModel",
      "state": {
       "children": [
        "IPY_MODEL_48a9404c007b47ec81620d421bc3f91a",
        "IPY_MODEL_1d0247ee71a9497ebd8e924ed65b2808",
        "IPY_MODEL_3167c1a242064e94bd91087f354e9e60"
       ],
       "layout": "IPY_MODEL_0a9cad6936944c3b82e5464ccd223e35"
      }
     },
     "57f46f30bee14e97ae13651ac36cb091": {
      "model_module": "@jupyter-widgets/base",
      "model_module_version": "1.2.0",
      "model_name": "LayoutModel",
      "state": {}
     },
     "70ded7a2dae04e6f8b3260265312496a": {
      "model_module": "@jupyter-widgets/controls",
      "model_module_version": "1.5.0",
      "model_name": "DescriptionStyleModel",
      "state": {
       "description_width": ""
      }
     },
     "760e60d526f24f8fb8f8cee602a4433b": {
      "model_module": "@jupyter-widgets/base",
      "model_module_version": "1.2.0",
      "model_name": "LayoutModel",
      "state": {}
     },
     "c6d3932ba3f34e9cb24b1a5d2ba45918": {
      "model_module": "@jupyter-widgets/controls",
      "model_module_version": "1.5.0",
      "model_name": "ProgressStyleModel",
      "state": {
       "description_width": ""
      }
     },
     "d763027e0e9f47eabf0f2411a16ebaea": {
      "model_module": "@jupyter-widgets/base",
      "model_module_version": "1.2.0",
      "model_name": "LayoutModel",
      "state": {}
     },
     "dc9a33cefaeb4ac288a208dfc1cb6ad4": {
      "model_module": "@jupyter-widgets/controls",
      "model_module_version": "1.5.0",
      "model_name": "DescriptionStyleModel",
      "state": {
       "description_width": ""
      }
     }
    },
    "version_major": 2,
    "version_minor": 0
   }
  }
 },
 "nbformat": 4,
 "nbformat_minor": 4
}
