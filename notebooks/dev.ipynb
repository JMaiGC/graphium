{
 "cells": [
  {
   "cell_type": "code",
   "execution_count": 4,
   "metadata": {},
   "outputs": [
    {
     "name": "stderr",
     "output_type": "stream",
     "text": [
      "Using backend: pytorch\n"
     ]
    },
    {
     "name": "stdout",
     "output_type": "stream",
     "text": [
      "The autoreload extension is already loaded. To reload it, use:\n",
      "  %reload_ext autoreload\n"
     ]
    }
   ],
   "source": [
    "%load_ext autoreload\n",
    "%autoreload 2\n",
    "\n",
    "import numpy as np\n",
    "import pytorch_lightning as pl\n",
    "import torch\n",
    "import datamol as dm\n",
    "\n",
    "import goli"
   ]
  },
  {
   "cell_type": "code",
   "execution_count": 22,
   "metadata": {},
   "outputs": [],
   "source": [
    "smiles_col = \"SMILES\"\n",
    "label_cols = [\"SA\", \"logp\", \"score\"]\n",
    "\n",
    "df = goli.data.load_micro_zinc()\n",
    "smiles = df[smiles_col].to_list()\n",
    "labels = df[label_cols].values"
   ]
  },
  {
   "cell_type": "code",
   "execution_count": 32,
   "metadata": {},
   "outputs": [],
   "source": [
    "dataset = goli.data.SmilesDataset(\n",
    "    smiles=smiles,\n",
    "    labels=labels,\n",
    "    weights=None,\n",
    "    smiles_transform=None,\n",
    "    collate_fn=None,\n",
    ")"
   ]
  },
  {
   "cell_type": "code",
   "execution_count": 33,
   "metadata": {},
   "outputs": [
    {
     "data": {
      "text/plain": [
       "{'features': 'C=CCSc1nnc(C2CCOCC2)n1N',\n",
       " 'labels': tensor([2.8250, 1.1640, 3.9890], dtype=torch.float64),\n",
       " 'smiles': 'C=CCSc1nnc(C2CCOCC2)n1N'}"
      ]
     },
     "execution_count": 33,
     "metadata": {},
     "output_type": "execute_result"
    }
   ],
   "source": [
    "dataset[56]"
   ]
  },
  {
   "cell_type": "markdown",
   "metadata": {},
   "source": [
    "smiles_col = \"SMILES\"\n",
    "label_cols = [\"SA\", \"logp\", \"score\"]\n",
    "\n",
    "def test_smilesdataset_basics(self):\n",
    "\n",
    "    df: pd.DataFrame = goli.data.load_micro_zinc()\n",
    "    smiles = df[self.smiles_col].to_list()\n",
    "\n",
    "    # for ii in range(len(LABELS_COLS)):\n",
    "    #     labels = df[LABELS_COLS[:ii]].values\n",
    "\n",
    "    #     for jj, weights in enumerate([None, df[LABELS_COLS[1]] ** 2]):\n",
    "\n",
    "    #         for n_jobs in [0, 2, -1]:\n",
    "    #             err_msg = f\"Error for ii={ii}, jj={jj}, n_jobs={n_jobs}\"\n",
    "\n",
    "    #             dataset = SmilesDataset(\n",
    "    #                 smiles=smiles,\n",
    "    #                 labels=labels,\n",
    "    #                 weights=weights,\n",
    "    #                 smiles_transform=None,\n",
    "    #                 collate_fn=None,\n",
    "    #             )\n",
    "\n",
    "    #             self.assertEqual(dataset.weights is not None, weights is not None, msg=err_msg)\n",
    "    #             self.assertIsNone(dataset.collate_fn, msg=err_msg)\n",
    "    #             self.assertEqual(len(dataset), len(df), msg=err_msg)\n",
    "\n",
    "    #             size = 100\n",
    "    #             choice = np.random.choice(len(dataset), size, replace=False)\n",
    "    #             if weights is None:\n",
    "    #                 X, y = dataset[choice]\n",
    "    #             else:\n",
    "    #                 X, y, w = dataset[choice]\n",
    "    #                 self.assertEqual(len(w), size, msg=err_msg)\n",
    "    #             self.assertEqual(len(X), size, msg=err_msg)\n",
    "    #             self.assertListEqual(list(y.shape), [size, labels.shape[1]], msg=err_msg)"
   ]
  },
  {
   "cell_type": "code",
   "execution_count": null,
   "metadata": {},
   "outputs": [],
   "source": []
  }
 ],
 "metadata": {
  "kernelspec": {
   "display_name": "Python [conda env:goli]",
   "language": "python",
   "name": "conda-env-goli-py"
  },
  "language_info": {
   "codemirror_mode": {
    "name": "ipython",
    "version": 3
   },
   "file_extension": ".py",
   "mimetype": "text/x-python",
   "name": "python",
   "nbconvert_exporter": "python",
   "pygments_lexer": "ipython3",
   "version": "3.8.6"
  },
  "widgets": {
   "application/vnd.jupyter.widget-state+json": {
    "state": {},
    "version_major": 2,
    "version_minor": 0
   }
  }
 },
 "nbformat": 4,
 "nbformat_minor": 4
}
