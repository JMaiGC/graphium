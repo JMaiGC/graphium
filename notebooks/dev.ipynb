{
 "cells": [
  {
   "cell_type": "code",
   "execution_count": 1,
   "metadata": {},
   "outputs": [
    {
     "name": "stderr",
     "output_type": "stream",
     "text": [
      "Using backend: pytorch\n"
     ]
    }
   ],
   "source": [
    "%load_ext autoreload\n",
    "%autoreload 2\n",
    "\n",
    "import pathlib\n",
    "import functools\n",
    "import tempfile\n",
    "import yaml\n",
    "\n",
    "from loguru import logger\n",
    "\n",
    "import numpy as np\n",
    "import pytorch_lightning as pl\n",
    "import torch\n",
    "import datamol as dm\n",
    "import pandas as pd\n",
    "\n",
    "import goli"
   ]
  },
  {
   "cell_type": "code",
   "execution_count": null,
   "metadata": {},
   "outputs": [],
   "source": []
  }
 ],
 "metadata": {
  "kernelspec": {
   "display_name": "Python [conda env:goli]",
   "language": "python",
   "name": "conda-env-goli-py"
  },
  "language_info": {
   "codemirror_mode": {
    "name": "ipython",
    "version": 3
   },
   "file_extension": ".py",
   "mimetype": "text/x-python",
   "name": "python",
   "nbconvert_exporter": "python",
   "pygments_lexer": "ipython3",
   "version": "3.9.4"
  },
  "widgets": {
   "application/vnd.jupyter.widget-state+json": {
    "state": {
     "082b07aedc7b4ab6ad36f7303f753401": {
      "model_module": "@jupyter-widgets/controls",
      "model_module_version": "1.5.0",
      "model_name": "FloatProgressModel",
      "state": {
       "bar_style": "success",
       "layout": "IPY_MODEL_7aacc749a15e4db3b01e2218596c2c18",
       "max": 7,
       "style": "IPY_MODEL_11fd131d752b40bd9cfccf5b26d6851c",
       "value": 7
      }
     },
     "0838951655bb4bd9935228ad955159f5": {
      "model_module": "@jupyter-widgets/controls",
      "model_module_version": "1.5.0",
      "model_name": "ProgressStyleModel",
      "state": {
       "description_width": ""
      }
     },
     "0f1fa7b767c74321a7e0b9dde05ee7d1": {
      "model_module": "@jupyter-widgets/base",
      "model_module_version": "1.2.0",
      "model_name": "LayoutModel",
      "state": {}
     },
     "10f541a4ba7f4370853cac5fa3ca8b58": {
      "model_module": "@jupyter-widgets/controls",
      "model_module_version": "1.5.0",
      "model_name": "HBoxModel",
      "state": {
       "children": [
        "IPY_MODEL_5e889b1a8514414c992cd26076a2a8ae",
        "IPY_MODEL_40bef153d18d4864bcaab1ffba7a5f4a",
        "IPY_MODEL_7b2e39fc967144e59b678e08d51a5b37"
       ],
       "layout": "IPY_MODEL_44bc6847d7974510b6e630d684353bbb"
      }
     },
     "11fd131d752b40bd9cfccf5b26d6851c": {
      "model_module": "@jupyter-widgets/controls",
      "model_module_version": "1.5.0",
      "model_name": "ProgressStyleModel",
      "state": {
       "description_width": ""
      }
     },
     "1b1e469dee154accaa2ed9bcc8b7e1e6": {
      "model_module": "@jupyter-widgets/base",
      "model_module_version": "1.2.0",
      "model_name": "LayoutModel",
      "state": {}
     },
     "23a6baf066d94093992baaab54e689be": {
      "model_module": "@jupyter-widgets/controls",
      "model_module_version": "1.5.0",
      "model_name": "ProgressStyleModel",
      "state": {
       "description_width": ""
      }
     },
     "25fceda0f1804188903c34d59d5dcc82": {
      "model_module": "@jupyter-widgets/base",
      "model_module_version": "1.2.0",
      "model_name": "LayoutModel",
      "state": {}
     },
     "30331a27a0a3446cb3eacb3e5a106ea7": {
      "model_module": "@jupyter-widgets/controls",
      "model_module_version": "1.5.0",
      "model_name": "HTMLModel",
      "state": {
       "layout": "IPY_MODEL_3399ac943ea7423fa3fe1e11e85b1d8c",
       "style": "IPY_MODEL_9fb2991a0c3e4fe291b2bf44475cb74f",
       "value": "Validation sanity check: 100%"
      }
     },
     "3399ac943ea7423fa3fe1e11e85b1d8c": {
      "model_module": "@jupyter-widgets/base",
      "model_module_version": "1.2.0",
      "model_name": "LayoutModel",
      "state": {}
     },
     "40bef153d18d4864bcaab1ffba7a5f4a": {
      "model_module": "@jupyter-widgets/controls",
      "model_module_version": "1.5.0",
      "model_name": "FloatProgressModel",
      "state": {
       "bar_style": "success",
       "layout": "IPY_MODEL_0f1fa7b767c74321a7e0b9dde05ee7d1",
       "max": 1000,
       "style": "IPY_MODEL_a2a30e66dc7247feb61fbee95151a8de",
       "value": 1000
      }
     },
     "427cfdb88b2d4fdfabea480ce14602aa": {
      "model_module": "@jupyter-widgets/controls",
      "model_module_version": "1.5.0",
      "model_name": "HTMLModel",
      "state": {
       "layout": "IPY_MODEL_91142294a88e4aecbb4f6e118b58ea1b",
       "style": "IPY_MODEL_51e793634f4a49ae8d48e53f2bbab514",
       "value": "Epoch 0: 100%"
      }
     },
     "441ded1b8e124c22b840c793cd0d30ac": {
      "model_module": "@jupyter-widgets/base",
      "model_module_version": "1.2.0",
      "model_name": "LayoutModel",
      "state": {
       "display": "inline-flex",
       "flex_flow": "row wrap",
       "width": "100%"
      }
     },
     "44bc6847d7974510b6e630d684353bbb": {
      "model_module": "@jupyter-widgets/base",
      "model_module_version": "1.2.0",
      "model_name": "LayoutModel",
      "state": {}
     },
     "45d6f52e809e4240b22e5feecb2878be": {
      "model_module": "@jupyter-widgets/base",
      "model_module_version": "1.2.0",
      "model_name": "LayoutModel",
      "state": {
       "flex": "2"
      }
     },
     "51e793634f4a49ae8d48e53f2bbab514": {
      "model_module": "@jupyter-widgets/controls",
      "model_module_version": "1.5.0",
      "model_name": "DescriptionStyleModel",
      "state": {
       "description_width": ""
      }
     },
     "5611ed7c381d40909fecaf70f906328f": {
      "model_module": "@jupyter-widgets/controls",
      "model_module_version": "1.5.0",
      "model_name": "DescriptionStyleModel",
      "state": {
       "description_width": ""
      }
     },
     "571e1a98b94d4900a1da8be63a1b0e22": {
      "model_module": "@jupyter-widgets/controls",
      "model_module_version": "1.5.0",
      "model_name": "DescriptionStyleModel",
      "state": {
       "description_width": ""
      }
     },
     "5721b6fb278f4cfa9e0fc4879d2eff44": {
      "model_module": "@jupyter-widgets/controls",
      "model_module_version": "1.5.0",
      "model_name": "HTMLModel",
      "state": {
       "layout": "IPY_MODEL_98d79c0da17e47af8a58f280208e972d",
       "style": "IPY_MODEL_571e1a98b94d4900a1da8be63a1b0e22",
       "value": " 7/7 [00:00&lt;00:00,  8.07it/s, loss=3.61, v_num=0, loss/val=3.450, mae/val=1.510, pearsonr/val=-.241, f1 &gt; 3/val=0.995, precision &gt; 3/val=nan.0]"
      }
     },
     "5be27d94d4e14088a7abbfe02007e4fe": {
      "model_module": "@jupyter-widgets/controls",
      "model_module_version": "1.5.0",
      "model_name": "HTMLModel",
      "state": {
       "layout": "IPY_MODEL_25fceda0f1804188903c34d59d5dcc82",
       "style": "IPY_MODEL_9d97579ba0d849e2907d9e525ea66e97",
       "value": " 2/2 [00:00&lt;00:00, 18.64it/s]"
      }
     },
     "5e889b1a8514414c992cd26076a2a8ae": {
      "model_module": "@jupyter-widgets/controls",
      "model_module_version": "1.5.0",
      "model_name": "HTMLModel",
      "state": {
       "layout": "IPY_MODEL_adae410508ce477a870727777624c5df",
       "style": "IPY_MODEL_898890b6f1d14d56ab68a55013d6c012",
       "value": "100%"
      }
     },
     "68d2203b1c85489ca549f307cf4c1900": {
      "model_module": "@jupyter-widgets/controls",
      "model_module_version": "1.5.0",
      "model_name": "DescriptionStyleModel",
      "state": {
       "description_width": ""
      }
     },
     "791477b83ac84ec29e2b9dd035638614": {
      "model_module": "@jupyter-widgets/controls",
      "model_module_version": "1.5.0",
      "model_name": "HTMLModel",
      "state": {
       "layout": "IPY_MODEL_d14da19dd10941679c756f7c0a834843",
       "style": "IPY_MODEL_daf81e99b4544f5bb95061a11ed95bc6",
       "value": " 0/2 [00:00&lt;?, ?it/s]"
      }
     },
     "7aacc749a15e4db3b01e2218596c2c18": {
      "model_module": "@jupyter-widgets/base",
      "model_module_version": "1.2.0",
      "model_name": "LayoutModel",
      "state": {
       "flex": "2"
      }
     },
     "7b2e39fc967144e59b678e08d51a5b37": {
      "model_module": "@jupyter-widgets/controls",
      "model_module_version": "1.5.0",
      "model_name": "HTMLModel",
      "state": {
       "layout": "IPY_MODEL_c36e67e6db4e4fbbbacc253f41d46269",
       "style": "IPY_MODEL_68d2203b1c85489ca549f307cf4c1900",
       "value": " 1000/1000 [00:03&lt;00:00, 1044.20it/s]"
      }
     },
     "898890b6f1d14d56ab68a55013d6c012": {
      "model_module": "@jupyter-widgets/controls",
      "model_module_version": "1.5.0",
      "model_name": "DescriptionStyleModel",
      "state": {
       "description_width": ""
      }
     },
     "8f6a3987a5ae48a6a383f3dd75a290b5": {
      "model_module": "@jupyter-widgets/controls",
      "model_module_version": "1.5.0",
      "model_name": "FloatProgressModel",
      "state": {
       "layout": "IPY_MODEL_45d6f52e809e4240b22e5feecb2878be",
       "max": 2,
       "style": "IPY_MODEL_23a6baf066d94093992baaab54e689be",
       "value": 2
      }
     },
     "91142294a88e4aecbb4f6e118b58ea1b": {
      "model_module": "@jupyter-widgets/base",
      "model_module_version": "1.2.0",
      "model_name": "LayoutModel",
      "state": {}
     },
     "98d79c0da17e47af8a58f280208e972d": {
      "model_module": "@jupyter-widgets/base",
      "model_module_version": "1.2.0",
      "model_name": "LayoutModel",
      "state": {}
     },
     "9d97579ba0d849e2907d9e525ea66e97": {
      "model_module": "@jupyter-widgets/controls",
      "model_module_version": "1.5.0",
      "model_name": "DescriptionStyleModel",
      "state": {
       "description_width": ""
      }
     },
     "9ee0d1a226374ab7b317c69e772621eb": {
      "model_module": "@jupyter-widgets/controls",
      "model_module_version": "1.5.0",
      "model_name": "HTMLModel",
      "state": {
       "layout": "IPY_MODEL_1b1e469dee154accaa2ed9bcc8b7e1e6",
       "style": "IPY_MODEL_5611ed7c381d40909fecaf70f906328f",
       "value": "Validating:   0%"
      }
     },
     "9fb2991a0c3e4fe291b2bf44475cb74f": {
      "model_module": "@jupyter-widgets/controls",
      "model_module_version": "1.5.0",
      "model_name": "DescriptionStyleModel",
      "state": {
       "description_width": ""
      }
     },
     "a2a30e66dc7247feb61fbee95151a8de": {
      "model_module": "@jupyter-widgets/controls",
      "model_module_version": "1.5.0",
      "model_name": "ProgressStyleModel",
      "state": {
       "description_width": ""
      }
     },
     "a5cc5c878fb44c96b62f262db5b77542": {
      "model_module": "@jupyter-widgets/controls",
      "model_module_version": "1.5.0",
      "model_name": "FloatProgressModel",
      "state": {
       "layout": "IPY_MODEL_c6cd0b2b7f3f454f85356c211aa6f5fb",
       "max": 2,
       "style": "IPY_MODEL_0838951655bb4bd9935228ad955159f5",
       "value": 2
      }
     },
     "adae410508ce477a870727777624c5df": {
      "model_module": "@jupyter-widgets/base",
      "model_module_version": "1.2.0",
      "model_name": "LayoutModel",
      "state": {}
     },
     "c36e67e6db4e4fbbbacc253f41d46269": {
      "model_module": "@jupyter-widgets/base",
      "model_module_version": "1.2.0",
      "model_name": "LayoutModel",
      "state": {}
     },
     "c6cd0b2b7f3f454f85356c211aa6f5fb": {
      "model_module": "@jupyter-widgets/base",
      "model_module_version": "1.2.0",
      "model_name": "LayoutModel",
      "state": {
       "flex": "2"
      }
     },
     "c9da066e4ab7436787e9a8b51cf5d71b": {
      "model_module": "@jupyter-widgets/controls",
      "model_module_version": "1.5.0",
      "model_name": "HBoxModel",
      "state": {
       "children": [
        "IPY_MODEL_427cfdb88b2d4fdfabea480ce14602aa",
        "IPY_MODEL_082b07aedc7b4ab6ad36f7303f753401",
        "IPY_MODEL_5721b6fb278f4cfa9e0fc4879d2eff44"
       ],
       "layout": "IPY_MODEL_441ded1b8e124c22b840c793cd0d30ac"
      }
     },
     "d14da19dd10941679c756f7c0a834843": {
      "model_module": "@jupyter-widgets/base",
      "model_module_version": "1.2.0",
      "model_name": "LayoutModel",
      "state": {}
     },
     "d37db41df9e74354839d56fdfaf70712": {
      "model_module": "@jupyter-widgets/base",
      "model_module_version": "1.2.0",
      "model_name": "LayoutModel",
      "state": {
       "display": "inline-flex",
       "flex_flow": "row wrap",
       "width": "100%"
      }
     },
     "daf81e99b4544f5bb95061a11ed95bc6": {
      "model_module": "@jupyter-widgets/controls",
      "model_module_version": "1.5.0",
      "model_name": "DescriptionStyleModel",
      "state": {
       "description_width": ""
      }
     },
     "f1efe9f5fcd042318209d8efc441848c": {
      "model_module": "@jupyter-widgets/base",
      "model_module_version": "1.2.0",
      "model_name": "LayoutModel",
      "state": {
       "display": "inline-flex",
       "flex_flow": "row wrap",
       "width": "100%"
      }
     }
    },
    "version_major": 2,
    "version_minor": 0
   }
  }
 },
 "nbformat": 4,
 "nbformat_minor": 4
}
