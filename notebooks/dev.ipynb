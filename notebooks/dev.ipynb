{
 "cells": [
  {
   "cell_type": "code",
   "execution_count": 1,
   "metadata": {},
   "outputs": [
    {
     "name": "stderr",
     "output_type": "stream",
     "text": [
      "Using backend: pytorch\n"
     ]
    }
   ],
   "source": [
    "%load_ext autoreload\n",
    "%autoreload 2\n",
    "\n",
    "import pathlib\n",
    "import functools\n",
    "import tempfile\n",
    "\n",
    "import numpy as np\n",
    "import pytorch_lightning as pl\n",
    "import torch\n",
    "import datamol as dm\n",
    "\n",
    "import goli"
   ]
  },
  {
   "cell_type": "code",
   "execution_count": 4,
   "metadata": {},
   "outputs": [
    {
     "name": "stderr",
     "output_type": "stream",
     "text": [
      "2021-03-17 10:09:54.960 | INFO     | goli.data.datamodule:prepare_data:174 - Prepare dataset with 100 data points.\n"
     ]
    },
    {
     "data": {
      "application/vnd.jupyter.widget-view+json": {
       "model_id": "f9ea9781121f4219add05a199d107406",
       "version_major": 2,
       "version_minor": 0
      },
      "text/plain": [
       "  0%|          | 0/100 [00:00<?, ?it/s]"
      ]
     },
     "metadata": {},
     "output_type": "display_data"
    },
    {
     "data": {
      "text/plain": [
       "name: DGLFromSmilesDataModule\n",
       "len: 100\n",
       "train_val_batch_size: 16\n",
       "test_batch_size: 16\n",
       "num_node_feats: 50\n",
       "num_edge_feats: 6\n",
       "collate_fn: goli_collate_fn\n",
       "featurization:\n",
       "  atom_property_list_float: []\n",
       "  atom_property_list_onehot:\n",
       "  - atomic-number\n",
       "  - degree\n",
       "  edge_property_list:\n",
       "  - ring\n",
       "  - bond-type-onehot\n",
       "  add_self_loop: false\n",
       "  use_bonds_weights: false\n",
       "  explicit_H: false"
      ]
     },
     "execution_count": 4,
     "metadata": {},
     "output_type": "execute_result"
    }
   ],
   "source": [
    "# Load a default config\n",
    "config = goli.load_config(name=\"micro_zinc_default\")\n",
    "\n",
    "# Setup a temporary cache file. Only for\n",
    "# demo purposes, use a known path in prod.\n",
    "cache_data_path = pathlib.Path(tempfile.mkdtemp()) / \"cache.pkl\"\n",
    "cache_data_path = None\n",
    "\n",
    "# Load a dataframe\n",
    "df = goli.data.load_tiny_zinc()\n",
    "\n",
    "# Config for datamodule\n",
    "dm_args = dict(config.data.args)\n",
    "dm_args[\"df\"] = df\n",
    "dm_args[\"cache_data_path\"] = cache_data_path\n",
    "dm_args[\"featurization_n_jobs\"] = 0\n",
    "dm_args[\"featurization_progress\"] = True\n",
    "\n",
    "dm = goli.data.DGLFromSmilesDataModule(**dm_args)\n",
    "dm.prepare_data()\n",
    "dm.setup()\n",
    "dm"
   ]
  },
  {
   "cell_type": "code",
   "execution_count": 5,
   "metadata": {},
   "outputs": [
    {
     "data": {
      "text/plain": [
       "{'smiles': ['Cc1ncc(-c2ccc(S(=O)(=O)NC3CCCCCC3)s2)o1',\n",
       "  'Cc1ccc(-c2nc3ccc(C)c(C)c3[nH]2)nc1',\n",
       "  'CC[NH+](C/C=C/c1ccc(C#N)cc1)C[C@H](C)C#N',\n",
       "  'CNC(=O)[C@@H]1CCC[NH+]1Cc1ccc(C)c(F)c1',\n",
       "  'C=CCSc1nnc(C2CCOCC2)n1N',\n",
       "  'COc1ccc(-c2noc3ncnc(N4CCC[C@H](C(=O)[O-])C4)c23)cc1',\n",
       "  'CC#CCCC(=O)Nc1cccc2c1C(=O)c1ccccc1C2=O',\n",
       "  'CC(=O)c1c(C)[nH]c(C(=O)OCC(=O)N2C[C@H](C)C[C@@H](C)C2)c1C',\n",
       "  'CN1C(=O)N[C@@H](c2cccc([N+](=O)[O-])c2)C2=C1CN(c1ccc(F)cc1)C2=O',\n",
       "  'CC1(C)CCC[C@H]1n1c(N)[nH+]c2ccccc21',\n",
       "  'Cc1ccc(NC(=O)c2ccc(F)cc2F)cc1S(=O)(=O)Nc1ccc(Cl)cc1',\n",
       "  'CC(=O)N1c2ccc(S(=O)(=O)N3CCCC3)cc2C[C@H]1C(=O)NCC[NH+](C)C1CCCCC1',\n",
       "  'CCOc1ccc(C[NH+]2CCS[C@H]3COCC[C@@H]32)cc1OC',\n",
       "  'O=c1c2c3nc4ccccc4nc3n(CCC3=CCCCC3)c2ncn1C[C@H]1CCCO1',\n",
       "  'CCc1onc(C)c1NC(=O)CCCC(C)(C)C',\n",
       "  'CC(C)(C)OC(=O)N[C@H]1CCN(c2cc(-c3cccs3)n[nH]2)C1'],\n",
       " 'features': Graph(num_nodes=369, num_edges=800,\n",
       "       ndata_schemes={'feat': Scheme(shape=(50,), dtype=torch.float32)}\n",
       "       edata_schemes={'feat': Scheme(shape=(6,), dtype=torch.float32)}),\n",
       " 'labels': tensor([[2.5137],\n",
       "         [2.3425],\n",
       "         [4.3629],\n",
       "         [4.3913],\n",
       "         [2.8250],\n",
       "         [3.1529],\n",
       "         [2.2990],\n",
       "         [3.0685],\n",
       "         [2.9561],\n",
       "         [4.1520],\n",
       "         [1.9474],\n",
       "         [3.9891],\n",
       "         [4.5141],\n",
       "         [3.2573],\n",
       "         [2.6016],\n",
       "         [3.2280]], dtype=torch.float64)}"
      ]
     },
     "execution_count": 5,
     "metadata": {},
     "output_type": "execute_result"
    }
   ],
   "source": [
    "# Load a dataloader and get the first batch from it\n",
    "dl = dm.train_dataloader()\n",
    "it = iter(dl)\n",
    "batch = next(it)\n",
    "batch"
   ]
  },
  {
   "cell_type": "code",
   "execution_count": null,
   "metadata": {},
   "outputs": [],
   "source": []
  }
 ],
 "metadata": {
  "kernelspec": {
   "display_name": "Python [conda env:goli]",
   "language": "python",
   "name": "conda-env-goli-py"
  },
  "language_info": {
   "codemirror_mode": {
    "name": "ipython",
    "version": 3
   },
   "file_extension": ".py",
   "mimetype": "text/x-python",
   "name": "python",
   "nbconvert_exporter": "python",
   "pygments_lexer": "ipython3",
   "version": "3.8.6"
  },
  "widgets": {
   "application/vnd.jupyter.widget-state+json": {
    "state": {
     "2d7930eac31446028f459a127b7c0f2a": {
      "model_module": "@jupyter-widgets/controls",
      "model_module_version": "1.5.0",
      "model_name": "ProgressStyleModel",
      "state": {
       "description_width": ""
      }
     },
     "34dcc7a8a41643f5a9342b5e6c5c0896": {
      "model_module": "@jupyter-widgets/controls",
      "model_module_version": "1.5.0",
      "model_name": "HTMLModel",
      "state": {
       "layout": "IPY_MODEL_4db5a23599f046f590c6da6a0687facd",
       "style": "IPY_MODEL_7c8bb8a21fab4d289187f92c37171472",
       "value": " 100/100 [00:00&lt;00:00, 184.41it/s]"
      }
     },
     "4db5a23599f046f590c6da6a0687facd": {
      "model_module": "@jupyter-widgets/base",
      "model_module_version": "1.2.0",
      "model_name": "LayoutModel",
      "state": {}
     },
     "5c7dfbe4b9a04dfb8b50c86e36e5647e": {
      "model_module": "@jupyter-widgets/base",
      "model_module_version": "1.2.0",
      "model_name": "LayoutModel",
      "state": {}
     },
     "61b5ec7943fd4f5ebae3bf676eb749e5": {
      "model_module": "@jupyter-widgets/controls",
      "model_module_version": "1.5.0",
      "model_name": "HTMLModel",
      "state": {
       "layout": "IPY_MODEL_c216d3c4729240d68555a93a895205b5",
       "style": "IPY_MODEL_73586ff669ae4367abfbed5582ac9282",
       "value": "100%"
      }
     },
     "73586ff669ae4367abfbed5582ac9282": {
      "model_module": "@jupyter-widgets/controls",
      "model_module_version": "1.5.0",
      "model_name": "DescriptionStyleModel",
      "state": {
       "description_width": ""
      }
     },
     "7c8bb8a21fab4d289187f92c37171472": {
      "model_module": "@jupyter-widgets/controls",
      "model_module_version": "1.5.0",
      "model_name": "DescriptionStyleModel",
      "state": {
       "description_width": ""
      }
     },
     "c216d3c4729240d68555a93a895205b5": {
      "model_module": "@jupyter-widgets/base",
      "model_module_version": "1.2.0",
      "model_name": "LayoutModel",
      "state": {}
     },
     "cb4036eac0324f3f861f671435c8effe": {
      "model_module": "@jupyter-widgets/base",
      "model_module_version": "1.2.0",
      "model_name": "LayoutModel",
      "state": {}
     },
     "d7e2c4351e7c4221a0885c656731956b": {
      "model_module": "@jupyter-widgets/controls",
      "model_module_version": "1.5.0",
      "model_name": "FloatProgressModel",
      "state": {
       "bar_style": "success",
       "layout": "IPY_MODEL_cb4036eac0324f3f861f671435c8effe",
       "style": "IPY_MODEL_2d7930eac31446028f459a127b7c0f2a",
       "value": 100
      }
     },
     "f9ea9781121f4219add05a199d107406": {
      "model_module": "@jupyter-widgets/controls",
      "model_module_version": "1.5.0",
      "model_name": "HBoxModel",
      "state": {
       "children": [
        "IPY_MODEL_61b5ec7943fd4f5ebae3bf676eb749e5",
        "IPY_MODEL_d7e2c4351e7c4221a0885c656731956b",
        "IPY_MODEL_34dcc7a8a41643f5a9342b5e6c5c0896"
       ],
       "layout": "IPY_MODEL_5c7dfbe4b9a04dfb8b50c86e36e5647e"
      }
     }
    },
    "version_major": 2,
    "version_minor": 0
   }
  }
 },
 "nbformat": 4,
 "nbformat_minor": 4
}
