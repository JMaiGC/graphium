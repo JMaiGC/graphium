{
 "cells": [
  {
   "cell_type": "code",
   "execution_count": 1,
   "metadata": {},
   "outputs": [
    {
     "name": "stderr",
     "output_type": "stream",
     "text": [
      "Using backend: pytorch\n"
     ]
    }
   ],
   "source": [
    "%load_ext autoreload\n",
    "%autoreload 2\n",
    "\n",
    "import pathlib\n",
    "import functools\n",
    "import tempfile\n",
    "\n",
    "import numpy as np\n",
    "import pytorch_lightning as pl\n",
    "import torch\n",
    "import datamol as dm\n",
    "import pandas as pd\n",
    "\n",
    "import goli"
   ]
  },
  {
   "cell_type": "code",
   "execution_count": 25,
   "metadata": {},
   "outputs": [],
   "source": [
    "config = goli.load_config(name=\"zinc_default_fulldgl\")\n",
    "\n",
    "predictor_args = dict(config.predictor)\n",
    "predictor_args[\"model_config\"] = config.architecture\n",
    "goli.trainer.Predictor(**predictor_args)"
   ]
  },
  {
   "cell_type": "code",
   "execution_count": 18,
   "metadata": {},
   "outputs": [],
   "source": [
    "# Load a default config\n",
    "config = goli.load_config(name=\"zinc_default_fulldgl\")\n",
    "\n",
    "# Setup a temporary cache file. Only for\n",
    "# demo purposes, use a known path in prod.\n",
    "cache_data_path = pathlib.Path(tempfile.mkdtemp()) / \"cache.pkl\"\n",
    "cache_data_path = None\n",
    "\n",
    "# Load a dataframe\n",
    "df = goli.data.load_tiny_zinc()\n",
    "\n",
    "# Optionally load the splits\n",
    "splits_path = \"../expts/data/tiny_zinc_splits.csv\""
   ]
  },
  {
   "cell_type": "code",
   "execution_count": 3,
   "metadata": {},
   "outputs": [
    {
     "name": "stderr",
     "output_type": "stream",
     "text": [
      "2021-03-17 11:20:40.213 | INFO     | goli.data.datamodule:prepare_data:178 - Prepare dataset with 100 data points.\n"
     ]
    },
    {
     "data": {
      "application/vnd.jupyter.widget-view+json": {
       "model_id": "3955a08e9904429798527fa1ea3f8794",
       "version_major": 2,
       "version_minor": 0
      },
      "text/plain": [
       "  0%|          | 0/100 [00:00<?, ?it/s]"
      ]
     },
     "metadata": {},
     "output_type": "display_data"
    },
    {
     "data": {
      "text/plain": [
       "name: DGLFromSmilesDataModule\n",
       "len: 100\n",
       "batch_size_train_val: 16\n",
       "batch_size_test: 16\n",
       "num_node_feats: 50\n",
       "num_edge_feats: 6\n",
       "collate_fn: goli_collate_fn\n",
       "featurization:\n",
       "  atom_property_list_float: []\n",
       "  atom_property_list_onehot:\n",
       "  - atomic-number\n",
       "  - degree\n",
       "  edge_property_list:\n",
       "  - ring\n",
       "  - bond-type-onehot\n",
       "  add_self_loop: false\n",
       "  use_bonds_weights: false\n",
       "  explicit_H: false"
      ]
     },
     "execution_count": 3,
     "metadata": {},
     "output_type": "execute_result"
    }
   ],
   "source": [
    "# Config for datamodule\n",
    "dm_args = dict(config.data.args)\n",
    "dm_args[\"df\"] = df\n",
    "dm_args[\"cache_data_path\"] = cache_data_path\n",
    "dm_args[\"featurization_n_jobs\"] = -1\n",
    "dm_args[\"featurization_progress\"] = True\n",
    "dm_args[\"splits_path\"] = splits_path\n",
    "\n",
    "dm = goli.data.DGLFromSmilesDataModule(**dm_args)\n",
    "dm.prepare_data()\n",
    "dm.setup()\n",
    "dm"
   ]
  },
  {
   "cell_type": "code",
   "execution_count": 17,
   "metadata": {},
   "outputs": [
    {
     "data": {
      "text/plain": [
       "dict_keys(['smiles', 'features', 'labels'])"
      ]
     },
     "execution_count": 17,
     "metadata": {},
     "output_type": "execute_result"
    }
   ],
   "source": [
    "# Load a dataloader and get the first batch from it\n",
    "dl = dm.train_dataloader()\n",
    "it = iter(dl)\n",
    "batch = next(it)\n",
    "batch.keys()"
   ]
  },
  {
   "cell_type": "code",
   "execution_count": 20,
   "metadata": {},
   "outputs": [
    {
     "data": {
      "text/plain": [
       "DGL_GNN\n",
       "---------\n",
       "    pre-trans-NN(depth=1, ResidualConnectionNone)\n",
       "        [FCLayer[50 -> 32] -> Linear(32)\n",
       "    \n",
       "    main-GNN(depth=2, ResidualConnectionSimple(skip_steps=1))\n",
       "        PNAMessagePassingLayer[32 -> 32 -> 32]\n",
       "        -> Pooling(sum) -> FCLayer(32 -> 32, activation=None)\n",
       "    "
      ]
     },
     "execution_count": 20,
     "metadata": {},
     "output_type": "execute_result"
    }
   ],
   "source": [
    "in_dim_nodes = dm.num_node_feats\n",
    "in_dim_edges = dm.num_edge_feats\n",
    "\n",
    "# Modify the model config with `config.architecture.`\n",
    "config.architecture.gnn.depth = 2\n",
    "\n",
    "# Build the model\n",
    "model = goli.config.load_architecture(config, in_dim_nodes, in_dim_edges)\n",
    "model"
   ]
  },
  {
   "cell_type": "code",
   "execution_count": 24,
   "metadata": {},
   "outputs": [
    {
     "data": {
      "text/plain": [
       "{'data': {'module_type': 'DGLFromSmilesDataModule', 'args': {'smiles_col': 'SMILES', 'label_cols': ['SA'], 'split_val': 0.2, 'split_test': 0.2, 'split_seed': 19, 'batch_size_train_val': 16, 'batch_size_test': 16, 'featurization': {'atom_property_list_float': [], 'atom_property_list_onehot': ['atomic-number', 'degree'], 'edge_property_list': ['ring', 'bond-type-onehot'], 'add_self_loop': False, 'use_bonds_weights': False, 'explicit_H': False}}}, 'architecture': {'model_type': 'fulldglnetwork', 'pre_nn': {'out_dim': 32, 'hidden_dims': 32, 'depth': 1, 'activation': 'relu', 'last_activation': 'none', 'dropout': 0.1, 'batch_norm': True, 'residual_type': 'none'}, 'post_nn': {'out_dim': 32, 'hidden_dims': 32, 'depth': 2, 'activation': 'relu', 'last_activation': 'none', 'dropout': 0.1, 'batch_norm': True, 'residual_type': 'none'}, 'gnn': {'out_dim': 32, 'hidden_dims': 32, 'depth': 2, 'activation': 'relu', 'last_activation': 'none', 'dropout': 0.1, 'batch_norm': True, 'residual_type': 'simple', 'pooling': 'sum', 'virtual_node': 'sum', 'layer_type': 'pna-msgpass', 'aggregators': ['mean', 'max', 'min', 'std'], 'scalers': ['identity', 'amplification', 'attenuation']}}, 'predictor': {'loss_fun': 'mse', 'optim_kwargs': {'lr': 0.001, 'weight_decay': 1e-07}, 'lr_reduce_on_plateau_kwargs': {'factor': 0.5, 'patience': 7}, 'scheduler_kwargs': {'monitor': 'val_loss', 'frequency': 1}, 'target_nan_mask': 0}}"
      ]
     },
     "execution_count": 24,
     "metadata": {},
     "output_type": "execute_result"
    }
   ],
   "source": [
    "config"
   ]
  },
  {
   "cell_type": "code",
   "execution_count": 23,
   "metadata": {},
   "outputs": [
    {
     "data": {
      "text/plain": [
       "main-GNN(depth=2, ResidualConnectionSimple(skip_steps=1))\n",
       "    PNAMessagePassingLayer[32 -> 32 -> 32]\n",
       "    -> Pooling(sum) -> FCLayer(32 -> 32, activation=None)"
      ]
     },
     "execution_count": 23,
     "metadata": {},
     "output_type": "execute_result"
    }
   ],
   "source": [
    "model"
   ]
  },
  {
   "cell_type": "code",
   "execution_count": 22,
   "metadata": {},
   "outputs": [
    {
     "ename": "AttributeError",
     "evalue": "module 'goli.trainer' has no attribute 'PredictorModule'",
     "output_type": "error",
     "traceback": [
      "\u001b[0;31m---------------------------------------------------------------------------\u001b[0m",
      "\u001b[0;31mAttributeError\u001b[0m                            Traceback (most recent call last)",
      "\u001b[0;32m<ipython-input-22-187cd9a75af1>\u001b[0m in \u001b[0;36m<module>\u001b[0;34m\u001b[0m\n\u001b[1;32m      2\u001b[0m \u001b[0mpredictor_args\u001b[0m\u001b[0;34m[\u001b[0m\u001b[0;34m\"model\"\u001b[0m\u001b[0;34m]\u001b[0m \u001b[0;34m=\u001b[0m \u001b[0mmodel\u001b[0m\u001b[0;34m\u001b[0m\u001b[0;34m\u001b[0m\u001b[0m\n\u001b[1;32m      3\u001b[0m \u001b[0;34m\u001b[0m\u001b[0m\n\u001b[0;32m----> 4\u001b[0;31m \u001b[0mpredictor\u001b[0m \u001b[0;34m=\u001b[0m \u001b[0mgoli\u001b[0m\u001b[0;34m.\u001b[0m\u001b[0mtrainer\u001b[0m\u001b[0;34m.\u001b[0m\u001b[0mPredictorModule\u001b[0m\u001b[0;34m(\u001b[0m\u001b[0;34m**\u001b[0m\u001b[0mpredictor_args\u001b[0m\u001b[0;34m)\u001b[0m\u001b[0;34m\u001b[0m\u001b[0;34m\u001b[0m\u001b[0m\n\u001b[0m\u001b[1;32m      5\u001b[0m \u001b[0;34m\u001b[0m\u001b[0m\n\u001b[1;32m      6\u001b[0m \u001b[0;34m\u001b[0m\u001b[0m\n",
      "\u001b[0;31mAttributeError\u001b[0m: module 'goli.trainer' has no attribute 'PredictorModule'"
     ]
    }
   ],
   "source": [
    "predictor_args = {}\n",
    "predictor_args[\"model\"] = model\n",
    "\n",
    "predictor = goli.trainer.PredictorModule(**predictor_args)\n",
    "\n",
    "\n",
    "#         model=model,\n",
    "#         dataset=train_dt,\n",
    "#         validation_split=val_dt,\n",
    "#         collate_fn=DGLCollate(device=device, siamese=siamese),\n",
    "#         metrics=metrics,\n",
    "#         metrics_on_progress_bar=metrics_on_progress_bar,\n",
    "#         additional_hparams={\"layer_fullname\": layer_name},\n",
    "#         **reg_kwargs,\n",
    "#     )"
   ]
  },
  {
   "cell_type": "code",
   "execution_count": null,
   "metadata": {},
   "outputs": [],
   "source": []
  }
 ],
 "metadata": {
  "kernelspec": {
   "display_name": "Python [conda env:goli]",
   "language": "python",
   "name": "conda-env-goli-py"
  },
  "language_info": {
   "codemirror_mode": {
    "name": "ipython",
    "version": 3
   },
   "file_extension": ".py",
   "mimetype": "text/x-python",
   "name": "python",
   "nbconvert_exporter": "python",
   "pygments_lexer": "ipython3",
   "version": "3.8.6"
  },
  "widgets": {
   "application/vnd.jupyter.widget-state+json": {
    "state": {
     "2639051c5f7543f68c8b2bb653848ec3": {
      "model_module": "@jupyter-widgets/controls",
      "model_module_version": "1.5.0",
      "model_name": "HTMLModel",
      "state": {
       "layout": "IPY_MODEL_a6d9ad5a33b74a49967bd865444b5f37",
       "style": "IPY_MODEL_973d5e62c30240baae8a8cb19a7e45c8",
       "value": " 100/100 [00:02&lt;00:00, 49.95it/s]"
      }
     },
     "265bd21cc1324e63b32106393defb7c5": {
      "model_module": "@jupyter-widgets/controls",
      "model_module_version": "1.5.0",
      "model_name": "DescriptionStyleModel",
      "state": {
       "description_width": ""
      }
     },
     "32eb57df4ddf47299dd082ca678f3a28": {
      "model_module": "@jupyter-widgets/base",
      "model_module_version": "1.2.0",
      "model_name": "LayoutModel",
      "state": {}
     },
     "3955a08e9904429798527fa1ea3f8794": {
      "model_module": "@jupyter-widgets/controls",
      "model_module_version": "1.5.0",
      "model_name": "HBoxModel",
      "state": {
       "children": [
        "IPY_MODEL_f11918312dbf407a8baa1073366e4053",
        "IPY_MODEL_bd3b42d5665e4955b14c8e577f1296bc",
        "IPY_MODEL_2639051c5f7543f68c8b2bb653848ec3"
       ],
       "layout": "IPY_MODEL_32eb57df4ddf47299dd082ca678f3a28"
      }
     },
     "448975d5b6854d56acc310b0216bc2d9": {
      "model_module": "@jupyter-widgets/base",
      "model_module_version": "1.2.0",
      "model_name": "LayoutModel",
      "state": {}
     },
     "71abd55a5f7841e480d105ba7fcd1355": {
      "model_module": "@jupyter-widgets/controls",
      "model_module_version": "1.5.0",
      "model_name": "ProgressStyleModel",
      "state": {
       "description_width": ""
      }
     },
     "802ce78ec86844cc952bd745e871b412": {
      "model_module": "@jupyter-widgets/base",
      "model_module_version": "1.2.0",
      "model_name": "LayoutModel",
      "state": {}
     },
     "973d5e62c30240baae8a8cb19a7e45c8": {
      "model_module": "@jupyter-widgets/controls",
      "model_module_version": "1.5.0",
      "model_name": "DescriptionStyleModel",
      "state": {
       "description_width": ""
      }
     },
     "a6d9ad5a33b74a49967bd865444b5f37": {
      "model_module": "@jupyter-widgets/base",
      "model_module_version": "1.2.0",
      "model_name": "LayoutModel",
      "state": {}
     },
     "bd3b42d5665e4955b14c8e577f1296bc": {
      "model_module": "@jupyter-widgets/controls",
      "model_module_version": "1.5.0",
      "model_name": "FloatProgressModel",
      "state": {
       "bar_style": "success",
       "layout": "IPY_MODEL_802ce78ec86844cc952bd745e871b412",
       "style": "IPY_MODEL_71abd55a5f7841e480d105ba7fcd1355",
       "value": 100
      }
     },
     "f11918312dbf407a8baa1073366e4053": {
      "model_module": "@jupyter-widgets/controls",
      "model_module_version": "1.5.0",
      "model_name": "HTMLModel",
      "state": {
       "layout": "IPY_MODEL_448975d5b6854d56acc310b0216bc2d9",
       "style": "IPY_MODEL_265bd21cc1324e63b32106393defb7c5",
       "value": "100%"
      }
     }
    },
    "version_major": 2,
    "version_minor": 0
   }
  }
 },
 "nbformat": 4,
 "nbformat_minor": 4
}
