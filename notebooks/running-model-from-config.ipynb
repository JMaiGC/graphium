{
 "cells": [
  {
   "cell_type": "code",
   "execution_count": 1,
   "metadata": {},
   "outputs": [
    {
     "output_type": "stream",
     "name": "stderr",
     "text": [
      "Using backend: pytorch\n"
     ]
    }
   ],
   "source": [
    "%load_ext autoreload\n",
    "%autoreload 2\n",
    "\n",
    "# General imports\n",
    "import os\n",
    "from os.path import dirname, abspath\n",
    "import yaml\n",
    "from copy import deepcopy\n",
    "from omegaconf import DictConfig, OmegaConf\n",
    "\n",
    "\n",
    "# Current project imports\n",
    "import goli\n",
    "from goli.utils.config_loader import (\n",
    "    config_load_constants,\n",
    "    config_load_dataset,\n",
    "    config_load_architecture,\n",
    "    config_load_metrics,\n",
    "    config_load_predictor,\n",
    "    config_load_training,\n",
    ")\n"
   ]
  },
  {
   "source": [
    "## Read the config file"
   ],
   "cell_type": "markdown",
   "metadata": {}
  },
  {
   "cell_type": "code",
   "execution_count": 2,
   "metadata": {},
   "outputs": [
    {
     "output_type": "stream",
     "name": "stderr",
     "text": [
      "/home/dominique/anaconda3/envs/goli_env/lib/python3.7/site-packages/torch/cuda/__init__.py:52: UserWarning: CUDA initialization: Found no NVIDIA driver on your system. Please check that you have an NVIDIA GPU and installed a driver from http://www.nvidia.com/Download/index.aspx (Triggered internally at  /opt/conda/conda-bld/pytorch_1607370156314/work/c10/cuda/CUDAFunctions.cpp:100.)\n  return torch._C._cuda_getDeviceCount() > 0\n"
     ]
    }
   ],
   "source": [
    "# Set up the working directory\n",
    "MAIN_DIR = dirname(dirname(abspath(goli.__file__)))\n",
    "os.chdir(MAIN_DIR)\n",
    "\n",
    "with open(os.path.join(MAIN_DIR, \"expts/config_micro_ZINC.yaml\"), \"r\") as f:\n",
    "    cfg = yaml.safe_load(f)\n",
    "\n",
    "cfg = dict(deepcopy(cfg))\n",
    "\n",
    "# Get the general parameters and generate the train/val/test datasets\n",
    "data_device, model_device, dtype, exp_name, seed, raise_train_error = config_load_constants(\n",
    "    **cfg[\"constants\"], main_dir=MAIN_DIR\n",
    ")"
   ]
  },
  {
   "source": [
    "## Load a dataset"
   ],
   "cell_type": "markdown",
   "metadata": {}
  },
  {
   "cell_type": "code",
   "execution_count": 3,
   "metadata": {},
   "outputs": [
    {
     "output_type": "stream",
     "name": "stdout",
     "text": [
      "\ndatamodule:\n name: DGLFromSmilesDataModule\nlen: 1000\nbatch_size_train_val: 128\nbatch_size_test: 256\nnum_node_feats: 55\nnum_edge_feats: 13\ncollate_fn: goli_collate_fn\nfeaturization:\n  atom_property_list_onehot:\n  - atomic-number\n  - valence\n  atom_property_list_float:\n  - mass\n  - electronegativity\n  - in-ring\n  edge_property_list:\n  - bond-type-onehot\n  - stereo\n  - in-ring\n  add_self_loop: false\n  explicit_H: false\n  use_bonds_weights: false\n \n\n"
     ]
    }
   ],
   "source": [
    "\n",
    "# Load and initialize the dataset\n",
    "datamodule = config_load_dataset(**cfg[\"datasets\"], main_dir=MAIN_DIR,)\n",
    "print(\"\\ndatamodule:\\n\", datamodule, \"\\n\")\n"
   ]
  },
  {
   "cell_type": "code",
   "execution_count": 4,
   "metadata": {},
   "outputs": [
    {
     "output_type": "stream",
     "name": "stdout",
     "text": [
      "\nmodel:\n DGL_GNN\n---------\n    pre-trans-NN(depth=1, ResidualConnectionNone)\n        [FCLayer[55 -> 32] -> Linear(32)\n    \n    main-GNN(depth=4, ResidualConnectionSimple(skip_steps=1))\n        PNAMessagePassingLayer[32 -> 32 -> 32 -> 32 -> 32]\n        -> Pooling(sum) -> FCLayer(32 -> 32, activation=None)\n    \n    post-trans-NN(depth=2, ResidualConnectionNone)\n        [FCLayer[32 -> 32 -> 32] -> Linear(32) \n\n"
     ]
    }
   ],
   "source": [
    "# Initialize the network\n",
    "model = config_load_architecture(\n",
    "    **cfg[\"architecture\"],\n",
    "    in_dim_nodes=datamodule.num_node_feats,\n",
    "    in_dim_edges=datamodule.num_edge_feats\n",
    ")\n",
    "\n",
    "print(\"\\nmodel:\\n\", model, \"\\n\")"
   ]
  },
  {
   "cell_type": "code",
   "execution_count": 5,
   "metadata": {},
   "outputs": [
    {
     "output_type": "stream",
     "name": "stdout",
     "text": [
      "{'mae': mean_absolute_error, 'pearsonr': pearsonr, 'f1 > 5': f1(>5), 'precision > 5': precision(>5), 'auroc > 5': auroc(>5)}\n"
     ]
    }
   ],
   "source": [
    "metrics = config_load_metrics(cfg[\"metrics\"])\n",
    "print(metrics)"
   ]
  },
  {
   "cell_type": "code",
   "execution_count": null,
   "metadata": {},
   "outputs": [],
   "source": []
  }
 ],
 "metadata": {
  "kernelspec": {
   "name": "python3",
   "display_name": "Python 3.7.9 64-bit ('goli_env': conda)",
   "metadata": {
    "interpreter": {
     "hash": "ce752a05bc046fbf91e84c99a25ae7ca133d76ead2eb04f6c646180f827f8f44"
    }
   }
  },
  "language_info": {
   "codemirror_mode": {
    "name": "ipython",
    "version": 3
   },
   "file_extension": ".py",
   "mimetype": "text/x-python",
   "name": "python",
   "nbconvert_exporter": "python",
   "pygments_lexer": "ipython3",
   "version": "3.7.9-final"
  },
  "widgets": {
   "application/vnd.jupyter.widget-state+json": {
    "state": {},
    "version_major": 2,
    "version_minor": 0
   }
  }
 },
 "nbformat": 4,
 "nbformat_minor": 4
}