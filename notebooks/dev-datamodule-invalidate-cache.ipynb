{
 "cells": [
  {
   "cell_type": "code",
   "execution_count": 1,
   "metadata": {},
   "outputs": [
    {
     "name": "stderr",
     "output_type": "stream",
     "text": [
      "Using backend: pytorch\n",
      "/home/hadim/local/conda/envs/goli/lib/python3.8/site-packages/ray/autoscaler/_private/cli_logger.py:57: FutureWarning: Not all Ray CLI dependencies were found. In Ray 1.4+, the Ray CLI, autoscaler, and dashboard will only be usable via `pip install 'ray[default]'`. Please update your install command.\n",
      "  warnings.warn(\n"
     ]
    }
   ],
   "source": [
    "%load_ext autoreload\n",
    "%autoreload 2\n",
    "\n",
    "import pathlib\n",
    "import functools\n",
    "import tempfile\n",
    "\n",
    "import numpy as np\n",
    "import pytorch_lightning as pl\n",
    "import torch\n",
    "import datamol as dm\n",
    "\n",
    "import goli"
   ]
  },
  {
   "cell_type": "code",
   "execution_count": 15,
   "metadata": {},
   "outputs": [],
   "source": [
    "# Setup a temporary cache file. Only for\n",
    "# demo purposes, use a known path in prod.\n",
    "cache_data_path = pathlib.Path(tempfile.mkdtemp()) / \"cache.pkl\"\n",
    "cache_data_path = \"/home/hadim/test-cache.pkl\"\n",
    "\n",
    "# Load a dataframe\n",
    "df = goli.data.load_tiny_zinc()\n",
    "df.head()\n",
    "\n",
    "# Setup the featurization\n",
    "featurization_args = {}\n",
    "featurization_args[\"atom_property_list_onehot\"] = [\"atomic-number\", \"valence\"]\n",
    "featurization_args[\"atom_property_list_float\"] = [\"mass\", \"electronegativity\", \"in-ring\"]\n",
    "featurization_args[\"edge_property_list\"] = [\"bond-type-onehot\", \"stereo\"]#, \"in-ring\"]\n",
    "featurization_args[\"add_self_loop\"] = False\n",
    "featurization_args[\"use_bonds_weights\"] = False\n",
    "featurization_args[\"explicit_H\"] = False\n",
    "\n",
    "# Config for datamodule\n",
    "dm_args = {}\n",
    "dm_args[\"df\"] = df\n",
    "dm_args[\"cache_data_path\"] = cache_data_path\n",
    "dm_args[\"featurization\"] = featurization_args\n",
    "dm_args[\"smiles_col\"] = \"SMILES\"\n",
    "dm_args[\"label_cols\"] = [\"SA\"]\n",
    "dm_args[\"split_val\"] = 0.2\n",
    "dm_args[\"split_test\"] = 0.2\n",
    "dm_args[\"split_seed\"] = 19\n",
    "dm_args[\"batch_size_train_val\"] = 16\n",
    "dm_args[\"batch_size_test\"] = 16\n",
    "dm_args[\"num_workers\"] = 0\n",
    "dm_args[\"pin_memory\"] = True\n",
    "dm_args[\"featurization_n_jobs\"] = 16\n",
    "dm_args[\"featurization_progress\"] = True\n",
    "\n",
    "datam = goli.data.DGLFromSmilesDataModule(**dm_args)\n",
    "# datam"
   ]
  },
  {
   "cell_type": "code",
   "execution_count": 5,
   "metadata": {},
   "outputs": [
    {
     "name": "stderr",
     "output_type": "stream",
     "text": [
      "2021-04-30 12:44:48.070 | INFO     | goli.data.datamodule:prepare_data:305 - Reload data from /home/hadim/test-cache.pkl.\n",
      "2021-04-30 12:44:48.100 | INFO     | goli.data.datamodule:prepare_data:317 - Cache looks invalid with keys: dict_keys(['dataset', 'train_indices', 'val_indices', 'test_indices', 'featurization_args'])\n",
      "2021-04-30 12:44:48.101 | INFO     | goli.data.datamodule:prepare_data:318 - Fallback to regular data preparation steps.\n",
      "2021-04-30 12:44:48.101 | INFO     | goli.data.datamodule:prepare_data:327 - Prepare dataset with 100 data points.\n"
     ]
    },
    {
     "data": {
      "application/vnd.jupyter.widget-view+json": {
       "model_id": "bbb552d6f8ef417a939c3a098d3d442b",
       "version_major": 2,
       "version_minor": 0
      },
      "text/plain": [
       "  0%|          | 0/100 [00:00<?, ?it/s]"
      ]
     },
     "metadata": {},
     "output_type": "display_data"
    },
    {
     "name": "stderr",
     "output_type": "stream",
     "text": [
      "2021-04-30 12:44:48.192 | INFO     | goli.data.datamodule:_save_to_cache:447 - Write prepared data to /home/hadim/test-cache.pkl\n"
     ]
    }
   ],
   "source": [
    "# Load and prepare the data\n",
    "datam.prepare_data()\n",
    "\n",
    "# Create the split torch datasets\n",
    "datam.setup()"
   ]
  },
  {
   "cell_type": "code",
   "execution_count": 16,
   "metadata": {},
   "outputs": [],
   "source": [
    "import inspect\n",
    "from goli.features import mol_to_dglgraph_signature\n",
    "\n",
    "cache = torch.load(cache_data_path)"
   ]
  },
  {
   "cell_type": "code",
   "execution_count": 17,
   "metadata": {},
   "outputs": [],
   "source": [
    "# What would be the signature with supplied feature arguments\n",
    "current_signature = mol_to_dglgraph_signature(dict(featurization_args or {}))\n",
    "cache_signature = mol_to_dglgraph_signature(cache[\"featurization_args\"])"
   ]
  },
  {
   "cell_type": "code",
   "execution_count": 18,
   "metadata": {},
   "outputs": [
    {
     "data": {
      "text/plain": [
       "False"
      ]
     },
     "execution_count": 18,
     "metadata": {},
     "output_type": "execute_result"
    }
   ],
   "source": [
    "current_signature == cache_signature"
   ]
  },
  {
   "cell_type": "code",
   "execution_count": 7,
   "metadata": {},
   "outputs": [
    {
     "data": {
      "text/plain": [
       "{'atom_property_list_onehot': ['atomic-number', 'valence'],\n",
       " 'atom_property_list_float': ['mass', 'electronegativity', 'in-ring'],\n",
       " 'edge_property_list': ['bond-type-onehot', 'stereo', 'in-ring'],\n",
       " 'add_self_loop': False,\n",
       " 'explicit_H': False,\n",
       " 'use_bonds_weights': False,\n",
       " 'pos_encoding_as_features': None,\n",
       " 'pos_encoding_as_directions': None,\n",
       " 'dtype': torch.float32}"
      ]
     },
     "execution_count": 7,
     "metadata": {},
     "output_type": "execute_result"
    }
   ],
   "source": [
    "cache[\"featurization_args\"]"
   ]
  },
  {
   "cell_type": "code",
   "execution_count": 57,
   "metadata": {},
   "outputs": [],
   "source": [
    "# Get the signature of `mol_to_dglgraph`\n",
    "signature = inspect.signature(mol_to_dglgraph)\n",
    "\n",
    "# Filter out empty arguments (without default value)\n",
    "parameters = list(filter(lambda param: param.default is not param.empty, signature.parameters.values()))\n",
    "\n",
    "# Convert to dict\n",
    "parameters = {param.name: param.default for param in parameters}\n",
    "\n",
    "# Update the parameters with the supplied ones\n",
    "parameters.update(featurization_args)"
   ]
  },
  {
   "cell_type": "code",
   "execution_count": 58,
   "metadata": {},
   "outputs": [
    {
     "data": {
      "text/plain": [
       "{'atom_property_list_onehot': ['atomic-number', 'valence'],\n",
       " 'atom_property_list_float': ['mass', 'electronegativity', 'in-ring'],\n",
       " 'edge_property_list': ['bond-type-onehot', 'stereo', 'in-ring'],\n",
       " 'add_self_loop': False,\n",
       " 'explicit_H': False,\n",
       " 'use_bonds_weights': False,\n",
       " 'pos_encoding_as_features': None,\n",
       " 'pos_encoding_as_directions': None,\n",
       " 'dtype': torch.float32}"
      ]
     },
     "execution_count": 58,
     "metadata": {},
     "output_type": "execute_result"
    }
   ],
   "source": [
    "parameters"
   ]
  },
  {
   "cell_type": "code",
   "execution_count": 42,
   "metadata": {},
   "outputs": [
    {
     "data": {
      "text/plain": [
       "{'mol': <Parameter \"mol: rdkit.Chem.rdchem.Mol\">,\n",
       " 'atom_property_list_onehot': <Parameter \"atom_property_list_onehot: List[str] = []\">,\n",
       " 'atom_property_list_float': <Parameter \"atom_property_list_float: List[Union[str, Callable]] = []\">,\n",
       " 'edge_property_list': <Parameter \"edge_property_list: List[str] = []\">,\n",
       " 'add_self_loop': <Parameter \"add_self_loop: bool = False\">,\n",
       " 'explicit_H': <Parameter \"explicit_H: bool = False\">,\n",
       " 'use_bonds_weights': <Parameter \"use_bonds_weights: bool = False\">,\n",
       " 'pos_encoding_as_features': <Parameter \"pos_encoding_as_features: Dict[str, Any] = None\">,\n",
       " 'pos_encoding_as_directions': <Parameter \"pos_encoding_as_directions: Dict[str, Any] = None\">,\n",
       " 'dtype': <Parameter \"dtype: torch.dtype = torch.float32\">}"
      ]
     },
     "execution_count": 42,
     "metadata": {},
     "output_type": "execute_result"
    }
   ],
   "source": [
    "args = dict(st.parameters)\n",
    "args"
   ]
  },
  {
   "cell_type": "code",
   "execution_count": 44,
   "metadata": {},
   "outputs": [
    {
     "data": {
      "text/plain": [
       "{}"
      ]
     },
     "execution_count": 44,
     "metadata": {},
     "output_type": "execute_result"
    }
   ],
   "source": [
    "# args = {k: v.default for k, v in args.items()}\n",
    "args = dict(filter(lambda x: x[1].default is not x[1].empty, args.items()))\n",
    "args"
   ]
  },
  {
   "cell_type": "code",
   "execution_count": 41,
   "metadata": {},
   "outputs": [
    {
     "data": {
      "text/plain": [
       "type"
      ]
     },
     "execution_count": 41,
     "metadata": {},
     "output_type": "execute_result"
    }
   ],
   "source": [
    "p = args[\"mol\"]\n",
    "type(p)"
   ]
  },
  {
   "cell_type": "code",
   "execution_count": 6,
   "metadata": {},
   "outputs": [
    {
     "data": {
      "text/plain": [
       "dict_keys(['dataset', 'train_indices', 'val_indices', 'test_indices'])"
      ]
     },
     "execution_count": 6,
     "metadata": {},
     "output_type": "execute_result"
    }
   ],
   "source": [
    "cache.keys()"
   ]
  },
  {
   "cell_type": "code",
   "execution_count": 7,
   "metadata": {},
   "outputs": [
    {
     "data": {
      "text/plain": [
       "{'smiles': ['c1cc2c(cc1N[C@@H]1CCOC3(CCC3)C1)CCC2',\n",
       "  'CC(=O)N1CC[C@@H]([NH2+][C@@H](C)CSCC(C)C)C1',\n",
       "  'Cc1ccc(-c2nc3ccc(C)c(C)c3[nH]2)nc1',\n",
       "  'CCOC[C@H](O)[C@](C)(CC)[NH+]1CCCC1',\n",
       "  'Cc1cc(CC(=O)N[C@H](c2ccc(F)cc2)C2CCC2)no1',\n",
       "  'CCc1ccc(C(=O)/C(=C(/S)NC2CC2)[n+]2ccc(CC)cc2)cc1',\n",
       "  'Cc1ccc(NC(=O)c2ccc(F)cc2F)cc1S(=O)(=O)Nc1ccc(Cl)cc1',\n",
       "  'CC#CCCC(=O)Nc1cccc2c1C(=O)c1ccccc1C2=O',\n",
       "  'CCOc1cc(/C=C(\\\\C#N)C(=O)c2c[nH]c3cc(Cl)ccc23)ccc1OC',\n",
       "  'CNC(=O)[C@@H]1CCC[NH+]1Cc1ccc(C)c(F)c1',\n",
       "  'CC(C)(C)OC(=O)N[C@H]1CCN(c2cc(-c3cccs3)n[nH]2)C1',\n",
       "  'Cc1nn(-c2ccccc2)c(O)c1/C=[NH+]/Cc1ccncc1',\n",
       "  'COCC[NH+](C)Cc1c(C)cc(C)c(C(C)=O)c1C',\n",
       "  'Cc1nc(C)c(S(=O)(=O)/N=C(\\\\[O-])C[C@H]2CCCO2)s1',\n",
       "  'COc1cccc(CN2CCC[NH+](CC(=O)Nc3ccc(F)cc3)S2(=O)=O)c1',\n",
       "  'COc1cc(F)cc(CNC(=O)[C@H]2CCCN2C(=O)Cc2ccccc2)c1'],\n",
       " 'features': Graph(num_nodes=352, num_edges=754,\n",
       "       ndata_schemes={'feat': Scheme(shape=(50,), dtype=torch.float32)}\n",
       "       edata_schemes={'feat': Scheme(shape=(6,), dtype=torch.float32)}),\n",
       " 'labels': tensor([[3.3631],\n",
       "         [4.4837],\n",
       "         [2.3425],\n",
       "         [5.1279],\n",
       "         [2.6651],\n",
       "         [2.7752],\n",
       "         [1.9474],\n",
       "         [2.2990],\n",
       "         [2.3508],\n",
       "         [4.3913],\n",
       "         [3.2280],\n",
       "         [3.1176],\n",
       "         [3.9551],\n",
       "         [3.8130],\n",
       "         [3.5463],\n",
       "         [2.4272]], dtype=torch.float64)}"
      ]
     },
     "execution_count": 7,
     "metadata": {},
     "output_type": "execute_result"
    }
   ],
   "source": [
    "# Load a dataloader and get the first batch from it\n",
    "dl = dm.train_dataloader()\n",
    "it = iter(dl)\n",
    "batch = next(it)\n",
    "batch"
   ]
  },
  {
   "cell_type": "markdown",
   "metadata": {},
   "source": [
    "---\n",
    "\n",
    "## Launch a training\n",
    "\n",
    "In `goli.cli.train` I have added a `click` CLI command that take a config file as input and build the datamodule. Once I am done with the PL module I will complete the command.\n",
    "\n",
    "The way to use it is quite simple, you need to install goli with `pip install -e .` (omit`-e` in prod) and then:\n",
    "\n",
    "```bash\n",
    "goli train -c my_config.yaml\n",
    "```\n",
    "\n",
    "It's not here for now but usually I \"augment\" the CLI command with various config key you might want to set without having to modify the config file itself:\n",
    "\n",
    "```bash\n",
    "goli train -c my_config.yaml --training-path /home/hadim/data/goli/runs/exp_1\n",
    "```\n",
    "\n",
    "Later the same strategy could be done to launch an hparams tuning run (with a config file as above + a config file defning the search space).\n",
    "\n",
    "```bash\n",
    "goli tune -c my_config.yaml --tune-config tuning_space.yaml\n",
    "```"
   ]
  },
  {
   "cell_type": "code",
   "execution_count": null,
   "metadata": {},
   "outputs": [],
   "source": []
  }
 ],
 "metadata": {
  "kernelspec": {
   "display_name": "Python [conda env:goli]",
   "language": "python",
   "name": "conda-env-goli-py"
  },
  "language_info": {
   "codemirror_mode": {
    "name": "ipython",
    "version": 3
   },
   "file_extension": ".py",
   "mimetype": "text/x-python",
   "name": "python",
   "nbconvert_exporter": "python",
   "pygments_lexer": "ipython3",
   "version": "3.8.8"
  },
  "widgets": {
   "application/vnd.jupyter.widget-state+json": {
    "state": {},
    "version_major": 2,
    "version_minor": 0
   }
  }
 },
 "nbformat": 4,
 "nbformat_minor": 4
}
