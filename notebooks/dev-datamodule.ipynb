{
 "cells": [
  {
   "cell_type": "code",
   "execution_count": 1,
   "metadata": {},
   "outputs": [
    {
     "name": "stderr",
     "output_type": "stream",
     "text": [
      "Using backend: pytorch\n"
     ]
    }
   ],
   "source": [
    "%load_ext autoreload\n",
    "%autoreload 2\n",
    "\n",
    "import pathlib\n",
    "import functools\n",
    "import tempfile\n",
    "\n",
    "import numpy as np\n",
    "import pytorch_lightning as pl\n",
    "import torch\n",
    "import datamol as dm\n",
    "\n",
    "import goli"
   ]
  },
  {
   "cell_type": "code",
   "execution_count": 4,
   "metadata": {},
   "outputs": [
    {
     "data": {
      "text/html": [
       "<div>\n",
       "<style scoped>\n",
       "    .dataframe tbody tr th:only-of-type {\n",
       "        vertical-align: middle;\n",
       "    }\n",
       "\n",
       "    .dataframe tbody tr th {\n",
       "        vertical-align: top;\n",
       "    }\n",
       "\n",
       "    .dataframe thead th {\n",
       "        text-align: right;\n",
       "    }\n",
       "</style>\n",
       "<table border=\"1\" class=\"dataframe\">\n",
       "  <thead>\n",
       "    <tr style=\"text-align: right;\">\n",
       "      <th></th>\n",
       "      <th>SMILES</th>\n",
       "      <th>SA</th>\n",
       "      <th>logp</th>\n",
       "      <th>score</th>\n",
       "    </tr>\n",
       "  </thead>\n",
       "  <tbody>\n",
       "    <tr>\n",
       "      <th>0</th>\n",
       "      <td>CCc1ccc(C(=O)/C(=C(/S)NC2CC2)[n+]2ccc(CC)cc2)cc1</td>\n",
       "      <td>2.775189</td>\n",
       "      <td>3.7897</td>\n",
       "      <td>6.564889</td>\n",
       "    </tr>\n",
       "    <tr>\n",
       "      <th>1</th>\n",
       "      <td>C=CCOc1ccc(C(F)(F)F)cc1C(=O)NC[C@H]1CCC[C@H]1O</td>\n",
       "      <td>3.071498</td>\n",
       "      <td>3.1610</td>\n",
       "      <td>6.232498</td>\n",
       "    </tr>\n",
       "    <tr>\n",
       "      <th>2</th>\n",
       "      <td>COc1cc(OC)cc([C@@H](NC(=O)Cn2ccccc2=O)c2nccn2C)c1</td>\n",
       "      <td>2.840009</td>\n",
       "      <td>1.5048</td>\n",
       "      <td>4.344809</td>\n",
       "    </tr>\n",
       "    <tr>\n",
       "      <th>3</th>\n",
       "      <td>CN1CCC[C@@]2(CCN(C(=O)CN3CCNC(=O)C3)C2)C1=O</td>\n",
       "      <td>3.605168</td>\n",
       "      <td>-1.1109</td>\n",
       "      <td>2.494268</td>\n",
       "    </tr>\n",
       "    <tr>\n",
       "      <th>4</th>\n",
       "      <td>COc1ccc(Cl)cc1NC(=O)c1nn(C)cc1[N+](=O)[O-]</td>\n",
       "      <td>2.132665</td>\n",
       "      <td>2.2426</td>\n",
       "      <td>4.375265</td>\n",
       "    </tr>\n",
       "  </tbody>\n",
       "</table>\n",
       "</div>"
      ],
      "text/plain": [
       "                                              SMILES        SA    logp  \\\n",
       "0   CCc1ccc(C(=O)/C(=C(/S)NC2CC2)[n+]2ccc(CC)cc2)cc1  2.775189  3.7897   \n",
       "1     C=CCOc1ccc(C(F)(F)F)cc1C(=O)NC[C@H]1CCC[C@H]1O  3.071498  3.1610   \n",
       "2  COc1cc(OC)cc([C@@H](NC(=O)Cn2ccccc2=O)c2nccn2C)c1  2.840009  1.5048   \n",
       "3        CN1CCC[C@@]2(CCN(C(=O)CN3CCNC(=O)C3)C2)C1=O  3.605168 -1.1109   \n",
       "4         COc1ccc(Cl)cc1NC(=O)c1nn(C)cc1[N+](=O)[O-]  2.132665  2.2426   \n",
       "\n",
       "      score  \n",
       "0  6.564889  \n",
       "1  6.232498  \n",
       "2  4.344809  \n",
       "3  2.494268  \n",
       "4  4.375265  "
      ]
     },
     "execution_count": 4,
     "metadata": {},
     "output_type": "execute_result"
    }
   ],
   "source": [
    "# Setup a temporary cache file. Only for\n",
    "# demo purposes, use a known path in prod\n",
    "cache_data_path = pathlib.Path(tempfile.mkdtemp()) / \"cache.pkl\"\n",
    "\n",
    "# Load your dataframe\n",
    "df = goli.data.load_tiny_zinc()\n",
    "df.head()"
   ]
  },
  {
   "cell_type": "code",
   "execution_count": 5,
   "metadata": {},
   "outputs": [
    {
     "data": {
      "text/plain": [
       "<goli.data.datamodule.DGLFromSmilesDataModule at 0x7fb29e88d400>"
      ]
     },
     "execution_count": 5,
     "metadata": {},
     "output_type": "execute_result"
    }
   ],
   "source": [
    "# Not all the config keys must go in a config file. Some config\n",
    "# have good default that will not change very often.\n",
    "\n",
    "# Setup the featurization\n",
    "featurization_args = {}\n",
    "featurization_args[\"atom_property_list_float\"] = []  # [\"weight\", \"valence\"]\n",
    "featurization_args[\"atom_property_list_onehot\"] = [\"atomic-number\", \"degree\"]\n",
    "featurization_args[\"edge_property_list\"] = [\"ring\", \"bond-type-onehot\"]\n",
    "featurization_args[\"add_self_loop\"] = False\n",
    "featurization_args[\"use_bonds_weights\"] = False\n",
    "featurization_args[\"explicit_H\"] = False\n",
    "\n",
    "# Config for datamodule\n",
    "dm_args = {}\n",
    "dm_args[\"df\"] = df\n",
    "dm_args[\"cache_data_path\"] = cache_data_path  # unsed at the moment\n",
    "dm_args[\"featurization\"] = featurization_args\n",
    "dm_args[\"smiles_col\"] = \"SMILES\"\n",
    "dm_args[\"label_cols\"] = None#[\"SA\", \"logp\", \"score\"]\n",
    "dm_args[\"split_val\"] = 0.2\n",
    "dm_args[\"split_test\"] = 0.2\n",
    "dm_args[\"split_seed\"] = 19\n",
    "dm_args[\"train_val_batch_size\"] = 16\n",
    "dm_args[\"test_batch_size\"] = 16\n",
    "dm_args[\"num_workers\"] = 0\n",
    "dm_args[\"pin_memory\"] = True\n",
    "dm_args[\"featurization_n_jobs\"] = 16\n",
    "dm_args[\"featurization_progress\"] = True\n",
    "\n",
    "\n",
    "dm = goli.data.DGLFromSmilesDataModule(**dm_args)\n",
    "dm"
   ]
  },
  {
   "cell_type": "code",
   "execution_count": 11,
   "metadata": {},
   "outputs": [
    {
     "name": "stderr",
     "output_type": "stream",
     "text": [
      "2021-03-16 17:40:33.155 | INFO     | goli.data.datamodule:prepare_data:150 - Reload data from /tmp/tmp5wyleira/cache.pkl.\n"
     ]
    }
   ],
   "source": [
    "# Load and prepare the data\n",
    "dm.prepare_data()\n",
    "\n",
    "# Create the split torch datasets\n",
    "dm.setup()"
   ]
  },
  {
   "cell_type": "code",
   "execution_count": 12,
   "metadata": {},
   "outputs": [
    {
     "data": {
      "text/plain": [
       "{'smiles': ['c1cc2c(cc1N[C@@H]1CCOC3(CCC3)C1)CCC2',\n",
       "  'COc1ccc(Cl)cc1NC(=O)c1nn(C)cc1[N+](=O)[O-]',\n",
       "  'CC(=O)N1CC[C@@H]([NH2+][C@@H](C)CSCC(C)C)C1',\n",
       "  'CCc1onc(C)c1NC(=O)CCCC(C)(C)C',\n",
       "  'COC(C[C@@](C)(O)C[C@@H]1CCCN(S(C)(=O)=O)C1)OC',\n",
       "  'CCN1C(=O)C(C#N)=C(C)/C(=C\\\\Nc2ccc([N+](=O)[O-])cc2)C1=O',\n",
       "  'CCOC[C@H](O)[C@](C)(CC)[NH+]1CCCC1',\n",
       "  'O=C(Nc1c[nH]c2ccccc12)N1CCCC[C@@H]1CCO',\n",
       "  'O=C(CNc1nc(C2CC2)no1)N1CCc2sccc2C1',\n",
       "  'CC(C)n1cccc1C(=O)N[C@H]1CCc2cc(N)ccc21',\n",
       "  'Cc1ccsc1C(=O)NCCNC(=O)c1ccco1',\n",
       "  'COc1ccc2c(c1)[C@H]([NH2+][C@H](C)CCN1CCOCC1)CCCO2',\n",
       "  'CNC(=O)[C@@H]1CCC[NH+]1Cc1ccc(C)c(F)c1',\n",
       "  'CC[NH+](C/C=C/c1ccc(C#N)cc1)C[C@H](C)C#N',\n",
       "  'COC(=O)[C@H](C)N(Cc1ccccc1)C(=O)Cc1ccon1',\n",
       "  'CC1(C)CCC[C@H]1n1c(N)[nH+]c2ccccc21'],\n",
       " 'features': Graph(num_nodes=316, num_edges=670,\n",
       "       ndata_schemes={'feat': Scheme(shape=(50,), dtype=torch.float32)}\n",
       "       edata_schemes={'feat': Scheme(shape=(6,), dtype=torch.float32)}),\n",
       " 'labels': tensor([[3.3631, 3.6889, 7.0520],\n",
       "         [2.1327, 2.2426, 4.3753],\n",
       "         [4.4837, 0.9483, 5.4320],\n",
       "         [2.6016, 3.7003, 6.3019],\n",
       "         [3.6699, 0.8081, 4.4780],\n",
       "         [2.5011, 2.1194, 4.6204],\n",
       "         [5.1279, 0.2312, 5.3591],\n",
       "         [2.6748, 2.9367, 5.6115],\n",
       "         [2.7814, 2.0053, 4.7867],\n",
       "         [2.8873, 3.0685, 5.9558],\n",
       "         [2.1146, 1.8093, 3.9239],\n",
       "         [3.7891, 1.5831, 5.3722],\n",
       "         [4.3913, 0.4274, 4.8188],\n",
       "         [4.3629, 1.6360, 5.9989],\n",
       "         [2.8521, 1.8074, 4.6595],\n",
       "         [4.1520, 2.7888, 6.9408]], dtype=torch.float64)}"
      ]
     },
     "execution_count": 12,
     "metadata": {},
     "output_type": "execute_result"
    }
   ],
   "source": [
    "# Load a dataloader and get the first batch from it\n",
    "dl = dm.train_dataloader()\n",
    "it = iter(dl)\n",
    "batch = next(it)\n",
    "batch"
   ]
  },
  {
   "cell_type": "code",
   "execution_count": null,
   "metadata": {},
   "outputs": [],
   "source": []
  }
 ],
 "metadata": {
  "kernelspec": {
   "display_name": "Python [conda env:goli]",
   "language": "python",
   "name": "conda-env-goli-py"
  },
  "language_info": {
   "codemirror_mode": {
    "name": "ipython",
    "version": 3
   },
   "file_extension": ".py",
   "mimetype": "text/x-python",
   "name": "python",
   "nbconvert_exporter": "python",
   "pygments_lexer": "ipython3",
   "version": "3.8.6"
  },
  "widgets": {
   "application/vnd.jupyter.widget-state+json": {
    "state": {
     "0b53f02e746b402c92850f91f54d37a2": {
      "model_module": "@jupyter-widgets/base",
      "model_module_version": "1.2.0",
      "model_name": "LayoutModel",
      "state": {}
     },
     "25cfe345714b457eb205f17889387980": {
      "model_module": "@jupyter-widgets/controls",
      "model_module_version": "1.5.0",
      "model_name": "HTMLModel",
      "state": {
       "layout": "IPY_MODEL_41169119bc3c420480b4f204db3cc2e2",
       "style": "IPY_MODEL_a5fe4c5cbe0a4c3a980cd77a2239ad03",
       "value": " 100/100 [00:02&lt;00:00, 18.35it/s]"
      }
     },
     "2d0e6684261d4054a0a089805b58ae0e": {
      "model_module": "@jupyter-widgets/base",
      "model_module_version": "1.2.0",
      "model_name": "LayoutModel",
      "state": {}
     },
     "33e3e70ee67344f78c7821244e8ea476": {
      "model_module": "@jupyter-widgets/controls",
      "model_module_version": "1.5.0",
      "model_name": "HTMLModel",
      "state": {
       "layout": "IPY_MODEL_0b53f02e746b402c92850f91f54d37a2",
       "style": "IPY_MODEL_9d47a8d282cd423e8abfccd962314657",
       "value": "100%"
      }
     },
     "41169119bc3c420480b4f204db3cc2e2": {
      "model_module": "@jupyter-widgets/base",
      "model_module_version": "1.2.0",
      "model_name": "LayoutModel",
      "state": {}
     },
     "6bd9f0922fd142518cbec44730456e0c": {
      "model_module": "@jupyter-widgets/controls",
      "model_module_version": "1.5.0",
      "model_name": "FloatProgressModel",
      "state": {
       "bar_style": "success",
       "layout": "IPY_MODEL_fc9c11bf06d74ce9b0625ae9ea54b702",
       "style": "IPY_MODEL_851268b61da446cfb31d644a17f2efbd",
       "value": 100
      }
     },
     "6f0ac3b23f0b434da3093925f569dcfa": {
      "model_module": "@jupyter-widgets/controls",
      "model_module_version": "1.5.0",
      "model_name": "HBoxModel",
      "state": {
       "children": [
        "IPY_MODEL_33e3e70ee67344f78c7821244e8ea476",
        "IPY_MODEL_6bd9f0922fd142518cbec44730456e0c",
        "IPY_MODEL_25cfe345714b457eb205f17889387980"
       ],
       "layout": "IPY_MODEL_2d0e6684261d4054a0a089805b58ae0e"
      }
     },
     "851268b61da446cfb31d644a17f2efbd": {
      "model_module": "@jupyter-widgets/controls",
      "model_module_version": "1.5.0",
      "model_name": "ProgressStyleModel",
      "state": {
       "description_width": ""
      }
     },
     "9d47a8d282cd423e8abfccd962314657": {
      "model_module": "@jupyter-widgets/controls",
      "model_module_version": "1.5.0",
      "model_name": "DescriptionStyleModel",
      "state": {
       "description_width": ""
      }
     },
     "a5fe4c5cbe0a4c3a980cd77a2239ad03": {
      "model_module": "@jupyter-widgets/controls",
      "model_module_version": "1.5.0",
      "model_name": "DescriptionStyleModel",
      "state": {
       "description_width": ""
      }
     },
     "fc9c11bf06d74ce9b0625ae9ea54b702": {
      "model_module": "@jupyter-widgets/base",
      "model_module_version": "1.2.0",
      "model_name": "LayoutModel",
      "state": {}
     }
    },
    "version_major": 2,
    "version_minor": 0
   }
  }
 },
 "nbformat": 4,
 "nbformat_minor": 4
}
