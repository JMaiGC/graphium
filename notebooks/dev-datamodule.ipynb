{
 "cells": [
  {
   "cell_type": "code",
   "execution_count": 1,
   "metadata": {},
   "outputs": [
    {
     "name": "stderr",
     "output_type": "stream",
     "text": [
      "Using backend: pytorch\n"
     ]
    }
   ],
   "source": [
    "%load_ext autoreload\n",
    "%autoreload 2\n",
    "\n",
    "import pathlib\n",
    "import functools\n",
    "import tempfile\n",
    "\n",
    "import numpy as np\n",
    "import pytorch_lightning as pl\n",
    "import torch\n",
    "import datamol as dm\n",
    "\n",
    "import goli"
   ]
  },
  {
   "cell_type": "code",
   "execution_count": 2,
   "metadata": {},
   "outputs": [
    {
     "data": {
      "text/html": [
       "<div>\n",
       "<style scoped>\n",
       "    .dataframe tbody tr th:only-of-type {\n",
       "        vertical-align: middle;\n",
       "    }\n",
       "\n",
       "    .dataframe tbody tr th {\n",
       "        vertical-align: top;\n",
       "    }\n",
       "\n",
       "    .dataframe thead th {\n",
       "        text-align: right;\n",
       "    }\n",
       "</style>\n",
       "<table border=\"1\" class=\"dataframe\">\n",
       "  <thead>\n",
       "    <tr style=\"text-align: right;\">\n",
       "      <th></th>\n",
       "      <th>SMILES</th>\n",
       "      <th>SA</th>\n",
       "      <th>logp</th>\n",
       "      <th>score</th>\n",
       "    </tr>\n",
       "  </thead>\n",
       "  <tbody>\n",
       "    <tr>\n",
       "      <th>0</th>\n",
       "      <td>CCc1ccc(C(=O)/C(=C(/S)NC2CC2)[n+]2ccc(CC)cc2)cc1</td>\n",
       "      <td>2.775189</td>\n",
       "      <td>3.7897</td>\n",
       "      <td>6.564889</td>\n",
       "    </tr>\n",
       "    <tr>\n",
       "      <th>1</th>\n",
       "      <td>C=CCOc1ccc(C(F)(F)F)cc1C(=O)NC[C@H]1CCC[C@H]1O</td>\n",
       "      <td>3.071498</td>\n",
       "      <td>3.1610</td>\n",
       "      <td>6.232498</td>\n",
       "    </tr>\n",
       "    <tr>\n",
       "      <th>2</th>\n",
       "      <td>COc1cc(OC)cc([C@@H](NC(=O)Cn2ccccc2=O)c2nccn2C)c1</td>\n",
       "      <td>2.840009</td>\n",
       "      <td>1.5048</td>\n",
       "      <td>4.344809</td>\n",
       "    </tr>\n",
       "    <tr>\n",
       "      <th>3</th>\n",
       "      <td>CN1CCC[C@@]2(CCN(C(=O)CN3CCNC(=O)C3)C2)C1=O</td>\n",
       "      <td>3.605168</td>\n",
       "      <td>-1.1109</td>\n",
       "      <td>2.494268</td>\n",
       "    </tr>\n",
       "    <tr>\n",
       "      <th>4</th>\n",
       "      <td>COc1ccc(Cl)cc1NC(=O)c1nn(C)cc1[N+](=O)[O-]</td>\n",
       "      <td>2.132665</td>\n",
       "      <td>2.2426</td>\n",
       "      <td>4.375265</td>\n",
       "    </tr>\n",
       "  </tbody>\n",
       "</table>\n",
       "</div>"
      ],
      "text/plain": [
       "                                              SMILES        SA    logp  \\\n",
       "0   CCc1ccc(C(=O)/C(=C(/S)NC2CC2)[n+]2ccc(CC)cc2)cc1  2.775189  3.7897   \n",
       "1     C=CCOc1ccc(C(F)(F)F)cc1C(=O)NC[C@H]1CCC[C@H]1O  3.071498  3.1610   \n",
       "2  COc1cc(OC)cc([C@@H](NC(=O)Cn2ccccc2=O)c2nccn2C)c1  2.840009  1.5048   \n",
       "3        CN1CCC[C@@]2(CCN(C(=O)CN3CCNC(=O)C3)C2)C1=O  3.605168 -1.1109   \n",
       "4         COc1ccc(Cl)cc1NC(=O)c1nn(C)cc1[N+](=O)[O-]  2.132665  2.2426   \n",
       "\n",
       "      score  \n",
       "0  6.564889  \n",
       "1  6.232498  \n",
       "2  4.344809  \n",
       "3  2.494268  \n",
       "4  4.375265  "
      ]
     },
     "execution_count": 2,
     "metadata": {},
     "output_type": "execute_result"
    }
   ],
   "source": [
    "# Setup a temporary cache file. Only for\n",
    "# demo purposes, use a known path in prod\n",
    "cache_data_path = pathlib.Path(tempfile.mkdtemp()) / \"cache.pkl\"\n",
    "\n",
    "# Load a dataframe\n",
    "df = goli.data.load_tiny_zinc()\n",
    "df.head()"
   ]
  },
  {
   "cell_type": "code",
   "execution_count": 7,
   "metadata": {},
   "outputs": [
    {
     "name": "stderr",
     "output_type": "stream",
     "text": [
      "[autoreload of goli.data.datamodule failed: Traceback (most recent call last):\n",
      "  File \"/home/hadim/local/conda/envs/goli/lib/python3.8/site-packages/IPython/extensions/autoreload.py\", line 245, in check\n",
      "    superreload(m, reload, self.old_objects)\n",
      "  File \"/home/hadim/local/conda/envs/goli/lib/python3.8/site-packages/IPython/extensions/autoreload.py\", line 410, in superreload\n",
      "    update_generic(old_obj, new_obj)\n",
      "  File \"/home/hadim/local/conda/envs/goli/lib/python3.8/site-packages/IPython/extensions/autoreload.py\", line 347, in update_generic\n",
      "    update(a, b)\n",
      "  File \"/home/hadim/local/conda/envs/goli/lib/python3.8/site-packages/IPython/extensions/autoreload.py\", line 302, in update_class\n",
      "    if update_generic(old_obj, new_obj): continue\n",
      "  File \"/home/hadim/local/conda/envs/goli/lib/python3.8/site-packages/IPython/extensions/autoreload.py\", line 347, in update_generic\n",
      "    update(a, b)\n",
      "  File \"/home/hadim/local/conda/envs/goli/lib/python3.8/site-packages/IPython/extensions/autoreload.py\", line 266, in update_function\n",
      "    setattr(old, name, getattr(new, name))\n",
      "ValueError: prepare_data() requires a code object with 1 free vars, not 0\n",
      "]\n"
     ]
    },
    {
     "data": {
      "text/plain": [
       "<goli.data.datamodule.DGLFromSmilesDataModule at 0x7f153e8d95b0>"
      ]
     },
     "execution_count": 7,
     "metadata": {},
     "output_type": "execute_result"
    }
   ],
   "source": [
    "# All the below config are primitive types and can be easily\n",
    "# embeded in a YAML config file\n",
    "\n",
    "# Setup the featurization\n",
    "featurization_args = {}\n",
    "featurization_args[\"atom_property_list_float\"] = []  # [\"weight\", \"valence\"]\n",
    "featurization_args[\"atom_property_list_onehot\"] = [\"atomic-number\", \"degree\"]\n",
    "featurization_args[\"edge_property_list\"] = [\"ring\", \"bond-type-onehot\"]\n",
    "featurization_args[\"add_self_loop\"] = False\n",
    "featurization_args[\"use_bonds_weights\"] = False\n",
    "featurization_args[\"explicit_H\"] = False\n",
    "\n",
    "# Config for datamodule\n",
    "dm_args = {}\n",
    "dm_args[\"df\"] = df\n",
    "dm_args[\"cache_data_path\"] = None#cache_data_path  # unsed at the moment\n",
    "dm_args[\"featurization\"] = featurization_args\n",
    "dm_args[\"smiles_col\"] = \"SMILES\"\n",
    "dm_args[\"label_cols\"] = [\"SA\"]\n",
    "dm_args[\"split_val\"] = 0.2\n",
    "dm_args[\"split_test\"] = 0.2\n",
    "dm_args[\"split_seed\"] = 19\n",
    "dm_args[\"train_val_batch_size\"] = 16\n",
    "dm_args[\"test_batch_size\"] = 16\n",
    "dm_args[\"num_workers\"] = 0\n",
    "dm_args[\"pin_memory\"] = True\n",
    "dm_args[\"featurization_n_jobs\"] = 16\n",
    "dm_args[\"featurization_progress\"] = True\n",
    "\n",
    "\n",
    "dm = goli.data.DGLFromSmilesDataModule(**dm_args)\n",
    "dm"
   ]
  },
  {
   "cell_type": "code",
   "execution_count": 4,
   "metadata": {},
   "outputs": [
    {
     "name": "stderr",
     "output_type": "stream",
     "text": [
      "2021-03-16 17:42:12.764 | INFO     | goli.data.datamodule:prepare_data:171 - Prepare dataset with 100 data points.\n"
     ]
    },
    {
     "data": {
      "application/vnd.jupyter.widget-view+json": {
       "model_id": "0c989afc0598483a9d5b5fb647a8703f",
       "version_major": 2,
       "version_minor": 0
      },
      "text/plain": [
       "  0%|          | 0/100 [00:00<?, ?it/s]"
      ]
     },
     "metadata": {},
     "output_type": "display_data"
    },
    {
     "name": "stderr",
     "output_type": "stream",
     "text": [
      "2021-03-16 17:42:15.590 | INFO     | goli.data.datamodule:prepare_data:203 - Write prepared data to /tmp/tmphnijy1ze/cache.pkl\n"
     ]
    }
   ],
   "source": [
    "# Load and prepare the data\n",
    "dm.prepare_data()\n",
    "\n",
    "# Create the split torch datasets\n",
    "dm.setup()"
   ]
  },
  {
   "cell_type": "code",
   "execution_count": 5,
   "metadata": {},
   "outputs": [
    {
     "data": {
      "text/plain": [
       "{'smiles': ['CCN1C(=O)C(C#N)=C(C)/C(=C\\\\Nc2ccc([N+](=O)[O-])cc2)C1=O',\n",
       "  'COc1ccc(-c2noc3ncnc(N4CCC[C@H](C(=O)[O-])C4)c23)cc1',\n",
       "  'Cc1ccc(C(=O)N2CCC[C@@H](C(=O)N(C)CC(=O)NC(C)C)C2)cc1',\n",
       "  'O=C(Nc1ccnn1Cc1cccc(Cl)c1)C1CCN(S(=O)(=O)c2ccccc2F)CC1',\n",
       "  'CCc1onc(C)c1NC(=O)CCCC(C)(C)C',\n",
       "  'C=CCSc1nnc(C2CCOCC2)n1N',\n",
       "  'O=c1c2c3nc4ccccc4nc3n(CCC3=CCCCC3)c2ncn1C[C@H]1CCCO1',\n",
       "  'CC(=O)c1c(C)[nH]c(C(=O)OCC(=O)N2C[C@H](C)C[C@@H](C)C2)c1C',\n",
       "  'CCOc1ccc(C[NH+]2CCS[C@H]3COCC[C@@H]32)cc1OC',\n",
       "  'CN1C[C@H](C(=O)NC[C@H]2CCC(C)(C)c3ccccc32)CC1=O',\n",
       "  'Cc1cc(C(=O)N2CCN(C(=O)N[C@H]3CC(=O)N(C4CC4)C3)CC2)c(C)o1',\n",
       "  'COc1ccc2c(c1)[C@H]([NH2+][C@H](C)CCN1CCOCC1)CCCO2',\n",
       "  'C[NH2+]Cc1ccc(-c2cc(C)ccc2F)s1',\n",
       "  'COC(=O)[C@H](C)N(Cc1ccccc1)C(=O)Cc1ccon1',\n",
       "  'Cc1ccsc1C(=O)NCCNC(=O)c1ccco1',\n",
       "  'COc1cccc(OCC(=O)N2CCN(c3nc4ccc(S(C)(=O)=O)cc4s3)CC2)c1'],\n",
       " 'features': Graph(num_nodes=382, num_edges=824,\n",
       "       ndata_schemes={'feat': Scheme(shape=(50,), dtype=torch.float32)}\n",
       "       edata_schemes={'feat': Scheme(shape=(6,), dtype=torch.float32)}),\n",
       " 'labels': tensor([[2.5011],\n",
       "         [3.1529],\n",
       "         [2.4929],\n",
       "         [2.2964],\n",
       "         [2.6016],\n",
       "         [2.8250],\n",
       "         [3.2573],\n",
       "         [3.0685],\n",
       "         [4.5141],\n",
       "         [3.2594],\n",
       "         [2.9217],\n",
       "         [3.7891],\n",
       "         [3.1286],\n",
       "         [2.8521],\n",
       "         [2.1146],\n",
       "         [2.2454]], dtype=torch.float64)}"
      ]
     },
     "execution_count": 5,
     "metadata": {},
     "output_type": "execute_result"
    }
   ],
   "source": [
    "# Load a dataloader and get the first batch from it\n",
    "dl = dm.train_dataloader()\n",
    "it = iter(dl)\n",
    "batch = next(it)\n",
    "batch"
   ]
  },
  {
   "cell_type": "code",
   "execution_count": null,
   "metadata": {},
   "outputs": [],
   "source": []
  }
 ],
 "metadata": {
  "kernelspec": {
   "display_name": "Python [conda env:goli]",
   "language": "python",
   "name": "conda-env-goli-py"
  },
  "language_info": {
   "codemirror_mode": {
    "name": "ipython",
    "version": 3
   },
   "file_extension": ".py",
   "mimetype": "text/x-python",
   "name": "python",
   "nbconvert_exporter": "python",
   "pygments_lexer": "ipython3",
   "version": "3.8.6"
  },
  "widgets": {
   "application/vnd.jupyter.widget-state+json": {
    "state": {},
    "version_major": 2,
    "version_minor": 0
   }
  }
 },
 "nbformat": 4,
 "nbformat_minor": 4
}
