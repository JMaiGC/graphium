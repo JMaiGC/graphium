{
 "cells": [
  {
   "attachments": {},
   "cell_type": "markdown",
   "metadata": {},
   "source": [
    "# Prepare labels of SMILES dataset for multi-level multi-tasking\n",
    "Use this notebook to convert the labels of a SMILES-based dataset, removing hydrogen atoms."
   ]
  },
  {
   "cell_type": "code",
   "execution_count": 8,
   "metadata": {},
   "outputs": [],
   "source": [
    "import pandas as pd\n",
    "import numpy as np\n",
    "from rdkit import Chem"
   ]
  },
  {
   "cell_type": "code",
   "execution_count": 11,
   "metadata": {},
   "outputs": [],
   "source": [
    "def get_non_hydrogen_node_labels(smiles, node_labels):\n",
    "        mol = Chem.MolFromSmiles(smiles)\n",
    "        \n",
    "        non_hydrogen_node_labels = [\n",
    "             node_labels[i] for i, atom in enumerate(mol.GetAtoms()) if atom.GetAtomicNum() != 1\n",
    "        ]\n",
    "\n",
    "        if len(non_hydrogen_node_labels) == 0:\n",
    "            non_hydrogen_node_labels = node_labels\n",
    "\n",
    "        if isinstance(node_labels, list):\n",
    "            return non_hydrogen_node_labels\n",
    "        elif isinstance(node_labels, np.ndarray):\n",
    "            return np.array(non_hydrogen_node_labels, dtype=node_labels.dtype)\n",
    "        else:\n",
    "            raise ValueError(\"Labels need to be list or np.ndarray\")\n",
    "\n",
    "def get_non_hydrogen_edge_labels(smiles, edge_labels):\n",
    "    mol = Chem.MolFromSmiles(smiles)\n",
    "\n",
    "    non_hydrogen_edge_labels = [\n",
    "        label\n",
    "        for i, bond in enumerate(mol.GetBonds())\n",
    "        for label in (edge_labels[i], edge_labels[i])  # duplicate the label for both directions\n",
    "        if bond.GetBeginAtom().GetSymbol() != \"H\" and bond.GetEndAtom().GetSymbol() != \"H\"\n",
    "    ]\n",
    "\n",
    "    if len(non_hydrogen_edge_labels) == 0:\n",
    "       non_hydrogen_edge_labels = edge_labels\n",
    "\n",
    "    if isinstance(edge_labels, list):\n",
    "        return non_hydrogen_edge_labels\n",
    "    elif isinstance(edge_labels, np.ndarray):\n",
    "        return np.array(non_hydrogen_edge_labels, dtype=edge_labels.dtype)\n",
    "    else:\n",
    "        raise ValueError(\"Labels need to be list or np.ndarray\")\n",
    "\n",
    "def get_non_hydrogen_nodepair_labels(smiles, nodepair_labels):\n",
    "    mol = Chem.MolFromSmiles(smiles)\n",
    "\n",
    "    non_hydrogen_nodepair_labels = [\n",
    "            nodepair_labels[i * mol.GetNumAtoms() + j]\n",
    "            for i, atom_i in enumerate(mol.GetAtoms()) if atom_i.GetAtomicNum() != 1\n",
    "            for j, atom_j in enumerate(mol.GetAtoms()) if atom_j.GetAtomicNum() != 1\n",
    "    ]\n",
    "\n",
    "    if len(non_hydrogen_nodepair_labels) == 0:\n",
    "       non_hydrogen_nodepair_labels = nodepair_labels\n",
    "\n",
    "    if isinstance(nodepair_labels, list):\n",
    "        return non_hydrogen_nodepair_labels\n",
    "    elif isinstance(nodepair_labels, np.ndarray):\n",
    "        return np.array(non_hydrogen_nodepair_labels, dtype=nodepair_labels.dtype)\n",
    "    else:\n",
    "        raise ValueError(\"Labels need to be list or np.ndarray\")\n",
    "\n",
    "def extract_hydrogen_from_labels(data: pd.DataFrame, smiles_col: str, node_labels = [], edge_labels = [], nodepair_labels = []):\n",
    "    \"\"\"Extracts hydrogens from labels. Columns not explicity named are not modified.\n",
    "    \n",
    "    Parameters:\n",
    "        data: input data\n",
    "        smiles_col: name by which the smiles string can be fetched\n",
    "        node_labels: name of node labels to convert\n",
    "        edge_labels: name of edge labels to convert\n",
    "        nodepair_labels: name of nodepair labels to convert\n",
    "    Returns: \n",
    "        Converted data\n",
    "    \"\"\"\n",
    "    def _extract_hydrogen(label_name, smiles, labels):\n",
    "        if label_name in node_labels:\n",
    "            return get_non_hydrogen_node_labels(smiles, labels)\n",
    "        elif label_name in edge_labels:\n",
    "            return get_non_hydrogen_edge_labels(smiles, labels)\n",
    "        elif label_name in nodepair_labels:\n",
    "            return get_non_hydrogen_nodepair_labels(smiles, labels)\n",
    "        return labels\n",
    "\n",
    "    def _extract_hydrogen_by_graph(graph: pd.Series):\n",
    "        graph = graph.to_dict()\n",
    "        return pd.Series({ k: _extract_hydrogen(k, graph[smiles_col], v)  for k, v in graph.items()})\n",
    "    \n",
    "    return data.apply(_extract_hydrogen_by_graph, axis=\"columns\")"
   ]
  },
  {
   "attachments": {},
   "cell_type": "markdown",
   "metadata": {},
   "source": [
    "Read a `.parquet` file, extract hydrogens and write back to disk."
   ]
  },
  {
   "cell_type": "code",
   "execution_count": 12,
   "metadata": {},
   "outputs": [],
   "source": [
    "data = pd.read_parquet(\"../tests/fake_multilevel_data.parquet\")\n",
    "converted_data = extract_hydrogen_from_labels(data, \"ordered_smiles\", [\"node_label_list\", \"node_label_np\"], [\"edge_label_list\", \"edge_label_np\"], [\"nodepair_label_list\", \"nodepair_label_np\"])\n",
    "converted_data.to_parquet(\"../tests/converted_fake_multilevel_data.parquet\")"
   ]
  }
 ],
 "metadata": {
  "kernelspec": {
   "display_name": "goli_dev",
   "language": "python",
   "name": "python3"
  },
  "language_info": {
   "codemirror_mode": {
    "name": "ipython",
    "version": 3
   },
   "file_extension": ".py",
   "mimetype": "text/x-python",
   "name": "python",
   "nbconvert_exporter": "python",
   "pygments_lexer": "ipython3",
   "version": "3.10.10"
  },
  "orig_nbformat": 4
 },
 "nbformat": 4,
 "nbformat_minor": 2
}
