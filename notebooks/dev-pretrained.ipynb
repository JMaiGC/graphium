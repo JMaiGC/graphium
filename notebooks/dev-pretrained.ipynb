{
 "cells": [
  {
   "cell_type": "code",
   "execution_count": 2,
   "metadata": {},
   "outputs": [
    {
     "name": "stderr",
     "output_type": "stream",
     "text": [
      "Using backend: pytorch\n"
     ]
    }
   ],
   "source": [
    "%load_ext autoreload\n",
    "%autoreload 2\n",
    "\n",
    "import pathlib\n",
    "import functools\n",
    "import tempfile\n",
    "import yaml\n",
    "\n",
    "from loguru import logger\n",
    "\n",
    "import numpy as np\n",
    "import pytorch_lightning as pl\n",
    "import torch\n",
    "import datamol as dm\n",
    "import pandas as pd\n",
    "\n",
    "import goli"
   ]
  },
  {
   "cell_type": "markdown",
   "metadata": {},
   "source": [
    "## Training"
   ]
  },
  {
   "cell_type": "code",
   "execution_count": 2,
   "metadata": {},
   "outputs": [],
   "source": [
    "# Load a config\n",
    "with open(\"../expts/config_micro_ZINC.yaml\", \"r\") as file:\n",
    "    yaml_config = yaml.load(file, Loader=yaml.FullLoader)"
   ]
  },
  {
   "cell_type": "code",
   "execution_count": 3,
   "metadata": {},
   "outputs": [],
   "source": [
    "training_dir = \"/home/hadim/Drive/Data/goli/test-training\"\n",
    "\n",
    "# Tweak config and paths\n",
    "yaml_config[\"datamodule\"][\"args\"][\"df_path\"] = \"../goli/data/micro_ZINC/micro_ZINC.csv\"\n",
    "yaml_config[\"datamodule\"][\"args\"][\"cache_data_path\"] = None\n",
    "\n",
    "yaml_config[\"trainer\"][\"trainer\"][\"min_epochs\"] = 1\n",
    "yaml_config[\"trainer\"][\"trainer\"][\"max_epochs\"] = 1\n",
    "\n",
    "yaml_config[\"trainer\"][\"logger\"][\"save_dir\"] = training_dir\n",
    "yaml_config[\"trainer\"][\"model_checkpoint\"][\"dirpath\"] = None\n",
    "yaml_config[\"trainer\"][\"trainer\"][\"default_root_dir\"] = training_dir"
   ]
  },
  {
   "cell_type": "code",
   "execution_count": 4,
   "metadata": {},
   "outputs": [
    {
     "name": "stderr",
     "output_type": "stream",
     "text": [
      "/home/hadim/Drive/Documents/valence/Platform/Libs/goli/goli/features/spectral.py:43: ComplexWarning: Casting complex values to real discards the imaginary part\n",
      "  eigvecs[comp, :] = this_eigvecs\n",
      "/home/hadim/Drive/Documents/valence/Platform/Libs/goli/goli/features/spectral.py:44: ComplexWarning: Casting complex values to real discards the imaginary part\n",
      "  eigvals_tile[comp, :] = this_eigvals\n",
      "2021-06-08 13:34:09.135 | WARNING  | goli.config._loader:load_trainer:124 - Number of GPUs selected is `1`, but will be ignored since no GPU are available on this device\n",
      "GPU available: False, used: False\n",
      "TPU available: False, using: 0 TPU cores\n"
     ]
    }
   ],
   "source": [
    "# Load datamodule\n",
    "datamodule = goli.config.load_datamodule(yaml_config)\n",
    "\n",
    "# Initialize the network\n",
    "model_class, model_kwargs = goli.config.load_architecture(\n",
    "    yaml_config,\n",
    "    in_dim_nodes=datamodule.num_node_feats_with_positional_encoding,\n",
    "    in_dim_edges=datamodule.num_edge_feats,\n",
    ")\n",
    "\n",
    "# Init trainer\n",
    "metrics = goli.config.load_metrics(yaml_config)\n",
    "predictor = goli.config.load_predictor(yaml_config, model_class, model_kwargs, metrics)\n",
    "trainer = goli.config.load_trainer(yaml_config)"
   ]
  },
  {
   "cell_type": "code",
   "execution_count": 5,
   "metadata": {},
   "outputs": [
    {
     "name": "stderr",
     "output_type": "stream",
     "text": [
      "2021-06-08 13:34:10.118 | INFO     | goli.data.datamodule:prepare_data:347 - Prepare dataset with 1000 data points.\n"
     ]
    },
    {
     "data": {
      "application/vnd.jupyter.widget-view+json": {
       "model_id": "9fc35f5ef68542048dd5e89b857130bd",
       "version_major": 2,
       "version_minor": 0
      },
      "text/plain": [
       "  0%|          | 0/1000 [00:00<?, ?it/s]"
      ]
     },
     "metadata": {},
     "output_type": "display_data"
    },
    {
     "name": "stderr",
     "output_type": "stream",
     "text": [
      "/home/hadim/local/conda/envs/goli/lib/python3.9/site-packages/pytorch_lightning/utilities/distributed.py:69: RuntimeWarning: Found unsupported keys in the lr scheduler dict: ['mode']\n",
      "  warnings.warn(*args, **kwargs)\n",
      "\n",
      "  | Name     | Type           | Params\n",
      "--------------------------------------------\n",
      "0 | model    | FullDGLNetwork | 74.4 K\n",
      "1 | loss_fun | MSELoss        | 0     \n",
      "--------------------------------------------\n",
      "74.4 K    Trainable params\n",
      "0         Non-trainable params\n",
      "74.4 K    Total params\n",
      "0.298     Total estimated model params size (MB)\n"
     ]
    },
    {
     "data": {
      "application/vnd.jupyter.widget-view+json": {
       "model_id": "",
       "version_major": 2,
       "version_minor": 0
      },
      "text/plain": [
       "Validation sanity check: 0it [00:00, ?it/s]"
      ]
     },
     "metadata": {},
     "output_type": "display_data"
    },
    {
     "name": "stderr",
     "output_type": "stream",
     "text": [
      "/home/hadim/local/conda/envs/goli/lib/python3.9/site-packages/pytorch_lightning/utilities/distributed.py:69: UserWarning: The dataloader, val dataloader 0, does not have many workers which may be a bottleneck. Consider increasing the value of the `num_workers` argument` (try 16 which is the number of cpus on this machine) in the `DataLoader` init to improve performance.\n",
      "  warnings.warn(*args, **kwargs)\n",
      "/home/hadim/local/conda/envs/goli/lib/python3.9/site-packages/dgl/base.py:45: DGLWarning: DGLGraph.in_degree is deprecated. Please use DGLGraph.in_degrees\n",
      "  return warnings.warn(message, category=category, stacklevel=1)\n",
      "/home/hadim/local/conda/envs/goli/lib/python3.9/site-packages/pytorch_lightning/utilities/distributed.py:69: UserWarning: The dataloader, train dataloader, does not have many workers which may be a bottleneck. Consider increasing the value of the `num_workers` argument` (try 16 which is the number of cpus on this machine) in the `DataLoader` init to improve performance.\n",
      "  warnings.warn(*args, **kwargs)\n"
     ]
    },
    {
     "data": {
      "application/vnd.jupyter.widget-view+json": {
       "model_id": "8aca5a77af224bdbb7478a4021fd83da",
       "version_major": 2,
       "version_minor": 0
      },
      "text/plain": [
       "Training: 0it [00:00, ?it/s]"
      ]
     },
     "metadata": {},
     "output_type": "display_data"
    },
    {
     "data": {
      "application/vnd.jupyter.widget-view+json": {
       "model_id": "",
       "version_major": 2,
       "version_minor": 0
      },
      "text/plain": [
       "Validating: 0it [00:00, ?it/s]"
      ]
     },
     "metadata": {},
     "output_type": "display_data"
    }
   ],
   "source": [
    "# Training\n",
    "trainer.fit(model=predictor, datamodule=datamodule)"
   ]
  },
  {
   "cell_type": "markdown",
   "metadata": {},
   "source": [
    "## Load pretrained (hard coded path)"
   ]
  },
  {
   "cell_type": "code",
   "execution_count": 3,
   "metadata": {},
   "outputs": [],
   "source": [
    "# Load a config\n",
    "with open(\"../expts/config_micro_ZINC.yaml\", \"r\") as file:\n",
    "    yaml_config = yaml.load(file, Loader=yaml.FullLoader)"
   ]
  },
  {
   "cell_type": "code",
   "execution_count": 4,
   "metadata": {},
   "outputs": [],
   "source": [
    "training_dir = \"/home/hadim/Drive/Data/goli/test-training\"\n",
    "\n",
    "# Tweak config and paths\n",
    "yaml_config[\"datamodule\"][\"args\"][\"df_path\"] = \"../goli/data/micro_ZINC/micro_ZINC.csv\"\n",
    "yaml_config[\"datamodule\"][\"args\"][\"cache_data_path\"] = None\n",
    "\n",
    "yaml_config[\"trainer\"][\"trainer\"][\"min_epochs\"] = 1\n",
    "yaml_config[\"trainer\"][\"trainer\"][\"max_epochs\"] = 1\n",
    "\n",
    "yaml_config[\"trainer\"][\"logger\"][\"save_dir\"] = training_dir\n",
    "yaml_config[\"trainer\"][\"model_checkpoint\"][\"dirpath\"] = None\n",
    "yaml_config[\"trainer\"][\"trainer\"][\"default_root_dir\"] = training_dir"
   ]
  },
  {
   "cell_type": "code",
   "execution_count": 7,
   "metadata": {},
   "outputs": [
    {
     "name": "stderr",
     "output_type": "stream",
     "text": [
      "2021-06-08 13:37:06.943 | WARNING  | goli.config._loader:load_trainer:124 - Number of GPUs selected is `1`, but will be ignored since no GPU are available on this device\n",
      "GPU available: False, used: False\n",
      "TPU available: False, using: 0 TPU cores\n"
     ]
    }
   ],
   "source": [
    "# Load datamodule\n",
    "datamodule = goli.config.load_datamodule(yaml_config)\n",
    "\n",
    "# Load a trainer\n",
    "trainer = goli.config.load_trainer(yaml_config)"
   ]
  },
  {
   "cell_type": "code",
   "execution_count": 9,
   "metadata": {},
   "outputs": [
    {
     "name": "stderr",
     "output_type": "stream",
     "text": [
      "/home/hadim/local/conda/envs/goli/lib/python3.9/site-packages/pytorch_lightning/utilities/distributed.py:69: UserWarning: The dataloader, predict dataloader 0, does not have many workers which may be a bottleneck. Consider increasing the value of the `num_workers` argument` (try 16 which is the number of cpus on this machine) in the `DataLoader` init to improve performance.\n",
      "  warnings.warn(*args, **kwargs)\n"
     ]
    },
    {
     "data": {
      "application/vnd.jupyter.widget-view+json": {
       "model_id": "b4a4fa9d68f94d878bd04ac8883b17cd",
       "version_major": 2,
       "version_minor": 0
      },
      "text/plain": [
       "Predicting: 0it [00:00, ?it/s]"
      ]
     },
     "metadata": {},
     "output_type": "display_data"
    },
    {
     "name": "stderr",
     "output_type": "stream",
     "text": [
      "/home/hadim/local/conda/envs/goli/lib/python3.9/site-packages/dgl/base.py:45: DGLWarning: DGLGraph.in_degree is deprecated. Please use DGLGraph.in_degrees\n",
      "  return warnings.warn(message, category=category, stacklevel=1)\n"
     ]
    }
   ],
   "source": [
    "# Load a pretrained model\n",
    "model_path = \"s3://goli-public/pretrained-models/ZINC-micro-dummy-test.ckpt\"\n",
    "# model_path = \"/home/hadim/Drive/Data/goli/test-training/default/version_0/checkpoints/model.ckpt\"\n",
    "predictor = goli.trainer.predictor.PredictorModule.load_from_checkpoint(model_path)\n",
    "\n",
    "# Inference\n",
    "results = trainer.predict(predictor, datamodule=datamodule, return_predictions=True)"
   ]
  },
  {
   "cell_type": "markdown",
   "metadata": {},
   "source": [
    "## Load pretrained (from goli available models)"
   ]
  },
  {
   "cell_type": "code",
   "execution_count": 16,
   "metadata": {},
   "outputs": [],
   "source": [
    "# Load a config\n",
    "with open(\"../expts/config_micro_ZINC.yaml\", \"r\") as file:\n",
    "    yaml_config = yaml.load(file, Loader=yaml.FullLoader)"
   ]
  },
  {
   "cell_type": "code",
   "execution_count": 17,
   "metadata": {},
   "outputs": [],
   "source": [
    "training_dir = \"/home/hadim/Drive/Data/goli/test-training\"\n",
    "\n",
    "# Tweak config and paths\n",
    "yaml_config[\"datamodule\"][\"args\"][\"df_path\"] = \"../goli/data/micro_ZINC/micro_ZINC.csv\"\n",
    "yaml_config[\"datamodule\"][\"args\"][\"cache_data_path\"] = None\n",
    "\n",
    "yaml_config[\"trainer\"][\"trainer\"][\"min_epochs\"] = 1\n",
    "yaml_config[\"trainer\"][\"trainer\"][\"max_epochs\"] = 1\n",
    "\n",
    "yaml_config[\"trainer\"][\"logger\"][\"save_dir\"] = training_dir\n",
    "yaml_config[\"trainer\"][\"model_checkpoint\"][\"dirpath\"] = None\n",
    "yaml_config[\"trainer\"][\"trainer\"][\"default_root_dir\"] = training_dir"
   ]
  },
  {
   "cell_type": "code",
   "execution_count": 21,
   "metadata": {},
   "outputs": [],
   "source": [
    "yaml_config[\"trainer\"][\"trainer\"][\"gpus\"] = 0"
   ]
  },
  {
   "cell_type": "code",
   "execution_count": 7,
   "metadata": {},
   "outputs": [
    {
     "name": "stderr",
     "output_type": "stream",
     "text": [
      "2021-06-08 13:37:06.943 | WARNING  | goli.config._loader:load_trainer:124 - Number of GPUs selected is `1`, but will be ignored since no GPU are available on this device\n",
      "GPU available: False, used: False\n",
      "TPU available: False, using: 0 TPU cores\n"
     ]
    }
   ],
   "source": [
    "# Load datamodule\n",
    "datamodule = goli.config.load_datamodule(yaml_config)\n",
    "\n",
    "# Load a trainer\n",
    "trainer = goli.config.load_trainer(yaml_config)"
   ]
  },
  {
   "cell_type": "code",
   "execution_count": 18,
   "metadata": {},
   "outputs": [
    {
     "data": {
      "application/vnd.jupyter.widget-view+json": {
       "model_id": "0d7d7a795c5e4a50a516d62b23605290",
       "version_major": 2,
       "version_minor": 0
      },
      "text/plain": [
       "Predicting: 0it [00:00, ?it/s]"
      ]
     },
     "metadata": {},
     "output_type": "display_data"
    }
   ],
   "source": [
    "# Load a pretrained model\n",
    "predictor = goli.trainer.PredictorModule.load_pretrained_models(\"ZINC-micro-dummy-test\")\n",
    "\n",
    "# Inference\n",
    "results = trainer.predict(predictor, datamodule=datamodule, return_predictions=True)"
   ]
  },
  {
   "cell_type": "code",
   "execution_count": 38,
   "metadata": {},
   "outputs": [
    {
     "data": {
      "text/plain": [
       "goli.trainer.predictor.PredictorModule"
      ]
     },
     "execution_count": 38,
     "metadata": {},
     "output_type": "execute_result"
    }
   ],
   "source": [
    "type(predictor)"
   ]
  },
  {
   "cell_type": "code",
   "execution_count": 31,
   "metadata": {},
   "outputs": [],
   "source": [
    "assert tuple(results[0].shape) == (128, 1)"
   ]
  }
 ],
 "metadata": {
  "kernelspec": {
   "display_name": "Python [conda env:goli]",
   "language": "python",
   "name": "conda-env-goli-py"
  },
  "language_info": {
   "codemirror_mode": {
    "name": "ipython",
    "version": 3
   },
   "file_extension": ".py",
   "mimetype": "text/x-python",
   "name": "python",
   "nbconvert_exporter": "python",
   "pygments_lexer": "ipython3",
   "version": "3.9.4"
  },
  "widgets": {
   "application/vnd.jupyter.widget-state+json": {
    "state": {
     "00be60b73e804e1fb7411460843c9e83": {
      "model_module": "@jupyter-widgets/controls",
      "model_module_version": "1.5.0",
      "model_name": "HTMLModel",
      "state": {
       "layout": "IPY_MODEL_7eadbe7d114148958b6bf1a0cbed9f0a",
       "style": "IPY_MODEL_c1c94fc1f5fc47fbbaeb26b1c706d600",
       "value": "100%"
      }
     },
     "050c2749f6664ffe9deeb87dd376bb39": {
      "model_module": "@jupyter-widgets/controls",
      "model_module_version": "1.5.0",
      "model_name": "HTMLModel",
      "state": {
       "layout": "IPY_MODEL_e338e1c40df24b22be9789277d034b01",
       "style": "IPY_MODEL_b073ca34d43b418cb66a8885f6cd1da2",
       "value": "Predicting: 100%"
      }
     },
     "05813c495c604951946921d9880856a4": {
      "model_module": "@jupyter-widgets/controls",
      "model_module_version": "1.5.0",
      "model_name": "HBoxModel",
      "state": {
       "children": [
        "IPY_MODEL_af43255cfbb5485895c91fce6293eab6",
        "IPY_MODEL_6b479816978e4e07babc4570d10d84b3",
        "IPY_MODEL_628eb08f7c5a40bea302927002dfce92"
       ],
       "layout": "IPY_MODEL_ff9c9369fd1f4f439bd23a83ec5f12f0"
      }
     },
     "0d3384fc743d4df0a4b7aed585b85166": {
      "model_module": "@jupyter-widgets/base",
      "model_module_version": "1.2.0",
      "model_name": "LayoutModel",
      "state": {
       "display": "inline-flex",
       "flex_flow": "row wrap",
       "width": "100%"
      }
     },
     "0d7d7a795c5e4a50a516d62b23605290": {
      "model_module": "@jupyter-widgets/controls",
      "model_module_version": "1.5.0",
      "model_name": "HBoxModel",
      "state": {
       "children": [
        "IPY_MODEL_1b24a26d1216475babd60a03964c9869",
        "IPY_MODEL_c1962798ba244ee8a011c14f460930f5",
        "IPY_MODEL_5f36d51abde84eb5b59453e34d7802e8"
       ],
       "layout": "IPY_MODEL_0d3384fc743d4df0a4b7aed585b85166"
      }
     },
     "0e1893786dd54e299cf7d0971a8df9a0": {
      "model_module": "@jupyter-widgets/controls",
      "model_module_version": "1.5.0",
      "model_name": "DescriptionStyleModel",
      "state": {
       "description_width": ""
      }
     },
     "10b8d3877b9640c6b149cf09cd6c49d6": {
      "model_module": "@jupyter-widgets/controls",
      "model_module_version": "1.5.0",
      "model_name": "HBoxModel",
      "state": {
       "children": [
        "IPY_MODEL_00be60b73e804e1fb7411460843c9e83",
        "IPY_MODEL_924963f7197042de8be270ee5fe3ffc3",
        "IPY_MODEL_cf72baa481a545db8fa4b8f7833d0c92"
       ],
       "layout": "IPY_MODEL_f05609061b2146608b17bb000fd209d3"
      }
     },
     "1456815b15424a4b95cdb84baa5a93ae": {
      "model_module": "@jupyter-widgets/base",
      "model_module_version": "1.2.0",
      "model_name": "LayoutModel",
      "state": {
       "display": "inline-flex",
       "flex_flow": "row wrap",
       "width": "100%"
      }
     },
     "1b24a26d1216475babd60a03964c9869": {
      "model_module": "@jupyter-widgets/controls",
      "model_module_version": "1.5.0",
      "model_name": "HTMLModel",
      "state": {
       "layout": "IPY_MODEL_938b4c8486424afcad46e619f115b9ca",
       "style": "IPY_MODEL_0e1893786dd54e299cf7d0971a8df9a0",
       "value": "Predicting: 100%"
      }
     },
     "2217aa834bbf4d9fbc589d9bdb7414b1": {
      "model_module": "@jupyter-widgets/controls",
      "model_module_version": "1.5.0",
      "model_name": "DescriptionStyleModel",
      "state": {
       "description_width": ""
      }
     },
     "30c5f5c53106484dbded65d7bf5d6b84": {
      "model_module": "@jupyter-widgets/base",
      "model_module_version": "1.2.0",
      "model_name": "LayoutModel",
      "state": {}
     },
     "3c61b33c2e6c401a85647ffe6ce38b03": {
      "model_module": "@jupyter-widgets/controls",
      "model_module_version": "1.5.0",
      "model_name": "HTMLModel",
      "state": {
       "layout": "IPY_MODEL_b81d7b1a82a94cf9813347dcb82df50d",
       "style": "IPY_MODEL_8040ebfdc9ce47d2a63a0107b692bdc5",
       "value": " 8/8 [00:00&lt;00:00, 15.58it/s]"
      }
     },
     "5f36d51abde84eb5b59453e34d7802e8": {
      "model_module": "@jupyter-widgets/controls",
      "model_module_version": "1.5.0",
      "model_name": "HTMLModel",
      "state": {
       "layout": "IPY_MODEL_a54a04bfabba4df48236a2c5eed019a5",
       "style": "IPY_MODEL_2217aa834bbf4d9fbc589d9bdb7414b1",
       "value": " 8/8 [00:00&lt;00:00, 15.56it/s]"
      }
     },
     "628eb08f7c5a40bea302927002dfce92": {
      "model_module": "@jupyter-widgets/controls",
      "model_module_version": "1.5.0",
      "model_name": "HTMLModel",
      "state": {
       "layout": "IPY_MODEL_30c5f5c53106484dbded65d7bf5d6b84",
       "style": "IPY_MODEL_8c6ea9aaca2c46a9b8d4f8d5a546fb00",
       "value": " 8/8 [00:00&lt;00:00, 13.70it/s]"
      }
     },
     "6b479816978e4e07babc4570d10d84b3": {
      "model_module": "@jupyter-widgets/controls",
      "model_module_version": "1.5.0",
      "model_name": "FloatProgressModel",
      "state": {
       "bar_style": "success",
       "layout": "IPY_MODEL_f6b45a20d62e4784b529106f88054dd6",
       "max": 1,
       "style": "IPY_MODEL_eec4b677f20b49cf86243d4677dc1cc3",
       "value": 1
      }
     },
     "701587268f2f4aaaaae43004977a628e": {
      "model_module": "@jupyter-widgets/controls",
      "model_module_version": "1.5.0",
      "model_name": "ProgressStyleModel",
      "state": {
       "description_width": ""
      }
     },
     "78e052e2f620421a9af738e54f6507ff": {
      "model_module": "@jupyter-widgets/base",
      "model_module_version": "1.2.0",
      "model_name": "LayoutModel",
      "state": {}
     },
     "7eadbe7d114148958b6bf1a0cbed9f0a": {
      "model_module": "@jupyter-widgets/base",
      "model_module_version": "1.2.0",
      "model_name": "LayoutModel",
      "state": {}
     },
     "8040ebfdc9ce47d2a63a0107b692bdc5": {
      "model_module": "@jupyter-widgets/controls",
      "model_module_version": "1.5.0",
      "model_name": "DescriptionStyleModel",
      "state": {
       "description_width": ""
      }
     },
     "841d7041045349748c6b6390290c1ff3": {
      "model_module": "@jupyter-widgets/controls",
      "model_module_version": "1.5.0",
      "model_name": "DescriptionStyleModel",
      "state": {
       "description_width": ""
      }
     },
     "8c6ea9aaca2c46a9b8d4f8d5a546fb00": {
      "model_module": "@jupyter-widgets/controls",
      "model_module_version": "1.5.0",
      "model_name": "DescriptionStyleModel",
      "state": {
       "description_width": ""
      }
     },
     "924963f7197042de8be270ee5fe3ffc3": {
      "model_module": "@jupyter-widgets/controls",
      "model_module_version": "1.5.0",
      "model_name": "FloatProgressModel",
      "state": {
       "bar_style": "success",
       "layout": "IPY_MODEL_a7e7c01afd8f4beda2f7159590ebea9a",
       "max": 1000,
       "style": "IPY_MODEL_f09f43ec6a30496a9ffe76c7ea265d2a",
       "value": 1000
      }
     },
     "938b4c8486424afcad46e619f115b9ca": {
      "model_module": "@jupyter-widgets/base",
      "model_module_version": "1.2.0",
      "model_name": "LayoutModel",
      "state": {}
     },
     "95a072e4c339446db93a60a87344ff01": {
      "model_module": "@jupyter-widgets/controls",
      "model_module_version": "1.5.0",
      "model_name": "DescriptionStyleModel",
      "state": {
       "description_width": ""
      }
     },
     "9e82c725fdef46a498939df22ef0c828": {
      "model_module": "@jupyter-widgets/base",
      "model_module_version": "1.2.0",
      "model_name": "LayoutModel",
      "state": {
       "flex": "2"
      }
     },
     "a010b8a126ae460a9a156c108eed7650": {
      "model_module": "@jupyter-widgets/controls",
      "model_module_version": "1.5.0",
      "model_name": "ProgressStyleModel",
      "state": {
       "description_width": ""
      }
     },
     "a041db73d5a5469485b1d4f12afe4dc2": {
      "model_module": "@jupyter-widgets/base",
      "model_module_version": "1.2.0",
      "model_name": "LayoutModel",
      "state": {}
     },
     "a54a04bfabba4df48236a2c5eed019a5": {
      "model_module": "@jupyter-widgets/base",
      "model_module_version": "1.2.0",
      "model_name": "LayoutModel",
      "state": {}
     },
     "a7e7c01afd8f4beda2f7159590ebea9a": {
      "model_module": "@jupyter-widgets/base",
      "model_module_version": "1.2.0",
      "model_name": "LayoutModel",
      "state": {}
     },
     "af43255cfbb5485895c91fce6293eab6": {
      "model_module": "@jupyter-widgets/controls",
      "model_module_version": "1.5.0",
      "model_name": "HTMLModel",
      "state": {
       "layout": "IPY_MODEL_78e052e2f620421a9af738e54f6507ff",
       "style": "IPY_MODEL_841d7041045349748c6b6390290c1ff3",
       "value": "Predicting: 100%"
      }
     },
     "b073ca34d43b418cb66a8885f6cd1da2": {
      "model_module": "@jupyter-widgets/controls",
      "model_module_version": "1.5.0",
      "model_name": "DescriptionStyleModel",
      "state": {
       "description_width": ""
      }
     },
     "b4a4fa9d68f94d878bd04ac8883b17cd": {
      "model_module": "@jupyter-widgets/controls",
      "model_module_version": "1.5.0",
      "model_name": "HBoxModel",
      "state": {
       "children": [
        "IPY_MODEL_050c2749f6664ffe9deeb87dd376bb39",
        "IPY_MODEL_ceb589642b924e1e8ba167db238b7294",
        "IPY_MODEL_3c61b33c2e6c401a85647ffe6ce38b03"
       ],
       "layout": "IPY_MODEL_1456815b15424a4b95cdb84baa5a93ae"
      }
     },
     "b81d7b1a82a94cf9813347dcb82df50d": {
      "model_module": "@jupyter-widgets/base",
      "model_module_version": "1.2.0",
      "model_name": "LayoutModel",
      "state": {}
     },
     "c1962798ba244ee8a011c14f460930f5": {
      "model_module": "@jupyter-widgets/controls",
      "model_module_version": "1.5.0",
      "model_name": "FloatProgressModel",
      "state": {
       "bar_style": "success",
       "layout": "IPY_MODEL_cf9f6780219442dab29edb92bfc4c5eb",
       "max": 1,
       "style": "IPY_MODEL_701587268f2f4aaaaae43004977a628e",
       "value": 1
      }
     },
     "c1c94fc1f5fc47fbbaeb26b1c706d600": {
      "model_module": "@jupyter-widgets/controls",
      "model_module_version": "1.5.0",
      "model_name": "DescriptionStyleModel",
      "state": {
       "description_width": ""
      }
     },
     "ceb589642b924e1e8ba167db238b7294": {
      "model_module": "@jupyter-widgets/controls",
      "model_module_version": "1.5.0",
      "model_name": "FloatProgressModel",
      "state": {
       "bar_style": "success",
       "layout": "IPY_MODEL_9e82c725fdef46a498939df22ef0c828",
       "max": 1,
       "style": "IPY_MODEL_a010b8a126ae460a9a156c108eed7650",
       "value": 1
      }
     },
     "cf72baa481a545db8fa4b8f7833d0c92": {
      "model_module": "@jupyter-widgets/controls",
      "model_module_version": "1.5.0",
      "model_name": "HTMLModel",
      "state": {
       "layout": "IPY_MODEL_a041db73d5a5469485b1d4f12afe4dc2",
       "style": "IPY_MODEL_95a072e4c339446db93a60a87344ff01",
       "value": " 1000/1000 [00:04&lt;00:00, 1040.58it/s]"
      }
     },
     "cf9f6780219442dab29edb92bfc4c5eb": {
      "model_module": "@jupyter-widgets/base",
      "model_module_version": "1.2.0",
      "model_name": "LayoutModel",
      "state": {
       "flex": "2"
      }
     },
     "e338e1c40df24b22be9789277d034b01": {
      "model_module": "@jupyter-widgets/base",
      "model_module_version": "1.2.0",
      "model_name": "LayoutModel",
      "state": {}
     },
     "eec4b677f20b49cf86243d4677dc1cc3": {
      "model_module": "@jupyter-widgets/controls",
      "model_module_version": "1.5.0",
      "model_name": "ProgressStyleModel",
      "state": {
       "description_width": ""
      }
     },
     "f05609061b2146608b17bb000fd209d3": {
      "model_module": "@jupyter-widgets/base",
      "model_module_version": "1.2.0",
      "model_name": "LayoutModel",
      "state": {}
     },
     "f09f43ec6a30496a9ffe76c7ea265d2a": {
      "model_module": "@jupyter-widgets/controls",
      "model_module_version": "1.5.0",
      "model_name": "ProgressStyleModel",
      "state": {
       "description_width": ""
      }
     },
     "f6b45a20d62e4784b529106f88054dd6": {
      "model_module": "@jupyter-widgets/base",
      "model_module_version": "1.2.0",
      "model_name": "LayoutModel",
      "state": {
       "flex": "2"
      }
     },
     "ff9c9369fd1f4f439bd23a83ec5f12f0": {
      "model_module": "@jupyter-widgets/base",
      "model_module_version": "1.2.0",
      "model_name": "LayoutModel",
      "state": {
       "display": "inline-flex",
       "flex_flow": "row wrap",
       "width": "100%"
      }
     }
    },
    "version_major": 2,
    "version_minor": 0
   }
  }
 },
 "nbformat": 4,
 "nbformat_minor": 4
}
