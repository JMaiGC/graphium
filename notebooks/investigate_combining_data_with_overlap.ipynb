{
 "cells": [
  {
   "cell_type": "code",
   "execution_count": 1,
   "metadata": {},
   "outputs": [],
   "source": [
    "%load_ext autoreload\n",
    "%autoreload 2\n",
    "\n",
    "import os\n",
    "os.chdir('../')\n",
    "\n",
    "import pandas as pd\n",
    "import graphium\n",
    "from omegaconf import OmegaConf"
   ]
  },
  {
   "cell_type": "code",
   "execution_count": 2,
   "metadata": {},
   "outputs": [],
   "source": [
    "raw_fake_multilevel_data = pd.read_parquet(\"tests/converted_fake_multilevel_data.parquet\")"
   ]
  },
  {
   "cell_type": "markdown",
   "metadata": {},
   "source": [
    "Let's create a fake dataset by combining two datasets with a shared task (each containing 20 molecules) with an overlap of 10 molecules:"
   ]
  },
  {
   "cell_type": "code",
   "execution_count": 3,
   "metadata": {},
   "outputs": [
    {
     "data": {
      "text/html": [
       "<div>\n",
       "<style scoped>\n",
       "    .dataframe tbody tr th:only-of-type {\n",
       "        vertical-align: middle;\n",
       "    }\n",
       "\n",
       "    .dataframe tbody tr th {\n",
       "        vertical-align: top;\n",
       "    }\n",
       "\n",
       "    .dataframe thead th {\n",
       "        text-align: right;\n",
       "    }\n",
       "</style>\n",
       "<table border=\"1\" class=\"dataframe\">\n",
       "  <thead>\n",
       "    <tr style=\"text-align: right;\">\n",
       "      <th></th>\n",
       "      <th>ordered_smiles</th>\n",
       "      <th>graph_label</th>\n",
       "      <th>node_label_list</th>\n",
       "      <th>node_label_np</th>\n",
       "      <th>edge_label_list</th>\n",
       "      <th>edge_label_np</th>\n",
       "      <th>nodepair_label_list</th>\n",
       "      <th>nodepair_label_np</th>\n",
       "    </tr>\n",
       "  </thead>\n",
       "  <tbody>\n",
       "    <tr>\n",
       "      <th>11</th>\n",
       "      <td>[C:0]([O:1][N:2]([C:3]([H:20])([H:21])[H:22])[...</td>\n",
       "      <td>0.97954</td>\n",
       "      <td>[4.0, 2.0, 3.0, 4.0, 4.0, 2.0, 4.0, 4.0, 3.0, ...</td>\n",
       "      <td>[4.0, 2.0, 3.0, 4.0, 4.0, 2.0, 4.0, 4.0, 3.0, ...</td>\n",
       "      <td>[1.0, 1.0, 1.0, 1.0, 1.0, 1.0, 1.0, 1.0, 2.0, ...</td>\n",
       "      <td>[1.0, 1.0, 1.0, 1.0, 1.0, 1.0, 1.0, 1.0, 2.0, ...</td>\n",
       "      <td>[0.0, 2.0, 1.0, 0.0, 0.0, 2.0, 0.0, 0.0, 1.0, ...</td>\n",
       "      <td>[0.0, 2.0, 1.0, 0.0, 0.0, 2.0, 0.0, 0.0, 1.0, ...</td>\n",
       "    </tr>\n",
       "    <tr>\n",
       "      <th>12</th>\n",
       "      <td>[N:0]([C:1](=[O:2])[C@@:3]([N:4]([C:5](=[O:6])...</td>\n",
       "      <td>2.41360</td>\n",
       "      <td>[3.0, 4.0, 2.0, 4.0, 3.0, 4.0, 2.0, 4.0, 4.0, ...</td>\n",
       "      <td>[3.0, 4.0, 2.0, 4.0, 3.0, 4.0, 2.0, 4.0, 4.0, ...</td>\n",
       "      <td>[1.0, 1.0, 2.0, 2.0, 1.0, 1.0, 1.0, 1.0, 1.0, ...</td>\n",
       "      <td>[1.0, 1.0, 2.0, 2.0, 1.0, 1.0, 1.0, 1.0, 1.0, ...</td>\n",
       "      <td>[0.0, 1.0, 1.0, 1.0, 0.0, 1.0, 1.0, 1.0, 1.0, ...</td>\n",
       "      <td>[0.0, 1.0, 1.0, 1.0, 0.0, 1.0, 1.0, 1.0, 1.0, ...</td>\n",
       "    </tr>\n",
       "    <tr>\n",
       "      <th>13</th>\n",
       "      <td>[C:0]([O:1][c:2]1[c:3]([H:31])[c:4]([H:32])[c:...</td>\n",
       "      <td>0.80840</td>\n",
       "      <td>[4.0, 2.0, 4.0, 4.0, 4.0, 4.0, 4.0, 4.0, 3.0, ...</td>\n",
       "      <td>[4.0, 2.0, 4.0, 4.0, 4.0, 4.0, 4.0, 4.0, 3.0, ...</td>\n",
       "      <td>[1.0, 1.0, 1.0, 1.0, 1.5, 1.5, 1.5, 1.5, 1.5, ...</td>\n",
       "      <td>[1.0, 1.0, 1.0, 1.0, 1.5, 1.5, 1.5, 1.5, 1.5, ...</td>\n",
       "      <td>[0.0, 2.0, 0.0, 0.0, 0.0, 0.0, 0.0, 0.0, 1.0, ...</td>\n",
       "      <td>[0.0, 2.0, 0.0, 0.0, 0.0, 0.0, 0.0, 0.0, 1.0, ...</td>\n",
       "    </tr>\n",
       "    <tr>\n",
       "      <th>14</th>\n",
       "      <td>[C:0]([c:1]1[c:2]([H:21])[c:3]([H:22])[c:4](-[...</td>\n",
       "      <td>3.55016</td>\n",
       "      <td>[4.0, 4.0, 4.0, 4.0, 4.0, 4.0, 3.0, 4.0, 4.0, ...</td>\n",
       "      <td>[4.0, 4.0, 4.0, 4.0, 4.0, 4.0, 3.0, 4.0, 4.0, ...</td>\n",
       "      <td>[1.0, 1.0, 1.5, 1.5, 1.5, 1.5, 1.5, 1.5, 1.0, ...</td>\n",
       "      <td>[1.0, 1.0, 1.5, 1.5, 1.5, 1.5, 1.5, 1.5, 1.0, ...</td>\n",
       "      <td>[0.0, 0.0, 0.0, 0.0, 0.0, 0.0, 1.0, 0.0, 0.0, ...</td>\n",
       "      <td>[0.0, 0.0, 0.0, 0.0, 0.0, 0.0, 1.0, 0.0, 0.0, ...</td>\n",
       "    </tr>\n",
       "    <tr>\n",
       "      <th>15</th>\n",
       "      <td>[C:0]([c:1]1[n:2][n:3]([H:28])[c:4]([S:5][C:6]...</td>\n",
       "      <td>2.63872</td>\n",
       "      <td>[4.0, 4.0, 3.0, 3.0, 4.0, 2.0, 4.0, 4.0, 2.0, ...</td>\n",
       "      <td>[4.0, 4.0, 3.0, 3.0, 4.0, 2.0, 4.0, 4.0, 2.0, ...</td>\n",
       "      <td>[1.0, 1.0, 1.5, 1.5, 1.5, 1.5, 1.5, 1.5, 1.0, ...</td>\n",
       "      <td>[1.0, 1.0, 1.5, 1.5, 1.5, 1.5, 1.5, 1.5, 1.0, ...</td>\n",
       "      <td>[0.0, 0.0, 1.0, 1.0, 0.0, 2.0, 0.0, 0.0, 2.0, ...</td>\n",
       "      <td>[0.0, 0.0, 1.0, 1.0, 0.0, 2.0, 0.0, 0.0, 2.0, ...</td>\n",
       "    </tr>\n",
       "    <tr>\n",
       "      <th>16</th>\n",
       "      <td>[C:0]([O:1][C:2](=[O:3])[c:4]1[c:5]([H:27])[n:...</td>\n",
       "      <td>3.04550</td>\n",
       "      <td>[4.0, 2.0, 4.0, 2.0, 4.0, 4.0, 3.0, 4.0, 4.0, ...</td>\n",
       "      <td>[4.0, 2.0, 4.0, 2.0, 4.0, 4.0, 3.0, 4.0, 4.0, ...</td>\n",
       "      <td>[1.0, 1.0, 1.0, 1.0, 2.0, 2.0, 1.0, 1.0, 1.5, ...</td>\n",
       "      <td>[1.0, 1.0, 1.0, 1.0, 2.0, 2.0, 1.0, 1.0, 1.5, ...</td>\n",
       "      <td>[0.0, 2.0, 0.0, 2.0, 0.0, 0.0, 1.0, 0.0, 0.0, ...</td>\n",
       "      <td>[0.0, 2.0, 0.0, 2.0, 0.0, 0.0, 1.0, 0.0, 0.0, ...</td>\n",
       "    </tr>\n",
       "    <tr>\n",
       "      <th>17</th>\n",
       "      <td>[C:0]([c:1]1[c:2]([H:29])[c:3]([H:30])[c:4]([C...</td>\n",
       "      <td>4.13924</td>\n",
       "      <td>[4.0, 4.0, 4.0, 4.0, 4.0, 4.0, 4.0, 2.0, 4.0, ...</td>\n",
       "      <td>[4.0, 4.0, 4.0, 4.0, 4.0, 4.0, 4.0, 2.0, 4.0, ...</td>\n",
       "      <td>[1.0, 1.0, 1.5, 1.5, 1.5, 1.5, 1.5, 1.5, 1.0, ...</td>\n",
       "      <td>[1.0, 1.0, 1.5, 1.5, 1.5, 1.5, 1.5, 1.5, 1.0, ...</td>\n",
       "      <td>[0.0, 0.0, 0.0, 0.0, 0.0, 0.0, 0.0, 2.0, 0.0, ...</td>\n",
       "      <td>[0.0, 0.0, 0.0, 0.0, 0.0, 0.0, 0.0, 2.0, 0.0, ...</td>\n",
       "    </tr>\n",
       "    <tr>\n",
       "      <th>18</th>\n",
       "      <td>[C:0]([C:1]([N+:2]([C@@:3]1([C:4](=[O:5])[O-:6...</td>\n",
       "      <td>0.64240</td>\n",
       "      <td>[4.0, 4.0, 4.0, 4.0, 4.0, 2.0, 1.0, 4.0, 4.0, ...</td>\n",
       "      <td>[4.0, 4.0, 4.0, 4.0, 4.0, 2.0, 1.0, 4.0, 4.0, ...</td>\n",
       "      <td>[1.0, 1.0, 1.0, 1.0, 1.0, 1.0, 1.0, 1.0, 2.0, ...</td>\n",
       "      <td>[1.0, 1.0, 1.0, 1.0, 1.0, 1.0, 1.0, 1.0, 2.0, ...</td>\n",
       "      <td>[0.0, 0.0, 0.0, 0.0, 0.0, 2.0, 3.0, 0.0, 0.0, ...</td>\n",
       "      <td>[0.0, 0.0, 0.0, 0.0, 0.0, 2.0, 3.0, 0.0, 0.0, ...</td>\n",
       "    </tr>\n",
       "    <tr>\n",
       "      <th>19</th>\n",
       "      <td>[C:0]([C:1](=[O:2])[N:3]1[c:4]2[c:5]([H:36])[c...</td>\n",
       "      <td>0.71230</td>\n",
       "      <td>[4.0, 4.0, 2.0, 3.0, 4.0, 4.0, 4.0, 4.0, 6.0, ...</td>\n",
       "      <td>[4.0, 4.0, 2.0, 3.0, 4.0, 4.0, 4.0, 4.0, 6.0, ...</td>\n",
       "      <td>[1.0, 1.0, 2.0, 2.0, 1.0, 1.0, 1.0, 1.0, 1.5, ...</td>\n",
       "      <td>[1.0, 1.0, 2.0, 2.0, 1.0, 1.0, 1.0, 1.0, 1.5, ...</td>\n",
       "      <td>[0.0, 0.0, 2.0, 1.0, 0.0, 0.0, 0.0, 0.0, 2.0, ...</td>\n",
       "      <td>[0.0, 0.0, 2.0, 1.0, 0.0, 0.0, 0.0, 0.0, 2.0, ...</td>\n",
       "    </tr>\n",
       "    <tr>\n",
       "      <th>20</th>\n",
       "      <td>[C:0](=[C:1]([C:2]([N:3]1[C:4]([H:35])([H:36])...</td>\n",
       "      <td>3.04740</td>\n",
       "      <td>[4.0, 4.0, 4.0, 3.0, 4.0, 4.0, 2.0, 3.0, 4.0, ...</td>\n",
       "      <td>[4.0, 4.0, 4.0, 3.0, 4.0, 4.0, 2.0, 3.0, 4.0, ...</td>\n",
       "      <td>[2.0, 2.0, 1.0, 1.0, 1.0, 1.0, 1.0, 1.0, 1.0, ...</td>\n",
       "      <td>[2.0, 2.0, 1.0, 1.0, 1.0, 1.0, 1.0, 1.0, 1.0, ...</td>\n",
       "      <td>[0.0, 0.0, 0.0, 1.0, 0.0, 0.0, 2.0, 1.0, 0.0, ...</td>\n",
       "      <td>[0.0, 0.0, 0.0, 1.0, 0.0, 0.0, 2.0, 1.0, 0.0, ...</td>\n",
       "    </tr>\n",
       "  </tbody>\n",
       "</table>\n",
       "</div>"
      ],
      "text/plain": [
       "                                       ordered_smiles  graph_label  \\\n",
       "11  [C:0]([O:1][N:2]([C:3]([H:20])([H:21])[H:22])[...      0.97954   \n",
       "12  [N:0]([C:1](=[O:2])[C@@:3]([N:4]([C:5](=[O:6])...      2.41360   \n",
       "13  [C:0]([O:1][c:2]1[c:3]([H:31])[c:4]([H:32])[c:...      0.80840   \n",
       "14  [C:0]([c:1]1[c:2]([H:21])[c:3]([H:22])[c:4](-[...      3.55016   \n",
       "15  [C:0]([c:1]1[n:2][n:3]([H:28])[c:4]([S:5][C:6]...      2.63872   \n",
       "16  [C:0]([O:1][C:2](=[O:3])[c:4]1[c:5]([H:27])[n:...      3.04550   \n",
       "17  [C:0]([c:1]1[c:2]([H:29])[c:3]([H:30])[c:4]([C...      4.13924   \n",
       "18  [C:0]([C:1]([N+:2]([C@@:3]1([C:4](=[O:5])[O-:6...      0.64240   \n",
       "19  [C:0]([C:1](=[O:2])[N:3]1[c:4]2[c:5]([H:36])[c...      0.71230   \n",
       "20  [C:0](=[C:1]([C:2]([N:3]1[C:4]([H:35])([H:36])...      3.04740   \n",
       "\n",
       "                                      node_label_list  \\\n",
       "11  [4.0, 2.0, 3.0, 4.0, 4.0, 2.0, 4.0, 4.0, 3.0, ...   \n",
       "12  [3.0, 4.0, 2.0, 4.0, 3.0, 4.0, 2.0, 4.0, 4.0, ...   \n",
       "13  [4.0, 2.0, 4.0, 4.0, 4.0, 4.0, 4.0, 4.0, 3.0, ...   \n",
       "14  [4.0, 4.0, 4.0, 4.0, 4.0, 4.0, 3.0, 4.0, 4.0, ...   \n",
       "15  [4.0, 4.0, 3.0, 3.0, 4.0, 2.0, 4.0, 4.0, 2.0, ...   \n",
       "16  [4.0, 2.0, 4.0, 2.0, 4.0, 4.0, 3.0, 4.0, 4.0, ...   \n",
       "17  [4.0, 4.0, 4.0, 4.0, 4.0, 4.0, 4.0, 2.0, 4.0, ...   \n",
       "18  [4.0, 4.0, 4.0, 4.0, 4.0, 2.0, 1.0, 4.0, 4.0, ...   \n",
       "19  [4.0, 4.0, 2.0, 3.0, 4.0, 4.0, 4.0, 4.0, 6.0, ...   \n",
       "20  [4.0, 4.0, 4.0, 3.0, 4.0, 4.0, 2.0, 3.0, 4.0, ...   \n",
       "\n",
       "                                        node_label_np  \\\n",
       "11  [4.0, 2.0, 3.0, 4.0, 4.0, 2.0, 4.0, 4.0, 3.0, ...   \n",
       "12  [3.0, 4.0, 2.0, 4.0, 3.0, 4.0, 2.0, 4.0, 4.0, ...   \n",
       "13  [4.0, 2.0, 4.0, 4.0, 4.0, 4.0, 4.0, 4.0, 3.0, ...   \n",
       "14  [4.0, 4.0, 4.0, 4.0, 4.0, 4.0, 3.0, 4.0, 4.0, ...   \n",
       "15  [4.0, 4.0, 3.0, 3.0, 4.0, 2.0, 4.0, 4.0, 2.0, ...   \n",
       "16  [4.0, 2.0, 4.0, 2.0, 4.0, 4.0, 3.0, 4.0, 4.0, ...   \n",
       "17  [4.0, 4.0, 4.0, 4.0, 4.0, 4.0, 4.0, 2.0, 4.0, ...   \n",
       "18  [4.0, 4.0, 4.0, 4.0, 4.0, 2.0, 1.0, 4.0, 4.0, ...   \n",
       "19  [4.0, 4.0, 2.0, 3.0, 4.0, 4.0, 4.0, 4.0, 6.0, ...   \n",
       "20  [4.0, 4.0, 4.0, 3.0, 4.0, 4.0, 2.0, 3.0, 4.0, ...   \n",
       "\n",
       "                                      edge_label_list  \\\n",
       "11  [1.0, 1.0, 1.0, 1.0, 1.0, 1.0, 1.0, 1.0, 2.0, ...   \n",
       "12  [1.0, 1.0, 2.0, 2.0, 1.0, 1.0, 1.0, 1.0, 1.0, ...   \n",
       "13  [1.0, 1.0, 1.0, 1.0, 1.5, 1.5, 1.5, 1.5, 1.5, ...   \n",
       "14  [1.0, 1.0, 1.5, 1.5, 1.5, 1.5, 1.5, 1.5, 1.0, ...   \n",
       "15  [1.0, 1.0, 1.5, 1.5, 1.5, 1.5, 1.5, 1.5, 1.0, ...   \n",
       "16  [1.0, 1.0, 1.0, 1.0, 2.0, 2.0, 1.0, 1.0, 1.5, ...   \n",
       "17  [1.0, 1.0, 1.5, 1.5, 1.5, 1.5, 1.5, 1.5, 1.0, ...   \n",
       "18  [1.0, 1.0, 1.0, 1.0, 1.0, 1.0, 1.0, 1.0, 2.0, ...   \n",
       "19  [1.0, 1.0, 2.0, 2.0, 1.0, 1.0, 1.0, 1.0, 1.5, ...   \n",
       "20  [2.0, 2.0, 1.0, 1.0, 1.0, 1.0, 1.0, 1.0, 1.0, ...   \n",
       "\n",
       "                                        edge_label_np  \\\n",
       "11  [1.0, 1.0, 1.0, 1.0, 1.0, 1.0, 1.0, 1.0, 2.0, ...   \n",
       "12  [1.0, 1.0, 2.0, 2.0, 1.0, 1.0, 1.0, 1.0, 1.0, ...   \n",
       "13  [1.0, 1.0, 1.0, 1.0, 1.5, 1.5, 1.5, 1.5, 1.5, ...   \n",
       "14  [1.0, 1.0, 1.5, 1.5, 1.5, 1.5, 1.5, 1.5, 1.0, ...   \n",
       "15  [1.0, 1.0, 1.5, 1.5, 1.5, 1.5, 1.5, 1.5, 1.0, ...   \n",
       "16  [1.0, 1.0, 1.0, 1.0, 2.0, 2.0, 1.0, 1.0, 1.5, ...   \n",
       "17  [1.0, 1.0, 1.5, 1.5, 1.5, 1.5, 1.5, 1.5, 1.0, ...   \n",
       "18  [1.0, 1.0, 1.0, 1.0, 1.0, 1.0, 1.0, 1.0, 2.0, ...   \n",
       "19  [1.0, 1.0, 2.0, 2.0, 1.0, 1.0, 1.0, 1.0, 1.5, ...   \n",
       "20  [2.0, 2.0, 1.0, 1.0, 1.0, 1.0, 1.0, 1.0, 1.0, ...   \n",
       "\n",
       "                                  nodepair_label_list  \\\n",
       "11  [0.0, 2.0, 1.0, 0.0, 0.0, 2.0, 0.0, 0.0, 1.0, ...   \n",
       "12  [0.0, 1.0, 1.0, 1.0, 0.0, 1.0, 1.0, 1.0, 1.0, ...   \n",
       "13  [0.0, 2.0, 0.0, 0.0, 0.0, 0.0, 0.0, 0.0, 1.0, ...   \n",
       "14  [0.0, 0.0, 0.0, 0.0, 0.0, 0.0, 1.0, 0.0, 0.0, ...   \n",
       "15  [0.0, 0.0, 1.0, 1.0, 0.0, 2.0, 0.0, 0.0, 2.0, ...   \n",
       "16  [0.0, 2.0, 0.0, 2.0, 0.0, 0.0, 1.0, 0.0, 0.0, ...   \n",
       "17  [0.0, 0.0, 0.0, 0.0, 0.0, 0.0, 0.0, 2.0, 0.0, ...   \n",
       "18  [0.0, 0.0, 0.0, 0.0, 0.0, 2.0, 3.0, 0.0, 0.0, ...   \n",
       "19  [0.0, 0.0, 2.0, 1.0, 0.0, 0.0, 0.0, 0.0, 2.0, ...   \n",
       "20  [0.0, 0.0, 0.0, 1.0, 0.0, 0.0, 2.0, 1.0, 0.0, ...   \n",
       "\n",
       "                                    nodepair_label_np  \n",
       "11  [0.0, 2.0, 1.0, 0.0, 0.0, 2.0, 0.0, 0.0, 1.0, ...  \n",
       "12  [0.0, 1.0, 1.0, 1.0, 0.0, 1.0, 1.0, 1.0, 1.0, ...  \n",
       "13  [0.0, 2.0, 0.0, 0.0, 0.0, 0.0, 0.0, 0.0, 1.0, ...  \n",
       "14  [0.0, 0.0, 0.0, 0.0, 0.0, 0.0, 1.0, 0.0, 0.0, ...  \n",
       "15  [0.0, 0.0, 1.0, 1.0, 0.0, 2.0, 0.0, 0.0, 2.0, ...  \n",
       "16  [0.0, 2.0, 0.0, 2.0, 0.0, 0.0, 1.0, 0.0, 0.0, ...  \n",
       "17  [0.0, 0.0, 0.0, 0.0, 0.0, 0.0, 0.0, 2.0, 0.0, ...  \n",
       "18  [0.0, 0.0, 0.0, 0.0, 0.0, 2.0, 3.0, 0.0, 0.0, ...  \n",
       "19  [0.0, 0.0, 2.0, 1.0, 0.0, 0.0, 0.0, 0.0, 2.0, ...  \n",
       "20  [0.0, 0.0, 0.0, 1.0, 0.0, 0.0, 2.0, 1.0, 0.0, ...  "
      ]
     },
     "metadata": {},
     "output_type": "display_data"
    }
   ],
   "source": [
    "overlap1 = raw_fake_multilevel_data.iloc[1:21]\n",
    "overlap1.index = range(20)\n",
    "\n",
    "overlap2 = raw_fake_multilevel_data.iloc[11:31]\n",
    "overlap2.index = range(20)\n",
    "\n",
    "# overlap1.to_parquet(\"tests/fake_data_with_overlap1.parquet\")\n",
    "# overlap2.to_parquet(\"tests/fake_data_with_overlap2.parquet\")\n",
    "\n",
    "# The overlapping molecules are\n",
    "display(raw_fake_multilevel_data.iloc[11:21])"
   ]
  },
  {
   "cell_type": "markdown",
   "metadata": {},
   "source": [
    "We now prepare the datasets:"
   ]
  },
  {
   "cell_type": "code",
   "execution_count": 4,
   "metadata": {},
   "outputs": [
    {
     "name": "stderr",
     "output_type": "stream",
     "text": [
      "\u001b[32m2023-07-15 18:46:21.351\u001b[0m | \u001b[1mINFO    \u001b[0m | \u001b[36mgraphium.data.datamodule\u001b[0m:\u001b[36mload_data_from_cache\u001b[0m:\u001b[36m2015\u001b[0m - \u001b[1mNo cache data path specified. Skipping loading the data from cache.\u001b[0m\n",
      "\u001b[32m2023-07-15 18:46:21.352\u001b[0m | \u001b[1mINFO    \u001b[0m | \u001b[36mgraphium.data.datamodule\u001b[0m:\u001b[36mprepare_data\u001b[0m:\u001b[36m976\u001b[0m - \u001b[1mReading data for task 'node_score1'\u001b[0m\n",
      "Reading parquet column `node_label_np`: 100%|██████████| 3/3 [00:00<00:00,  5.87it/s]  \n",
      "\u001b[32m2023-07-15 18:46:21.873\u001b[0m | \u001b[1mINFO    \u001b[0m | \u001b[36mgraphium.data.datamodule\u001b[0m:\u001b[36mprepare_data\u001b[0m:\u001b[36m976\u001b[0m - \u001b[1mReading data for task 'node_score2'\u001b[0m\n",
      "Reading parquet column `node_label_np`: 100%|██████████| 3/3 [00:00<00:00,  7.06it/s]  \n",
      "\u001b[32m2023-07-15 18:46:22.303\u001b[0m | \u001b[1mINFO    \u001b[0m | \u001b[36mgraphium.data.datamodule\u001b[0m:\u001b[36mprepare_data\u001b[0m:\u001b[36m999\u001b[0m - \u001b[1mDone reading datasets\u001b[0m\n",
      "\u001b[32m2023-07-15 18:46:22.303\u001b[0m | \u001b[1mINFO    \u001b[0m | \u001b[36mgraphium.data.datamodule\u001b[0m:\u001b[36mprepare_data\u001b[0m:\u001b[36m1011\u001b[0m - \u001b[1mPrepare single-task dataset for task 'node_score1' with 20 data points.\u001b[0m\n",
      "\u001b[32m2023-07-15 18:46:22.303\u001b[0m | \u001b[1mINFO    \u001b[0m | \u001b[36mgraphium.data.datamodule\u001b[0m:\u001b[36mprepare_data\u001b[0m:\u001b[36m1013\u001b[0m - \u001b[1mFiltering the molecules for Hydrogen\u001b[0m\n",
      "\u001b[32m2023-07-15 18:46:22.304\u001b[0m | \u001b[1mINFO    \u001b[0m | \u001b[36mgraphium.data.datamodule\u001b[0m:\u001b[36mprepare_data\u001b[0m:\u001b[36m1014\u001b[0m - \u001b[1mLooking at column ordered_smiles\u001b[0m\n",
      "\u001b[32m2023-07-15 18:46:22.304\u001b[0m | \u001b[1mINFO    \u001b[0m | \u001b[36mgraphium.data.datamodule\u001b[0m:\u001b[36mprepare_data\u001b[0m:\u001b[36m1018\u001b[0m - \u001b[1mFiltering done\u001b[0m\n",
      "\u001b[32m2023-07-15 18:46:22.309\u001b[0m | \u001b[1mINFO    \u001b[0m | \u001b[36mgraphium.data.datamodule\u001b[0m:\u001b[36mprepare_data\u001b[0m:\u001b[36m1011\u001b[0m - \u001b[1mPrepare single-task dataset for task 'node_score2' with 20 data points.\u001b[0m\n",
      "\u001b[32m2023-07-15 18:46:22.310\u001b[0m | \u001b[1mINFO    \u001b[0m | \u001b[36mgraphium.data.datamodule\u001b[0m:\u001b[36mprepare_data\u001b[0m:\u001b[36m1013\u001b[0m - \u001b[1mFiltering the molecules for Hydrogen\u001b[0m\n",
      "\u001b[32m2023-07-15 18:46:22.310\u001b[0m | \u001b[1mINFO    \u001b[0m | \u001b[36mgraphium.data.datamodule\u001b[0m:\u001b[36mprepare_data\u001b[0m:\u001b[36m1014\u001b[0m - \u001b[1mLooking at column ordered_smiles\u001b[0m\n",
      "\u001b[32m2023-07-15 18:46:22.310\u001b[0m | \u001b[1mINFO    \u001b[0m | \u001b[36mgraphium.data.datamodule\u001b[0m:\u001b[36mprepare_data\u001b[0m:\u001b[36m1018\u001b[0m - \u001b[1mFiltering done\u001b[0m\n"
     ]
    },
    {
     "data": {
      "application/vnd.jupyter.widget-view+json": {
       "model_id": "1770c8a5eeb241a9ae880ae63a8a5b8c",
       "version_major": 2,
       "version_minor": 0
      },
      "text/plain": [
       "mols to ids, batch=1:   0%|          | 0/40 [00:00<?, ?it/s]"
      ]
     },
     "metadata": {},
     "output_type": "display_data"
    },
    {
     "data": {
      "application/vnd.jupyter.widget-view+json": {
       "model_id": "76c9e5e2af3c4c7ebb9dbc464e4d6bbf",
       "version_major": 2,
       "version_minor": 0
      },
      "text/plain": [
       "featurizing_smiles, batch=1:   0%|          | 0/30 [00:00<?, ?it/s]"
      ]
     },
     "metadata": {},
     "output_type": "display_data"
    },
    {
     "name": "stderr",
     "output_type": "stream",
     "text": [
      "\u001b[32m2023-07-15 18:46:22.598\u001b[0m | \u001b[1mINFO    \u001b[0m | \u001b[36mgraphium.data.normalization\u001b[0m:\u001b[36mcalculate_statistics\u001b[0m:\u001b[36m56\u001b[0m - \u001b[1mMax value for normalization '[6.0, 6.0]'\u001b[0m\n",
      "\u001b[32m2023-07-15 18:46:22.599\u001b[0m | \u001b[1mINFO    \u001b[0m | \u001b[36mgraphium.data.normalization\u001b[0m:\u001b[36mcalculate_statistics\u001b[0m:\u001b[36m57\u001b[0m - \u001b[1mMin value for normalization '[1.0, 1.0]'\u001b[0m\n",
      "\u001b[32m2023-07-15 18:46:22.600\u001b[0m | \u001b[1mINFO    \u001b[0m | \u001b[36mgraphium.data.normalization\u001b[0m:\u001b[36mcalculate_statistics\u001b[0m:\u001b[36m58\u001b[0m - \u001b[1mMean value for normalization '[3.5703125, 3.5703125]'\u001b[0m\n",
      "\u001b[32m2023-07-15 18:46:22.600\u001b[0m | \u001b[1mINFO    \u001b[0m | \u001b[36mgraphium.data.normalization\u001b[0m:\u001b[36mcalculate_statistics\u001b[0m:\u001b[36m59\u001b[0m - \u001b[1mSTD value for normalization '[0.8212890625, 0.8212890625]'\u001b[0m\n",
      "\u001b[32m2023-07-15 18:46:22.601\u001b[0m | \u001b[1mINFO    \u001b[0m | \u001b[36mgraphium.data.normalization\u001b[0m:\u001b[36mcalculate_statistics\u001b[0m:\u001b[36m56\u001b[0m - \u001b[1mMax value for normalization '[6.0, 6.0]'\u001b[0m\n",
      "\u001b[32m2023-07-15 18:46:22.601\u001b[0m | \u001b[1mINFO    \u001b[0m | \u001b[36mgraphium.data.normalization\u001b[0m:\u001b[36mcalculate_statistics\u001b[0m:\u001b[36m57\u001b[0m - \u001b[1mMin value for normalization '[1.0, 1.0]'\u001b[0m\n",
      "\u001b[32m2023-07-15 18:46:22.601\u001b[0m | \u001b[1mINFO    \u001b[0m | \u001b[36mgraphium.data.normalization\u001b[0m:\u001b[36mcalculate_statistics\u001b[0m:\u001b[36m58\u001b[0m - \u001b[1mMean value for normalization '[3.6015625, 3.6015625]'\u001b[0m\n",
      "\u001b[32m2023-07-15 18:46:22.602\u001b[0m | \u001b[1mINFO    \u001b[0m | \u001b[36mgraphium.data.normalization\u001b[0m:\u001b[36mcalculate_statistics\u001b[0m:\u001b[36m59\u001b[0m - \u001b[1mSTD value for normalization '[0.83837890625, 0.83837890625]'\u001b[0m\n",
      "\u001b[32m2023-07-15 18:46:22.604\u001b[0m | \u001b[1mINFO    \u001b[0m | \u001b[36mgraphium.data.datamodule\u001b[0m:\u001b[36msetup\u001b[0m:\u001b[36m1178\u001b[0m - \u001b[1m-------------------\n",
      "MultitaskDataset\n",
      "\tabout = training set\n",
      "\tnum_graphs_total = 26\n",
      "\tnum_nodes_total = 667\n",
      "\tmax_num_nodes_per_graph = 45\n",
      "\tmin_num_nodes_per_graph = 17\n",
      "\tstd_num_nodes_per_graph = 5.790856902794184\n",
      "\tmean_num_nodes_per_graph = 25.653846153846153\n",
      "\tnum_edges_total = 1436\n",
      "\tmax_num_edges_per_graph = 92\n",
      "\tmin_num_edges_per_graph = 36\n",
      "\tstd_num_edges_per_graph = 12.304807354187574\n",
      "\tmean_num_edges_per_graph = 55.23076923076923\n",
      "-------------------\n",
      "\u001b[0m\n",
      "\u001b[32m2023-07-15 18:46:22.605\u001b[0m | \u001b[1mINFO    \u001b[0m | \u001b[36mgraphium.data.datamodule\u001b[0m:\u001b[36msetup\u001b[0m:\u001b[36m1179\u001b[0m - \u001b[1m-------------------\n",
      "MultitaskDataset\n",
      "\tabout = validation set\n",
      "\tnum_graphs_total = 4\n",
      "\tnum_nodes_total = 105\n",
      "\tmax_num_nodes_per_graph = 32\n",
      "\tmin_num_nodes_per_graph = 18\n",
      "\tstd_num_nodes_per_graph = 5.402545696243577\n",
      "\tmean_num_nodes_per_graph = 26.25\n",
      "\tnum_edges_total = 236\n",
      "\tmax_num_edges_per_graph = 74\n",
      "\tmin_num_edges_per_graph = 40\n",
      "\tstd_num_edges_per_graph = 13.152946437965905\n",
      "\tmean_num_edges_per_graph = 59.0\n",
      "-------------------\n",
      "\u001b[0m\n",
      "\u001b[32m2023-07-15 18:46:22.607\u001b[0m | \u001b[1mINFO    \u001b[0m | \u001b[36mgraphium.data.datamodule\u001b[0m:\u001b[36msetup\u001b[0m:\u001b[36m1196\u001b[0m - \u001b[1m-------------------\n",
      "MultitaskDataset\n",
      "\tabout = test set\n",
      "\tnum_graphs_total = 4\n",
      "\tnum_nodes_total = 68\n",
      "\tmax_num_nodes_per_graph = 25\n",
      "\tmin_num_nodes_per_graph = 2\n",
      "\tstd_num_nodes_per_graph = 9.192388155425117\n",
      "\tmean_num_nodes_per_graph = 17.0\n",
      "\tnum_edges_total = 142\n",
      "\tmax_num_edges_per_graph = 54\n",
      "\tmin_num_edges_per_graph = 2\n",
      "\tstd_num_edges_per_graph = 20.463381929681123\n",
      "\tmean_num_edges_per_graph = 35.5\n",
      "-------------------\n",
      "\u001b[0m\n"
     ]
    }
   ],
   "source": [
    "config = graphium.load_config(name=\"fake_combine_data_with_overlap\")\n",
    "\n",
    "dm_args = OmegaConf.to_container(config.datamodule.args, resolve=True)\n",
    "dm = graphium.data.MultitaskFromSmilesDataModule(**dm_args)\n",
    "\n",
    "dm.prepare_data()\n",
    "dm.setup()"
   ]
  },
  {
   "cell_type": "code",
   "execution_count": 5,
   "metadata": {},
   "outputs": [],
   "source": [
    "train_ds = [item['features'] for item in dm.train_ds]\n",
    "val_ds = [item['features'] for item in dm.val_ds]\n",
    "test_ds = [item['features'] for item in dm.test_ds]"
   ]
  },
  {
   "cell_type": "markdown",
   "metadata": {},
   "source": [
    "With a total of 30 *unique* molecules and a train/val/test split of 80/10/10%, we expect the corresponding datasets to have lengths 24/3/3. Instead, we have:"
   ]
  },
  {
   "cell_type": "code",
   "execution_count": 6,
   "metadata": {},
   "outputs": [
    {
     "name": "stdout",
     "output_type": "stream",
     "text": [
      "#train = 26\n",
      "#val = 4\n",
      "#test = 4\n",
      "Is sum of splits larger than full dataset? True\n"
     ]
    }
   ],
   "source": [
    "print(\"#train =\", len(train_ds))\n",
    "print(\"#val =\", len(val_ds))\n",
    "print(\"#test =\", len(test_ds))\n",
    "\n",
    "print(\"Is sum of splits larger than full dataset?\", len(train_ds) + len(val_ds) + len(test_ds) > 30)"
   ]
  },
  {
   "cell_type": "markdown",
   "metadata": {},
   "source": [
    "Further, we see that molecules (graphs) can be in several sets of the split at the same time:"
   ]
  },
  {
   "cell_type": "code",
   "execution_count": 7,
   "metadata": {},
   "outputs": [
    {
     "name": "stdout",
     "output_type": "stream",
     "text": [
      "0 True\n",
      "1 False\n",
      "2 False\n",
      "3 True\n",
      "Data(edge_index=[2, 40], edge_weight=[40], num_nodes=18, feat=[18, 50], edge_feat=[40, 6]) is in both validation and train set\n",
      "Data(edge_index=[2, 68], edge_weight=[68], num_nodes=30, feat=[30, 50], edge_feat=[68, 6]) is in both validation and train set\n"
     ]
    }
   ],
   "source": [
    "for idx, sample in enumerate(val_ds):\n",
    "    print(idx, sample in train_ds)\n",
    "\n",
    "print(val_ds[0], \"is in both validation and train set\")\n",
    "print(val_ds[3], \"is in both validation and train set\")"
   ]
  },
  {
   "cell_type": "code",
   "execution_count": 8,
   "metadata": {},
   "outputs": [
    {
     "name": "stdout",
     "output_type": "stream",
     "text": [
      "0 False\n",
      "1 True\n",
      "2 False\n",
      "3 True\n",
      "Data(edge_index=[2, 54], edge_weight=[54], num_nodes=25, feat=[25, 50], edge_feat=[54, 6]) is in both test and train set\n",
      "Data(edge_index=[2, 36], edge_weight=[36], num_nodes=17, feat=[17, 50], edge_feat=[36, 6]) is in both test and train set\n"
     ]
    }
   ],
   "source": [
    "for idx, sample in enumerate(test_ds):\n",
    "    print(idx, sample in train_ds)\n",
    "\n",
    "print(test_ds[1], \"is in both test and train set\")\n",
    "print(test_ds[3], \"is in both test and train set\")"
   ]
  },
  {
   "cell_type": "code",
   "execution_count": null,
   "metadata": {},
   "outputs": [],
   "source": []
  }
 ],
 "metadata": {
  "kernelspec": {
   "display_name": "graphium",
   "language": "python",
   "name": "python3"
  },
  "language_info": {
   "codemirror_mode": {
    "name": "ipython",
    "version": 3
   },
   "file_extension": ".py",
   "mimetype": "text/x-python",
   "name": "python",
   "nbconvert_exporter": "python",
   "pygments_lexer": "ipython3",
   "version": "3.10.12"
  },
  "orig_nbformat": 4
 },
 "nbformat": 4,
 "nbformat_minor": 2
}
